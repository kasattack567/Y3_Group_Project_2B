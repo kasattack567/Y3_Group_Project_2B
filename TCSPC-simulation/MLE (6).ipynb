{
 "cells": [
  {
   "cell_type": "code",
   "execution_count": 1,
   "id": "c29d0496",
   "metadata": {},
   "outputs": [],
   "source": [
    "from TCSPC import *"
   ]
  },
  {
   "cell_type": "code",
   "execution_count": 2,
   "id": "55cf412d",
   "metadata": {},
   "outputs": [],
   "source": [
    "EGFP = Simulation([0.497,0.503],[2.43,3.07])"
   ]
  },
  {
   "cell_type": "code",
   "execution_count": 3,
   "id": "bca71d0a",
   "metadata": {},
   "outputs": [],
   "source": [
    "# tdata = np.loadtxt('EGFPt.csv')\n",
    "# ydata = np.loadtxt('EGFPy2.csv')"
   ]
  },
  {
   "cell_type": "code",
   "execution_count": 4,
   "id": "c52732a3",
   "metadata": {},
   "outputs": [],
   "source": [
    "def trim_rescale_data(tdata,ydata,end =int(0.6*380),rescale = True):\n",
    "    max_idx = np.argmax(ydata) #index of data point with maximum photon count N(0)\n",
    "    tdata = tdata[:end-max_idx] #start from t = 0\n",
    "    ydata = ydata[max_idx:end]  #start from max.\n",
    "    if rescale == True:\n",
    "        yerr = ydata/ydata[0]*np.sqrt(1/ydata+1/ydata[0]) #error after scaling\n",
    "        ydata = ydata/ydata[0] # scale y data such that the beginning is 1 \n",
    "    else:\n",
    "        yerr = np.sqrt(ydata)\n",
    "    weights = 1/yerr #weighted by 1/yerr, yerr is error after scaling ydata\n",
    "    return tdata,ydata,weights"
   ]
  },
  {
   "cell_type": "code",
   "execution_count": 5,
   "id": "189e121f",
   "metadata": {},
   "outputs": [],
   "source": [
    "def exp(t, A, tau):\n",
    "    return A * np.exp(-t/tau)"
   ]
  },
  {
   "cell_type": "code",
   "execution_count": 6,
   "id": "21609b17",
   "metadata": {},
   "outputs": [],
   "source": [
    "tdata,ydata,weights = trim_rescale_data(EGFP.t,EGFP.y2)"
   ]
  },
  {
   "cell_type": "code",
   "execution_count": 7,
   "id": "752a6f00",
   "metadata": {},
   "outputs": [],
   "source": [
    "def poisson_deviance_residual(observed, expected):\n",
    "    # Ensure no invalid values\n",
    "    # valid = (observed > 0) & (expected > 0)\n",
    "    # residual = np.zeros_like(observed)\n",
    "    # residual[valid] =  2 *  (observed[valid] * np.log(observed[valid] / expected[valid]) - (observed[valid] - expected[valid]))\n",
    "    residual=  np.sqrt(abs(2 *  (observed* np.log(observed/ expected) - (observed- expected)))) #residual array\n",
    "    return residual\n",
    "\n",
    "def residual(p, t, data):\n",
    "    v = p.valuesdict()\n",
    "    generative = v['c'] #constant background\n",
    "    M = 1\n",
    "    while f'A{M}' in v:\n",
    "        generative += exp(t, v[f'A{M}'], v[f'tau{M}'])\n",
    "        M += 1\n",
    "    \n",
    "    return poisson_deviance_residual(data, generative) #lmfit.minimizer minimize the residual array in the sum of squared sense\n"
   ]
  },
  {
   "cell_type": "code",
   "execution_count": 8,
   "id": "1a3d65f2",
   "metadata": {},
   "outputs": [],
   "source": [
    "def initial_params(M,A_guess,tau_guess,rescale = True):\n",
    "    p = lmfit.Parameters()\n",
    "    p.add_many(('c', 0, True, 0, 1)) #constant background\n",
    "    for i in range(1,M+1): #for each component\n",
    "        p.add_many((f'A{i}', A_guess[i-1], True,0), #amplitude\n",
    "                   (f'tau{i}', tau_guess[i-1], True, 0)) #lifetime\n",
    "    if rescale == True:\n",
    "        p[f'A{M}'].set(expr = f'1 {\"\".join([f\"- A{i}\" for i in range(1,M)])}') #fix the amplitude of last component\n",
    "    return p\n",
    "\n"
   ]
  },
  {
   "cell_type": "markdown",
   "id": "e13090df",
   "metadata": {},
   "source": [
    "### bi-exp decay fit to EGFP"
   ]
  },
  {
   "cell_type": "code",
   "execution_count": 9,
   "id": "6e275e5c",
   "metadata": {},
   "outputs": [
    {
     "name": "stdout",
     "output_type": "stream",
     "text": [
      "[[Fit Statistics]]\n",
      "    # fitting method   = Powell\n",
      "    # function evals   = 422\n",
      "    # data points      = 180\n",
      "    # variables        = 4\n",
      "    chi-square         = 0.01097018\n",
      "    reduced chi-square = 6.2331e-05\n",
      "    Akaike info crit   = -1738.99567\n",
      "    Bayesian info crit = -1726.22384\n",
      "##  Warning: uncertainties could not be estimated:\n",
      "[[Variables]]\n",
      "    c:     1.4254e-05 (init = 0)\n",
      "    A1:    0.49767473 (init = 0.497)\n",
      "    tau1:  2.37237077 (init = 2.43)\n",
      "    A2:    0.50232527 == '1 - A1'\n",
      "    tau2:  3.14481800 (init = 3.07)\n"
     ]
    }
   ],
   "source": [
    "EGFP.n_photon = int(1e6)\n",
    "EGFP.multi_exp_data()\n",
    "tdata,ydata,weights = trim_rescale_data(EGFP.t,EGFP.y2,end = int(0.5*380))\n",
    "p1 = initial_params(2,EGFP.amp,EGFP.tau)\n",
    "#p1['c'].set(value = 0, vary = False)\n",
    "mi1 = lmfit.minimize(residual, p1, args=(tdata, ydata), method='powell')\n",
    "\n",
    "print(lmfit.fit_report(mi1))\n"
   ]
  },
  {
   "cell_type": "code",
   "execution_count": 10,
   "id": "0f7cc649",
   "metadata": {},
   "outputs": [],
   "source": [
    "result = mi1\n",
    "del result.params['A2']"
   ]
  },
  {
   "cell_type": "code",
   "execution_count": 13,
   "id": "a84af108",
   "metadata": {},
   "outputs": [
    {
     "ename": "AttributeError",
     "evalue": "'NoneType' object has no attribute 'items'",
     "output_type": "error",
     "traceback": [
      "\u001b[0;31m---------------------------------------------------------------------------\u001b[0m",
      "\u001b[0;31mAttributeError\u001b[0m                            Traceback (most recent call last)",
      "\u001b[0;32m<ipython-input-13-99c048e4516a>\u001b[0m in \u001b[0;36m<module>\u001b[0;34m\u001b[0m\n\u001b[0;32m----> 1\u001b[0;31m \u001b[0minfo_df\u001b[0m\u001b[0;34m,\u001b[0m\u001b[0mpar_df\u001b[0m \u001b[0;34m=\u001b[0m \u001b[0mfit_df\u001b[0m\u001b[0;34m(\u001b[0m\u001b[0;34m[\u001b[0m\u001b[0mresult\u001b[0m\u001b[0;34m]\u001b[0m\u001b[0;34m)\u001b[0m\u001b[0;34m\u001b[0m\u001b[0;34m\u001b[0m\u001b[0m\n\u001b[0m",
      "\u001b[0;32m~/0052 Group project/TCSPC.py\u001b[0m in \u001b[0;36mfit_df\u001b[0;34m(results, par_col)\u001b[0m\n\u001b[1;32m     95\u001b[0m         \u001b[0mpar_df_new\u001b[0m \u001b[0;34m=\u001b[0m \u001b[0mpar_df_new\u001b[0m\u001b[0;34m.\u001b[0m\u001b[0mloc\u001b[0m\u001b[0;34m[\u001b[0m\u001b[0mpar_col\u001b[0m\u001b[0;34m]\u001b[0m \u001b[0;31m#select value, initial value, error, and correlation\u001b[0m\u001b[0;34m\u001b[0m\u001b[0;34m\u001b[0m\u001b[0m\n\u001b[1;32m     96\u001b[0m         \u001b[0;32mif\u001b[0m \u001b[0;34m'correl'\u001b[0m \u001b[0;32min\u001b[0m \u001b[0mpar_col\u001b[0m\u001b[0;34m:\u001b[0m\u001b[0;34m\u001b[0m\u001b[0;34m\u001b[0m\u001b[0m\n\u001b[0;32m---> 97\u001b[0;31m             \u001b[0mpar_df_new\u001b[0m\u001b[0;34m.\u001b[0m\u001b[0mloc\u001b[0m\u001b[0;34m[\u001b[0m\u001b[0;34m'correl'\u001b[0m\u001b[0;34m]\u001b[0m \u001b[0;34m=\u001b[0m \u001b[0;34m[\u001b[0m\u001b[0;34m{\u001b[0m\u001b[0mk\u001b[0m \u001b[0;34m:\u001b[0m \u001b[0;34mf'{float(v):.3g}'\u001b[0m \u001b[0;32mfor\u001b[0m \u001b[0mk\u001b[0m\u001b[0;34m,\u001b[0m\u001b[0mv\u001b[0m \u001b[0;32min\u001b[0m \u001b[0mpair\u001b[0m\u001b[0;34m.\u001b[0m\u001b[0mitems\u001b[0m\u001b[0;34m(\u001b[0m\u001b[0;34m)\u001b[0m \u001b[0;34m}\u001b[0m\u001b[0;32mfor\u001b[0m \u001b[0mpair\u001b[0m \u001b[0;32min\u001b[0m  \u001b[0mpar_df_new\u001b[0m\u001b[0;34m.\u001b[0m\u001b[0mloc\u001b[0m\u001b[0;34m[\u001b[0m\u001b[0;34m'correl'\u001b[0m\u001b[0;34m]\u001b[0m\u001b[0;34m.\u001b[0m\u001b[0mvalues\u001b[0m\u001b[0;34m]\u001b[0m \u001b[0;31m#round correlations\u001b[0m\u001b[0;34m\u001b[0m\u001b[0;34m\u001b[0m\u001b[0m\n\u001b[0m\u001b[1;32m     98\u001b[0m         \u001b[0;31m#append the new df to exisiting df\u001b[0m\u001b[0;34m\u001b[0m\u001b[0;34m\u001b[0m\u001b[0;34m\u001b[0m\u001b[0m\n\u001b[1;32m     99\u001b[0m         \u001b[0mpar_list\u001b[0m\u001b[0;34m.\u001b[0m\u001b[0mappend\u001b[0m\u001b[0;34m(\u001b[0m\u001b[0mpar_df_new\u001b[0m\u001b[0;34m)\u001b[0m\u001b[0;34m\u001b[0m\u001b[0;34m\u001b[0m\u001b[0m\n",
      "\u001b[0;32m~/0052 Group project/TCSPC.py\u001b[0m in \u001b[0;36m<listcomp>\u001b[0;34m(.0)\u001b[0m\n\u001b[1;32m     95\u001b[0m         \u001b[0mpar_df_new\u001b[0m \u001b[0;34m=\u001b[0m \u001b[0mpar_df_new\u001b[0m\u001b[0;34m.\u001b[0m\u001b[0mloc\u001b[0m\u001b[0;34m[\u001b[0m\u001b[0mpar_col\u001b[0m\u001b[0;34m]\u001b[0m \u001b[0;31m#select value, initial value, error, and correlation\u001b[0m\u001b[0;34m\u001b[0m\u001b[0;34m\u001b[0m\u001b[0m\n\u001b[1;32m     96\u001b[0m         \u001b[0;32mif\u001b[0m \u001b[0;34m'correl'\u001b[0m \u001b[0;32min\u001b[0m \u001b[0mpar_col\u001b[0m\u001b[0;34m:\u001b[0m\u001b[0;34m\u001b[0m\u001b[0;34m\u001b[0m\u001b[0m\n\u001b[0;32m---> 97\u001b[0;31m             \u001b[0mpar_df_new\u001b[0m\u001b[0;34m.\u001b[0m\u001b[0mloc\u001b[0m\u001b[0;34m[\u001b[0m\u001b[0;34m'correl'\u001b[0m\u001b[0;34m]\u001b[0m \u001b[0;34m=\u001b[0m \u001b[0;34m[\u001b[0m\u001b[0;34m{\u001b[0m\u001b[0mk\u001b[0m \u001b[0;34m:\u001b[0m \u001b[0;34mf'{float(v):.3g}'\u001b[0m \u001b[0;32mfor\u001b[0m \u001b[0mk\u001b[0m\u001b[0;34m,\u001b[0m\u001b[0mv\u001b[0m \u001b[0;32min\u001b[0m \u001b[0mpair\u001b[0m\u001b[0;34m.\u001b[0m\u001b[0mitems\u001b[0m\u001b[0;34m(\u001b[0m\u001b[0;34m)\u001b[0m \u001b[0;34m}\u001b[0m\u001b[0;32mfor\u001b[0m \u001b[0mpair\u001b[0m \u001b[0;32min\u001b[0m  \u001b[0mpar_df_new\u001b[0m\u001b[0;34m.\u001b[0m\u001b[0mloc\u001b[0m\u001b[0;34m[\u001b[0m\u001b[0;34m'correl'\u001b[0m\u001b[0;34m]\u001b[0m\u001b[0;34m.\u001b[0m\u001b[0mvalues\u001b[0m\u001b[0;34m]\u001b[0m \u001b[0;31m#round correlations\u001b[0m\u001b[0;34m\u001b[0m\u001b[0;34m\u001b[0m\u001b[0m\n\u001b[0m\u001b[1;32m     98\u001b[0m         \u001b[0;31m#append the new df to exisiting df\u001b[0m\u001b[0;34m\u001b[0m\u001b[0;34m\u001b[0m\u001b[0;34m\u001b[0m\u001b[0m\n\u001b[1;32m     99\u001b[0m         \u001b[0mpar_list\u001b[0m\u001b[0;34m.\u001b[0m\u001b[0mappend\u001b[0m\u001b[0;34m(\u001b[0m\u001b[0mpar_df_new\u001b[0m\u001b[0;34m)\u001b[0m\u001b[0;34m\u001b[0m\u001b[0;34m\u001b[0m\u001b[0m\n",
      "\u001b[0;31mAttributeError\u001b[0m: 'NoneType' object has no attribute 'items'"
     ]
    }
   ],
   "source": [
    "info_df,par_df = fit_df([result])"
   ]
  },
  {
   "cell_type": "code",
   "execution_count": 14,
   "id": "8d2167ab",
   "metadata": {
    "scrolled": true
   },
   "outputs": [
    {
     "ename": "NameError",
     "evalue": "name 'par_df' is not defined",
     "output_type": "error",
     "traceback": [
      "\u001b[0;31m---------------------------------------------------------------------------\u001b[0m",
      "\u001b[0;31mNameError\u001b[0m                                 Traceback (most recent call last)",
      "\u001b[0;32m<ipython-input-14-3479a7c15f2a>\u001b[0m in \u001b[0;36m<module>\u001b[0;34m\u001b[0m\n\u001b[0;32m----> 1\u001b[0;31m \u001b[0mpar_df\u001b[0m\u001b[0;34m\u001b[0m\u001b[0;34m\u001b[0m\u001b[0m\n\u001b[0m",
      "\u001b[0;31mNameError\u001b[0m: name 'par_df' is not defined"
     ]
    }
   ],
   "source": [
    "par_df"
   ]
  },
  {
   "cell_type": "markdown",
   "id": "f451e8ca",
   "metadata": {},
   "source": [
    "### No rescale"
   ]
  },
  {
   "cell_type": "code",
   "execution_count": 119,
   "id": "da42cd0c",
   "metadata": {},
   "outputs": [
    {
     "name": "stdout",
     "output_type": "stream",
     "text": [
      "[[Fit Statistics]]\n",
      "    # fitting method   = Powell\n",
      "    # function evals   = 203\n",
      "    # data points      = 81\n",
      "    # variables        = 5\n",
      "    chi-square         = 86.4451956\n",
      "    reduced chi-square = 1.13743678\n",
      "    Akaike info crit   = 15.2699800\n",
      "    Bayesian info crit = 27.2422257\n",
      "##  Warning: uncertainties could not be estimated:\n",
      "[[Variables]]\n",
      "    c:     0.89807906 (init = 0)\n",
      "    A1:    61.4692773 (init = 97.02)\n",
      "    tau1:  1.98470819 (init = 2.43)\n",
      "    A2:    105.865779 (init = 100.98)\n",
      "    tau2:  2.87943731 (init = 3.07)\n"
     ]
    }
   ],
   "source": [
    "EGFP.n_photon = int(1e4)\n",
    "EGFP.multi_exp_data()\n",
    "tdata,ydata,weights = trim_rescale_data(EGFP.t,EGFP.y2,end = 100,rescale = False)\n",
    "p1 = initial_params(2,[np.max(EGFP.y2*0.49),np.max(EGFP.y2)*0.51],EGFP.tau,rescale = False)\n",
    "#p1['c'].set(value = 0, vary = False)\n",
    "mi1 = lmfit.minimize(residual, p1, args=(tdata, ydata),method = 'powell')\n",
    "\n",
    "print(lmfit.fit_report(mi1))\n",
    "\n"
   ]
  },
  {
   "cell_type": "markdown",
   "id": "be5b073c",
   "metadata": {},
   "source": [
    "### mono-exp decay fit to EGFP"
   ]
  },
  {
   "cell_type": "code",
   "execution_count": 120,
   "id": "39a029ad",
   "metadata": {},
   "outputs": [
    {
     "data": {
      "text/html": [
       "<table class=\"jp-toc-ignore\"><caption>Parameters</caption><tr><th style='text-align:left'>name</th><th style='text-align:left'>value</th><th style='text-align:left'>initial value</th><th style='text-align:left'>min</th><th style='text-align:left'>max</th><th style='text-align:right'>vary</th></tr><tr><td style='text-align:left'>c</td><td style='text-align:left'> 0.00000000</td><td style='text-align:left'>0</td><td style='text-align:left'> 0.00000000</td><td style='text-align:left'> 1.00000000</td><td style='text-align:right'>True</td></tr><tr><td style='text-align:left'>A1</td><td style='text-align:left'> 97.0200000</td><td style='text-align:left'>97.02</td><td style='text-align:left'> 0.00000000</td><td style='text-align:left'>        inf</td><td style='text-align:right'>True</td></tr><tr><td style='text-align:left'>tau1</td><td style='text-align:left'> 2.43000000</td><td style='text-align:left'>2.43</td><td style='text-align:left'> 0.00000000</td><td style='text-align:left'>        inf</td><td style='text-align:right'>True</td></tr><tr><td style='text-align:left'>A2</td><td style='text-align:left'> 100.980000</td><td style='text-align:left'>100.98</td><td style='text-align:left'> 0.00000000</td><td style='text-align:left'>        inf</td><td style='text-align:right'>True</td></tr><tr><td style='text-align:left'>tau2</td><td style='text-align:left'> 3.07000000</td><td style='text-align:left'>3.07</td><td style='text-align:left'> 0.00000000</td><td style='text-align:left'>        inf</td><td style='text-align:right'>True</td></tr></table>"
      ],
      "text/plain": [
       "Parameters([('c', <Parameter 'c', value=0, bounds=[0:1]>), ('A1', <Parameter 'A1', value=97.02, bounds=[0:inf]>), ('tau1', <Parameter 'tau1', value=2.43, bounds=[0:inf]>), ('A2', <Parameter 'A2', value=100.98, bounds=[0:inf]>), ('tau2', <Parameter 'tau2', value=3.07, bounds=[0:inf]>)])"
      ]
     },
     "execution_count": 120,
     "metadata": {},
     "output_type": "execute_result"
    }
   ],
   "source": [
    "p1"
   ]
  },
  {
   "cell_type": "code",
   "execution_count": 121,
   "id": "051b8d9b",
   "metadata": {},
   "outputs": [
    {
     "name": "stdout",
     "output_type": "stream",
     "text": [
      "[[Fit Statistics]]\n",
      "    # fitting method   = Powell\n",
      "    # function evals   = 279\n",
      "    # data points      = 86\n",
      "    # variables        = 7\n",
      "    chi-square         = 70.7713077\n",
      "    reduced chi-square = 0.89583934\n",
      "    Akaike info crit   = -2.76085276\n",
      "    Bayesian info crit = 14.4195783\n",
      "##  Warning: uncertainties could not be estimated:\n",
      "[[Variables]]\n",
      "    c:     0.06266400 (init = 0)\n",
      "    A1:    76.7308020 (init = 95.06)\n",
      "    tau1:  2.48193622 (init = 2.43)\n",
      "    A2:    98.1584590 (init = 98.94)\n",
      "    tau2:  3.09700754 (init = 3.07)\n",
      "    A3:    5.8109e-06 (init = 1)\n",
      "    tau3:  3749860.70 (init = 1)\n"
     ]
    }
   ],
   "source": [
    "EGFP.n_photon = int(1e4)\n",
    "EGFP.multi_exp_data()\n",
    "tdata,ydata,weights = trim_rescale_data(EGFP.t,EGFP.y2,end = 100,rescale = False)\n",
    "p1 = initial_params(3,[np.max(EGFP.y2*0.49),np.max(EGFP.y2)*0.51,1],EGFP.tau+[1],rescale = False)\n",
    "#p1['c'].set(value = 0, vary = False)\n",
    "mi1 = lmfit.minimize(residual, p1, args=(tdata, ydata),method = 'powell')\n",
    "\n",
    "print(lmfit.fit_report(mi1))"
   ]
  },
  {
   "cell_type": "code",
   "execution_count": 122,
   "id": "3264e95b",
   "metadata": {},
   "outputs": [
    {
     "data": {
      "text/plain": [
       "61.90819236228194"
      ]
     },
     "execution_count": 122,
     "metadata": {},
     "output_type": "execute_result"
    }
   ],
   "source": [
    "np.sum(residual(mi1.params,tdata,ydata))"
   ]
  },
  {
   "cell_type": "markdown",
   "id": "a2faa19e",
   "metadata": {},
   "source": [
    "## Get 100 simulation at each point (bi-exp decay)\n"
   ]
  },
  {
   "cell_type": "code",
   "execution_count": 96,
   "id": "00de52d2",
   "metadata": {},
   "outputs": [
    {
     "data": {
      "text/html": [
       "<div>\n",
       "<style scoped>\n",
       "    .dataframe tbody tr th:only-of-type {\n",
       "        vertical-align: middle;\n",
       "    }\n",
       "\n",
       "    .dataframe tbody tr th {\n",
       "        vertical-align: top;\n",
       "    }\n",
       "\n",
       "    .dataframe thead th {\n",
       "        text-align: right;\n",
       "    }\n",
       "</style>\n",
       "<table border=\"1\" class=\"dataframe\">\n",
       "  <thead>\n",
       "    <tr style=\"text-align: right;\">\n",
       "      <th></th>\n",
       "      <th>c</th>\n",
       "      <th>A1</th>\n",
       "      <th>tau1</th>\n",
       "      <th>A2</th>\n",
       "      <th>tau2</th>\n",
       "    </tr>\n",
       "  </thead>\n",
       "  <tbody>\n",
       "    <tr>\n",
       "      <th>0</th>\n",
       "      <td>1.0</td>\n",
       "      <td>0.489309</td>\n",
       "      <td>2.418512</td>\n",
       "      <td>0.510691</td>\n",
       "      <td>3.07887</td>\n",
       "    </tr>\n",
       "  </tbody>\n",
       "</table>\n",
       "</div>"
      ],
      "text/plain": [
       "     c        A1      tau1        A2     tau2\n",
       "0  1.0  0.489309  2.418512  0.510691  3.07887"
      ]
     },
     "execution_count": 96,
     "metadata": {},
     "output_type": "execute_result"
    }
   ],
   "source": [
    "def MLEfit(N,tdata,ydata,method ='powell',end=100,rescale=False):\n",
    "\n",
    "    tdata, ydata, weights = trim_rescale_data(tdata,ydata, end=end, rescale=rescale)\n",
    "    p1 = initial_params(N, [np.max(ydata * 0.49), np.max(ydata) * 0.51], EGFP.tau, rescale=rescale)\n",
    "    mi1 = lmfit.minimize(residual, p1, args=(tdata, ydata), method=method)\n",
    "    par_dict = {k:[v.value] for k,v in mi1.params.items()} #turn params values into dict\n",
    "    A_sum = sum([par_dict[f'A{j}'][0] for j in range(1,N+1)]) #sum all An\n",
    "    for i in range(1,N+1):\n",
    "      par_dict[f'A{i}'][0]=par_dict[f'A{i}'][0]/A_sum\n",
    "\n",
    "    return pd.DataFrame.from_dict(par_dict)\n",
    "MLEfit(2,EGFP.t,EGFP.sim_data[0])"
   ]
  },
  {
   "cell_type": "code",
   "execution_count": 97,
   "id": "65fe2a37",
   "metadata": {},
   "outputs": [],
   "source": [
    "def MLEfit(N,tdata,ydata,method ='powell',end=100,rescale=False):\n",
    "\n",
    "    tdata, ydata, weights = trim_rescale_data(tdata,ydata, end=end, rescale=rescale)\n",
    "    p1 = initial_params(N, [np.max(ydata * 0.49), np.max(ydata) * 0.51], EGFP.tau, rescale=rescale)\n",
    "    mi1 = lmfit.minimize(residual, p1, args=(tdata, ydata), method=method)\n",
    "    par_dict = {k:[v.value] for k,v in mi1.params.items()} #turn params values into dict\n",
    "    A_sum = sum([par_dict[f'A{j}'][0] for j in range(1,N+1)]) #sum all An\n",
    "    for i in range(1,N+1):\n",
    "      par_dict[f'A{i}'][0]=par_dict[f'A{i}'][0]/A_sum\n",
    "\n",
    "    return pd.DataFrame.from_dict(par_dict)\n",
    "\n",
    "def val_df():\n",
    "  '''Create dataframe of fitted parameters'''\n",
    "  df_list = []\n",
    "  for j in range(100):\n",
    "    df_list.append( MLEfit(N,EGFP.t,EGFP.sim_data[j]))\n",
    "    df= pd.concat(df_list).reset_index()\n",
    "  return df.drop(['index'],axis =1)\n",
    "\n",
    "N=2 #components\n",
    "EGFP.y_list = np.zeros((20,100,380))\n",
    "n_photon_arr = np.logspace(4,9,20)\n",
    "df_list = []\n",
    "for i in range(len(n_photon_arr)):\n",
    "  EGFP.n_photon = n_photon_arr[i]\n",
    "  EGFP.repeat_sim(100)\n",
    "  EGFP.y_list[i] = EGFP.sim_data\n",
    "  df =val_df()\n",
    "  df_list.append(df)\n"
   ]
  },
  {
   "cell_type": "code",
   "execution_count": 98,
   "id": "01e1a14b",
   "metadata": {},
   "outputs": [],
   "source": [
    "df = val_df()"
   ]
  },
  {
   "cell_type": "code",
   "execution_count": 99,
   "id": "efac0598",
   "metadata": {},
   "outputs": [],
   "source": [
    "n_val_df =pd.concat(df_list,keys = range(20))"
   ]
  },
  {
   "cell_type": "code",
   "execution_count": 123,
   "id": "5bd3eece",
   "metadata": {},
   "outputs": [
    {
     "data": {
      "text/plain": [
       "Text(0.5, 1.0, 'EGFP at low photon number')"
      ]
     },
     "execution_count": 123,
     "metadata": {},
     "output_type": "execute_result"
    },
    {
     "data": {
      "image/png": "[encoded data removed]",
      "text/plain": [
       "<Figure size 432x288 with 1 Axes>"
      ]
     },
     "metadata": {
      "needs_background": "light"
     },
     "output_type": "display_data"
    }
   ],
   "source": [
    "plt.hist(n_val_df.loc[0,'A1']) # at low phton number\n",
    "plt.xlabel('Amplitude')\n",
    "plt.ylabel('Frequency')\n",
    "plt.title('EGFP at low photon number')"
   ]
  },
  {
   "cell_type": "code",
   "execution_count": 135,
   "id": "531bde36",
   "metadata": {},
   "outputs": [
    {
     "data": {
      "image/png": "[encoded data removed]",
      "text/plain": [
       "<Figure size 1080x360 with 3 Axes>"
      ]
     },
     "metadata": {
      "needs_background": "light"
     },
     "output_type": "display_data"
    }
   ],
   "source": [
    "# Set up the subplots\n",
    "fig, axs = plt.subplots(1, 3, figsize=(15, 5))  # 1 row, 3 columns\n",
    "\n",
    "# Plot histogram for low photon number\n",
    "axs[0].hist(n_val_df.loc[0, 'A1'], bins=10, color='skyblue')  # Adjust bins if needed\n",
    "axs[0].set_xlabel('Amplitude')\n",
    "axs[0].set_ylabel('Frequency')\n",
    "axs[0].set_title('Distribution of 100 simulations at low photon number')\n",
    "axs[0].legend(['A1'])\n",
    "\n",
    "# Plot histogram for middle photon number\n",
    "axs[1].hist(n_val_df.loc[10, 'A1'], bins=10, color='skyblue')  # Adjust bins if needed\n",
    "axs[1].set_xlabel('Amplitude')\n",
    "axs[1].set_ylabel('Frequency')\n",
    "axs[1].set_title('Distribution of 100 simulations at middle photon number')\n",
    "axs[1].legend(['A1'])\n",
    "\n",
    "# Plot histogram for high photon number\n",
    "axs[2].hist(n_val_df.loc[19, 'A1'], bins=10, color='skyblue')  # Adjust bins if needed\n",
    "axs[2].set_xlabel('Amplitude')\n",
    "axs[2].set_ylabel('Frequency')\n",
    "axs[2].set_title('Distribution of 100 simulations at high photon number')\n",
    "axs[2].legend(['A1'])\n",
    "\n",
    "# Adjust layout to prevent overlapping\n",
    "plt.tight_layout()\n",
    "plt.show()\n"
   ]
  },
  {
   "cell_type": "code",
   "execution_count": 136,
   "id": "942c3eae",
   "metadata": {},
   "outputs": [],
   "source": [
    "mean_df = n_val_df.groupby(level=0).mean()\n",
    "std_df = n_val_df.groupby(level=0).std()"
   ]
  },
  {
   "cell_type": "code",
   "execution_count": 137,
   "id": "9de769da",
   "metadata": {},
   "outputs": [
    {
     "data": {
      "text/html": [
       "<div>\n",
       "<style scoped>\n",
       "    .dataframe tbody tr th:only-of-type {\n",
       "        vertical-align: middle;\n",
       "    }\n",
       "\n",
       "    .dataframe tbody tr th {\n",
       "        vertical-align: top;\n",
       "    }\n",
       "\n",
       "    .dataframe thead th {\n",
       "        text-align: right;\n",
       "    }\n",
       "</style>\n",
       "<table border=\"1\" class=\"dataframe\">\n",
       "  <thead>\n",
       "    <tr style=\"text-align: right;\">\n",
       "      <th></th>\n",
       "      <th>c</th>\n",
       "      <th>A1</th>\n",
       "      <th>tau1</th>\n",
       "      <th>A2</th>\n",
       "      <th>tau2</th>\n",
       "    </tr>\n",
       "  </thead>\n",
       "  <tbody>\n",
       "    <tr>\n",
       "      <th>0</th>\n",
       "      <td>0.438396</td>\n",
       "      <td>0.445722</td>\n",
       "      <td>2.306707</td>\n",
       "      <td>0.554278</td>\n",
       "      <td>3.088050</td>\n",
       "    </tr>\n",
       "    <tr>\n",
       "      <th>1</th>\n",
       "      <td>0.457191</td>\n",
       "      <td>0.460775</td>\n",
       "      <td>2.342729</td>\n",
       "      <td>0.539225</td>\n",
       "      <td>3.109895</td>\n",
       "    </tr>\n",
       "    <tr>\n",
       "      <th>2</th>\n",
       "      <td>0.494805</td>\n",
       "      <td>0.479499</td>\n",
       "      <td>2.404276</td>\n",
       "      <td>0.520501</td>\n",
       "      <td>3.078916</td>\n",
       "    </tr>\n",
       "    <tr>\n",
       "      <th>3</th>\n",
       "      <td>0.520850</td>\n",
       "      <td>0.480303</td>\n",
       "      <td>2.390817</td>\n",
       "      <td>0.519697</td>\n",
       "      <td>3.091688</td>\n",
       "    </tr>\n",
       "    <tr>\n",
       "      <th>4</th>\n",
       "      <td>0.476378</td>\n",
       "      <td>0.485163</td>\n",
       "      <td>2.424226</td>\n",
       "      <td>0.514837</td>\n",
       "      <td>3.067746</td>\n",
       "    </tr>\n",
       "    <tr>\n",
       "      <th>5</th>\n",
       "      <td>0.601328</td>\n",
       "      <td>0.486806</td>\n",
       "      <td>2.400056</td>\n",
       "      <td>0.513194</td>\n",
       "      <td>3.097217</td>\n",
       "    </tr>\n",
       "    <tr>\n",
       "      <th>6</th>\n",
       "      <td>0.534886</td>\n",
       "      <td>0.489471</td>\n",
       "      <td>2.417469</td>\n",
       "      <td>0.510529</td>\n",
       "      <td>3.078255</td>\n",
       "    </tr>\n",
       "    <tr>\n",
       "      <th>7</th>\n",
       "      <td>0.565020</td>\n",
       "      <td>0.489602</td>\n",
       "      <td>2.424690</td>\n",
       "      <td>0.510398</td>\n",
       "      <td>3.071649</td>\n",
       "    </tr>\n",
       "    <tr>\n",
       "      <th>8</th>\n",
       "      <td>0.597807</td>\n",
       "      <td>0.490139</td>\n",
       "      <td>2.435257</td>\n",
       "      <td>0.509861</td>\n",
       "      <td>3.063236</td>\n",
       "    </tr>\n",
       "    <tr>\n",
       "      <th>9</th>\n",
       "      <td>0.562035</td>\n",
       "      <td>0.490103</td>\n",
       "      <td>2.427178</td>\n",
       "      <td>0.509897</td>\n",
       "      <td>3.071703</td>\n",
       "    </tr>\n",
       "    <tr>\n",
       "      <th>10</th>\n",
       "      <td>0.641186</td>\n",
       "      <td>0.489420</td>\n",
       "      <td>2.421403</td>\n",
       "      <td>0.510580</td>\n",
       "      <td>3.076581</td>\n",
       "    </tr>\n",
       "    <tr>\n",
       "      <th>11</th>\n",
       "      <td>0.640907</td>\n",
       "      <td>0.489553</td>\n",
       "      <td>2.421896</td>\n",
       "      <td>0.510447</td>\n",
       "      <td>3.076116</td>\n",
       "    </tr>\n",
       "    <tr>\n",
       "      <th>12</th>\n",
       "      <td>0.649337</td>\n",
       "      <td>0.489690</td>\n",
       "      <td>2.421989</td>\n",
       "      <td>0.510310</td>\n",
       "      <td>3.076284</td>\n",
       "    </tr>\n",
       "    <tr>\n",
       "      <th>13</th>\n",
       "      <td>0.708516</td>\n",
       "      <td>0.489499</td>\n",
       "      <td>2.420141</td>\n",
       "      <td>0.510501</td>\n",
       "      <td>3.077789</td>\n",
       "    </tr>\n",
       "    <tr>\n",
       "      <th>14</th>\n",
       "      <td>0.691196</td>\n",
       "      <td>0.489581</td>\n",
       "      <td>2.419697</td>\n",
       "      <td>0.510419</td>\n",
       "      <td>3.078344</td>\n",
       "    </tr>\n",
       "    <tr>\n",
       "      <th>15</th>\n",
       "      <td>0.744223</td>\n",
       "      <td>0.489618</td>\n",
       "      <td>2.419476</td>\n",
       "      <td>0.510382</td>\n",
       "      <td>3.078805</td>\n",
       "    </tr>\n",
       "    <tr>\n",
       "      <th>16</th>\n",
       "      <td>0.668994</td>\n",
       "      <td>0.489679</td>\n",
       "      <td>2.418116</td>\n",
       "      <td>0.510321</td>\n",
       "      <td>3.080295</td>\n",
       "    </tr>\n",
       "    <tr>\n",
       "      <th>17</th>\n",
       "      <td>0.615680</td>\n",
       "      <td>0.489575</td>\n",
       "      <td>2.416344</td>\n",
       "      <td>0.510425</td>\n",
       "      <td>3.082042</td>\n",
       "    </tr>\n",
       "    <tr>\n",
       "      <th>18</th>\n",
       "      <td>0.683032</td>\n",
       "      <td>0.489447</td>\n",
       "      <td>2.415024</td>\n",
       "      <td>0.510553</td>\n",
       "      <td>3.083445</td>\n",
       "    </tr>\n",
       "    <tr>\n",
       "      <th>19</th>\n",
       "      <td>0.692312</td>\n",
       "      <td>0.489425</td>\n",
       "      <td>2.414506</td>\n",
       "      <td>0.510575</td>\n",
       "      <td>3.083841</td>\n",
       "    </tr>\n",
       "  </tbody>\n",
       "</table>\n",
       "</div>"
      ],
      "text/plain": [
       "           c        A1      tau1        A2      tau2\n",
       "0   0.438396  0.445722  2.306707  0.554278  3.088050\n",
       "1   0.457191  0.460775  2.342729  0.539225  3.109895\n",
       "2   0.494805  0.479499  2.404276  0.520501  3.078916\n",
       "3   0.520850  0.480303  2.390817  0.519697  3.091688\n",
       "4   0.476378  0.485163  2.424226  0.514837  3.067746\n",
       "5   0.601328  0.486806  2.400056  0.513194  3.097217\n",
       "6   0.534886  0.489471  2.417469  0.510529  3.078255\n",
       "7   0.565020  0.489602  2.424690  0.510398  3.071649\n",
       "8   0.597807  0.490139  2.435257  0.509861  3.063236\n",
       "9   0.562035  0.490103  2.427178  0.509897  3.071703\n",
       "10  0.641186  0.489420  2.421403  0.510580  3.076581\n",
       "11  0.640907  0.489553  2.421896  0.510447  3.076116\n",
       "12  0.649337  0.489690  2.421989  0.510310  3.076284\n",
       "13  0.708516  0.489499  2.420141  0.510501  3.077789\n",
       "14  0.691196  0.489581  2.419697  0.510419  3.078344\n",
       "15  0.744223  0.489618  2.419476  0.510382  3.078805\n",
       "16  0.668994  0.489679  2.418116  0.510321  3.080295\n",
       "17  0.615680  0.489575  2.416344  0.510425  3.082042\n",
       "18  0.683032  0.489447  2.415024  0.510553  3.083445\n",
       "19  0.692312  0.489425  2.414506  0.510575  3.083841"
      ]
     },
     "execution_count": 137,
     "metadata": {},
     "output_type": "execute_result"
    }
   ],
   "source": [
    "mean_df"
   ]
  },
  {
   "cell_type": "code",
   "execution_count": 138,
   "id": "f53a92f9",
   "metadata": {},
   "outputs": [
    {
     "data": {
      "text/html": [
       "<div>\n",
       "<style scoped>\n",
       "    .dataframe tbody tr th:only-of-type {\n",
       "        vertical-align: middle;\n",
       "    }\n",
       "\n",
       "    .dataframe tbody tr th {\n",
       "        vertical-align: top;\n",
       "    }\n",
       "\n",
       "    .dataframe thead th {\n",
       "        text-align: right;\n",
       "    }\n",
       "</style>\n",
       "<table border=\"1\" class=\"dataframe\">\n",
       "  <thead>\n",
       "    <tr style=\"text-align: right;\">\n",
       "      <th></th>\n",
       "      <th>c</th>\n",
       "      <th>A1</th>\n",
       "      <th>tau1</th>\n",
       "      <th>A2</th>\n",
       "      <th>tau2</th>\n",
       "    </tr>\n",
       "  </thead>\n",
       "  <tbody>\n",
       "    <tr>\n",
       "      <th>0</th>\n",
       "      <td>0.426693</td>\n",
       "      <td>0.031083</td>\n",
       "      <td>0.304437</td>\n",
       "      <td>0.031083</td>\n",
       "      <td>0.289021</td>\n",
       "    </tr>\n",
       "    <tr>\n",
       "      <th>1</th>\n",
       "      <td>0.411329</td>\n",
       "      <td>0.024480</td>\n",
       "      <td>0.214468</td>\n",
       "      <td>0.024480</td>\n",
       "      <td>0.238547</td>\n",
       "    </tr>\n",
       "    <tr>\n",
       "      <th>2</th>\n",
       "      <td>0.419077</td>\n",
       "      <td>0.024755</td>\n",
       "      <td>0.185588</td>\n",
       "      <td>0.024755</td>\n",
       "      <td>0.221092</td>\n",
       "    </tr>\n",
       "    <tr>\n",
       "      <th>3</th>\n",
       "      <td>0.421965</td>\n",
       "      <td>0.015924</td>\n",
       "      <td>0.174007</td>\n",
       "      <td>0.015924</td>\n",
       "      <td>0.190066</td>\n",
       "    </tr>\n",
       "    <tr>\n",
       "      <th>4</th>\n",
       "      <td>0.448084</td>\n",
       "      <td>0.012141</td>\n",
       "      <td>0.154644</td>\n",
       "      <td>0.012141</td>\n",
       "      <td>0.167218</td>\n",
       "    </tr>\n",
       "    <tr>\n",
       "      <th>5</th>\n",
       "      <td>0.439453</td>\n",
       "      <td>0.008996</td>\n",
       "      <td>0.122176</td>\n",
       "      <td>0.008996</td>\n",
       "      <td>0.134554</td>\n",
       "    </tr>\n",
       "    <tr>\n",
       "      <th>6</th>\n",
       "      <td>0.453690</td>\n",
       "      <td>0.008512</td>\n",
       "      <td>0.144355</td>\n",
       "      <td>0.008512</td>\n",
       "      <td>0.149439</td>\n",
       "    </tr>\n",
       "    <tr>\n",
       "      <th>7</th>\n",
       "      <td>0.438708</td>\n",
       "      <td>0.008247</td>\n",
       "      <td>0.134502</td>\n",
       "      <td>0.008247</td>\n",
       "      <td>0.138683</td>\n",
       "    </tr>\n",
       "    <tr>\n",
       "      <th>8</th>\n",
       "      <td>0.413006</td>\n",
       "      <td>0.009929</td>\n",
       "      <td>0.122222</td>\n",
       "      <td>0.009929</td>\n",
       "      <td>0.123503</td>\n",
       "    </tr>\n",
       "    <tr>\n",
       "      <th>9</th>\n",
       "      <td>0.461109</td>\n",
       "      <td>0.004101</td>\n",
       "      <td>0.061983</td>\n",
       "      <td>0.004101</td>\n",
       "      <td>0.063644</td>\n",
       "    </tr>\n",
       "    <tr>\n",
       "      <th>10</th>\n",
       "      <td>0.453060</td>\n",
       "      <td>0.003011</td>\n",
       "      <td>0.047517</td>\n",
       "      <td>0.003011</td>\n",
       "      <td>0.049090</td>\n",
       "    </tr>\n",
       "    <tr>\n",
       "      <th>11</th>\n",
       "      <td>0.457389</td>\n",
       "      <td>0.002853</td>\n",
       "      <td>0.034760</td>\n",
       "      <td>0.002853</td>\n",
       "      <td>0.034752</td>\n",
       "    </tr>\n",
       "    <tr>\n",
       "      <th>12</th>\n",
       "      <td>0.446309</td>\n",
       "      <td>0.001530</td>\n",
       "      <td>0.026890</td>\n",
       "      <td>0.001530</td>\n",
       "      <td>0.027938</td>\n",
       "    </tr>\n",
       "    <tr>\n",
       "      <th>13</th>\n",
       "      <td>0.423039</td>\n",
       "      <td>0.001353</td>\n",
       "      <td>0.020425</td>\n",
       "      <td>0.001353</td>\n",
       "      <td>0.021624</td>\n",
       "    </tr>\n",
       "    <tr>\n",
       "      <th>14</th>\n",
       "      <td>0.426619</td>\n",
       "      <td>0.001194</td>\n",
       "      <td>0.017612</td>\n",
       "      <td>0.001194</td>\n",
       "      <td>0.018299</td>\n",
       "    </tr>\n",
       "    <tr>\n",
       "      <th>15</th>\n",
       "      <td>0.403267</td>\n",
       "      <td>0.000843</td>\n",
       "      <td>0.013024</td>\n",
       "      <td>0.000843</td>\n",
       "      <td>0.013366</td>\n",
       "    </tr>\n",
       "    <tr>\n",
       "      <th>16</th>\n",
       "      <td>0.466241</td>\n",
       "      <td>0.000844</td>\n",
       "      <td>0.010489</td>\n",
       "      <td>0.000844</td>\n",
       "      <td>0.010987</td>\n",
       "    </tr>\n",
       "    <tr>\n",
       "      <th>17</th>\n",
       "      <td>0.476776</td>\n",
       "      <td>0.000705</td>\n",
       "      <td>0.007782</td>\n",
       "      <td>0.000705</td>\n",
       "      <td>0.008262</td>\n",
       "    </tr>\n",
       "    <tr>\n",
       "      <th>18</th>\n",
       "      <td>0.458812</td>\n",
       "      <td>0.000398</td>\n",
       "      <td>0.004918</td>\n",
       "      <td>0.000398</td>\n",
       "      <td>0.005029</td>\n",
       "    </tr>\n",
       "    <tr>\n",
       "      <th>19</th>\n",
       "      <td>0.452879</td>\n",
       "      <td>0.000435</td>\n",
       "      <td>0.003882</td>\n",
       "      <td>0.000435</td>\n",
       "      <td>0.004050</td>\n",
       "    </tr>\n",
       "  </tbody>\n",
       "</table>\n",
       "</div>"
      ],
      "text/plain": [
       "           c        A1      tau1        A2      tau2\n",
       "0   0.426693  0.031083  0.304437  0.031083  0.289021\n",
       "1   0.411329  0.024480  0.214468  0.024480  0.238547\n",
       "2   0.419077  0.024755  0.185588  0.024755  0.221092\n",
       "3   0.421965  0.015924  0.174007  0.015924  0.190066\n",
       "4   0.448084  0.012141  0.154644  0.012141  0.167218\n",
       "5   0.439453  0.008996  0.122176  0.008996  0.134554\n",
       "6   0.453690  0.008512  0.144355  0.008512  0.149439\n",
       "7   0.438708  0.008247  0.134502  0.008247  0.138683\n",
       "8   0.413006  0.009929  0.122222  0.009929  0.123503\n",
       "9   0.461109  0.004101  0.061983  0.004101  0.063644\n",
       "10  0.453060  0.003011  0.047517  0.003011  0.049090\n",
       "11  0.457389  0.002853  0.034760  0.002853  0.034752\n",
       "12  0.446309  0.001530  0.026890  0.001530  0.027938\n",
       "13  0.423039  0.001353  0.020425  0.001353  0.021624\n",
       "14  0.426619  0.001194  0.017612  0.001194  0.018299\n",
       "15  0.403267  0.000843  0.013024  0.000843  0.013366\n",
       "16  0.466241  0.000844  0.010489  0.000844  0.010987\n",
       "17  0.476776  0.000705  0.007782  0.000705  0.008262\n",
       "18  0.458812  0.000398  0.004918  0.000398  0.005029\n",
       "19  0.452879  0.000435  0.003882  0.000435  0.004050"
      ]
     },
     "execution_count": 138,
     "metadata": {},
     "output_type": "execute_result"
    }
   ],
   "source": [
    "std_df"
   ]
  },
  {
   "cell_type": "code",
   "execution_count": 139,
   "id": "37d57a09",
   "metadata": {},
   "outputs": [
    {
     "data": {
      "image/png": "[encoded data removed]",
      "text/plain": [
       "<Figure size 1080x360 with 3 Axes>"
      ]
     },
     "metadata": {
      "needs_background": "light"
     },
     "output_type": "display_data"
    }
   ],
   "source": [
    "# Set up the subplots\n",
    "fig, axs = plt.subplots(1, 3, figsize=(15, 5))  # 1 row, 3 columns\n",
    "\n",
    "# A1 plot\n",
    "axs[0].errorbar(n_photon_arr, mean_df['A1'], yerr=std_df['A1'], fmt='x', ecolor='orange', capthick=2,\n",
    "                capsize=5, color='orange', label='mean')\n",
    "axs[0].axhline(y=0.497, color='k', linestyle='-', label='True value')\n",
    "axs[0].set_xscale('log')\n",
    "axs[0].set_xlabel('Number of photons')\n",
    "axs[0].set_ylabel('A1')\n",
    "axs[0].set_title('A1')\n",
    "axs[0].legend()\n",
    "\n",
    "# tau1 plot\n",
    "axs[1].errorbar(photon_numbers, mean_df['tau1'], yerr=std_df['tau1'], fmt='x', ecolor='orange', capthick=2,\n",
    "                capsize=5, color='orange', label='mean')\n",
    "axs[1].axhline(y=2.43, color='k', linestyle='-', label='True value')\n",
    "axs[1].set_xscale('log')\n",
    "axs[1].set_xlabel('Number of photons')\n",
    "axs[1].set_ylabel('tau1')\n",
    "axs[1].set_title('tau1')\n",
    "axs[1].legend()\n",
    "\n",
    "# tau2 plot\n",
    "axs[2].errorbar(photon_numbers, mean_df['tau2'], yerr=std_df['tau2'], fmt='x', ecolor='orange', capthick=2,\n",
    "                capsize=5, color='orange', label='mean')\n",
    "axs[2].axhline(y=3.07, color='k', linestyle='-', label='True value')\n",
    "axs[2].set_xscale('log')\n",
    "axs[2].set_xlabel('Number of photons')\n",
    "axs[2].set_ylabel('tau2')\n",
    "axs[2].set_title('tau2')\n",
    "axs[2].legend()\n",
    "\n",
    "# Adjust layout to prevent overlapping\n",
    "plt.tight_layout()\n",
    "\n",
    "# Show the plot\n",
    "plt.show()\n"
   ]
  },
  {
   "cell_type": "code",
   "execution_count": 140,
   "id": "47ff39ad",
   "metadata": {},
   "outputs": [],
   "source": [
    "par_dict = {k:v.value for k,v in mi1.params.items()}\n",
    "A_sum = sum([par_dict[f'A{j}'] for j in range(1,N+1)])\n",
    "for i in range(1,N+1):\n",
    "  par_dict[f'A{i}']=par_dict[f'A{i}']/A_sum"
   ]
  },
  {
   "cell_type": "code",
   "execution_count": 141,
   "id": "e95c0d2c",
   "metadata": {},
   "outputs": [
    {
     "data": {
      "text/plain": [
       "{'c': 0.06266399720935933,\n",
       " 'A1': 0.43873935753300397,\n",
       " 'tau1': 2.4819362211337666,\n",
       " 'A2': 0.561260642466996,\n",
       " 'tau2': 3.097007535851029,\n",
       " 'A3': 5.810865297606327e-06,\n",
       " 'tau3': 3749860.6963326423}"
      ]
     },
     "execution_count": 141,
     "metadata": {},
     "output_type": "execute_result"
    }
   ],
   "source": [
    "par_dict"
   ]
  },
  {
   "cell_type": "code",
   "execution_count": null,
   "id": "b4831c11",
   "metadata": {},
   "outputs": [],
   "source": []
  }
 ],
 "metadata": {
  "kernelspec": {
   "display_name": "Python 3",
   "language": "python",
   "name": "python3"
  },
  "language_info": {
   "codemirror_mode": {
    "name": "ipython",
    "version": 3
   },
   "file_extension": ".py",
   "mimetype": "text/x-python",
   "name": "python",
   "nbconvert_exporter": "python",
   "pygments_lexer": "ipython3",
   "version": "3.8.8"
  },
  "vscode": {
   "interpreter": {
    "hash": "aee8b7b246df8f9039afb4144a1f6fd8d2ca17a180786b69acc140d282b71a49"
   }
  }
 },
 "nbformat": 4,
 "nbformat_minor": 5
}
