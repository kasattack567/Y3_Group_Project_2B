{
 "cells": [
  {
   "cell_type": "code",
   "execution_count": 1,
   "metadata": {},
   "outputs": [
    {
     "name": "stderr",
     "output_type": "stream",
     "text": [
      "/Library/Frameworks/Python.framework/Versions/3.10/lib/python3.10/site-packages/scipy/__init__.py:155: UserWarning: A NumPy version >=1.18.5 and <1.26.0 is required for this version of SciPy (detected version 1.26.3\n",
      "  warnings.warn(f\"A NumPy version >={np_minversion} and <{np_maxversion}\"\n"
     ]
    }
   ],
   "source": [
    "import numpy as np\n",
    "import matplotlib.pyplot as plt\n",
    "import matplotlib as mpl\n",
    "from scipy.signal import convolve\n",
    "from scipy import stats\n",
    "from sympy import symbols, solve, Eq, Function\n",
    "from sympy.matrices import Matrix\n",
    "import sympy as sp\n",
    "from TCSPC import *"
   ]
  },
  {
   "cell_type": "code",
   "execution_count": 2,
   "metadata": {},
   "outputs": [
    {
     "ename": "NameError",
     "evalue": "name 'DEMO' is not defined",
     "output_type": "error",
     "traceback": [
      "\u001b[0;31m---------------------------------------------------------------------------\u001b[0m",
      "\u001b[0;31mNameError\u001b[0m                                 Traceback (most recent call last)",
      "\u001b[1;32m/Users/chilaitang/Library/Mobile Documents/com~apple~CloudDocs/UCL PHY/Y3_Group_Project_2B/TCSPC-simulation/interim_report.ipynb Cell 2\u001b[0m in \u001b[0;36m<cell line: 1>\u001b[0;34m()\u001b[0m\n\u001b[0;32m----> <a href='vscode-notebook-cell:/Users/chilaitang/Library/Mobile%20Documents/com~apple~CloudDocs/UCL%20PHY/Y3_Group_Project_2B/TCSPC-simulation/interim_report.ipynb#ch0000003?line=0'>1</a>\u001b[0m DEMO \n\u001b[1;32m      <a href='vscode-notebook-cell:/Users/chilaitang/Library/Mobile%20Documents/com~apple~CloudDocs/UCL%20PHY/Y3_Group_Project_2B/TCSPC-simulation/interim_report.ipynb#ch0000003?line=2'>3</a>\u001b[0m NADH \u001b[39m=\u001b[39m Simulation([\u001b[39m0.75\u001b[39m,\u001b[39m0.25\u001b[39m],[\u001b[39m0.4\u001b[39m,\u001b[39m4\u001b[39m])\n",
      "\u001b[0;31mNameError\u001b[0m: name 'DEMO' is not defined"
     ]
    }
   ],
   "source": [
    "NADH = Simulation([0.75,0.25],[0.4,4])"
   ]
  },
  {
   "cell_type": "code",
   "execution_count": null,
   "metadata": {},
   "outputs": [],
   "source": []
  }
 ],
 "metadata": {
  "kernelspec": {
   "display_name": "Python 3.10.5 64-bit",
   "language": "python",
   "name": "python3"
  },
  "language_info": {
   "codemirror_mode": {
    "name": "ipython",
    "version": 3
   },
   "file_extension": ".py",
   "mimetype": "text/x-python",
   "name": "python",
   "nbconvert_exporter": "python",
   "pygments_lexer": "ipython3",
   "version": "3.10.5"
  },
  "orig_nbformat": 4,
  "vscode": {
   "interpreter": {
    "hash": "aee8b7b246df8f9039afb4144a1f6fd8d2ca17a180786b69acc140d282b71a49"
   }
  }
 },
 "nbformat": 4,
 "nbformat_minor": 2
}
