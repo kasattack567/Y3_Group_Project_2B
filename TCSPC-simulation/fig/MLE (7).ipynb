{
 "cells": [
  {
   "cell_type": "code",
   "execution_count": 100,
   "id": "c29d0496",
   "metadata": {},
   "outputs": [],
   "source": [
    "from TCSPC import *"
   ]
  },
  {
   "cell_type": "code",
   "execution_count": 101,
   "id": "55cf412d",
   "metadata": {},
   "outputs": [],
   "source": [
    "EGFP = Simulation([0.497,0.503],[2.43,3.07])"
   ]
  },
  {
   "cell_type": "code",
   "execution_count": 102,
   "id": "bca71d0a",
   "metadata": {},
   "outputs": [],
   "source": [
    "# tdata = np.loadtxt('EGFPt.csv')\n",
    "# ydata = np.loadtxt('EGFPy2.csv')"
   ]
  },
  {
   "cell_type": "code",
   "execution_count": 103,
   "id": "c52732a3",
   "metadata": {},
   "outputs": [],
   "source": [
    "def trim_rescale_data(tdata,ydata,end =int(0.6*380),rescale = True):\n",
    "    max_idx = np.argmax(ydata) #index of data point with maximum photon count N(0)\n",
    "    tdata = tdata[:end-max_idx] #start from t = 0\n",
    "    ydata = ydata[max_idx:end]  #start from max.\n",
    "    if rescale == True:\n",
    "        yerr = ydata/ydata[0]*np.sqrt(1/ydata+1/ydata[0]) #error after scaling\n",
    "        ydata = ydata/ydata[0] # scale y data such that the beginning is 1 \n",
    "    else:\n",
    "        yerr = np.sqrt(ydata)\n",
    "    weights = 1/yerr #weighted by 1/yerr, yerr is error after scaling ydata\n",
    "    return tdata,ydata,weights"
   ]
  },
  {
   "cell_type": "code",
   "execution_count": 104,
   "id": "d7eaf830",
   "metadata": {},
   "outputs": [],
   "source": [
    "def trim_rescale_data(tdata,ydata,r = 0.1,end =int(0.6*380),rescale = True):\n",
    "    '''Trim and rescale data (if rescale ==True)\n",
    "       tdata    EGFP.t\n",
    "       ydata    EGFP.y2 \n",
    "       r        select points with y>r*max(y)\n",
    "       rescale  True to rescale, False won't rescale'''\n",
    "     #select points >r* max ydata only\n",
    "    ydata = ydata[ydata>r*np.max(ydata)]\n",
    "    #trim away IRF\n",
    "    ydata = ydata[np.argmax(ydata):]\n",
    "    #set tdata to same length, start from t = 0\n",
    "    tdata = tdata[:len(ydata)]\n",
    "    if rescale == True:\n",
    "        yerr = ydata/ydata[0]*np.sqrt(1/ydata+1/ydata[0]) #error after scaling\n",
    "        ydata = ydata/ydata[0] # scale y data such that the beginning is 1 \n",
    "    else:\n",
    "        yerr = np.sqrt(ydata)\n",
    "    weights = 1/yerr #weighted by 1/yerr, yerr is error after scaling ydata\n",
    "    return tdata,ydata,weights"
   ]
  },
  {
   "cell_type": "code",
   "execution_count": 105,
   "id": "189e121f",
   "metadata": {},
   "outputs": [],
   "source": [
    "def exp(t, A, tau):\n",
    "    return A * np.exp(-t/tau)"
   ]
  },
  {
   "cell_type": "code",
   "execution_count": 106,
   "id": "7a7f26cd",
   "metadata": {},
   "outputs": [
    {
     "data": {
      "text/plain": [
       "0"
      ]
     },
     "execution_count": 106,
     "metadata": {},
     "output_type": "execute_result"
    }
   ],
   "source": [
    "np.argmax(ydata)"
   ]
  },
  {
   "cell_type": "code",
   "execution_count": 107,
   "id": "21609b17",
   "metadata": {},
   "outputs": [
    {
     "data": {
      "text/plain": [
       "120"
      ]
     },
     "execution_count": 107,
     "metadata": {},
     "output_type": "execute_result"
    }
   ],
   "source": [
    "tdata,ydata,weights = trim_rescale_data(EGFP.t,EGFP.y2)\n",
    "len(tdata)"
   ]
  },
  {
   "cell_type": "code",
   "execution_count": 108,
   "id": "752a6f00",
   "metadata": {},
   "outputs": [],
   "source": [
    "def poisson_deviance_residual(observed, expected):\n",
    "    residual=  np.sqrt(abs(2 *  (observed* np.log(observed/ expected) - (observed- expected)))) #residual array\n",
    "    return residual\n",
    "\n",
    "def residual(p, t, data):\n",
    "    v = p.valuesdict()\n",
    "    expected = 0\n",
    "    if 'c' in v:\n",
    "        expected = v['c'] #constant background\n",
    "    M = 1\n",
    "    while f'A{M}' in v:\n",
    "        expected += exp(t, v[f'A{M}'], v[f'tau{M}']) #add exponential component\n",
    "        M += 1\n",
    "    if 'A0' in v:\n",
    "        expected *= v['A0'] #overall scaling factor if data is not rescaled\n",
    "    return poisson_deviance_residual(data, expected) #lmfit.minimizer minimize the residual array in the sum of squared sense\n"
   ]
  },
  {
   "cell_type": "code",
   "execution_count": 109,
   "id": "1a3d65f2",
   "metadata": {},
   "outputs": [],
   "source": [
    "def initial_params(M,A_guess,tau_guess,c_guess = 0,rescale = True,bg_removed = False):\n",
    "    p = lmfit.Parameters()\n",
    "    if bg_removed == False:\n",
    "        p.add_many(('c', c_guess, True, 0)) #constant background\n",
    "    if rescale == False:\n",
    "        for i in range(M+1): #for each component\n",
    "            p.add_many((f'A{i}', A_guess[i], True,0)) #amplitude\n",
    "    else: \n",
    "        for i in range(1,M+1): #for each component\n",
    "            p.add_many((f'A{i}', A_guess[i-1], True,0)) #amplitude\n",
    "    for i in range(1,M+1):\n",
    "        p.add_many((f'tau{i}', tau_guess[i-1], True, 0)) #lifetime\n",
    "    p[f'A{M}'].set(expr = f'1 {\"\".join([f\"- A{i}\" for i in range(1,M)])}') #fix the amplitude of last component\n",
    "    return p\n",
    "\n"
   ]
  },
  {
   "cell_type": "code",
   "execution_count": 110,
   "id": "01dfdcc3",
   "metadata": {},
   "outputs": [],
   "source": [
    "def initial_params(M,A_guess,tau_guess,c_guess = 0,rescale = True,bg_removed = False):\n",
    "    p = lmfit.Parameters()\n",
    "    if bg_removed == False:\n",
    "        p.add_many(('c', c_guess, True, 0)) #constant background\n",
    "    for i in range(1,M+1): #for each component\n",
    "        p.add_many((f'A{i}', A_guess[i-1], True,0)) #amplitude\n",
    "    for i in range(1,M+1):\n",
    "        p.add_many((f'tau{i}', tau_guess[i-1], True, 0)) #lifetime\n",
    "    if rescale == True:\n",
    "        p[f'A{M}'].set(expr = f'1 {\"\".join([f\"- A{i}\" for i in range(1,M)])}') #fix the amplitude of last component\n",
    "    return p"
   ]
  },
  {
   "cell_type": "code",
   "execution_count": 111,
   "id": "a6189d07",
   "metadata": {},
   "outputs": [],
   "source": [
    "import numdifftools as nd"
   ]
  },
  {
   "cell_type": "code",
   "execution_count": 112,
   "id": "7efd67f1",
   "metadata": {},
   "outputs": [],
   "source": [
    "def chi2(params):\n",
    "    M = int((len(params)-1)/2)\n",
    "    p = initial_params(M,params[1:M+1],params[M+1:],c_guess=params[0],rescale = False)\n",
    "    return np.dot(residual(p, tdata, ydata),residual(p, tdata, ydata))"
   ]
  },
  {
   "cell_type": "code",
   "execution_count": 113,
   "id": "e94f839f",
   "metadata": {},
   "outputs": [
    {
     "data": {
      "text/html": [
       "<table class=\"jp-toc-ignore\"><caption>Parameters</caption><tr><th style='text-align:left'>name</th><th style='text-align:left'>value</th><th style='text-align:left'>initial value</th><th style='text-align:left'>min</th><th style='text-align:left'>max</th><th style='text-align:right'>vary</th></tr><tr><td style='text-align:left'>c</td><td style='text-align:left'> 0.42032426</td><td style='text-align:left'>0</td><td style='text-align:left'> 0.00000000</td><td style='text-align:left'>        inf</td><td style='text-align:right'>True</td></tr><tr><td style='text-align:left'>A1</td><td style='text-align:left'> 76.2243939</td><td style='text-align:left'>88.69</td><td style='text-align:left'> 0.00000000</td><td style='text-align:left'>        inf</td><td style='text-align:right'>True</td></tr><tr><td style='text-align:left'>A2</td><td style='text-align:left'> 91.6513806</td><td style='text-align:left'>92.31</td><td style='text-align:left'> 0.00000000</td><td style='text-align:left'>        inf</td><td style='text-align:right'>True</td></tr><tr><td style='text-align:left'>A3</td><td style='text-align:left'> 13.9290900</td><td style='text-align:left'>1</td><td style='text-align:left'> 0.00000000</td><td style='text-align:left'>        inf</td><td style='text-align:right'>True</td></tr><tr><td style='text-align:left'>tau1</td><td style='text-align:left'> 2.45113424</td><td style='text-align:left'>2.43</td><td style='text-align:left'> 0.00000000</td><td style='text-align:left'>        inf</td><td style='text-align:right'>True</td></tr><tr><td style='text-align:left'>tau2</td><td style='text-align:left'> 3.08758426</td><td style='text-align:left'>3.07</td><td style='text-align:left'> 0.00000000</td><td style='text-align:left'>        inf</td><td style='text-align:right'>True</td></tr><tr><td style='text-align:left'>tau3</td><td style='text-align:left'> 0.03903894</td><td style='text-align:left'>1</td><td style='text-align:left'> 0.00000000</td><td style='text-align:left'>        inf</td><td style='text-align:right'>True</td></tr></table>"
      ],
      "text/plain": [
       "Parameters([('c', <Parameter 'c', value=0.42032425728305833, bounds=[0:inf]>), ('A1', <Parameter 'A1', value=76.22439389852553, bounds=[0:inf]>), ('A2', <Parameter 'A2', value=91.6513805814611, bounds=[0:inf]>), ('A3', <Parameter 'A3', value=13.929090038185768, bounds=[0:inf]>), ('tau1', <Parameter 'tau1', value=2.4511342418999997, bounds=[0:inf]>), ('tau2', <Parameter 'tau2', value=3.087584261871327, bounds=[0:inf]>), ('tau3', <Parameter 'tau3', value=0.03903894203174407, bounds=[0:inf]>)])"
      ]
     },
     "execution_count": 113,
     "metadata": {},
     "output_type": "execute_result"
    }
   ],
   "source": [
    "mi1.params"
   ]
  },
  {
   "cell_type": "code",
   "execution_count": 114,
   "id": "de5ede87",
   "metadata": {},
   "outputs": [
    {
     "data": {
      "text/plain": [
       "[0.42032425728305833,\n",
       " 76.22439389852553,\n",
       " 91.6513805814611,\n",
       " 13.929090038185768,\n",
       " 2.4511342418999997,\n",
       " 3.087584261871327,\n",
       " 0.03903894203174407]"
      ]
     },
     "execution_count": 114,
     "metadata": {},
     "output_type": "execute_result"
    }
   ],
   "source": [
    "[v.value for v in mi1.params.values()]"
   ]
  },
  {
   "cell_type": "code",
   "execution_count": 115,
   "id": "424bde87",
   "metadata": {},
   "outputs": [
    {
     "data": {
      "text/plain": [
       "array([ 238.61466654,   86.30542909,  102.24491137,    2.68325011,\n",
       "       2088.86220206, 2090.52562902,  451.71337701])"
      ]
     },
     "execution_count": 115,
     "metadata": {},
     "output_type": "execute_result"
    }
   ],
   "source": [
    "nd.Gradient(chi2)([v.value for v in mi1.params.values()])"
   ]
  },
  {
   "cell_type": "code",
   "execution_count": 116,
   "id": "2d5d1966",
   "metadata": {},
   "outputs": [
    {
     "data": {
      "text/plain": [
       "array([ 3.33465826e+01,  7.87213572e-01,  1.16189899e+00, -3.25350834e+00,\n",
       "       -1.47318834e-06, -2.08470723e-06, -6.17453298e-08])"
      ]
     },
     "execution_count": 116,
     "metadata": {},
     "output_type": "execute_result"
    }
   ],
   "source": [
    "H = nd.Hessian(chi2)([v.value for v in mi1.params.values()])\n",
    "np.diag(np.linalg.inv(H))"
   ]
  },
  {
   "cell_type": "markdown",
   "id": "e13090df",
   "metadata": {},
   "source": [
    "### bi-exp decay fit to EGFP"
   ]
  },
  {
   "cell_type": "code",
   "execution_count": 117,
   "id": "6e275e5c",
   "metadata": {},
   "outputs": [
    {
     "name": "stdout",
     "output_type": "stream",
     "text": [
      "[[Fit Statistics]]\n",
      "    # fitting method   = Powell\n",
      "    # function evals   = 300\n",
      "    # data points      = 85\n",
      "    # variables        = 3\n",
      "    chi-square         = 0.03394922\n",
      "    reduced chi-square = 4.1401e-04\n",
      "    Akaike info crit   = -659.170950\n",
      "    Bayesian info crit = -651.842996\n",
      "##  Warning: uncertainties could not be estimated:\n",
      "[[Variables]]\n",
      "    c:     0 (fixed)\n",
      "    A1:    0.55186243 (init = 0.497)\n",
      "    A2:    0.44813757 == '1 - A1'\n",
      "    tau1:  2.13480823 (init = 2.43)\n",
      "    tau2:  3.62452023 (init = 3.07)\n"
     ]
    }
   ],
   "source": [
    "EGFP.n_photon = int(1e5)\n",
    "EGFP.multi_exp_data()\n",
    "tdata,ydata,weights = trim_rescale_data(EGFP.t,EGFP.y2-EGFP.bg*EGFP.run_time/380,r = 0.2,end = int(0.5*380))\n",
    "p1 = initial_params(2,EGFP.amp,EGFP.tau)\n",
    "p1['c'].set(value = 0, vary = False)\n",
    "mi1 = lmfit.minimize(residual, p1, args=(tdata, ydata), method='powell')\n",
    "\n",
    "print(lmfit.fit_report(mi1))\n"
   ]
  },
  {
   "cell_type": "code",
   "execution_count": 118,
   "id": "a71080a5",
   "metadata": {},
   "outputs": [
    {
     "data": {
      "text/plain": [
       "array([0.        , 0.05277045, 0.1055409 , 0.15831135, 0.21108179,\n",
       "       0.26385224, 0.31662269, 0.36939314, 0.42216359, 0.47493404,\n",
       "       0.52770449, 0.58047493, 0.63324538, 0.68601583, 0.73878628,\n",
       "       0.79155673, 0.84432718, 0.89709763, 0.94986807, 1.00263852,\n",
       "       1.05540897, 1.10817942, 1.16094987, 1.21372032, 1.26649077,\n",
       "       1.31926121, 1.37203166, 1.42480211, 1.47757256, 1.53034301,\n",
       "       1.58311346, 1.63588391, 1.68865435, 1.7414248 , 1.79419525,\n",
       "       1.8469657 , 1.89973615, 1.9525066 , 2.00527704, 2.05804749,\n",
       "       2.11081794, 2.16358839, 2.21635884, 2.26912929, 2.32189974,\n",
       "       2.37467018, 2.42744063, 2.48021108, 2.53298153, 2.58575198,\n",
       "       2.63852243, 2.69129288, 2.74406332, 2.79683377, 2.84960422,\n",
       "       2.90237467, 2.95514512, 3.00791557, 3.06068602, 3.11345646,\n",
       "       3.16622691, 3.21899736, 3.27176781, 3.32453826, 3.37730871,\n",
       "       3.43007916, 3.4828496 , 3.53562005, 3.5883905 , 3.64116095,\n",
       "       3.6939314 , 3.74670185, 3.7994723 , 3.85224274, 3.90501319,\n",
       "       3.95778364, 4.01055409, 4.06332454, 4.11609499, 4.16886544,\n",
       "       4.22163588, 4.27440633, 4.32717678, 4.37994723, 4.43271768])"
      ]
     },
     "execution_count": 118,
     "metadata": {},
     "output_type": "execute_result"
    }
   ],
   "source": [
    "tdata"
   ]
  },
  {
   "cell_type": "code",
   "execution_count": 119,
   "id": "0f7cc649",
   "metadata": {},
   "outputs": [],
   "source": [
    "result = mi1\n",
    "del result.params['A2']"
   ]
  },
  {
   "cell_type": "code",
   "execution_count": 120,
   "id": "a84af108",
   "metadata": {},
   "outputs": [
    {
     "ename": "AttributeError",
     "evalue": "'NoneType' object has no attribute 'items'",
     "output_type": "error",
     "traceback": [
      "\u001b[0;31m---------------------------------------------------------------------------\u001b[0m",
      "\u001b[0;31mAttributeError\u001b[0m                            Traceback (most recent call last)",
      "\u001b[0;32m<ipython-input-120-99c048e4516a>\u001b[0m in \u001b[0;36m<module>\u001b[0;34m\u001b[0m\n\u001b[0;32m----> 1\u001b[0;31m \u001b[0minfo_df\u001b[0m\u001b[0;34m,\u001b[0m\u001b[0mpar_df\u001b[0m \u001b[0;34m=\u001b[0m \u001b[0mfit_df\u001b[0m\u001b[0;34m(\u001b[0m\u001b[0;34m[\u001b[0m\u001b[0mresult\u001b[0m\u001b[0;34m]\u001b[0m\u001b[0;34m)\u001b[0m\u001b[0;34m\u001b[0m\u001b[0;34m\u001b[0m\u001b[0m\n\u001b[0m",
      "\u001b[0;32m~/0052 Group project/TCSPC.py\u001b[0m in \u001b[0;36mfit_df\u001b[0;34m(results, par_col)\u001b[0m\n\u001b[1;32m     95\u001b[0m         \u001b[0mpar_df_new\u001b[0m \u001b[0;34m=\u001b[0m \u001b[0mpar_df_new\u001b[0m\u001b[0;34m.\u001b[0m\u001b[0mloc\u001b[0m\u001b[0;34m[\u001b[0m\u001b[0mpar_col\u001b[0m\u001b[0;34m]\u001b[0m \u001b[0;31m#select value, initial value, error, and correlation\u001b[0m\u001b[0;34m\u001b[0m\u001b[0;34m\u001b[0m\u001b[0m\n\u001b[1;32m     96\u001b[0m         \u001b[0;32mif\u001b[0m \u001b[0;34m'correl'\u001b[0m \u001b[0;32min\u001b[0m \u001b[0mpar_col\u001b[0m\u001b[0;34m:\u001b[0m\u001b[0;34m\u001b[0m\u001b[0;34m\u001b[0m\u001b[0m\n\u001b[0;32m---> 97\u001b[0;31m             \u001b[0mpar_df_new\u001b[0m\u001b[0;34m.\u001b[0m\u001b[0mloc\u001b[0m\u001b[0;34m[\u001b[0m\u001b[0;34m'correl'\u001b[0m\u001b[0;34m]\u001b[0m \u001b[0;34m=\u001b[0m \u001b[0;34m[\u001b[0m\u001b[0;34m{\u001b[0m\u001b[0mk\u001b[0m \u001b[0;34m:\u001b[0m \u001b[0;34mf'{float(v):.3g}'\u001b[0m \u001b[0;32mfor\u001b[0m \u001b[0mk\u001b[0m\u001b[0;34m,\u001b[0m\u001b[0mv\u001b[0m \u001b[0;32min\u001b[0m \u001b[0mpair\u001b[0m\u001b[0;34m.\u001b[0m\u001b[0mitems\u001b[0m\u001b[0;34m(\u001b[0m\u001b[0;34m)\u001b[0m \u001b[0;34m}\u001b[0m\u001b[0;32mfor\u001b[0m \u001b[0mpair\u001b[0m \u001b[0;32min\u001b[0m  \u001b[0mpar_df_new\u001b[0m\u001b[0;34m.\u001b[0m\u001b[0mloc\u001b[0m\u001b[0;34m[\u001b[0m\u001b[0;34m'correl'\u001b[0m\u001b[0;34m]\u001b[0m\u001b[0;34m.\u001b[0m\u001b[0mvalues\u001b[0m\u001b[0;34m]\u001b[0m \u001b[0;31m#round correlations\u001b[0m\u001b[0;34m\u001b[0m\u001b[0;34m\u001b[0m\u001b[0m\n\u001b[0m\u001b[1;32m     98\u001b[0m         \u001b[0;31m#append the new df to exisiting df\u001b[0m\u001b[0;34m\u001b[0m\u001b[0;34m\u001b[0m\u001b[0;34m\u001b[0m\u001b[0m\n\u001b[1;32m     99\u001b[0m         \u001b[0mpar_list\u001b[0m\u001b[0;34m.\u001b[0m\u001b[0mappend\u001b[0m\u001b[0;34m(\u001b[0m\u001b[0mpar_df_new\u001b[0m\u001b[0;34m)\u001b[0m\u001b[0;34m\u001b[0m\u001b[0;34m\u001b[0m\u001b[0m\n",
      "\u001b[0;32m~/0052 Group project/TCSPC.py\u001b[0m in \u001b[0;36m<listcomp>\u001b[0;34m(.0)\u001b[0m\n\u001b[1;32m     95\u001b[0m         \u001b[0mpar_df_new\u001b[0m \u001b[0;34m=\u001b[0m \u001b[0mpar_df_new\u001b[0m\u001b[0;34m.\u001b[0m\u001b[0mloc\u001b[0m\u001b[0;34m[\u001b[0m\u001b[0mpar_col\u001b[0m\u001b[0;34m]\u001b[0m \u001b[0;31m#select value, initial value, error, and correlation\u001b[0m\u001b[0;34m\u001b[0m\u001b[0;34m\u001b[0m\u001b[0m\n\u001b[1;32m     96\u001b[0m         \u001b[0;32mif\u001b[0m \u001b[0;34m'correl'\u001b[0m \u001b[0;32min\u001b[0m \u001b[0mpar_col\u001b[0m\u001b[0;34m:\u001b[0m\u001b[0;34m\u001b[0m\u001b[0;34m\u001b[0m\u001b[0m\n\u001b[0;32m---> 97\u001b[0;31m             \u001b[0mpar_df_new\u001b[0m\u001b[0;34m.\u001b[0m\u001b[0mloc\u001b[0m\u001b[0;34m[\u001b[0m\u001b[0;34m'correl'\u001b[0m\u001b[0;34m]\u001b[0m \u001b[0;34m=\u001b[0m \u001b[0;34m[\u001b[0m\u001b[0;34m{\u001b[0m\u001b[0mk\u001b[0m \u001b[0;34m:\u001b[0m \u001b[0;34mf'{float(v):.3g}'\u001b[0m \u001b[0;32mfor\u001b[0m \u001b[0mk\u001b[0m\u001b[0;34m,\u001b[0m\u001b[0mv\u001b[0m \u001b[0;32min\u001b[0m \u001b[0mpair\u001b[0m\u001b[0;34m.\u001b[0m\u001b[0mitems\u001b[0m\u001b[0;34m(\u001b[0m\u001b[0;34m)\u001b[0m \u001b[0;34m}\u001b[0m\u001b[0;32mfor\u001b[0m \u001b[0mpair\u001b[0m \u001b[0;32min\u001b[0m  \u001b[0mpar_df_new\u001b[0m\u001b[0;34m.\u001b[0m\u001b[0mloc\u001b[0m\u001b[0;34m[\u001b[0m\u001b[0;34m'correl'\u001b[0m\u001b[0;34m]\u001b[0m\u001b[0;34m.\u001b[0m\u001b[0mvalues\u001b[0m\u001b[0;34m]\u001b[0m \u001b[0;31m#round correlations\u001b[0m\u001b[0;34m\u001b[0m\u001b[0;34m\u001b[0m\u001b[0m\n\u001b[0m\u001b[1;32m     98\u001b[0m         \u001b[0;31m#append the new df to exisiting df\u001b[0m\u001b[0;34m\u001b[0m\u001b[0;34m\u001b[0m\u001b[0;34m\u001b[0m\u001b[0m\n\u001b[1;32m     99\u001b[0m         \u001b[0mpar_list\u001b[0m\u001b[0;34m.\u001b[0m\u001b[0mappend\u001b[0m\u001b[0;34m(\u001b[0m\u001b[0mpar_df_new\u001b[0m\u001b[0;34m)\u001b[0m\u001b[0;34m\u001b[0m\u001b[0;34m\u001b[0m\u001b[0m\n",
      "\u001b[0;31mAttributeError\u001b[0m: 'NoneType' object has no attribute 'items'"
     ]
    }
   ],
   "source": [
    "info_df,par_df = fit_df([result])"
   ]
  },
  {
   "cell_type": "code",
   "execution_count": 121,
   "id": "8d2167ab",
   "metadata": {
    "scrolled": true
   },
   "outputs": [
    {
     "ename": "NameError",
     "evalue": "name 'par_df' is not defined",
     "output_type": "error",
     "traceback": [
      "\u001b[0;31m---------------------------------------------------------------------------\u001b[0m",
      "\u001b[0;31mNameError\u001b[0m                                 Traceback (most recent call last)",
      "\u001b[0;32m<ipython-input-121-3479a7c15f2a>\u001b[0m in \u001b[0;36m<module>\u001b[0;34m\u001b[0m\n\u001b[0;32m----> 1\u001b[0;31m \u001b[0mpar_df\u001b[0m\u001b[0;34m\u001b[0m\u001b[0;34m\u001b[0m\u001b[0m\n\u001b[0m",
      "\u001b[0;31mNameError\u001b[0m: name 'par_df' is not defined"
     ]
    }
   ],
   "source": [
    "par_df"
   ]
  },
  {
   "cell_type": "code",
   "execution_count": 122,
   "id": "180a480e",
   "metadata": {},
   "outputs": [
    {
     "data": {
      "text/plain": [
       "[<matplotlib.lines.Line2D at 0x7fb3937edd00>]"
      ]
     },
     "execution_count": 122,
     "metadata": {},
     "output_type": "execute_result"
    },
    {
     "data": {
      "image/png": "[encoded data removed]",
      "text/plain": [
       "<Figure size 432x288 with 1 Axes>"
      ]
     },
     "metadata": {
      "needs_background": "light"
     },
     "output_type": "display_data"
    }
   ],
   "source": [
    "y = EGFP.y2-EGFP.bg*EGFP.run_time/EGFP.n_bins\n",
    "plt.plot(ydata)\n",
    "plt.plot(EGFP.y2-EGFP.bg*EGFP.run_time/EGFP.n_bins)"
   ]
  },
  {
   "cell_type": "markdown",
   "id": "f451e8ca",
   "metadata": {},
   "source": [
    "### No rescale"
   ]
  },
  {
   "cell_type": "code",
   "execution_count": 123,
   "id": "da42cd0c",
   "metadata": {},
   "outputs": [
    {
     "name": "stdout",
     "output_type": "stream",
     "text": [
      "[[Fit Statistics]]\n",
      "    # fitting method   = Powell\n",
      "    # function evals   = 430\n",
      "    # data points      = 117\n",
      "    # variables        = 4\n",
      "    chi-square         = 98.2397105\n",
      "    reduced chi-square = 0.86937797\n",
      "    Akaike info crit   = -12.4473198\n",
      "    Bayesian info crit = -1.39862409\n",
      "##  Warning: uncertainties could not be estimated:\n",
      "[[Variables]]\n",
      "    c:     0 (fixed)\n",
      "    A1:    100.124015 (init = 96.418)\n",
      "    A2:    88.6286339 (init = 97.582)\n",
      "    tau1:  2.01620196 (init = 2.43)\n",
      "    tau2:  3.69126049 (init = 3.07)\n"
     ]
    }
   ],
   "source": [
    "EGFP.n_photon = int(1e4)\n",
    "EGFP.multi_exp_data()\n",
    "y_no_bg = EGFP.y2-EGFP.bg*EGFP.run_time/EGFP.n_bins\n",
    "y_with_bg = EGFP.y2\n",
    "tdata,ydata,weights = trim_rescale_data(EGFP.t,y_no_bg,end = 200,rescale = False) #bg removed\n",
    "p1 = initial_params(2,np.max(EGFP.y2)*EGFP.amp,EGFP.tau,rescale = False)\n",
    "p1['c'].set(value = 0, vary = False)\n",
    "mi1 = lmfit.minimize(residual, p1, args=(tdata, ydata),method = 'powell')\n",
    "\n",
    "print(lmfit.fit_report(mi1))\n",
    "\n"
   ]
  },
  {
   "cell_type": "code",
   "execution_count": null,
   "id": "1b51e264",
   "metadata": {},
   "outputs": [],
   "source": []
  },
  {
   "cell_type": "markdown",
   "id": "be5b073c",
   "metadata": {},
   "source": [
    "### mono-exp decay fit to EGFP"
   ]
  },
  {
   "cell_type": "code",
   "execution_count": 124,
   "id": "39a029ad",
   "metadata": {},
   "outputs": [
    {
     "data": {
      "text/html": [
       "<table class=\"jp-toc-ignore\"><caption>Parameters</caption><tr><th style='text-align:left'>name</th><th style='text-align:left'>value</th><th style='text-align:left'>initial value</th><th style='text-align:left'>min</th><th style='text-align:left'>max</th><th style='text-align:right'>vary</th></tr><tr><td style='text-align:left'>c</td><td style='text-align:left'> 0.00000000</td><td style='text-align:left'>0</td><td style='text-align:left'> 0.00000000</td><td style='text-align:left'>        inf</td><td style='text-align:right'>False</td></tr><tr><td style='text-align:left'>A1</td><td style='text-align:left'> 96.4180000</td><td style='text-align:left'>96.418</td><td style='text-align:left'> 0.00000000</td><td style='text-align:left'>        inf</td><td style='text-align:right'>True</td></tr><tr><td style='text-align:left'>A2</td><td style='text-align:left'> 97.5820000</td><td style='text-align:left'>97.582</td><td style='text-align:left'> 0.00000000</td><td style='text-align:left'>        inf</td><td style='text-align:right'>True</td></tr><tr><td style='text-align:left'>tau1</td><td style='text-align:left'> 2.43000000</td><td style='text-align:left'>2.43</td><td style='text-align:left'> 0.00000000</td><td style='text-align:left'>        inf</td><td style='text-align:right'>True</td></tr><tr><td style='text-align:left'>tau2</td><td style='text-align:left'> 3.07000000</td><td style='text-align:left'>3.07</td><td style='text-align:left'> 0.00000000</td><td style='text-align:left'>        inf</td><td style='text-align:right'>True</td></tr></table>"
      ],
      "text/plain": [
       "Parameters([('c', <Parameter 'c', value=0 (fixed), bounds=[0:inf]>), ('A1', <Parameter 'A1', value=96.418, bounds=[0:inf]>), ('A2', <Parameter 'A2', value=97.582, bounds=[0:inf]>), ('tau1', <Parameter 'tau1', value=2.43, bounds=[0:inf]>), ('tau2', <Parameter 'tau2', value=3.07, bounds=[0:inf]>)])"
      ]
     },
     "execution_count": 124,
     "metadata": {},
     "output_type": "execute_result"
    }
   ],
   "source": [
    "p1"
   ]
  },
  {
   "cell_type": "code",
   "execution_count": 125,
   "id": "051b8d9b",
   "metadata": {},
   "outputs": [
    {
     "name": "stdout",
     "output_type": "stream",
     "text": [
      "[[Fit Statistics]]\n",
      "    # fitting method   = Powell\n",
      "    # function evals   = 651\n",
      "    # data points      = 113\n",
      "    # variables        = 7\n",
      "    chi-square         = 81.2025601\n",
      "    reduced chi-square = 0.76606189\n",
      "    Akaike info crit   = -23.3398380\n",
      "    Bayesian info crit = -4.24812324\n",
      "##  Warning: uncertainties could not be estimated:\n",
      "[[Variables]]\n",
      "    c:     2.62612210 (init = 0)\n",
      "    A1:    71.3017289 (init = 99.47)\n",
      "    A2:    101.792406 (init = 103.53)\n",
      "    A3:    27.3155460 (init = 1)\n",
      "    tau1:  2.05897616 (init = 2.43)\n",
      "    tau2:  3.18267957 (init = 3.07)\n",
      "    tau3:  8.0881e-05 (init = 1)\n"
     ]
    }
   ],
   "source": [
    "EGFP.n_photon = int(1e4)\n",
    "EGFP.multi_exp_data()\n",
    "tdata,ydata,weights = trim_rescale_data(EGFP.t,EGFP.y2,end = 100,rescale = False)\n",
    "p1 = initial_params(3,[np.max(EGFP.y2*0.49),np.max(EGFP.y2)*0.51,1],EGFP.tau+[1],rescale = False)\n",
    "#p1['c'].set(value = 0, vary = False)\n",
    "mi1 = lmfit.minimize(residual, p1, args=(tdata, ydata),method = 'powell')\n",
    "\n",
    "print(lmfit.fit_report(mi1))"
   ]
  },
  {
   "cell_type": "code",
   "execution_count": 126,
   "id": "3264e95b",
   "metadata": {},
   "outputs": [
    {
     "data": {
      "text/plain": [
       "75.46105262708585"
      ]
     },
     "execution_count": 126,
     "metadata": {},
     "output_type": "execute_result"
    }
   ],
   "source": [
    "np.sum(residual(mi1.params,tdata,ydata))"
   ]
  },
  {
   "cell_type": "markdown",
   "id": "a2faa19e",
   "metadata": {},
   "source": [
    "## Get 100 simulation at each point (bi-exp decay)\n"
   ]
  },
  {
   "cell_type": "code",
   "execution_count": 144,
   "id": "00de52d2",
   "metadata": {},
   "outputs": [
    {
     "data": {
      "text/html": [
       "<div>\n",
       "<style scoped>\n",
       "    .dataframe tbody tr th:only-of-type {\n",
       "        vertical-align: middle;\n",
       "    }\n",
       "\n",
       "    .dataframe tbody tr th {\n",
       "        vertical-align: top;\n",
       "    }\n",
       "\n",
       "    .dataframe thead th {\n",
       "        text-align: right;\n",
       "    }\n",
       "</style>\n",
       "<table border=\"1\" class=\"dataframe\">\n",
       "  <thead>\n",
       "    <tr style=\"text-align: right;\">\n",
       "      <th></th>\n",
       "      <th>c</th>\n",
       "      <th>A1</th>\n",
       "      <th>A2</th>\n",
       "      <th>tau1</th>\n",
       "      <th>tau2</th>\n",
       "    </tr>\n",
       "  </thead>\n",
       "  <tbody>\n",
       "    <tr>\n",
       "      <th>0</th>\n",
       "      <td>7126.100187</td>\n",
       "      <td>0.490065</td>\n",
       "      <td>0.509935</td>\n",
       "      <td>2.422145</td>\n",
       "      <td>3.071184</td>\n",
       "    </tr>\n",
       "  </tbody>\n",
       "</table>\n",
       "</div>"
      ],
      "text/plain": [
       "             c        A1        A2      tau1      tau2\n",
       "0  7126.100187  0.490065  0.509935  2.422145  3.071184"
      ]
     },
     "execution_count": 144,
     "metadata": {},
     "output_type": "execute_result"
    }
   ],
   "source": [
    "def MLEfit(N,tdata,ydata,method ='powell',end=100,rescale=False):\n",
    "\n",
    "    tdata, ydata, weights = trim_rescale_data(tdata,ydata, end=end, rescale=rescale)\n",
    "    p1 = initial_params(N, [np.max(ydata * 0.49), np.max(ydata) * 0.51], EGFP.tau, rescale=rescale)\n",
    "    mi1 = lmfit.minimize(residual, p1, args=(tdata, ydata), method=method)\n",
    "    par_dict = {k:[v.value] for k,v in mi1.params.items()} #turn params values into dict\n",
    "    A_sum = sum([par_dict[f'A{j}'][0] for j in range(1,N+1)]) #sum all An\n",
    "    for i in range(1,N+1):\n",
    "      par_dict[f'A{i}'][0]=par_dict[f'A{i}'][0]/A_sum\n",
    "\n",
    "    return pd.DataFrame.from_dict(par_dict)\n",
    "MLEfit(2,EGFP.t,EGFP.sim_data[2])"
   ]
  },
  {
   "cell_type": "code",
   "execution_count": 128,
   "id": "65fe2a37",
   "metadata": {},
   "outputs": [],
   "source": [
    "def MLEfit(N,tdata,ydata,method ='powell',end=100,rescale=False):\n",
    "\n",
    "    tdata, ydata, weights = trim_rescale_data(tdata,ydata, end=end, rescale=rescale)\n",
    "    p1 = initial_params(N, [np.max(ydata * 0.49), np.max(ydata) * 0.51], EGFP.tau, rescale=rescale)\n",
    "    mi1 = lmfit.minimize(residual, p1, args=(tdata, ydata), method=method)\n",
    "    par_dict = {k:[v.value] for k,v in mi1.params.items()} #turn params values into dict\n",
    "    A_sum = sum([par_dict[f'A{j}'][0] for j in range(1,N+1)]) #sum all An\n",
    "    for i in range(1,N+1):\n",
    "      par_dict[f'A{i}'][0]=par_dict[f'A{i}'][0]/A_sum\n",
    "\n",
    "    return pd.DataFrame.from_dict(par_dict)\n",
    "\n",
    "def val_df():\n",
    "  '''Create dataframe of fitted parameters'''\n",
    "  df_list = []\n",
    "  for j in range(100):\n",
    "    df_list.append( MLEfit(N,EGFP.t,EGFP.sim_data[j]))\n",
    "    df= pd.concat(df_list).reset_index()\n",
    "  return df.drop(['index'],axis =1)\n",
    "\n",
    "N=2 #components\n",
    "EGFP.y_list = np.zeros((20,100,380))\n",
    "n_photon_arr = np.logspace(4,9,20)\n",
    "df_list = []\n",
    "for i in range(len(n_photon_arr)):\n",
    "  EGFP.n_photon = n_photon_arr[i]\n",
    "  EGFP.repeat_sim(100)\n",
    "  EGFP.y_list[i] = EGFP.sim_data\n",
    "  df =val_df()\n",
    "  df_list.append(df)\n"
   ]
  },
  {
   "cell_type": "code",
   "execution_count": 129,
   "id": "01e1a14b",
   "metadata": {},
   "outputs": [],
   "source": [
    "df = val_df()"
   ]
  },
  {
   "cell_type": "code",
   "execution_count": 130,
   "id": "efac0598",
   "metadata": {},
   "outputs": [],
   "source": [
    "n_val_df =pd.concat(df_list,keys = range(20))"
   ]
  },
  {
   "cell_type": "code",
   "execution_count": 131,
   "id": "531bde36",
   "metadata": {},
   "outputs": [
    {
     "data": {
      "image/png": "[encoded data removed]",
      "text/plain": [
       "<Figure size 1080x360 with 3 Axes>"
      ]
     },
     "metadata": {
      "needs_background": "light"
     },
     "output_type": "display_data"
    }
   ],
   "source": [
    "# Setup for loop parameters\n",
    "indices = [0, 10, 19]  # Indices for low, middle, high photon number\n",
    "titles = ['Photon number=10000', 'Photon number=4281334', 'Photon number=1000000000']\n",
    "colors = ['skyblue', 'skyblue', 'skyblue']  # Using the same color, but allows customization\n",
    "bins = 10  # Assuming you want the same number of bins for each histogram\n",
    "\n",
    "# Set up the subplots\n",
    "fig, axs = plt.subplots(1, 3, figsize=(15, 5))  # 1 row, 3 columns\n",
    "\n",
    "for i, (index, title) in enumerate(zip(indices, titles)):\n",
    "    axs[i].hist(n_val_df.loc[index, 'A1'], bins=bins, color=colors[i])\n",
    "    axs[i].set_xlabel('Amplitude')\n",
    "    axs[i].set_ylabel('Frequency')\n",
    "    axs[i].set_title(title)\n",
    "    axs[i].legend(['A1'])\n",
    "\n",
    "# Add a main title for the plots\n",
    "fig.suptitle('Distribution of 100 simulations of A1 at different photon numbers', fontsize=16)\n",
    "\n",
    "# Adjust layout to prevent overlapping\n",
    "plt.subplots_adjust(top=0.85)\n",
    "\n",
    "plt.tight_layout()\n",
    "plt.show()\n"
   ]
  },
  {
   "cell_type": "code",
   "execution_count": 132,
   "id": "942c3eae",
   "metadata": {},
   "outputs": [],
   "source": [
    "mean_df = n_val_df.groupby(level=0).mean()\n",
    "std_df = n_val_df.groupby(level=0).std()"
   ]
  },
  {
   "cell_type": "code",
   "execution_count": 133,
   "id": "9de769da",
   "metadata": {},
   "outputs": [
    {
     "data": {
      "text/html": [
       "<div>\n",
       "<style scoped>\n",
       "    .dataframe tbody tr th:only-of-type {\n",
       "        vertical-align: middle;\n",
       "    }\n",
       "\n",
       "    .dataframe tbody tr th {\n",
       "        vertical-align: top;\n",
       "    }\n",
       "\n",
       "    .dataframe thead th {\n",
       "        text-align: right;\n",
       "    }\n",
       "</style>\n",
       "<table border=\"1\" class=\"dataframe\">\n",
       "  <thead>\n",
       "    <tr style=\"text-align: right;\">\n",
       "      <th></th>\n",
       "      <th>c</th>\n",
       "      <th>A1</th>\n",
       "      <th>A2</th>\n",
       "      <th>tau1</th>\n",
       "      <th>tau2</th>\n",
       "    </tr>\n",
       "  </thead>\n",
       "  <tbody>\n",
       "    <tr>\n",
       "      <th>0</th>\n",
       "      <td>3.641905</td>\n",
       "      <td>0.443062</td>\n",
       "      <td>0.556938</td>\n",
       "      <td>2.216590</td>\n",
       "      <td>2.945727</td>\n",
       "    </tr>\n",
       "    <tr>\n",
       "      <th>1</th>\n",
       "      <td>3.915720</td>\n",
       "      <td>0.461171</td>\n",
       "      <td>0.538829</td>\n",
       "      <td>2.276544</td>\n",
       "      <td>3.016053</td>\n",
       "    </tr>\n",
       "    <tr>\n",
       "      <th>2</th>\n",
       "      <td>4.921230</td>\n",
       "      <td>0.472944</td>\n",
       "      <td>0.527056</td>\n",
       "      <td>2.349057</td>\n",
       "      <td>3.016474</td>\n",
       "    </tr>\n",
       "    <tr>\n",
       "      <th>3</th>\n",
       "      <td>5.013423</td>\n",
       "      <td>0.476350</td>\n",
       "      <td>0.523650</td>\n",
       "      <td>2.386580</td>\n",
       "      <td>3.035590</td>\n",
       "    </tr>\n",
       "    <tr>\n",
       "      <th>4</th>\n",
       "      <td>6.675422</td>\n",
       "      <td>0.483971</td>\n",
       "      <td>0.516029</td>\n",
       "      <td>2.421343</td>\n",
       "      <td>3.033608</td>\n",
       "    </tr>\n",
       "    <tr>\n",
       "      <th>5</th>\n",
       "      <td>9.109749</td>\n",
       "      <td>0.486158</td>\n",
       "      <td>0.513842</td>\n",
       "      <td>2.419881</td>\n",
       "      <td>3.041040</td>\n",
       "    </tr>\n",
       "    <tr>\n",
       "      <th>6</th>\n",
       "      <td>11.966228</td>\n",
       "      <td>0.487054</td>\n",
       "      <td>0.512946</td>\n",
       "      <td>2.431600</td>\n",
       "      <td>3.041213</td>\n",
       "    </tr>\n",
       "    <tr>\n",
       "      <th>7</th>\n",
       "      <td>21.796761</td>\n",
       "      <td>0.487990</td>\n",
       "      <td>0.512010</td>\n",
       "      <td>2.425616</td>\n",
       "      <td>3.049218</td>\n",
       "    </tr>\n",
       "    <tr>\n",
       "      <th>8</th>\n",
       "      <td>26.398535</td>\n",
       "      <td>0.487875</td>\n",
       "      <td>0.512125</td>\n",
       "      <td>2.435953</td>\n",
       "      <td>3.045959</td>\n",
       "    </tr>\n",
       "    <tr>\n",
       "      <th>9</th>\n",
       "      <td>35.141721</td>\n",
       "      <td>0.489592</td>\n",
       "      <td>0.510408</td>\n",
       "      <td>2.422731</td>\n",
       "      <td>3.063324</td>\n",
       "    </tr>\n",
       "    <tr>\n",
       "      <th>10</th>\n",
       "      <td>54.179596</td>\n",
       "      <td>0.490017</td>\n",
       "      <td>0.509983</td>\n",
       "      <td>2.419763</td>\n",
       "      <td>3.069153</td>\n",
       "    </tr>\n",
       "    <tr>\n",
       "      <th>11</th>\n",
       "      <td>79.522238</td>\n",
       "      <td>0.489636</td>\n",
       "      <td>0.510364</td>\n",
       "      <td>2.425868</td>\n",
       "      <td>3.065445</td>\n",
       "    </tr>\n",
       "    <tr>\n",
       "      <th>12</th>\n",
       "      <td>160.355899</td>\n",
       "      <td>0.489573</td>\n",
       "      <td>0.510427</td>\n",
       "      <td>2.426233</td>\n",
       "      <td>3.064051</td>\n",
       "    </tr>\n",
       "    <tr>\n",
       "      <th>13</th>\n",
       "      <td>241.846140</td>\n",
       "      <td>0.489959</td>\n",
       "      <td>0.510041</td>\n",
       "      <td>2.423804</td>\n",
       "      <td>3.068281</td>\n",
       "    </tr>\n",
       "    <tr>\n",
       "      <th>14</th>\n",
       "      <td>424.871153</td>\n",
       "      <td>0.490062</td>\n",
       "      <td>0.509938</td>\n",
       "      <td>2.423537</td>\n",
       "      <td>3.068993</td>\n",
       "    </tr>\n",
       "    <tr>\n",
       "      <th>15</th>\n",
       "      <td>800.752872</td>\n",
       "      <td>0.489990</td>\n",
       "      <td>0.510010</td>\n",
       "      <td>2.423692</td>\n",
       "      <td>3.068638</td>\n",
       "    </tr>\n",
       "    <tr>\n",
       "      <th>16</th>\n",
       "      <td>1493.693690</td>\n",
       "      <td>0.490007</td>\n",
       "      <td>0.509993</td>\n",
       "      <td>2.423099</td>\n",
       "      <td>3.068919</td>\n",
       "    </tr>\n",
       "    <tr>\n",
       "      <th>17</th>\n",
       "      <td>2693.134412</td>\n",
       "      <td>0.490038</td>\n",
       "      <td>0.509962</td>\n",
       "      <td>2.423609</td>\n",
       "      <td>3.068531</td>\n",
       "    </tr>\n",
       "    <tr>\n",
       "      <th>18</th>\n",
       "      <td>5138.607101</td>\n",
       "      <td>0.490007</td>\n",
       "      <td>0.509993</td>\n",
       "      <td>2.423896</td>\n",
       "      <td>3.068066</td>\n",
       "    </tr>\n",
       "    <tr>\n",
       "      <th>19</th>\n",
       "      <td>9178.023855</td>\n",
       "      <td>0.489991</td>\n",
       "      <td>0.510009</td>\n",
       "      <td>2.423893</td>\n",
       "      <td>3.068199</td>\n",
       "    </tr>\n",
       "  </tbody>\n",
       "</table>\n",
       "</div>"
      ],
      "text/plain": [
       "              c        A1        A2      tau1      tau2\n",
       "0      3.641905  0.443062  0.556938  2.216590  2.945727\n",
       "1      3.915720  0.461171  0.538829  2.276544  3.016053\n",
       "2      4.921230  0.472944  0.527056  2.349057  3.016474\n",
       "3      5.013423  0.476350  0.523650  2.386580  3.035590\n",
       "4      6.675422  0.483971  0.516029  2.421343  3.033608\n",
       "5      9.109749  0.486158  0.513842  2.419881  3.041040\n",
       "6     11.966228  0.487054  0.512946  2.431600  3.041213\n",
       "7     21.796761  0.487990  0.512010  2.425616  3.049218\n",
       "8     26.398535  0.487875  0.512125  2.435953  3.045959\n",
       "9     35.141721  0.489592  0.510408  2.422731  3.063324\n",
       "10    54.179596  0.490017  0.509983  2.419763  3.069153\n",
       "11    79.522238  0.489636  0.510364  2.425868  3.065445\n",
       "12   160.355899  0.489573  0.510427  2.426233  3.064051\n",
       "13   241.846140  0.489959  0.510041  2.423804  3.068281\n",
       "14   424.871153  0.490062  0.509938  2.423537  3.068993\n",
       "15   800.752872  0.489990  0.510010  2.423692  3.068638\n",
       "16  1493.693690  0.490007  0.509993  2.423099  3.068919\n",
       "17  2693.134412  0.490038  0.509962  2.423609  3.068531\n",
       "18  5138.607101  0.490007  0.509993  2.423896  3.068066\n",
       "19  9178.023855  0.489991  0.510009  2.423893  3.068199"
      ]
     },
     "execution_count": 133,
     "metadata": {},
     "output_type": "execute_result"
    }
   ],
   "source": [
    "mean_df"
   ]
  },
  {
   "cell_type": "code",
   "execution_count": 134,
   "id": "f53a92f9",
   "metadata": {},
   "outputs": [
    {
     "data": {
      "text/html": [
       "<div>\n",
       "<style scoped>\n",
       "    .dataframe tbody tr th:only-of-type {\n",
       "        vertical-align: middle;\n",
       "    }\n",
       "\n",
       "    .dataframe tbody tr th {\n",
       "        vertical-align: top;\n",
       "    }\n",
       "\n",
       "    .dataframe thead th {\n",
       "        text-align: right;\n",
       "    }\n",
       "</style>\n",
       "<table border=\"1\" class=\"dataframe\">\n",
       "  <thead>\n",
       "    <tr style=\"text-align: right;\">\n",
       "      <th></th>\n",
       "      <th>c</th>\n",
       "      <th>A1</th>\n",
       "      <th>A2</th>\n",
       "      <th>tau1</th>\n",
       "      <th>tau2</th>\n",
       "    </tr>\n",
       "  </thead>\n",
       "  <tbody>\n",
       "    <tr>\n",
       "      <th>0</th>\n",
       "      <td>2.502655</td>\n",
       "      <td>0.032864</td>\n",
       "      <td>0.032864</td>\n",
       "      <td>0.255493</td>\n",
       "      <td>0.132079</td>\n",
       "    </tr>\n",
       "    <tr>\n",
       "      <th>1</th>\n",
       "      <td>3.458502</td>\n",
       "      <td>0.021024</td>\n",
       "      <td>0.021024</td>\n",
       "      <td>0.176653</td>\n",
       "      <td>0.091799</td>\n",
       "    </tr>\n",
       "    <tr>\n",
       "      <th>2</th>\n",
       "      <td>4.557508</td>\n",
       "      <td>0.017388</td>\n",
       "      <td>0.017388</td>\n",
       "      <td>0.109603</td>\n",
       "      <td>0.076994</td>\n",
       "    </tr>\n",
       "    <tr>\n",
       "      <th>3</th>\n",
       "      <td>5.400703</td>\n",
       "      <td>0.013147</td>\n",
       "      <td>0.013147</td>\n",
       "      <td>0.132359</td>\n",
       "      <td>0.076419</td>\n",
       "    </tr>\n",
       "    <tr>\n",
       "      <th>4</th>\n",
       "      <td>6.475979</td>\n",
       "      <td>0.010426</td>\n",
       "      <td>0.010426</td>\n",
       "      <td>0.103684</td>\n",
       "      <td>0.082494</td>\n",
       "    </tr>\n",
       "    <tr>\n",
       "      <th>5</th>\n",
       "      <td>9.231790</td>\n",
       "      <td>0.008932</td>\n",
       "      <td>0.008932</td>\n",
       "      <td>0.080742</td>\n",
       "      <td>0.072381</td>\n",
       "    </tr>\n",
       "    <tr>\n",
       "      <th>6</th>\n",
       "      <td>13.769405</td>\n",
       "      <td>0.007479</td>\n",
       "      <td>0.007479</td>\n",
       "      <td>0.080775</td>\n",
       "      <td>0.078008</td>\n",
       "    </tr>\n",
       "    <tr>\n",
       "      <th>7</th>\n",
       "      <td>21.451255</td>\n",
       "      <td>0.006287</td>\n",
       "      <td>0.006287</td>\n",
       "      <td>0.061379</td>\n",
       "      <td>0.058835</td>\n",
       "    </tr>\n",
       "    <tr>\n",
       "      <th>8</th>\n",
       "      <td>25.461123</td>\n",
       "      <td>0.005932</td>\n",
       "      <td>0.005932</td>\n",
       "      <td>0.057422</td>\n",
       "      <td>0.055833</td>\n",
       "    </tr>\n",
       "    <tr>\n",
       "      <th>9</th>\n",
       "      <td>32.808203</td>\n",
       "      <td>0.002651</td>\n",
       "      <td>0.002651</td>\n",
       "      <td>0.027804</td>\n",
       "      <td>0.024287</td>\n",
       "    </tr>\n",
       "    <tr>\n",
       "      <th>10</th>\n",
       "      <td>47.610612</td>\n",
       "      <td>0.001448</td>\n",
       "      <td>0.001448</td>\n",
       "      <td>0.011916</td>\n",
       "      <td>0.009698</td>\n",
       "    </tr>\n",
       "    <tr>\n",
       "      <th>11</th>\n",
       "      <td>84.193514</td>\n",
       "      <td>0.003105</td>\n",
       "      <td>0.003105</td>\n",
       "      <td>0.031067</td>\n",
       "      <td>0.034478</td>\n",
       "    </tr>\n",
       "    <tr>\n",
       "      <th>12</th>\n",
       "      <td>139.122047</td>\n",
       "      <td>0.002283</td>\n",
       "      <td>0.002283</td>\n",
       "      <td>0.022689</td>\n",
       "      <td>0.027862</td>\n",
       "    </tr>\n",
       "    <tr>\n",
       "      <th>13</th>\n",
       "      <td>163.799435</td>\n",
       "      <td>0.000683</td>\n",
       "      <td>0.000683</td>\n",
       "      <td>0.006296</td>\n",
       "      <td>0.004784</td>\n",
       "    </tr>\n",
       "    <tr>\n",
       "      <th>14</th>\n",
       "      <td>207.201557</td>\n",
       "      <td>0.000478</td>\n",
       "      <td>0.000478</td>\n",
       "      <td>0.004555</td>\n",
       "      <td>0.003725</td>\n",
       "    </tr>\n",
       "    <tr>\n",
       "      <th>15</th>\n",
       "      <td>334.834720</td>\n",
       "      <td>0.000439</td>\n",
       "      <td>0.000439</td>\n",
       "      <td>0.003881</td>\n",
       "      <td>0.003757</td>\n",
       "    </tr>\n",
       "    <tr>\n",
       "      <th>16</th>\n",
       "      <td>417.064735</td>\n",
       "      <td>0.000338</td>\n",
       "      <td>0.000338</td>\n",
       "      <td>0.003340</td>\n",
       "      <td>0.003577</td>\n",
       "    </tr>\n",
       "    <tr>\n",
       "      <th>17</th>\n",
       "      <td>655.915230</td>\n",
       "      <td>0.000265</td>\n",
       "      <td>0.000265</td>\n",
       "      <td>0.002906</td>\n",
       "      <td>0.003437</td>\n",
       "    </tr>\n",
       "    <tr>\n",
       "      <th>18</th>\n",
       "      <td>1187.343337</td>\n",
       "      <td>0.000221</td>\n",
       "      <td>0.000221</td>\n",
       "      <td>0.002700</td>\n",
       "      <td>0.003681</td>\n",
       "    </tr>\n",
       "    <tr>\n",
       "      <th>19</th>\n",
       "      <td>1848.048342</td>\n",
       "      <td>0.000228</td>\n",
       "      <td>0.000228</td>\n",
       "      <td>0.002896</td>\n",
       "      <td>0.003787</td>\n",
       "    </tr>\n",
       "  </tbody>\n",
       "</table>\n",
       "</div>"
      ],
      "text/plain": [
       "              c        A1        A2      tau1      tau2\n",
       "0      2.502655  0.032864  0.032864  0.255493  0.132079\n",
       "1      3.458502  0.021024  0.021024  0.176653  0.091799\n",
       "2      4.557508  0.017388  0.017388  0.109603  0.076994\n",
       "3      5.400703  0.013147  0.013147  0.132359  0.076419\n",
       "4      6.475979  0.010426  0.010426  0.103684  0.082494\n",
       "5      9.231790  0.008932  0.008932  0.080742  0.072381\n",
       "6     13.769405  0.007479  0.007479  0.080775  0.078008\n",
       "7     21.451255  0.006287  0.006287  0.061379  0.058835\n",
       "8     25.461123  0.005932  0.005932  0.057422  0.055833\n",
       "9     32.808203  0.002651  0.002651  0.027804  0.024287\n",
       "10    47.610612  0.001448  0.001448  0.011916  0.009698\n",
       "11    84.193514  0.003105  0.003105  0.031067  0.034478\n",
       "12   139.122047  0.002283  0.002283  0.022689  0.027862\n",
       "13   163.799435  0.000683  0.000683  0.006296  0.004784\n",
       "14   207.201557  0.000478  0.000478  0.004555  0.003725\n",
       "15   334.834720  0.000439  0.000439  0.003881  0.003757\n",
       "16   417.064735  0.000338  0.000338  0.003340  0.003577\n",
       "17   655.915230  0.000265  0.000265  0.002906  0.003437\n",
       "18  1187.343337  0.000221  0.000221  0.002700  0.003681\n",
       "19  1848.048342  0.000228  0.000228  0.002896  0.003787"
      ]
     },
     "execution_count": 134,
     "metadata": {},
     "output_type": "execute_result"
    }
   ],
   "source": [
    "std_df"
   ]
  },
  {
   "cell_type": "code",
   "execution_count": 135,
   "id": "37d57a09",
   "metadata": {},
   "outputs": [
    {
     "data": {
      "image/png": "[encoded data removed]",
      "text/plain": [
       "<Figure size 1080x360 with 3 Axes>"
      ]
     },
     "metadata": {
      "needs_background": "light"
     },
     "output_type": "display_data"
    }
   ],
   "source": [
    "# Set up the subplots\n",
    "fig, axs = plt.subplots(1, 3, figsize=(15, 5))  # 1 row, 3 columns\n",
    "true = [0.497,2.43,3.07]\n",
    "# A1 plot\n",
    "for i in range(3):\n",
    "    col = ['A1','tau1','tau2'][i] #column name\n",
    "    axs[i].errorbar(n_photon_arr, mean_df[col], yerr=std_df[col], fmt='x', ecolor='orange', capthick=2,\n",
    "                    capsize=5, color='orange', label='mean')\n",
    "    axs[i].axhline(y=true[i], color='k', linestyle='-', label='True value')\n",
    "    axs[i].set_xscale('log')\n",
    "    axs[i].set_xlabel('Number of photons')\n",
    "    axs[i].set_ylabel(col)\n",
    "    axs[i].set_title(col)\n",
    "    axs[i].legend()\n",
    "\n",
    "# Adjust layout to prevent overlapping\n",
    "plt.tight_layout()\n",
    "\n",
    "# Show the plot\n",
    "plt.show()\n"
   ]
  },
  {
   "cell_type": "code",
   "execution_count": 136,
   "id": "47ff39ad",
   "metadata": {},
   "outputs": [],
   "source": [
    "par_dict = {k:v.value for k,v in mi1.params.items()}\n",
    "A_sum = sum([par_dict[f'A{j}'] for j in range(1,N+1)])\n",
    "for i in range(1,N+1):\n",
    "  par_dict[f'A{i}']=par_dict[f'A{i}']/A_sum"
   ]
  },
  {
   "cell_type": "code",
   "execution_count": 141,
   "id": "e95c0d2c",
   "metadata": {},
   "outputs": [
    {
     "data": {
      "text/plain": [
       "{'c': 2.6261220976405935,\n",
       " 'A1': 0.4119245809129398,\n",
       " 'A2': 0.5880754190870602,\n",
       " 'A3': 27.31554596339662,\n",
       " 'tau1': 2.0589761595478713,\n",
       " 'tau2': 3.1826795650414406,\n",
       " 'tau3': 8.088133811301468e-05}"
      ]
     },
     "execution_count": 141,
     "metadata": {},
     "output_type": "execute_result"
    }
   ],
   "source": [
    "par_dict"
   ]
  },
  {
   "cell_type": "code",
   "execution_count": 153,
   "id": "72972bdb",
   "metadata": {},
   "outputs": [
    {
     "data": {
      "image/png": "[encoded data removed]",
      "text/plain": [
       "<Figure size 720x432 with 1 Axes>"
      ]
     },
     "metadata": {
      "needs_background": "light"
     },
     "output_type": "display_data"
    }
   ],
   "source": [
    "# Reset failure_counts to ensure clean start\n",
    "failure_counts = []\n",
    "\n",
    "# Assuming n_photon_arr is defined and correctly populated\n",
    "for n_photon in n_photon_arr:\n",
    "    failures = 0\n",
    "    for j in range(100):  # For each simulation\n",
    "        EGFP.n_photon = n_photon\n",
    "        EGFP.repeat_sim(100)\n",
    "        # Assuming the simulation data EGFP.sim_data[j] is correctly populated\n",
    "        # and MLEfit function works as expected\n",
    "        fit_results_df = MLEfit(2, EGFP.t, EGFP.sim_data[j], method='powell', end=100, rescale=False)\n",
    "        \n",
    "        # Extract fitted values\n",
    "        A1 = fit_results_df['A1'].iloc[0]\n",
    "        A2 = fit_results_df['A2'].iloc[0]\n",
    "        tau1 = fit_results_df['tau1'].iloc[0]\n",
    "        tau2 = fit_results_df['tau2'].iloc[0]\n",
    "\n",
    "        # Failure condition\n",
    "        if np.isclose(tau1, tau2, atol=0.2) or A1 > 0.8 or A2 > 0.8:\n",
    "            failures += 1\n",
    "    \n",
    "    failure_counts.append(failures)\n",
    "\n",
    "# Plotting the number of failures vs. n_photon\n",
    "plt.figure(figsize=(10, 6))\n",
    "plt.plot(n_photon_arr, failure_counts, marker='o', linestyle='-', color='blue')\n",
    "plt.xscale('log')\n",
    "plt.xlabel('Number of Photons')\n",
    "plt.ylabel('Number of Failures')\n",
    "plt.title('Failures in Distinguishing Components vs. Photon Number')\n",
    "plt.grid(True)\n",
    "plt.show()\n"
   ]
  },
  {
   "cell_type": "code",
   "execution_count": 157,
   "id": "d307e39b",
   "metadata": {},
   "outputs": [
    {
     "ename": "ValueError",
     "evalue": "NaN values detected in your input data or the output of your objective/model function - fitting algorithms cannot handle this! Please read https://lmfit.github.io/lmfit-py/faq.html#i-get-errors-from-nan-in-my-fit-what-can-i-do for more information.",
     "output_type": "error",
     "traceback": [
      "\u001b[0;31m---------------------------------------------------------------------------\u001b[0m",
      "\u001b[0;31mValueError\u001b[0m                                Traceback (most recent call last)",
      "\u001b[0;32m<ipython-input-157-ca0e6d62ff20>\u001b[0m in \u001b[0;36m<module>\u001b[0;34m\u001b[0m\n\u001b[1;32m      9\u001b[0m \u001b[0;34m\u001b[0m\u001b[0m\n\u001b[1;32m     10\u001b[0m         \u001b[0;31m# Perform the chi-squared fit using the predefined method\u001b[0m\u001b[0;34m\u001b[0m\u001b[0;34m\u001b[0m\u001b[0;34m\u001b[0m\u001b[0m\n\u001b[0;32m---> 11\u001b[0;31m         \u001b[0mEGFP\u001b[0m\u001b[0;34m.\u001b[0m\u001b[0mfit\u001b[0m\u001b[0;34m(\u001b[0m\u001b[0mexp2\u001b[0m\u001b[0;34m,\u001b[0m \u001b[0mmethod\u001b[0m\u001b[0;34m=\u001b[0m\u001b[0;34m'leastsq'\u001b[0m\u001b[0;34m)\u001b[0m\u001b[0;34m\u001b[0m\u001b[0;34m\u001b[0m\u001b[0m\n\u001b[0m\u001b[1;32m     12\u001b[0m \u001b[0;34m\u001b[0m\u001b[0m\n\u001b[1;32m     13\u001b[0m         \u001b[0;31m# Extract fitted values directly from EGFP.par\u001b[0m\u001b[0;34m\u001b[0m\u001b[0;34m\u001b[0m\u001b[0;34m\u001b[0m\u001b[0m\n",
      "\u001b[0;32m~/0052 Group project/TCSPC.py\u001b[0m in \u001b[0;36mfit\u001b[0;34m(self, func, y, plot, guess, end, bg, run_time, ax, weights, method)\u001b[0m\n\u001b[1;32m    424\u001b[0m         \u001b[0mbg\u001b[0m \u001b[0;34m=\u001b[0m \u001b[0mbg\u001b[0m \u001b[0;32mor\u001b[0m \u001b[0mself\u001b[0m\u001b[0;34m.\u001b[0m\u001b[0mbg\u001b[0m\u001b[0;34m\u001b[0m\u001b[0;34m\u001b[0m\u001b[0m\n\u001b[1;32m    425\u001b[0m         \u001b[0mrun_time\u001b[0m \u001b[0;34m=\u001b[0m \u001b[0mrun_time\u001b[0m \u001b[0;32mor\u001b[0m \u001b[0mself\u001b[0m\u001b[0;34m.\u001b[0m\u001b[0mrun_time\u001b[0m\u001b[0;34m\u001b[0m\u001b[0;34m\u001b[0m\u001b[0m\n\u001b[0;32m--> 426\u001b[0;31m         self.fit_result, self.par, self.chi2_red,self.fit_report = exp_fit(\n\u001b[0m\u001b[1;32m    427\u001b[0m             func,self.t,y,guess = guess,end = end, bg = bg, run_time = run_time ,weights=weights,method=method)\n\u001b[1;32m    428\u001b[0m         \u001b[0;32mif\u001b[0m \u001b[0mplot\u001b[0m \u001b[0;34m==\u001b[0m \u001b[0;32mTrue\u001b[0m\u001b[0;34m:\u001b[0m\u001b[0;34m\u001b[0m\u001b[0;34m\u001b[0m\u001b[0m\n",
      "\u001b[0;32m~/0052 Group project/TCSPC.py\u001b[0m in \u001b[0;36mexp_fit\u001b[0;34m(func, tdata, ydata, guess, end, bg, run_time, weights, method)\u001b[0m\n\u001b[1;32m     69\u001b[0m     \u001b[0mweights\u001b[0m \u001b[0;34m=\u001b[0m \u001b[0;36m1\u001b[0m\u001b[0;34m/\u001b[0m\u001b[0myerr\u001b[0m \u001b[0;31m#weighted by 1/yerr, yerr is error after scaling ydata\u001b[0m\u001b[0;34m\u001b[0m\u001b[0;34m\u001b[0m\u001b[0m\n\u001b[1;32m     70\u001b[0m \u001b[0;34m\u001b[0m\u001b[0m\n\u001b[0;32m---> 71\u001b[0;31m     \u001b[0mresult\u001b[0m \u001b[0;34m=\u001b[0m \u001b[0mmodel\u001b[0m\u001b[0;34m.\u001b[0m\u001b[0mfit\u001b[0m\u001b[0;34m(\u001b[0m\u001b[0mydata\u001b[0m\u001b[0;34m,\u001b[0m \u001b[0mparams\u001b[0m\u001b[0;34m,\u001b[0m \u001b[0mt\u001b[0m\u001b[0;34m=\u001b[0m\u001b[0mtdata\u001b[0m\u001b[0;34m,\u001b[0m\u001b[0mweights\u001b[0m \u001b[0;34m=\u001b[0m \u001b[0mweights\u001b[0m\u001b[0;34m,\u001b[0m\u001b[0mmethod\u001b[0m \u001b[0;34m=\u001b[0m \u001b[0mmethod\u001b[0m\u001b[0;34m)\u001b[0m \u001b[0;31m#perform least squares fit\u001b[0m\u001b[0;34m\u001b[0m\u001b[0;34m\u001b[0m\u001b[0m\n\u001b[0m\u001b[1;32m     72\u001b[0m     \u001b[0mparams_opt\u001b[0m \u001b[0;34m=\u001b[0m \u001b[0mresult\u001b[0m\u001b[0;34m.\u001b[0m\u001b[0mparams\u001b[0m \u001b[0;31m#optimized params\u001b[0m\u001b[0;34m\u001b[0m\u001b[0;34m\u001b[0m\u001b[0m\n\u001b[1;32m     73\u001b[0m     \u001b[0mchi2\u001b[0m\u001b[0;34m=\u001b[0m \u001b[0mresult\u001b[0m\u001b[0;34m.\u001b[0m\u001b[0mchisqr\u001b[0m \u001b[0;31m#chi squared\u001b[0m\u001b[0;34m\u001b[0m\u001b[0;34m\u001b[0m\u001b[0m\n",
      "\u001b[0;32m/opt/anaconda3/lib/python3.8/site-packages/lmfit/model.py\u001b[0m in \u001b[0;36mfit\u001b[0;34m(self, data, params, weights, method, iter_cb, scale_covar, verbose, fit_kws, nan_policy, calc_covar, max_nfev, coerce_farray, **kwargs)\u001b[0m\n\u001b[1;32m   1101\u001b[0m                              \u001b[0mnan_policy\u001b[0m\u001b[0;34m=\u001b[0m\u001b[0mself\u001b[0m\u001b[0;34m.\u001b[0m\u001b[0mnan_policy\u001b[0m\u001b[0;34m,\u001b[0m \u001b[0mcalc_covar\u001b[0m\u001b[0;34m=\u001b[0m\u001b[0mcalc_covar\u001b[0m\u001b[0;34m,\u001b[0m\u001b[0;34m\u001b[0m\u001b[0;34m\u001b[0m\u001b[0m\n\u001b[1;32m   1102\u001b[0m                              max_nfev=max_nfev, **fit_kws)\n\u001b[0;32m-> 1103\u001b[0;31m         \u001b[0moutput\u001b[0m\u001b[0;34m.\u001b[0m\u001b[0mfit\u001b[0m\u001b[0;34m(\u001b[0m\u001b[0mdata\u001b[0m\u001b[0;34m=\u001b[0m\u001b[0mdata\u001b[0m\u001b[0;34m,\u001b[0m \u001b[0mweights\u001b[0m\u001b[0;34m=\u001b[0m\u001b[0mweights\u001b[0m\u001b[0;34m)\u001b[0m\u001b[0;34m\u001b[0m\u001b[0;34m\u001b[0m\u001b[0m\n\u001b[0m\u001b[1;32m   1104\u001b[0m         \u001b[0moutput\u001b[0m\u001b[0;34m.\u001b[0m\u001b[0mcomponents\u001b[0m \u001b[0;34m=\u001b[0m \u001b[0mself\u001b[0m\u001b[0;34m.\u001b[0m\u001b[0mcomponents\u001b[0m\u001b[0;34m\u001b[0m\u001b[0;34m\u001b[0m\u001b[0m\n\u001b[1;32m   1105\u001b[0m         \u001b[0;32mreturn\u001b[0m \u001b[0moutput\u001b[0m\u001b[0;34m\u001b[0m\u001b[0;34m\u001b[0m\u001b[0m\n",
      "\u001b[0;32m/opt/anaconda3/lib/python3.8/site-packages/lmfit/model.py\u001b[0m in \u001b[0;36mfit\u001b[0;34m(self, data, params, weights, method, nan_policy, **kwargs)\u001b[0m\n\u001b[1;32m   1465\u001b[0m         \u001b[0mself\u001b[0m\u001b[0;34m.\u001b[0m\u001b[0muserkws\u001b[0m\u001b[0;34m.\u001b[0m\u001b[0mupdate\u001b[0m\u001b[0;34m(\u001b[0m\u001b[0mkwargs\u001b[0m\u001b[0;34m)\u001b[0m\u001b[0;34m\u001b[0m\u001b[0;34m\u001b[0m\u001b[0m\n\u001b[1;32m   1466\u001b[0m         \u001b[0mself\u001b[0m\u001b[0;34m.\u001b[0m\u001b[0minit_fit\u001b[0m \u001b[0;34m=\u001b[0m \u001b[0mself\u001b[0m\u001b[0;34m.\u001b[0m\u001b[0mmodel\u001b[0m\u001b[0;34m.\u001b[0m\u001b[0meval\u001b[0m\u001b[0;34m(\u001b[0m\u001b[0mparams\u001b[0m\u001b[0;34m=\u001b[0m\u001b[0mself\u001b[0m\u001b[0;34m.\u001b[0m\u001b[0mparams\u001b[0m\u001b[0;34m,\u001b[0m \u001b[0;34m**\u001b[0m\u001b[0mself\u001b[0m\u001b[0;34m.\u001b[0m\u001b[0muserkws\u001b[0m\u001b[0;34m)\u001b[0m\u001b[0;34m\u001b[0m\u001b[0;34m\u001b[0m\u001b[0m\n\u001b[0;32m-> 1467\u001b[0;31m         \u001b[0m_ret\u001b[0m \u001b[0;34m=\u001b[0m \u001b[0mself\u001b[0m\u001b[0;34m.\u001b[0m\u001b[0mminimize\u001b[0m\u001b[0;34m(\u001b[0m\u001b[0mmethod\u001b[0m\u001b[0;34m=\u001b[0m\u001b[0mself\u001b[0m\u001b[0;34m.\u001b[0m\u001b[0mmethod\u001b[0m\u001b[0;34m)\u001b[0m\u001b[0;34m\u001b[0m\u001b[0;34m\u001b[0m\u001b[0m\n\u001b[0m\u001b[1;32m   1468\u001b[0m         \u001b[0mself\u001b[0m\u001b[0;34m.\u001b[0m\u001b[0mmodel\u001b[0m\u001b[0;34m.\u001b[0m\u001b[0mpost_fit\u001b[0m\u001b[0;34m(\u001b[0m\u001b[0m_ret\u001b[0m\u001b[0;34m)\u001b[0m\u001b[0;34m\u001b[0m\u001b[0;34m\u001b[0m\u001b[0m\n\u001b[1;32m   1469\u001b[0m         \u001b[0m_ret\u001b[0m\u001b[0;34m.\u001b[0m\u001b[0mparams\u001b[0m\u001b[0;34m.\u001b[0m\u001b[0mcreate_uvars\u001b[0m\u001b[0;34m(\u001b[0m\u001b[0mcovar\u001b[0m\u001b[0;34m=\u001b[0m\u001b[0m_ret\u001b[0m\u001b[0;34m.\u001b[0m\u001b[0mcovar\u001b[0m\u001b[0;34m)\u001b[0m\u001b[0;34m\u001b[0m\u001b[0;34m\u001b[0m\u001b[0m\n",
      "\u001b[0;32m/opt/anaconda3/lib/python3.8/site-packages/lmfit/minimizer.py\u001b[0m in \u001b[0;36mminimize\u001b[0;34m(self, method, params, **kws)\u001b[0m\n\u001b[1;32m   2343\u001b[0m                         val.lower().startswith(user_method)):\n\u001b[1;32m   2344\u001b[0m                     \u001b[0mkwargs\u001b[0m\u001b[0;34m[\u001b[0m\u001b[0;34m'method'\u001b[0m\u001b[0;34m]\u001b[0m \u001b[0;34m=\u001b[0m \u001b[0mval\u001b[0m\u001b[0;34m\u001b[0m\u001b[0;34m\u001b[0m\u001b[0m\n\u001b[0;32m-> 2345\u001b[0;31m         \u001b[0;32mreturn\u001b[0m \u001b[0mfunction\u001b[0m\u001b[0;34m(\u001b[0m\u001b[0;34m**\u001b[0m\u001b[0mkwargs\u001b[0m\u001b[0;34m)\u001b[0m\u001b[0;34m\u001b[0m\u001b[0;34m\u001b[0m\u001b[0m\n\u001b[0m\u001b[1;32m   2346\u001b[0m \u001b[0;34m\u001b[0m\u001b[0m\n\u001b[1;32m   2347\u001b[0m \u001b[0;34m\u001b[0m\u001b[0m\n",
      "\u001b[0;32m/opt/anaconda3/lib/python3.8/site-packages/lmfit/minimizer.py\u001b[0m in \u001b[0;36mleastsq\u001b[0;34m(self, params, max_nfev, **kws)\u001b[0m\n\u001b[1;32m   1649\u001b[0m         \u001b[0mresult\u001b[0m\u001b[0;34m.\u001b[0m\u001b[0mcall_kws\u001b[0m \u001b[0;34m=\u001b[0m \u001b[0mlskws\u001b[0m\u001b[0;34m\u001b[0m\u001b[0;34m\u001b[0m\u001b[0m\n\u001b[1;32m   1650\u001b[0m         \u001b[0;32mtry\u001b[0m\u001b[0;34m:\u001b[0m\u001b[0;34m\u001b[0m\u001b[0;34m\u001b[0m\u001b[0m\n\u001b[0;32m-> 1651\u001b[0;31m             \u001b[0mlsout\u001b[0m \u001b[0;34m=\u001b[0m \u001b[0mscipy_leastsq\u001b[0m\u001b[0;34m(\u001b[0m\u001b[0mself\u001b[0m\u001b[0;34m.\u001b[0m\u001b[0m__residual\u001b[0m\u001b[0;34m,\u001b[0m \u001b[0mvariables\u001b[0m\u001b[0;34m,\u001b[0m \u001b[0;34m**\u001b[0m\u001b[0mlskws\u001b[0m\u001b[0;34m)\u001b[0m\u001b[0;34m\u001b[0m\u001b[0;34m\u001b[0m\u001b[0m\n\u001b[0m\u001b[1;32m   1652\u001b[0m         \u001b[0;32mexcept\u001b[0m \u001b[0mAbortFitException\u001b[0m\u001b[0;34m:\u001b[0m\u001b[0;34m\u001b[0m\u001b[0;34m\u001b[0m\u001b[0m\n\u001b[1;32m   1653\u001b[0m             \u001b[0;32mpass\u001b[0m\u001b[0;34m\u001b[0m\u001b[0;34m\u001b[0m\u001b[0m\n",
      "\u001b[0;32m/opt/anaconda3/lib/python3.8/site-packages/scipy/optimize/_minpack_py.py\u001b[0m in \u001b[0;36mleastsq\u001b[0;34m(func, x0, args, Dfun, full_output, col_deriv, ftol, xtol, gtol, maxfev, epsfcn, factor, diag)\u001b[0m\n\u001b[1;32m    411\u001b[0m     \u001b[0;32mif\u001b[0m \u001b[0;32mnot\u001b[0m \u001b[0misinstance\u001b[0m\u001b[0;34m(\u001b[0m\u001b[0margs\u001b[0m\u001b[0;34m,\u001b[0m \u001b[0mtuple\u001b[0m\u001b[0;34m)\u001b[0m\u001b[0;34m:\u001b[0m\u001b[0;34m\u001b[0m\u001b[0;34m\u001b[0m\u001b[0m\n\u001b[1;32m    412\u001b[0m         \u001b[0margs\u001b[0m \u001b[0;34m=\u001b[0m \u001b[0;34m(\u001b[0m\u001b[0margs\u001b[0m\u001b[0;34m,\u001b[0m\u001b[0;34m)\u001b[0m\u001b[0;34m\u001b[0m\u001b[0;34m\u001b[0m\u001b[0m\n\u001b[0;32m--> 413\u001b[0;31m     \u001b[0mshape\u001b[0m\u001b[0;34m,\u001b[0m \u001b[0mdtype\u001b[0m \u001b[0;34m=\u001b[0m \u001b[0m_check_func\u001b[0m\u001b[0;34m(\u001b[0m\u001b[0;34m'leastsq'\u001b[0m\u001b[0;34m,\u001b[0m \u001b[0;34m'func'\u001b[0m\u001b[0;34m,\u001b[0m \u001b[0mfunc\u001b[0m\u001b[0;34m,\u001b[0m \u001b[0mx0\u001b[0m\u001b[0;34m,\u001b[0m \u001b[0margs\u001b[0m\u001b[0;34m,\u001b[0m \u001b[0mn\u001b[0m\u001b[0;34m)\u001b[0m\u001b[0;34m\u001b[0m\u001b[0;34m\u001b[0m\u001b[0m\n\u001b[0m\u001b[1;32m    414\u001b[0m     \u001b[0mm\u001b[0m \u001b[0;34m=\u001b[0m \u001b[0mshape\u001b[0m\u001b[0;34m[\u001b[0m\u001b[0;36m0\u001b[0m\u001b[0;34m]\u001b[0m\u001b[0;34m\u001b[0m\u001b[0;34m\u001b[0m\u001b[0m\n\u001b[1;32m    415\u001b[0m \u001b[0;34m\u001b[0m\u001b[0m\n",
      "\u001b[0;32m/opt/anaconda3/lib/python3.8/site-packages/scipy/optimize/_minpack_py.py\u001b[0m in \u001b[0;36m_check_func\u001b[0;34m(checker, argname, thefunc, x0, args, numinputs, output_shape)\u001b[0m\n\u001b[1;32m     24\u001b[0m def _check_func(checker, argname, thefunc, x0, args, numinputs,\n\u001b[1;32m     25\u001b[0m                 output_shape=None):\n\u001b[0;32m---> 26\u001b[0;31m     \u001b[0mres\u001b[0m \u001b[0;34m=\u001b[0m \u001b[0matleast_1d\u001b[0m\u001b[0;34m(\u001b[0m\u001b[0mthefunc\u001b[0m\u001b[0;34m(\u001b[0m\u001b[0;34m*\u001b[0m\u001b[0;34m(\u001b[0m\u001b[0;34m(\u001b[0m\u001b[0mx0\u001b[0m\u001b[0;34m[\u001b[0m\u001b[0;34m:\u001b[0m\u001b[0mnuminputs\u001b[0m\u001b[0;34m]\u001b[0m\u001b[0;34m,\u001b[0m\u001b[0;34m)\u001b[0m \u001b[0;34m+\u001b[0m \u001b[0margs\u001b[0m\u001b[0;34m)\u001b[0m\u001b[0;34m)\u001b[0m\u001b[0;34m)\u001b[0m\u001b[0;34m\u001b[0m\u001b[0;34m\u001b[0m\u001b[0m\n\u001b[0m\u001b[1;32m     27\u001b[0m     \u001b[0;32mif\u001b[0m \u001b[0;34m(\u001b[0m\u001b[0moutput_shape\u001b[0m \u001b[0;32mis\u001b[0m \u001b[0;32mnot\u001b[0m \u001b[0;32mNone\u001b[0m\u001b[0;34m)\u001b[0m \u001b[0;32mand\u001b[0m \u001b[0;34m(\u001b[0m\u001b[0mshape\u001b[0m\u001b[0;34m(\u001b[0m\u001b[0mres\u001b[0m\u001b[0;34m)\u001b[0m \u001b[0;34m!=\u001b[0m \u001b[0moutput_shape\u001b[0m\u001b[0;34m)\u001b[0m\u001b[0;34m:\u001b[0m\u001b[0;34m\u001b[0m\u001b[0;34m\u001b[0m\u001b[0m\n\u001b[1;32m     28\u001b[0m         \u001b[0;32mif\u001b[0m \u001b[0;34m(\u001b[0m\u001b[0moutput_shape\u001b[0m\u001b[0;34m[\u001b[0m\u001b[0;36m0\u001b[0m\u001b[0;34m]\u001b[0m \u001b[0;34m!=\u001b[0m \u001b[0;36m1\u001b[0m\u001b[0;34m)\u001b[0m\u001b[0;34m:\u001b[0m\u001b[0;34m\u001b[0m\u001b[0;34m\u001b[0m\u001b[0m\n",
      "\u001b[0;32m/opt/anaconda3/lib/python3.8/site-packages/lmfit/minimizer.py\u001b[0m in \u001b[0;36m__residual\u001b[0;34m(self, fvars, apply_bounds_transformation)\u001b[0m\n\u001b[1;32m    560\u001b[0m             \u001b[0;32mraise\u001b[0m \u001b[0mAbortFitException\u001b[0m\u001b[0;34m(\u001b[0m\u001b[0;34m\"fit aborted by user.\"\u001b[0m\u001b[0;34m)\u001b[0m\u001b[0;34m\u001b[0m\u001b[0;34m\u001b[0m\u001b[0m\n\u001b[1;32m    561\u001b[0m         \u001b[0;32melse\u001b[0m\u001b[0;34m:\u001b[0m\u001b[0;34m\u001b[0m\u001b[0;34m\u001b[0m\u001b[0m\n\u001b[0;32m--> 562\u001b[0;31m             \u001b[0;32mreturn\u001b[0m \u001b[0mcoerce_float64\u001b[0m\u001b[0;34m(\u001b[0m\u001b[0mout\u001b[0m\u001b[0;34m,\u001b[0m \u001b[0mnan_policy\u001b[0m\u001b[0;34m=\u001b[0m\u001b[0mself\u001b[0m\u001b[0;34m.\u001b[0m\u001b[0mnan_policy\u001b[0m\u001b[0;34m)\u001b[0m\u001b[0;34m\u001b[0m\u001b[0;34m\u001b[0m\u001b[0m\n\u001b[0m\u001b[1;32m    563\u001b[0m \u001b[0;34m\u001b[0m\u001b[0m\n\u001b[1;32m    564\u001b[0m     \u001b[0;32mdef\u001b[0m \u001b[0m__jacobian\u001b[0m\u001b[0;34m(\u001b[0m\u001b[0mself\u001b[0m\u001b[0;34m,\u001b[0m \u001b[0mfvars\u001b[0m\u001b[0;34m)\u001b[0m\u001b[0;34m:\u001b[0m\u001b[0;34m\u001b[0m\u001b[0;34m\u001b[0m\u001b[0m\n",
      "\u001b[0;32m/opt/anaconda3/lib/python3.8/site-packages/lmfit/minimizer.py\u001b[0m in \u001b[0;36mcoerce_float64\u001b[0;34m(arr, nan_policy, handle_inf, ravel, ravel_order)\u001b[0m\n\u001b[1;32m   2443\u001b[0m                    \u001b[0;34m'handle this! Please read https://lmfit.github.io/lmfit-py/faq.html#i-get-errors-from-nan-in-my-fit-what-can-i-do '\u001b[0m\u001b[0;34m\u001b[0m\u001b[0;34m\u001b[0m\u001b[0m\n\u001b[1;32m   2444\u001b[0m                    'for more information.')\n\u001b[0;32m-> 2445\u001b[0;31m             \u001b[0;32mraise\u001b[0m \u001b[0mValueError\u001b[0m\u001b[0;34m(\u001b[0m\u001b[0mmsg\u001b[0m\u001b[0;34m)\u001b[0m\u001b[0;34m\u001b[0m\u001b[0;34m\u001b[0m\u001b[0m\n\u001b[0m\u001b[1;32m   2446\u001b[0m     \u001b[0;32mreturn\u001b[0m \u001b[0marr\u001b[0m\u001b[0;34m\u001b[0m\u001b[0;34m\u001b[0m\u001b[0m\n\u001b[1;32m   2447\u001b[0m \u001b[0;34m\u001b[0m\u001b[0m\n",
      "\u001b[0;31mValueError\u001b[0m: NaN values detected in your input data or the output of your objective/model function - fitting algorithms cannot handle this! Please read https://lmfit.github.io/lmfit-py/faq.html#i-get-errors-from-nan-in-my-fit-what-can-i-do for more information."
     ]
    }
   ],
   "source": [
    "# Assuming n_photon_arr is defined and correctly populated\n",
    "chi2_failure_counts = []\n",
    "\n",
    "for n_photon in n_photon_arr:\n",
    "    chi2_failures = 0\n",
    "    for j in range(100):  # For each simulation\n",
    "        EGFP.n_photon = n_photon\n",
    "        EGFP.repeat_sim(100)  # Generate simulation data\n",
    "        \n",
    "        # Perform the chi-squared fit using the predefined method\n",
    "        EGFP.fit(exp2, method='leastsq')\n",
    "        \n",
    "        # Extract fitted values directly from EGFP.par\n",
    "        A1 = EGFP.par['A1'].value\n",
    "        A2 = EGFP.par['A2'].value\n",
    "        tau1 = EGFP.par['tau1'].value\n",
    "        tau2 = EGFP.par['tau2'].value\n",
    "\n",
    "        # Check for failure conditions similar to the MLE method\n",
    "        if np.isclose(tau1, tau2, atol=0.2) or A1 > 0.8 or A2 > 0.8:\n",
    "            chi2_failures += 1\n",
    "\n",
    "    chi2_failure_counts.append(chi2_failures)\n",
    "\n",
    "# Plotting the number of failures for the chi-squared fit vs. n_photon\n",
    "plt.figure(figsize=(10, 6))\n",
    "plt.plot(n_photon_arr, chi2_failure_counts, marker='o', linestyle='-', color='red', label='Chi-squared Fit Failures')\n",
    "plt.plot(n_photon_arr, failure_counts, marker='o', linestyle='-', color='blue', label='MLE Fit Failures')\n",
    "plt.xscale('log')\n",
    "plt.xlabel('Number of Photons')\n",
    "plt.ylabel('Number of Failures')\n",
    "plt.title('Comparison of Failures: MLE vs. Chi-squared Fit')\n",
    "plt.legend()\n",
    "plt.grid(True)\n",
    "plt.show()\n"
   ]
  },
  {
   "cell_type": "code",
   "execution_count": null,
   "id": "6c637605",
   "metadata": {},
   "outputs": [],
   "source": []
  },
  {
   "cell_type": "code",
   "execution_count": null,
   "id": "bb89f5c1",
   "metadata": {},
   "outputs": [],
   "source": []
  }
 ],
 "metadata": {
  "kernelspec": {
   "display_name": "Python 3",
   "language": "python",
   "name": "python3"
  },
  "language_info": {
   "codemirror_mode": {
    "name": "ipython",
    "version": 3
   },
   "file_extension": ".py",
   "mimetype": "text/x-python",
   "name": "python",
   "nbconvert_exporter": "python",
   "pygments_lexer": "ipython3",
   "version": "3.8.8"
  },
  "vscode": {
   "interpreter": {
    "hash": "aee8b7b246df8f9039afb4144a1f6fd8d2ca17a180786b69acc140d282b71a49"
   }
  }
 },
 "nbformat": 4,
 "nbformat_minor": 5
}
