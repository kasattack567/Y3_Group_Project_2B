{
 "cells": [
  {
   "cell_type": "markdown",
   "metadata": {},
   "source": [
    "# Final Report"
   ]
  },
  {
   "cell_type": "code",
   "execution_count": 1,
   "metadata": {},
   "outputs": [],
   "source": [
    "from TCSPC import *\n",
    "plt.rcParams['figure.constrained_layout.use'] = True"
   ]
  },
  {
   "cell_type": "markdown",
   "metadata": {},
   "source": [
    "# !!! IMPORTANT !!! CHECK whether `t`  is `np.arange(0,20,1/19)`, this affects FFT results "
   ]
  },
  {
   "cell_type": "code",
   "execution_count": 2,
   "metadata": {},
   "outputs": [],
   "source": [
    "EGFP = Phasor([0.497,0.503],[2.43,3.07])"
   ]
  },
  {
   "cell_type": "code",
   "execution_count": 4,
   "metadata": {},
   "outputs": [
    {
     "data": {
      "text/plain": [
       "True"
      ]
     },
     "execution_count": 4,
     "metadata": {},
     "output_type": "execute_result"
    }
   ],
   "source": [
    "EGFP.t[1] == 1/19 #check correctness of time array"
   ]
  },
  {
   "cell_type": "markdown",
   "metadata": {},
   "source": [
    "### Continuous phasor"
   ]
  },
  {
   "cell_type": "code",
   "execution_count": null,
   "metadata": {},
   "outputs": [],
   "source": [
    "#  EGFP.generate_df(func=EGFP.phasor_eq_func_cont)"
   ]
  },
  {
   "cell_type": "markdown",
   "metadata": {},
   "source": [
    "### Discrete, just trimming"
   ]
  },
  {
   "cell_type": "code",
   "execution_count": null,
   "metadata": {},
   "outputs": [],
   "source": [
    "EGFP.generate_df()"
   ]
  },
  {
   "cell_type": "markdown",
   "metadata": {},
   "source": [
    "### Discrete, FFT deconvolution"
   ]
  },
  {
   "cell_type": "code",
   "execution_count": null,
   "metadata": {},
   "outputs": [],
   "source": [
    "# EGFP.generate_df(deconv =True)"
   ]
  },
  {
   "cell_type": "markdown",
   "metadata": {},
   "source": [
    "### Discrete, close-form"
   ]
  },
  {
   "cell_type": "code",
   "execution_count": null,
   "metadata": {},
   "outputs": [],
   "source": [
    "EGFP.generate_df(func = EGFP.phasor_eq_func_DFT)"
   ]
  },
  {
   "cell_type": "markdown",
   "metadata": {},
   "source": [
    "## PHASOR DF GENERATION\n",
    "### can skip the commented cell if the csvs are saved"
   ]
  },
  {
   "cell_type": "code",
   "execution_count": null,
   "metadata": {},
   "outputs": [],
   "source": [
    "# N_i = 20  #n_photon number\n",
    "# N_j = 100 #repeat sim number\n",
    "# n_photon_arr = np.logspace(4,9,N_i).astype(int)\n",
    "# df_p_list = []\n",
    "# for i in range(N_i):\n",
    "#     EGFP.n_photon = n_photon_arr[i]\n",
    "#     EGFP.repeat_sim(N_j)\n",
    "#     df    = EGFP.generate_df(phasor_data = EGFP.phasor_data)[['A1','tau1','tau2','success','nfev']]\n",
    "#     df_bg = EGFP.generate_df(phasor_data = EGFP.phasor_data_bg)[['A1','tau1','tau2','success','nfev']]\n",
    "#     df_cont = EGFP.generate_df(func = EGFP.phasor_eq_func_cont)[['A1','tau1','tau2','success','nfev']]\n",
    "#     df_dis = EGFP.generate_df(func = EGFP.phasor_eq_func_DFT)[['A1','tau1','tau2','success','nfev']]\n",
    "#     df_deconv = EGFP.generate_df(deconv = True)[['A1','tau1','tau2','success','nfev']]\n",
    "#     df_p_list.append([df,df_bg,df_cont,df_dis,df_deconv])\n",
    "# df_p = n_case_df(df_p_list,['no_bg','bg','cont','dis','deconv']) #phasor df for different cases\n",
    "# # df_p.to_csv('df/df_phasor.csv')"
   ]
  },
  {
   "cell_type": "code",
   "execution_count": 25,
   "metadata": {},
   "outputs": [],
   "source": [
    "def n_case_df(df_list,col):\n",
    "    '''Return df for cases in df_list\n",
    "       Input:\n",
    "       df_list  list of the structure [[df_1,df_2,...df_n_case],...,] (nested list of 20 (n_photon_arr) by n_case)\n",
    "       col      col names for the cases'''\n",
    "    df_list_case = []\n",
    "    for df in df_list:\n",
    "        n_val_df =pd.concat(df,keys = col,axis = 1) #concat dfs of n cases along axis 1\n",
    "        df_list_case.append(n_val_df) #append each photon number case\n",
    "    return pd.concat(df_list_case,keys = range(20)) "
   ]
  },
  {
   "cell_type": "code",
   "execution_count": 28,
   "metadata": {},
   "outputs": [],
   "source": [
    "idx = pd.IndexSlice"
   ]
  },
  {
   "cell_type": "code",
   "execution_count": 74,
   "metadata": {},
   "outputs": [],
   "source": [
    "N_i = 20  #n_photon number\n",
    "N_j = 100 #repeat sim number\n",
    "n_photon_arr = np.logspace(4,9,N_i).astype(int)\n",
    "# df_lm_list = []\n",
    "# for i,n_photon in enumerate(n_photon_arr):\n",
    "#     EGFP.n_photon = n_photon\n",
    "#     EGFP.repeat_sim(N_j)\n",
    "#     df_lm_list.append(EGFP.val_df(2,sim_data = EGFP.sim_data, method = 'leastsq')) #store dataframe of 100 sims\n",
    "# df_lm = pd.concat(df_lm_list,keys = range(20))\n",
    "# df_lm.columns = pd.MultiIndex.from_product([['no_bg'],list(df_lm.columns)]) #follow col structure of other dfs\n",
    "# df_lm.to_csv('df/df_lm.csv')#save as lm in the sense of Levenberg Marquardt algorithm"
   ]
  },
  {
   "cell_type": "code",
   "execution_count": 100,
   "metadata": {},
   "outputs": [],
   "source": [
    "df_mle = pd.read_csv('df/df_mle.csv',header=[0, 1], index_col=[0,1] ) #df_p --df for mle\n",
    "df_ls  = pd.read_csv('df/df_ls.csv',header=[0, 1], index_col=[0,1] ) #df_ls --df for leastsq\n",
    "df_p   = pd.read_csv('df/df_phasor.csv',header=[0, 1], index_col=[0,1] ) #df_p --df for phasor\n",
    "df_lm   = pd.read_csv('df/df_lm.csv',header=[0, 1],index_col=[0,1] ) #df_lm  levenberg marquardts algorithm\n",
    "df_geo = pd.read_csv('df/df_geo.csv',header=[0, 1], index_col=[0,1] ) #df gemoetric solution"
   ]
  },
  {
   "cell_type": "code",
   "execution_count": 115,
   "metadata": {},
   "outputs": [],
   "source": [
    "col1,col2 = df_p.columns.levels\n",
    "true_dict = {'A1' : EGFP.amp[0], 'tau1' : EGFP.tau[0], 'tau2':EGFP.tau[1]} \n",
    "def dev_plot(df_names = ['mle','p','geo'], cases = ['no_bg','bg'],pars = ['A1','tau1','tau2'],id_slice = slice(0,len(n_photon_arr))):\n",
    "        '''Plot mean and std as error bar for diffeent photon count\n",
    "           df_names    choose list of name of df to be plotted\n",
    "           cases       e.g. list of cases  no_bg, bg\n",
    "           pars        list of parameter names\n",
    "           id_slice    slice for plots array'''\n",
    "        fig,ax = plt.subplots(1,len(pars),figsize = (4.25*len(pars),4))\n",
    "        for name in df_names:\n",
    "                df = df_dict[name]\n",
    "                for i,par in enumerate(pars):\n",
    "                        for j,case in enumerate(cases):\n",
    "                                mean = df.loc(axis=1)[case,par].groupby(level=0).mean()\n",
    "                                std  = df.loc(axis=1)[case,par].groupby(level=0).std()\n",
    "                                ax[i].errorbar(n_photon_arr[id_slice],mean[id_slice],yerr=std[id_slice],fmt='x',label = f'{name} {case}')\n",
    "                                ax[i].set_xscale('log')\n",
    "                                ax[i].set_xlabel('Total Photon Count')\n",
    "                                ax[i].set_ylabel(par)\n",
    "                                ax[i].legend()\n",
    "                        ax[i].axhline(true_dict[par],c='k',label = 'True')\n",
    "        return fig,ax\n",
    "#fig.savefig('fig/phasor_params_cases.pdf')\n",
    "        "
   ]
  },
  {
   "cell_type": "code",
   "execution_count": 143,
   "metadata": {},
   "outputs": [],
   "source": [
    "df_dict = {'mle': df_mle, 'ls':df_ls,'lm':df_lm, 'p':df_p,'geo':df_geo}\n",
    "def hist_plot(sim, n=15,n_photon =None,method = 'powell',df_names = ['mle','lm','p','geo'],cases =['no_bg'],pars = ['A1','tau1','tau2']):\n",
    "    '''Plot histograms of parameters obtained from repeated simulations\n",
    "       Inputs:\n",
    "       sim         Phasor object\n",
    "       n_photon    total number of photons for simulation\n",
    "       method      fit method\n",
    "       df_names    list of keys for df_dict\n",
    "       cases       list of cases\n",
    "       pars        list of parameters to be plotted '''\n",
    "    #set n_photon if it is provided\n",
    "    n_photon = n_photon_arr[n]\n",
    "    fig, axes = plt.subplots(nrows=1, ncols=len(pars), figsize=(5*len(pars), 5),constrained_layout = True)\n",
    "    axes = np.array(axes).flatten()\n",
    "    fig.suptitle(f'Total number of photons = {n_photon}')\n",
    "    colors = cm.rainbow(np.linspace(0, 1, len(df_names)))\n",
    "    for k,case in enumerate(cases):\n",
    "        for i,par in enumerate(pars):\n",
    "            # Plot the histogram on the corresponding axis\n",
    "            if par in true_dict:\n",
    "                axes[i].axvline(true_dict[par].real,lw = 2,c = 'r',label = 'true')\n",
    "            for j,name in enumerate(df_names):\n",
    "                df = df_dict[name]\n",
    "                val = np.real(df.loc[idx[n,:],idx[case,par]])\n",
    "                axes[i].hist(np.abs(val),label = f'{name} {case}' ,alpha = 0.5)\n",
    "                axes[i].axvline(abs(np.mean(val)),lw = 2,ls = '--',c=colors[j],label = f'{name} {case} mean')\n",
    "            axes[i].legend()\n",
    "        return fig, axes"
   ]
  },
  {
   "cell_type": "code",
   "execution_count": 135,
   "metadata": {},
   "outputs": [
    {
     "data": {
      "image/png": "[encoded data removed]",
      "text/plain": [
       "<Figure size 1275x400 with 3 Axes>"
      ]
     },
     "metadata": {},
     "output_type": "display_data"
    }
   ],
   "source": [
    "fig,ax = dev_plot(df_names = ['geo','p'], cases = ['no_bg','bg'],id_slice = slice(10,20)) #geometric and numerical comparison"
   ]
  },
  {
   "cell_type": "code",
   "execution_count": 136,
   "metadata": {},
   "outputs": [],
   "source": [
    "fig.savefig('fig/p_geo_dev.pdf')"
   ]
  },
  {
   "cell_type": "code",
   "execution_count": null,
   "metadata": {},
   "outputs": [],
   "source": [
    "fig,ax = dev_plot(df_names = ['geo','p'], cases = ['no_bg','bg'],id_slice = slice(10,20))"
   ]
  },
  {
   "cell_type": "code",
   "execution_count": null,
   "metadata": {},
   "outputs": [],
   "source": [
    "fig,ax = dev_plot(df_names = ['geo','p'], cases = ['no_bg','bg'],id_slice = slice(10,20)) #geometric and numerical comparison"
   ]
  },
  {
   "cell_type": "code",
   "execution_count": 137,
   "metadata": {},
   "outputs": [
    {
     "data": {
      "text/plain": [
       "(<Figure size 1500x500 with 3 Axes>,\n",
       " array([<AxesSubplot:>, <AxesSubplot:>, <AxesSubplot:>], dtype=object))"
      ]
     },
     "execution_count": 137,
     "metadata": {},
     "output_type": "execute_result"
    },
    {
     "data": {
      "image/png": "[encoded data removed]",
      "text/plain": [
       "<Figure size 1500x500 with 3 Axes>"
      ]
     },
     "metadata": {},
     "output_type": "display_data"
    }
   ],
   "source": [
    "hist_plot(EGFP,n=10,df_names= ['p','geo'],cases = ['no_bg'] )"
   ]
  },
  {
   "cell_type": "code",
   "execution_count": 140,
   "metadata": {},
   "outputs": [
    {
     "data": {
      "text/html": [
       "<div>\n",
       "<style scoped>\n",
       "    .dataframe tbody tr th:only-of-type {\n",
       "        vertical-align: middle;\n",
       "    }\n",
       "\n",
       "    .dataframe tbody tr th {\n",
       "        vertical-align: top;\n",
       "    }\n",
       "\n",
       "    .dataframe thead tr th {\n",
       "        text-align: left;\n",
       "    }\n",
       "</style>\n",
       "<table border=\"1\" class=\"dataframe\">\n",
       "  <thead>\n",
       "    <tr>\n",
       "      <th></th>\n",
       "      <th></th>\n",
       "      <th colspan=\"8\" halign=\"left\">bg</th>\n",
       "      <th colspan=\"2\" halign=\"left\">no_bg</th>\n",
       "      <th>...</th>\n",
       "      <th colspan=\"2\" halign=\"left\">bg_rescale</th>\n",
       "      <th colspan=\"8\" halign=\"left\">no_bg_rescale</th>\n",
       "    </tr>\n",
       "    <tr>\n",
       "      <th></th>\n",
       "      <th></th>\n",
       "      <th>c</th>\n",
       "      <th>A1</th>\n",
       "      <th>A2</th>\n",
       "      <th>tau1</th>\n",
       "      <th>tau2</th>\n",
       "      <th>red_chi2</th>\n",
       "      <th>nfev</th>\n",
       "      <th>success</th>\n",
       "      <th>c</th>\n",
       "      <th>A1</th>\n",
       "      <th>...</th>\n",
       "      <th>nfev</th>\n",
       "      <th>success</th>\n",
       "      <th>c</th>\n",
       "      <th>A1</th>\n",
       "      <th>A2</th>\n",
       "      <th>tau1</th>\n",
       "      <th>tau2</th>\n",
       "      <th>red_chi2</th>\n",
       "      <th>nfev</th>\n",
       "      <th>success</th>\n",
       "    </tr>\n",
       "  </thead>\n",
       "  <tbody>\n",
       "    <tr>\n",
       "      <th rowspan=\"5\" valign=\"top\">0</th>\n",
       "      <th>0</th>\n",
       "      <td>3.994747</td>\n",
       "      <td>0.415620</td>\n",
       "      <td>0.584380</td>\n",
       "      <td>2.306835</td>\n",
       "      <td>2.811922</td>\n",
       "      <td>1.207654</td>\n",
       "      <td>281</td>\n",
       "      <td>True</td>\n",
       "      <td>0</td>\n",
       "      <td>0.504233</td>\n",
       "      <td>...</td>\n",
       "      <td>1054</td>\n",
       "      <td>True</td>\n",
       "      <td>0</td>\n",
       "      <td>0.137027</td>\n",
       "      <td>0.862973</td>\n",
       "      <td>0.029125</td>\n",
       "      <td>2.836540e+00</td>\n",
       "      <td>0.005634</td>\n",
       "      <td>798</td>\n",
       "      <td>True</td>\n",
       "    </tr>\n",
       "    <tr>\n",
       "      <th>1</th>\n",
       "      <td>2.208387</td>\n",
       "      <td>0.451198</td>\n",
       "      <td>0.548802</td>\n",
       "      <td>2.244323</td>\n",
       "      <td>2.974397</td>\n",
       "      <td>1.173771</td>\n",
       "      <td>301</td>\n",
       "      <td>True</td>\n",
       "      <td>0</td>\n",
       "      <td>0.484410</td>\n",
       "      <td>...</td>\n",
       "      <td>814</td>\n",
       "      <td>True</td>\n",
       "      <td>0</td>\n",
       "      <td>0.826857</td>\n",
       "      <td>0.173143</td>\n",
       "      <td>1.802375</td>\n",
       "      <td>1.072168e+01</td>\n",
       "      <td>0.006290</td>\n",
       "      <td>247</td>\n",
       "      <td>True</td>\n",
       "    </tr>\n",
       "    <tr>\n",
       "      <th>2</th>\n",
       "      <td>0.010781</td>\n",
       "      <td>0.418756</td>\n",
       "      <td>0.581244</td>\n",
       "      <td>2.481230</td>\n",
       "      <td>3.076877</td>\n",
       "      <td>0.852665</td>\n",
       "      <td>201</td>\n",
       "      <td>True</td>\n",
       "      <td>0</td>\n",
       "      <td>0.419605</td>\n",
       "      <td>...</td>\n",
       "      <td>525</td>\n",
       "      <td>True</td>\n",
       "      <td>0</td>\n",
       "      <td>0.769674</td>\n",
       "      <td>0.230326</td>\n",
       "      <td>1.584456</td>\n",
       "      <td>1.107677e+01</td>\n",
       "      <td>0.005513</td>\n",
       "      <td>241</td>\n",
       "      <td>True</td>\n",
       "    </tr>\n",
       "    <tr>\n",
       "      <th>3</th>\n",
       "      <td>1.715941</td>\n",
       "      <td>0.440125</td>\n",
       "      <td>0.559875</td>\n",
       "      <td>2.106023</td>\n",
       "      <td>3.034581</td>\n",
       "      <td>0.903117</td>\n",
       "      <td>356</td>\n",
       "      <td>True</td>\n",
       "      <td>0</td>\n",
       "      <td>0.470597</td>\n",
       "      <td>...</td>\n",
       "      <td>547</td>\n",
       "      <td>True</td>\n",
       "      <td>0</td>\n",
       "      <td>0.881392</td>\n",
       "      <td>0.118608</td>\n",
       "      <td>1.735332</td>\n",
       "      <td>3.586777e+11</td>\n",
       "      <td>0.005757</td>\n",
       "      <td>237</td>\n",
       "      <td>True</td>\n",
       "    </tr>\n",
       "    <tr>\n",
       "      <th>4</th>\n",
       "      <td>2.871815</td>\n",
       "      <td>0.476214</td>\n",
       "      <td>0.523786</td>\n",
       "      <td>2.315712</td>\n",
       "      <td>2.858720</td>\n",
       "      <td>0.839939</td>\n",
       "      <td>312</td>\n",
       "      <td>True</td>\n",
       "      <td>0</td>\n",
       "      <td>0.504408</td>\n",
       "      <td>...</td>\n",
       "      <td>553</td>\n",
       "      <td>True</td>\n",
       "      <td>0</td>\n",
       "      <td>0.632730</td>\n",
       "      <td>0.367270</td>\n",
       "      <td>2.065816</td>\n",
       "      <td>4.028511e+00</td>\n",
       "      <td>0.003850</td>\n",
       "      <td>213</td>\n",
       "      <td>True</td>\n",
       "    </tr>\n",
       "    <tr>\n",
       "      <th>...</th>\n",
       "      <th>...</th>\n",
       "      <td>...</td>\n",
       "      <td>...</td>\n",
       "      <td>...</td>\n",
       "      <td>...</td>\n",
       "      <td>...</td>\n",
       "      <td>...</td>\n",
       "      <td>...</td>\n",
       "      <td>...</td>\n",
       "      <td>...</td>\n",
       "      <td>...</td>\n",
       "      <td>...</td>\n",
       "      <td>...</td>\n",
       "      <td>...</td>\n",
       "      <td>...</td>\n",
       "      <td>...</td>\n",
       "      <td>...</td>\n",
       "      <td>...</td>\n",
       "      <td>...</td>\n",
       "      <td>...</td>\n",
       "      <td>...</td>\n",
       "      <td>...</td>\n",
       "    </tr>\n",
       "    <tr>\n",
       "      <th rowspan=\"5\" valign=\"top\">19</th>\n",
       "      <th>95</th>\n",
       "      <td>28.027294</td>\n",
       "      <td>0.495458</td>\n",
       "      <td>0.504542</td>\n",
       "      <td>2.407774</td>\n",
       "      <td>3.083957</td>\n",
       "      <td>1.010948</td>\n",
       "      <td>400</td>\n",
       "      <td>True</td>\n",
       "      <td>0</td>\n",
       "      <td>0.496092</td>\n",
       "      <td>...</td>\n",
       "      <td>397</td>\n",
       "      <td>True</td>\n",
       "      <td>0</td>\n",
       "      <td>0.523914</td>\n",
       "      <td>0.476086</td>\n",
       "      <td>2.390407</td>\n",
       "      <td>3.117720e+00</td>\n",
       "      <td>0.000023</td>\n",
       "      <td>195</td>\n",
       "      <td>True</td>\n",
       "    </tr>\n",
       "    <tr>\n",
       "      <th>96</th>\n",
       "      <td>29.241011</td>\n",
       "      <td>0.495716</td>\n",
       "      <td>0.504284</td>\n",
       "      <td>2.429402</td>\n",
       "      <td>3.070412</td>\n",
       "      <td>0.953550</td>\n",
       "      <td>148</td>\n",
       "      <td>True</td>\n",
       "      <td>0</td>\n",
       "      <td>0.497166</td>\n",
       "      <td>...</td>\n",
       "      <td>297</td>\n",
       "      <td>True</td>\n",
       "      <td>0</td>\n",
       "      <td>0.506825</td>\n",
       "      <td>0.493175</td>\n",
       "      <td>2.419286</td>\n",
       "      <td>3.087619e+00</td>\n",
       "      <td>0.000020</td>\n",
       "      <td>195</td>\n",
       "      <td>True</td>\n",
       "    </tr>\n",
       "    <tr>\n",
       "      <th>97</th>\n",
       "      <td>32.050055</td>\n",
       "      <td>0.495326</td>\n",
       "      <td>0.504674</td>\n",
       "      <td>2.446556</td>\n",
       "      <td>3.050475</td>\n",
       "      <td>0.988789</td>\n",
       "      <td>356</td>\n",
       "      <td>True</td>\n",
       "      <td>0</td>\n",
       "      <td>0.495622</td>\n",
       "      <td>...</td>\n",
       "      <td>478</td>\n",
       "      <td>True</td>\n",
       "      <td>0</td>\n",
       "      <td>0.509328</td>\n",
       "      <td>0.490672</td>\n",
       "      <td>2.412851</td>\n",
       "      <td>3.088364e+00</td>\n",
       "      <td>0.000021</td>\n",
       "      <td>194</td>\n",
       "      <td>True</td>\n",
       "    </tr>\n",
       "    <tr>\n",
       "      <th>98</th>\n",
       "      <td>29.202912</td>\n",
       "      <td>0.494814</td>\n",
       "      <td>0.505186</td>\n",
       "      <td>2.458784</td>\n",
       "      <td>3.048821</td>\n",
       "      <td>1.017432</td>\n",
       "      <td>399</td>\n",
       "      <td>True</td>\n",
       "      <td>0</td>\n",
       "      <td>0.495885</td>\n",
       "      <td>...</td>\n",
       "      <td>323</td>\n",
       "      <td>True</td>\n",
       "      <td>0</td>\n",
       "      <td>0.480816</td>\n",
       "      <td>0.519184</td>\n",
       "      <td>2.447256</td>\n",
       "      <td>3.043225e+00</td>\n",
       "      <td>0.000021</td>\n",
       "      <td>197</td>\n",
       "      <td>True</td>\n",
       "    </tr>\n",
       "    <tr>\n",
       "      <th>99</th>\n",
       "      <td>25.562581</td>\n",
       "      <td>0.498561</td>\n",
       "      <td>0.501439</td>\n",
       "      <td>2.393667</td>\n",
       "      <td>3.099880</td>\n",
       "      <td>1.015337</td>\n",
       "      <td>301</td>\n",
       "      <td>True</td>\n",
       "      <td>0</td>\n",
       "      <td>0.497815</td>\n",
       "      <td>...</td>\n",
       "      <td>252</td>\n",
       "      <td>True</td>\n",
       "      <td>0</td>\n",
       "      <td>0.506662</td>\n",
       "      <td>0.493338</td>\n",
       "      <td>2.419417</td>\n",
       "      <td>3.087260e+00</td>\n",
       "      <td>0.000021</td>\n",
       "      <td>194</td>\n",
       "      <td>True</td>\n",
       "    </tr>\n",
       "  </tbody>\n",
       "</table>\n",
       "<p>2000 rows × 32 columns</p>\n",
       "</div>"
      ],
      "text/plain": [
       "              bg                                                         \\\n",
       "               c        A1        A2      tau1      tau2  red_chi2 nfev   \n",
       "0  0    3.994747  0.415620  0.584380  2.306835  2.811922  1.207654  281   \n",
       "   1    2.208387  0.451198  0.548802  2.244323  2.974397  1.173771  301   \n",
       "   2    0.010781  0.418756  0.581244  2.481230  3.076877  0.852665  201   \n",
       "   3    1.715941  0.440125  0.559875  2.106023  3.034581  0.903117  356   \n",
       "   4    2.871815  0.476214  0.523786  2.315712  2.858720  0.839939  312   \n",
       "...          ...       ...       ...       ...       ...       ...  ...   \n",
       "19 95  28.027294  0.495458  0.504542  2.407774  3.083957  1.010948  400   \n",
       "   96  29.241011  0.495716  0.504284  2.429402  3.070412  0.953550  148   \n",
       "   97  32.050055  0.495326  0.504674  2.446556  3.050475  0.988789  356   \n",
       "   98  29.202912  0.494814  0.505186  2.458784  3.048821  1.017432  399   \n",
       "   99  25.562581  0.498561  0.501439  2.393667  3.099880  1.015337  301   \n",
       "\n",
       "              no_bg            ... bg_rescale         no_bg_rescale            \\\n",
       "      success     c        A1  ...       nfev success             c        A1   \n",
       "0  0     True     0  0.504233  ...       1054    True             0  0.137027   \n",
       "   1     True     0  0.484410  ...        814    True             0  0.826857   \n",
       "   2     True     0  0.419605  ...        525    True             0  0.769674   \n",
       "   3     True     0  0.470597  ...        547    True             0  0.881392   \n",
       "   4     True     0  0.504408  ...        553    True             0  0.632730   \n",
       "...       ...   ...       ...  ...        ...     ...           ...       ...   \n",
       "19 95    True     0  0.496092  ...        397    True             0  0.523914   \n",
       "   96    True     0  0.497166  ...        297    True             0  0.506825   \n",
       "   97    True     0  0.495622  ...        478    True             0  0.509328   \n",
       "   98    True     0  0.495885  ...        323    True             0  0.480816   \n",
       "   99    True     0  0.497815  ...        252    True             0  0.506662   \n",
       "\n",
       "                                                                \n",
       "             A2      tau1          tau2  red_chi2 nfev success  \n",
       "0  0   0.862973  0.029125  2.836540e+00  0.005634  798    True  \n",
       "   1   0.173143  1.802375  1.072168e+01  0.006290  247    True  \n",
       "   2   0.230326  1.584456  1.107677e+01  0.005513  241    True  \n",
       "   3   0.118608  1.735332  3.586777e+11  0.005757  237    True  \n",
       "   4   0.367270  2.065816  4.028511e+00  0.003850  213    True  \n",
       "...         ...       ...           ...       ...  ...     ...  \n",
       "19 95  0.476086  2.390407  3.117720e+00  0.000023  195    True  \n",
       "   96  0.493175  2.419286  3.087619e+00  0.000020  195    True  \n",
       "   97  0.490672  2.412851  3.088364e+00  0.000021  194    True  \n",
       "   98  0.519184  2.447256  3.043225e+00  0.000021  197    True  \n",
       "   99  0.493338  2.419417  3.087260e+00  0.000021  194    True  \n",
       "\n",
       "[2000 rows x 32 columns]"
      ]
     },
     "execution_count": 140,
     "metadata": {},
     "output_type": "execute_result"
    }
   ],
   "source": [
    "df_mle"
   ]
  },
  {
   "cell_type": "code",
   "execution_count": 145,
   "metadata": {},
   "outputs": [
    {
     "data": {
      "text/plain": [
       "(<Figure size 500x500 with 1 Axes>, array([<AxesSubplot:>], dtype=object))"
      ]
     },
     "execution_count": 145,
     "metadata": {},
     "output_type": "execute_result"
    },
    {
     "data": {
      "image/png": "[encoded data removed]",
      "text/plain": [
       "<Figure size 500x500 with 1 Axes>"
      ]
     },
     "metadata": {},
     "output_type": "display_data"
    }
   ],
   "source": [
    "hist_plot(EGFP,n=19,df_names= ['mle','lm'],cases = ['no_bg'],pars = ['red_chi2'] )"
   ]
  },
  {
   "cell_type": "code",
   "execution_count": null,
   "metadata": {},
   "outputs": [],
   "source": []
  }
 ],
 "metadata": {
  "kernelspec": {
   "display_name": "Python 3.10.5 64-bit",
   "language": "python",
   "name": "python3"
  },
  "language_info": {
   "codemirror_mode": {
    "name": "ipython",
    "version": 3
   },
   "file_extension": ".py",
   "mimetype": "text/x-python",
   "name": "python",
   "nbconvert_exporter": "python",
   "pygments_lexer": "ipython3",
   "version": "3.10.5"
  },
  "orig_nbformat": 4,
  "vscode": {
   "interpreter": {
    "hash": "aee8b7b246df8f9039afb4144a1f6fd8d2ca17a180786b69acc140d282b71a49"
   }
  }
 },
 "nbformat": 4,
 "nbformat_minor": 2
}
