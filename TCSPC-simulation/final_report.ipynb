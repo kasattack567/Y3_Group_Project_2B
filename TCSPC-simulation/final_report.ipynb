{
 "cells": [
  {
   "cell_type": "markdown",
   "metadata": {},
   "source": [
    "# Final Report"
   ]
  },
  {
   "cell_type": "code",
   "execution_count": 1,
   "metadata": {},
   "outputs": [],
   "source": [
    "from TCSPC import *\n",
    "plt.rcParams['figure.constrained_layout.use'] = True"
   ]
  },
  {
   "cell_type": "markdown",
   "metadata": {},
   "source": [
    "# !!! IMPORTANT !!! CHECK whether `t`  is `np.arange(0,20,1/19)`, this affects FFT results "
   ]
  },
  {
   "cell_type": "code",
   "execution_count": 2,
   "metadata": {},
   "outputs": [],
   "source": [
    "EGFP = Phasor([0.497,0.503],[2.43,3.07])"
   ]
  },
  {
   "cell_type": "code",
   "execution_count": 4,
   "metadata": {},
   "outputs": [
    {
     "data": {
      "text/plain": [
       "True"
      ]
     },
     "execution_count": 4,
     "metadata": {},
     "output_type": "execute_result"
    }
   ],
   "source": [
    "EGFP.t[1] == 1/19 #check correctness of time array"
   ]
  },
  {
   "cell_type": "markdown",
   "metadata": {},
   "source": [
    "### Continuous phasor"
   ]
  },
  {
   "cell_type": "code",
   "execution_count": null,
   "metadata": {},
   "outputs": [],
   "source": [
    "#  EGFP.generate_df(func=EGFP.phasor_eq_func_cont)"
   ]
  },
  {
   "cell_type": "markdown",
   "metadata": {},
   "source": [
    "### Discrete, just trimming"
   ]
  },
  {
   "cell_type": "code",
   "execution_count": null,
   "metadata": {},
   "outputs": [],
   "source": [
    "EGFP.generate_df()"
   ]
  },
  {
   "cell_type": "markdown",
   "metadata": {},
   "source": [
    "### Discrete, FFT deconvolution"
   ]
  },
  {
   "cell_type": "code",
   "execution_count": null,
   "metadata": {},
   "outputs": [],
   "source": [
    "# EGFP.generate_df(deconv =True)"
   ]
  },
  {
   "cell_type": "markdown",
   "metadata": {},
   "source": [
    "### Discrete, close-form"
   ]
  },
  {
   "cell_type": "code",
   "execution_count": null,
   "metadata": {},
   "outputs": [],
   "source": [
    "EGFP.generate_df(func = EGFP.phasor_eq_func_DFT)"
   ]
  },
  {
   "cell_type": "code",
   "execution_count": 23,
   "metadata": {},
   "outputs": [
    {
     "name": "stderr",
     "output_type": "stream",
     "text": [
      "/Users/chilaitang/Library/Mobile Documents/com~apple~CloudDocs/UCL PHY/Y3_Group_Project_2B/TCSPC-simulation/TCSPC.py:821: RuntimeWarning: overflow encountered in exp\n",
      "  for i in range(len(phasor_data)):\n",
      "/Users/chilaitang/Library/Mobile Documents/com~apple~CloudDocs/UCL PHY/Y3_Group_Project_2B/TCSPC-simulation/TCSPC.py:821: RuntimeWarning: overflow encountered in multiply\n",
      "  for i in range(len(phasor_data)):\n",
      "/Users/chilaitang/Library/Mobile Documents/com~apple~CloudDocs/UCL PHY/Y3_Group_Project_2B/TCSPC-simulation/TCSPC.py:220: RuntimeWarning: invalid value encountered in divide\n",
      "  phasor = (np.fft.fft(y).T/y_sum).T/np.fft.fft(ker)*np.sum(ker)\n",
      "/Users/chilaitang/Library/Mobile Documents/com~apple~CloudDocs/UCL PHY/Y3_Group_Project_2B/TCSPC-simulation/TCSPC.py:820: RuntimeWarning: overflow encountered in exp\n",
      "  self.df = pd.DataFrame()\n",
      "/Users/chilaitang/Library/Mobile Documents/com~apple~CloudDocs/UCL PHY/Y3_Group_Project_2B/TCSPC-simulation/TCSPC.py:820: RuntimeWarning: overflow encountered in exp\n",
      "  self.df = pd.DataFrame()\n",
      "/Users/chilaitang/Library/Mobile Documents/com~apple~CloudDocs/UCL PHY/Y3_Group_Project_2B/TCSPC-simulation/TCSPC.py:220: RuntimeWarning: invalid value encountered in divide\n",
      "  phasor = (np.fft.fft(y).T/y_sum).T/np.fft.fft(ker)*np.sum(ker)\n",
      "/Users/chilaitang/Library/Mobile Documents/com~apple~CloudDocs/UCL PHY/Y3_Group_Project_2B/TCSPC-simulation/TCSPC.py:821: RuntimeWarning: overflow encountered in exp\n",
      "  for i in range(len(phasor_data)):\n",
      "/Users/chilaitang/Library/Mobile Documents/com~apple~CloudDocs/UCL PHY/Y3_Group_Project_2B/TCSPC-simulation/TCSPC.py:220: RuntimeWarning: invalid value encountered in divide\n",
      "  phasor = (np.fft.fft(y).T/y_sum).T/np.fft.fft(ker)*np.sum(ker)\n",
      "/Users/chilaitang/Library/Mobile Documents/com~apple~CloudDocs/UCL PHY/Y3_Group_Project_2B/TCSPC-simulation/TCSPC.py:821: RuntimeWarning: overflow encountered in exp\n",
      "  for i in range(len(phasor_data)):\n",
      "/Users/chilaitang/Library/Mobile Documents/com~apple~CloudDocs/UCL PHY/Y3_Group_Project_2B/TCSPC-simulation/TCSPC.py:220: RuntimeWarning: invalid value encountered in divide\n",
      "  phasor = (np.fft.fft(y).T/y_sum).T/np.fft.fft(ker)*np.sum(ker)\n",
      "/Users/chilaitang/Library/Mobile Documents/com~apple~CloudDocs/UCL PHY/Y3_Group_Project_2B/TCSPC-simulation/TCSPC.py:821: RuntimeWarning: overflow encountered in exp\n",
      "  for i in range(len(phasor_data)):\n",
      "/Users/chilaitang/Library/Mobile Documents/com~apple~CloudDocs/UCL PHY/Y3_Group_Project_2B/TCSPC-simulation/TCSPC.py:821: RuntimeWarning: overflow encountered in multiply\n",
      "  for i in range(len(phasor_data)):\n",
      "/Users/chilaitang/Library/Mobile Documents/com~apple~CloudDocs/UCL PHY/Y3_Group_Project_2B/TCSPC-simulation/TCSPC.py:220: RuntimeWarning: invalid value encountered in divide\n",
      "  phasor = (np.fft.fft(y).T/y_sum).T/np.fft.fft(ker)*np.sum(ker)\n",
      "/Users/chilaitang/Library/Mobile Documents/com~apple~CloudDocs/UCL PHY/Y3_Group_Project_2B/TCSPC-simulation/TCSPC.py:820: RuntimeWarning: overflow encountered in exp\n",
      "  self.df = pd.DataFrame()\n",
      "/Users/chilaitang/Library/Mobile Documents/com~apple~CloudDocs/UCL PHY/Y3_Group_Project_2B/TCSPC-simulation/TCSPC.py:820: RuntimeWarning: overflow encountered in exp\n",
      "  self.df = pd.DataFrame()\n",
      "/Users/chilaitang/Library/Mobile Documents/com~apple~CloudDocs/UCL PHY/Y3_Group_Project_2B/TCSPC-simulation/TCSPC.py:220: RuntimeWarning: invalid value encountered in divide\n",
      "  phasor = (np.fft.fft(y).T/y_sum).T/np.fft.fft(ker)*np.sum(ker)\n",
      "/Users/chilaitang/Library/Mobile Documents/com~apple~CloudDocs/UCL PHY/Y3_Group_Project_2B/TCSPC-simulation/TCSPC.py:821: RuntimeWarning: overflow encountered in exp\n",
      "  for i in range(len(phasor_data)):\n",
      "/Users/chilaitang/Library/Mobile Documents/com~apple~CloudDocs/UCL PHY/Y3_Group_Project_2B/TCSPC-simulation/TCSPC.py:220: RuntimeWarning: invalid value encountered in divide\n",
      "  phasor = (np.fft.fft(y).T/y_sum).T/np.fft.fft(ker)*np.sum(ker)\n",
      "/Users/chilaitang/Library/Mobile Documents/com~apple~CloudDocs/UCL PHY/Y3_Group_Project_2B/TCSPC-simulation/TCSPC.py:820: RuntimeWarning: overflow encountered in exp\n",
      "  self.df = pd.DataFrame()\n",
      "/Users/chilaitang/Library/Mobile Documents/com~apple~CloudDocs/UCL PHY/Y3_Group_Project_2B/TCSPC-simulation/TCSPC.py:220: RuntimeWarning: invalid value encountered in divide\n",
      "  phasor = (np.fft.fft(y).T/y_sum).T/np.fft.fft(ker)*np.sum(ker)\n",
      "/Users/chilaitang/Library/Mobile Documents/com~apple~CloudDocs/UCL PHY/Y3_Group_Project_2B/TCSPC-simulation/TCSPC.py:821: RuntimeWarning: overflow encountered in exp\n",
      "  for i in range(len(phasor_data)):\n",
      "/Users/chilaitang/Library/Mobile Documents/com~apple~CloudDocs/UCL PHY/Y3_Group_Project_2B/TCSPC-simulation/TCSPC.py:220: RuntimeWarning: invalid value encountered in divide\n",
      "  phasor = (np.fft.fft(y).T/y_sum).T/np.fft.fft(ker)*np.sum(ker)\n",
      "/Users/chilaitang/Library/Mobile Documents/com~apple~CloudDocs/UCL PHY/Y3_Group_Project_2B/TCSPC-simulation/TCSPC.py:820: RuntimeWarning: overflow encountered in exp\n",
      "  self.df = pd.DataFrame()\n",
      "/Users/chilaitang/Library/Mobile Documents/com~apple~CloudDocs/UCL PHY/Y3_Group_Project_2B/TCSPC-simulation/TCSPC.py:821: RuntimeWarning: overflow encountered in exp\n",
      "  for i in range(len(phasor_data)):\n",
      "/Users/chilaitang/Library/Mobile Documents/com~apple~CloudDocs/UCL PHY/Y3_Group_Project_2B/TCSPC-simulation/TCSPC.py:220: RuntimeWarning: invalid value encountered in divide\n",
      "  phasor = (np.fft.fft(y).T/y_sum).T/np.fft.fft(ker)*np.sum(ker)\n",
      "/Users/chilaitang/Library/Mobile Documents/com~apple~CloudDocs/UCL PHY/Y3_Group_Project_2B/TCSPC-simulation/TCSPC.py:821: RuntimeWarning: overflow encountered in exp\n",
      "  for i in range(len(phasor_data)):\n",
      "/Users/chilaitang/Library/Mobile Documents/com~apple~CloudDocs/UCL PHY/Y3_Group_Project_2B/TCSPC-simulation/TCSPC.py:220: RuntimeWarning: invalid value encountered in divide\n",
      "  phasor = (np.fft.fft(y).T/y_sum).T/np.fft.fft(ker)*np.sum(ker)\n",
      "/Users/chilaitang/Library/Mobile Documents/com~apple~CloudDocs/UCL PHY/Y3_Group_Project_2B/TCSPC-simulation/TCSPC.py:820: RuntimeWarning: overflow encountered in exp\n",
      "  self.df = pd.DataFrame()\n",
      "/Users/chilaitang/Library/Mobile Documents/com~apple~CloudDocs/UCL PHY/Y3_Group_Project_2B/TCSPC-simulation/TCSPC.py:820: RuntimeWarning: overflow encountered in exp\n",
      "  self.df = pd.DataFrame()\n",
      "/Users/chilaitang/Library/Mobile Documents/com~apple~CloudDocs/UCL PHY/Y3_Group_Project_2B/TCSPC-simulation/TCSPC.py:220: RuntimeWarning: invalid value encountered in divide\n",
      "  phasor = (np.fft.fft(y).T/y_sum).T/np.fft.fft(ker)*np.sum(ker)\n",
      "/Users/chilaitang/Library/Mobile Documents/com~apple~CloudDocs/UCL PHY/Y3_Group_Project_2B/TCSPC-simulation/TCSPC.py:821: RuntimeWarning: overflow encountered in exp\n",
      "  for i in range(len(phasor_data)):\n",
      "/Users/chilaitang/Library/Mobile Documents/com~apple~CloudDocs/UCL PHY/Y3_Group_Project_2B/TCSPC-simulation/TCSPC.py:220: RuntimeWarning: invalid value encountered in divide\n",
      "  phasor = (np.fft.fft(y).T/y_sum).T/np.fft.fft(ker)*np.sum(ker)\n"
     ]
    }
   ],
   "source": [
    "N_i = 20  #n_photon number\n",
    "N_j = 100 #repeat sim number\n",
    "n_photon_arr = np.logspace(4,9,N_i).astype(int)\n",
    "df_p_list = []\n",
    "for i in range(N_i):\n",
    "    EGFP.n_photon = n_photon_arr[i]\n",
    "    EGFP.repeat_sim(N_j)\n",
    "    df    = EGFP.generate_df(phasor_data = EGFP.phasor_data)[['A1','tau1','tau2','success','nfev']]\n",
    "    df_bg = EGFP.generate_df(phasor_data = EGFP.phasor_data_bg)[['A1','tau1','tau2','success','nfev']]\n",
    "    df_cont = EGFP.generate_df(func = EGFP.phasor_eq_func_cont)[['A1','tau1','tau2','success','nfev']]\n",
    "    df_dis = EGFP.generate_df(func = EGFP.phasor_eq_func_DFT)[['A1','tau1','tau2','success','nfev']]\n",
    "    df_deconv = EGFP.generate_df(deconv = True)[['A1','tau1','tau2','success','nfev']]\n",
    "    df_p_list.append([df,df_bg,df_cont,df_dis,df_deconv])"
   ]
  },
  {
   "cell_type": "code",
   "execution_count": 25,
   "metadata": {},
   "outputs": [],
   "source": [
    "def n_case_df(df_list,col):\n",
    "    '''Return df for cases in df_list\n",
    "       Input:\n",
    "       df_list  list of the structure [[df_1,df_2,...df_n_case],...,] (nested list of 20 (n_photon_arr) by n_case)\n",
    "       col      col names for the cases'''\n",
    "    df_list_case = []\n",
    "    for df in df_list:\n",
    "        n_val_df =pd.concat(df,keys = col,axis = 1) #concat dfs of n cases along axis 1\n",
    "        df_list_case.append(n_val_df) #append each photon number case\n",
    "    return pd.concat(df_list_case,keys = range(20)) "
   ]
  },
  {
   "cell_type": "code",
   "execution_count": 28,
   "metadata": {},
   "outputs": [],
   "source": [
    "df_p = n_case_df(df_p_list,['no_bg','bg','cont','dis','deconv']) #phasor df for different cases\n",
    "# df_p.to_csv('df/df_phasor.csv')\n",
    "idx = pd.IndexSlice"
   ]
  },
  {
   "cell_type": "code",
   "execution_count": 82,
   "metadata": {},
   "outputs": [
    {
     "data": {
      "image/png": "[encoded data removed]",
      "text/plain": [
       "<Figure size 1400x400 with 3 Axes>"
      ]
     },
     "metadata": {},
     "output_type": "display_data"
    }
   ],
   "source": [
    "col1,col2 = df_p.columns.levels\n",
    "fig,ax = plt.subplots(1,3,figsize = (14,4))\n",
    "for i,par in enumerate(['A1','tau1','tau2']):\n",
    "    for j,case in enumerate(['no_bg','bg','deconv','cont','dis']):\n",
    "            mean = df_p.loc(axis=1)[case,par].groupby(level=0).mean()\n",
    "            std  = df_p.loc(axis=1)[case,par].groupby(level=0).std()\n",
    "            ax[i].errorbar(n_photon_arr,mean,yerr=std,fmt='x',label = case)\n",
    "            ax[i].set_xscale('log')\n",
    "            ax[i].set_xlabel('Total Photon Count')\n",
    "            ax[i].set_ylabel(par)\n",
    "            ax[i].legend()\n",
    "    ax[i].axhline([EGFP.amp[0],*EGFP.tau][i],c='k',label = 'True')\n",
    "fig.savefig('fig/phasor_params_cases.pdf')\n",
    "        "
   ]
  },
  {
   "cell_type": "code",
   "execution_count": 14,
   "metadata": {},
   "outputs": [],
   "source": [
    "N_i = 20  #n_photon number\n",
    "N_j = 100 #repeat sim number\n",
    "n_photon_arr = np.logspace(4,9,N_i).astype(int)\n",
    "lm_method_df_list = []\n",
    "for i,n_photon in enumerate(n_photon_arr):\n",
    "    EGFP.n_photon = n_photon\n",
    "    EGFP.repeat_sim(N_j)\n",
    "    lm_method_df_list.append(EGFP.val_df(2,sim_data = EGFP.sim_data, method = 'leastsq')) #store dataframe of 100 sims"
   ]
  },
  {
   "cell_type": "code",
   "execution_count": 18,
   "metadata": {},
   "outputs": [],
   "source": [
    "lm_df = pd.concat(lm_method_df_list,keys = range(20))"
   ]
  },
  {
   "cell_type": "code",
   "execution_count": 20,
   "metadata": {},
   "outputs": [],
   "source": [
    "#lm_df.to_csv('df/df_lm.csv')#save as lm in the sense of Levenberg Marquardt algorithm"
   ]
  },
  {
   "cell_type": "code",
   "execution_count": 30,
   "metadata": {},
   "outputs": [],
   "source": [
    "df_mle = pd.read_csv('df/df_mle.csv',header=[0, 1], index_col=[0,1] ) #df_p --df for mle\n",
    "df_ls  = pd.read_csv('df/df_ls.csv',header=[0, 1], index_col=[0,1] ) #df_ls --df for leastsq\n",
    "df_phasor   = pd.read_csv('df/df_phasor.csv',header=[0, 1], index_col=[0,1] ) #df_p --df for phasor\n",
    "df_lm   = pd.read_csv('df/df_lm.csv',index_col=[0,1] ) #df_lm  levenberg marquardts algorithm\n",
    "df_geo = pd.read_csv('df/geometric_sol_df.csv',header=[0, 1], index_col=[0,1] ) #df gemoetric solution"
   ]
  },
  {
   "cell_type": "code",
   "execution_count": 31,
   "metadata": {},
   "outputs": [
    {
     "data": {
      "text/html": [
       "<div>\n",
       "<style scoped>\n",
       "    .dataframe tbody tr th:only-of-type {\n",
       "        vertical-align: middle;\n",
       "    }\n",
       "\n",
       "    .dataframe tbody tr th {\n",
       "        vertical-align: top;\n",
       "    }\n",
       "\n",
       "    .dataframe thead tr th {\n",
       "        text-align: left;\n",
       "    }\n",
       "</style>\n",
       "<table border=\"1\" class=\"dataframe\">\n",
       "  <thead>\n",
       "    <tr>\n",
       "      <th></th>\n",
       "      <th></th>\n",
       "      <th colspan=\"3\" halign=\"left\">no_bg</th>\n",
       "      <th colspan=\"3\" halign=\"left\">bg</th>\n",
       "      <th colspan=\"3\" halign=\"left\">deconv</th>\n",
       "      <th colspan=\"3\" halign=\"left\">cont</th>\n",
       "      <th>no_bg</th>\n",
       "      <th>bg</th>\n",
       "      <th>deconv</th>\n",
       "      <th>cont</th>\n",
       "    </tr>\n",
       "    <tr>\n",
       "      <th></th>\n",
       "      <th></th>\n",
       "      <th>A1</th>\n",
       "      <th>tau1</th>\n",
       "      <th>tau2</th>\n",
       "      <th>A1</th>\n",
       "      <th>tau1</th>\n",
       "      <th>tau2</th>\n",
       "      <th>A1</th>\n",
       "      <th>tau1</th>\n",
       "      <th>tau2</th>\n",
       "      <th>A1</th>\n",
       "      <th>tau1</th>\n",
       "      <th>tau2</th>\n",
       "      <th>success</th>\n",
       "      <th>success</th>\n",
       "      <th>success</th>\n",
       "      <th>success</th>\n",
       "    </tr>\n",
       "  </thead>\n",
       "  <tbody>\n",
       "    <tr>\n",
       "      <th rowspan=\"5\" valign=\"top\">0</th>\n",
       "      <th>0</th>\n",
       "      <td>0.999640</td>\n",
       "      <td>2.740339</td>\n",
       "      <td>100.000000</td>\n",
       "      <td>0.999523</td>\n",
       "      <td>2.739631</td>\n",
       "      <td>100.000000</td>\n",
       "      <td>1.000121</td>\n",
       "      <td>2.749071</td>\n",
       "      <td>100.000000</td>\n",
       "      <td>1.001609</td>\n",
       "      <td>2.905055</td>\n",
       "      <td>34.103052</td>\n",
       "      <td>False</td>\n",
       "      <td>False</td>\n",
       "      <td>False</td>\n",
       "      <td>False</td>\n",
       "    </tr>\n",
       "    <tr>\n",
       "      <th>1</th>\n",
       "      <td>0.999859</td>\n",
       "      <td>2.756798</td>\n",
       "      <td>100.000000</td>\n",
       "      <td>0.999743</td>\n",
       "      <td>2.756100</td>\n",
       "      <td>100.000000</td>\n",
       "      <td>0.086987</td>\n",
       "      <td>1.569734</td>\n",
       "      <td>2.649376</td>\n",
       "      <td>0.999960</td>\n",
       "      <td>2.719867</td>\n",
       "      <td>747.734543</td>\n",
       "      <td>False</td>\n",
       "      <td>False</td>\n",
       "      <td>True</td>\n",
       "      <td>False</td>\n",
       "    </tr>\n",
       "    <tr>\n",
       "      <th>2</th>\n",
       "      <td>0.916702</td>\n",
       "      <td>2.583994</td>\n",
       "      <td>4.113767</td>\n",
       "      <td>0.950543</td>\n",
       "      <td>2.601895</td>\n",
       "      <td>4.960447</td>\n",
       "      <td>0.999634</td>\n",
       "      <td>2.699313</td>\n",
       "      <td>100.000000</td>\n",
       "      <td>0.999952</td>\n",
       "      <td>2.760261</td>\n",
       "      <td>67.199231</td>\n",
       "      <td>True</td>\n",
       "      <td>True</td>\n",
       "      <td>False</td>\n",
       "      <td>False</td>\n",
       "    </tr>\n",
       "    <tr>\n",
       "      <th>3</th>\n",
       "      <td>0.076209</td>\n",
       "      <td>1.100384</td>\n",
       "      <td>2.859261</td>\n",
       "      <td>0.414865</td>\n",
       "      <td>2.204988</td>\n",
       "      <td>3.151193</td>\n",
       "      <td>1.000024</td>\n",
       "      <td>2.716686</td>\n",
       "      <td>100.000000</td>\n",
       "      <td>0.999933</td>\n",
       "      <td>2.808383</td>\n",
       "      <td>82.583520</td>\n",
       "      <td>True</td>\n",
       "      <td>True</td>\n",
       "      <td>False</td>\n",
       "      <td>False</td>\n",
       "    </tr>\n",
       "    <tr>\n",
       "      <th>4</th>\n",
       "      <td>0.889710</td>\n",
       "      <td>2.599050</td>\n",
       "      <td>3.822463</td>\n",
       "      <td>0.965030</td>\n",
       "      <td>2.650442</td>\n",
       "      <td>5.329876</td>\n",
       "      <td>0.636350</td>\n",
       "      <td>2.383843</td>\n",
       "      <td>3.224107</td>\n",
       "      <td>0.999922</td>\n",
       "      <td>2.768560</td>\n",
       "      <td>81.546743</td>\n",
       "      <td>True</td>\n",
       "      <td>True</td>\n",
       "      <td>True</td>\n",
       "      <td>False</td>\n",
       "    </tr>\n",
       "    <tr>\n",
       "      <th>...</th>\n",
       "      <th>...</th>\n",
       "      <td>...</td>\n",
       "      <td>...</td>\n",
       "      <td>...</td>\n",
       "      <td>...</td>\n",
       "      <td>...</td>\n",
       "      <td>...</td>\n",
       "      <td>...</td>\n",
       "      <td>...</td>\n",
       "      <td>...</td>\n",
       "      <td>...</td>\n",
       "      <td>...</td>\n",
       "      <td>...</td>\n",
       "      <td>...</td>\n",
       "      <td>...</td>\n",
       "      <td>...</td>\n",
       "      <td>...</td>\n",
       "    </tr>\n",
       "    <tr>\n",
       "      <th rowspan=\"5\" valign=\"top\">19</th>\n",
       "      <th>95</th>\n",
       "      <td>0.477737</td>\n",
       "      <td>2.416990</td>\n",
       "      <td>3.057329</td>\n",
       "      <td>0.906297</td>\n",
       "      <td>2.625091</td>\n",
       "      <td>4.053909</td>\n",
       "      <td>0.760102</td>\n",
       "      <td>2.515333</td>\n",
       "      <td>3.218892</td>\n",
       "      <td>1.000056</td>\n",
       "      <td>2.797927</td>\n",
       "      <td>77.092554</td>\n",
       "      <td>True</td>\n",
       "      <td>True</td>\n",
       "      <td>True</td>\n",
       "      <td>False</td>\n",
       "    </tr>\n",
       "    <tr>\n",
       "      <th>96</th>\n",
       "      <td>0.496021</td>\n",
       "      <td>2.428520</td>\n",
       "      <td>3.069364</td>\n",
       "      <td>0.908762</td>\n",
       "      <td>2.626840</td>\n",
       "      <td>4.075881</td>\n",
       "      <td>0.765305</td>\n",
       "      <td>2.517031</td>\n",
       "      <td>3.228325</td>\n",
       "      <td>1.000055</td>\n",
       "      <td>2.797843</td>\n",
       "      <td>77.093230</td>\n",
       "      <td>True</td>\n",
       "      <td>True</td>\n",
       "      <td>True</td>\n",
       "      <td>False</td>\n",
       "    </tr>\n",
       "    <tr>\n",
       "      <th>97</th>\n",
       "      <td>0.509061</td>\n",
       "      <td>2.437886</td>\n",
       "      <td>3.077414</td>\n",
       "      <td>0.911821</td>\n",
       "      <td>2.629704</td>\n",
       "      <td>4.100828</td>\n",
       "      <td>0.742080</td>\n",
       "      <td>2.506268</td>\n",
       "      <td>3.195066</td>\n",
       "      <td>1.000054</td>\n",
       "      <td>2.797843</td>\n",
       "      <td>77.285657</td>\n",
       "      <td>True</td>\n",
       "      <td>True</td>\n",
       "      <td>True</td>\n",
       "      <td>False</td>\n",
       "    </tr>\n",
       "    <tr>\n",
       "      <th>98</th>\n",
       "      <td>0.509595</td>\n",
       "      <td>2.438374</td>\n",
       "      <td>3.077487</td>\n",
       "      <td>0.911510</td>\n",
       "      <td>2.629429</td>\n",
       "      <td>4.097466</td>\n",
       "      <td>0.747104</td>\n",
       "      <td>2.509983</td>\n",
       "      <td>3.199216</td>\n",
       "      <td>1.000055</td>\n",
       "      <td>2.797875</td>\n",
       "      <td>77.196646</td>\n",
       "      <td>True</td>\n",
       "      <td>True</td>\n",
       "      <td>True</td>\n",
       "      <td>False</td>\n",
       "    </tr>\n",
       "    <tr>\n",
       "      <th>99</th>\n",
       "      <td>0.476966</td>\n",
       "      <td>2.415825</td>\n",
       "      <td>3.057505</td>\n",
       "      <td>0.904878</td>\n",
       "      <td>2.623852</td>\n",
       "      <td>4.044343</td>\n",
       "      <td>0.751080</td>\n",
       "      <td>2.510287</td>\n",
       "      <td>3.207905</td>\n",
       "      <td>1.000057</td>\n",
       "      <td>2.798205</td>\n",
       "      <td>76.915252</td>\n",
       "      <td>True</td>\n",
       "      <td>True</td>\n",
       "      <td>True</td>\n",
       "      <td>False</td>\n",
       "    </tr>\n",
       "  </tbody>\n",
       "</table>\n",
       "<p>2000 rows × 16 columns</p>\n",
       "</div>"
      ],
      "text/plain": [
       "          no_bg                              bg                        \\\n",
       "             A1      tau1        tau2        A1      tau1        tau2   \n",
       "0  0   0.999640  2.740339  100.000000  0.999523  2.739631  100.000000   \n",
       "   1   0.999859  2.756798  100.000000  0.999743  2.756100  100.000000   \n",
       "   2   0.916702  2.583994    4.113767  0.950543  2.601895    4.960447   \n",
       "   3   0.076209  1.100384    2.859261  0.414865  2.204988    3.151193   \n",
       "   4   0.889710  2.599050    3.822463  0.965030  2.650442    5.329876   \n",
       "...         ...       ...         ...       ...       ...         ...   \n",
       "19 95  0.477737  2.416990    3.057329  0.906297  2.625091    4.053909   \n",
       "   96  0.496021  2.428520    3.069364  0.908762  2.626840    4.075881   \n",
       "   97  0.509061  2.437886    3.077414  0.911821  2.629704    4.100828   \n",
       "   98  0.509595  2.438374    3.077487  0.911510  2.629429    4.097466   \n",
       "   99  0.476966  2.415825    3.057505  0.904878  2.623852    4.044343   \n",
       "\n",
       "         deconv                            cont                         no_bg  \\\n",
       "             A1      tau1        tau2        A1      tau1        tau2 success   \n",
       "0  0   1.000121  2.749071  100.000000  1.001609  2.905055   34.103052   False   \n",
       "   1   0.086987  1.569734    2.649376  0.999960  2.719867  747.734543   False   \n",
       "   2   0.999634  2.699313  100.000000  0.999952  2.760261   67.199231    True   \n",
       "   3   1.000024  2.716686  100.000000  0.999933  2.808383   82.583520    True   \n",
       "   4   0.636350  2.383843    3.224107  0.999922  2.768560   81.546743    True   \n",
       "...         ...       ...         ...       ...       ...         ...     ...   \n",
       "19 95  0.760102  2.515333    3.218892  1.000056  2.797927   77.092554    True   \n",
       "   96  0.765305  2.517031    3.228325  1.000055  2.797843   77.093230    True   \n",
       "   97  0.742080  2.506268    3.195066  1.000054  2.797843   77.285657    True   \n",
       "   98  0.747104  2.509983    3.199216  1.000055  2.797875   77.196646    True   \n",
       "   99  0.751080  2.510287    3.207905  1.000057  2.798205   76.915252    True   \n",
       "\n",
       "           bg  deconv    cont  \n",
       "      success success success  \n",
       "0  0    False   False   False  \n",
       "   1    False    True   False  \n",
       "   2     True   False   False  \n",
       "   3     True   False   False  \n",
       "   4     True    True   False  \n",
       "...       ...     ...     ...  \n",
       "19 95    True    True   False  \n",
       "   96    True    True   False  \n",
       "   97    True    True   False  \n",
       "   98    True    True   False  \n",
       "   99    True    True   False  \n",
       "\n",
       "[2000 rows x 16 columns]"
      ]
     },
     "execution_count": 31,
     "metadata": {},
     "output_type": "execute_result"
    }
   ],
   "source": [
    "df_geo"
   ]
  },
  {
   "cell_type": "code",
   "execution_count": null,
   "metadata": {},
   "outputs": [],
   "source": []
  }
 ],
 "metadata": {
  "kernelspec": {
   "display_name": "Python 3.10.5 64-bit",
   "language": "python",
   "name": "python3"
  },
  "language_info": {
   "codemirror_mode": {
    "name": "ipython",
    "version": 3
   },
   "file_extension": ".py",
   "mimetype": "text/x-python",
   "name": "python",
   "nbconvert_exporter": "python",
   "pygments_lexer": "ipython3",
   "version": "3.10.5"
  },
  "orig_nbformat": 4,
  "vscode": {
   "interpreter": {
    "hash": "aee8b7b246df8f9039afb4144a1f6fd8d2ca17a180786b69acc140d282b71a49"
   }
  }
 },
 "nbformat": 4,
 "nbformat_minor": 2
}
