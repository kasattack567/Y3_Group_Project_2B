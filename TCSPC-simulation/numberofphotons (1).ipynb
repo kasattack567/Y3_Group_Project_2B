{
 "cells": [
  {
   "cell_type": "markdown",
   "metadata": {
    "collapsed": false
   },
   "source": [
    "# Investigating the Effect of Changing Number of Photons\n",
    "\n",
    "This notebook investigate how the variation of number of photons will affect the TCSPC and phasor result."
   ]
  },
  {
   "cell_type": "code",
   "execution_count": 4,
   "metadata": {
    "collapsed": false
   },
   "outputs": [
    {
     "ename": "ModuleNotFoundError",
     "evalue": "No module named 'numdifftools'",
     "output_type": "error",
     "traceback": [
      "\u001b[0;31m---------------------------------------------------------------------------\u001b[0m",
      "\u001b[0;31mModuleNotFoundError\u001b[0m                       Traceback (most recent call last)",
      "\u001b[0;32m/tmp/ipykernel_445/75013038.py\u001b[0m in \u001b[0;36m<cell line: 15>\u001b[0;34m()\u001b[0m\n\u001b[1;32m     13\u001b[0m \u001b[0;32mimport\u001b[0m \u001b[0minspect\u001b[0m\u001b[0;34m\u001b[0m\u001b[0;34m\u001b[0m\u001b[0m\n\u001b[1;32m     14\u001b[0m \u001b[0;32mimport\u001b[0m \u001b[0mpandas\u001b[0m \u001b[0;32mas\u001b[0m \u001b[0mpd\u001b[0m\u001b[0;34m\u001b[0m\u001b[0;34m\u001b[0m\u001b[0m\n\u001b[0;32m---> 15\u001b[0;31m \u001b[0;32mimport\u001b[0m \u001b[0mnumdifftools\u001b[0m\u001b[0;34m\u001b[0m\u001b[0;34m\u001b[0m\u001b[0m\n\u001b[0m\u001b[1;32m     16\u001b[0m \u001b[0;32mimport\u001b[0m \u001b[0mstatsmodels\u001b[0m\u001b[0;34m.\u001b[0m\u001b[0mapi\u001b[0m \u001b[0;32mas\u001b[0m \u001b[0msm\u001b[0m\u001b[0;34m\u001b[0m\u001b[0;34m\u001b[0m\u001b[0m\n\u001b[1;32m     17\u001b[0m \u001b[0;34m\u001b[0m\u001b[0m\n",
      "\u001b[0;31mModuleNotFoundError\u001b[0m: No module named 'numdifftools'"
     ]
    }
   ],
   "source": [
    "# Import modules\n",
    "import numpy as np\n",
    "import matplotlib.pyplot as plt\n",
    "import matplotlib as mpl\n",
    "from scipy.signal import convolve\n",
    "from scipy import stats\n",
    "from sympy import symbols, solve, Eq, Function, nsolve\n",
    "from sympy.matrices import Matrix\n",
    "import sympy as sp\n",
    "from scipy.optimize import curve_fit\n",
    "from lmfit import Model, Parameters\n",
    "import lmfit\n",
    "import inspect\n",
    "import pandas as pd\n",
    "import numdifftools\n",
    "import statsmodels.api as sm\n",
    "\n",
    "plt.style.use('seaborn-v0_8-deep')"
   ]
  },
  {
   "cell_type": "code",
   "execution_count": 0,
   "metadata": {
    "collapsed": false
   },
   "outputs": [
   ],
   "source": [
    "# Create an array for different run times, varying the number of photons\n",
    "run_time_array = np.arange(20*60,8*60*60,50)    # 20 minutes to 8 hours\n",
    "\n",
    "#Set default params\n",
    "irfwidth = 0.001\n",
    "\n",
    "rng = np.random.default_rng()"
   ]
  },
  {
   "cell_type": "markdown",
   "metadata": {
    "collapsed": false
   },
   "source": [
    "#### Questions\n",
    "- value of irfwidth\n",
    "- MC？"
   ]
  },
  {
   "cell_type": "markdown",
   "metadata": {
    "collapsed": false
   },
   "source": [
    "## TCSPC\n",
    "Perform analysis on EGFP with two close lifetimes of:\n",
    "| $\\tau_1$      | $3.07 ns$  |\n",
    "|---------------|----------|\n",
    "| $\\tau_2$      | $2.43 ns$  |."
   ]
  },
  {
   "cell_type": "markdown",
   "metadata": {
    "collapsed": false
   },
   "source": [
    "### Generate TCSPC Data"
   ]
  },
  {
   "cell_type": "code",
   "execution_count": 0,
   "metadata": {
    "collapsed": false
   },
   "outputs": [
   ],
   "source": [
    "def TCSPCsim(amplitudes, lifetimes, run_time, n_bins=380, window=20, bg=10, t0=10/19, deconv=False):\n",
    "    '''Generate TCSPC fluorescence decay data (not Monte Carlo method).'''\n",
    "    '''\n",
    "    Inputs:\n",
    "    - amplitudes: fractional intensities of each lifetime component (1d array)\n",
    "    - lifetimes: lifetime array (1d array)\n",
    "    - run_time: run time in seconds\n",
    "    - irfwidth: sigma of Gaussian IRF\n",
    "    - n_bins: number of histogram bins, default is 380\n",
    "    - window: decay data time window in ns, default is 20\n",
    "    - bg: background count rate, default is 10 counts per second\n",
    "    - t0: IRF offset in ns, default is 10/19\n",
    "    - deconv: if True, deconvolve the data with the IRF, default is False\n",
    "\n",
    "    Outputs: \n",
    "    - t (time array)\n",
    "    - noisydecay (decay data)\n",
    "    '''\n",
    "    t = np.linspace(0, window, n_bins)\n",
    "\n",
    "    global irfwidth\n",
    "        \n",
    "    # Check that each amplitude has a corresponding lifetime\n",
    "    if len(amplitudes) != len(lifetimes):\n",
    "        return None, None\n",
    "    \n",
    "    # Generate the pure decay signal\n",
    "    pure_decay = sum([amplitudes[j] * np.exp(-t / lifetimes[j]) for j in range(len(lifetimes))])\n",
    "    \n",
    "    # Generate the IRF\n",
    "    irf_kernel = stats.norm.pdf(t, loc=t0, scale=irfwidth)\n",
    "    \n",
    "    # Convolve the pure decay with the IRF\n",
    "    Iconvol = convolve(pure_decay, irf_kernel, mode='full')[:n_bins] / np.sum(irf_kernel)\n",
    "    \n",
    "    # Calculate the number of fluorescence counts\n",
    "    fluorate = 2500 - bg  # Subtract background to get fluorescence rate\n",
    "    totalfluorescence = fluorate * run_time\n",
    "    noiseless = totalfluorescence * Iconvol / np.sum(Iconvol)\n",
    "    noiseless += bg * run_time / n_bins  # Add background counts evenly\n",
    "    \n",
    "    # Add Poisson noise\n",
    "    noisydecay = rng.poisson(noiseless)\n",
    "    \n",
    "    # Optionally deconvolve\n",
    "    #if deconv:\n",
    "        # Assuming deconv_fft function is defined elsewhere to handle deconvolution\n",
    "    #    noisydecay = deconv_fft(noisydecay, kernel(t, t0, irfwidth))\n",
    "    \n",
    "    return t, noisydecay\n",
    "\n",
    "def plot_TCSPC_decay(t, y, tau, logy=True, deconv=False, bins=None):\n",
    "    '''Plot TCSPC decay.'''\n",
    "    '''\n",
    "    Inputs:\n",
    "    - t: time array corresponding to the y data.\n",
    "    - y: photon number array (ydata).\n",
    "    - tau: lifetimes used in the simulation or data analysis.\n",
    "    - logy: if True, y-axis will be on a logarithmic scale; linear otherwise.\n",
    "    - deconv: if True, apply deconvolution to y using the instrument response function (IRF).\n",
    "    - bins: the bins used for the histogram or decay curve; necessary if deconvolution is applied.\n",
    "    '''\n",
    "    fig, ax = plt.subplots() \n",
    "\n",
    "    ax.set_title(r'TCSPC Fluorescence Decay ($\\tau =$' + ', '.join([f'{lifetime} ns' for lifetime in tau]) + ')')\n",
    "    ax.set_xlabel('Time (ns)')\n",
    "    ax.set_ylabel('Photon Count')\n",
    "    \n",
    "    if logy:\n",
    "        ax.set_yscale('log')\n",
    "    \n",
    "    #if deconv and bins is not None:\n",
    "        # Assuming deconv_fft and kernel functions are defined elsewhere.\n",
    "        # You might need to adjust the parameters of kernel function based on your actual use case.\n",
    "    #    y = deconv_fft(y, kernel(bins))\n",
    "    \n",
    "    # Check if y is a single dataset or contains multiple datasets\n",
    "    if y.ndim == 1:\n",
    "        # Single dataset\n",
    "        ax.plot(t, y, label='Data')\n",
    "    else:\n",
    "        # Multiple datasets, e.g., from simulations with different lifetimes\n",
    "        for i, y_i in enumerate(y):\n",
    "            ax.plot(t, y_i, label=f'{tau[i]} ns')\n",
    "    \n",
    "    ax.legend()\n",
    "\n",
    "    return"
   ]
  },
  {
   "cell_type": "code",
   "execution_count": 0,
   "metadata": {
    "collapsed": false
   },
   "outputs": [
   ],
   "source": [
    "# Generate TCSPC data\n",
    "EGFPt,EGFPy = TCSPCsim([0.503,0.497],[3.07,2.43], 20*60)\n",
    "plot_TCSPC_decay(EGFPt, EGFPy, [0.4,4])"
   ]
  },
  {
   "cell_type": "markdown",
   "metadata": {
    "collapsed": false
   },
   "source": [
    "### Fit with COMBYLA"
   ]
  },
  {
   "cell_type": "code",
   "execution_count": 0,
   "metadata": {
    "collapsed": false
   },
   "outputs": [
   ],
   "source": [
    "def exp2(t,A1,tau1,tau2):\n",
    "    '''returns bi-exponential A1*exp(-t/tau1) + (1-A1)*exp(-t/tau2)\n",
    "       t    time array (ns)\n",
    "       A1   amplitude 1\n",
    "       tau1 lifetime 1 (ns)\n",
    "       tau2 lifetime 2 (ns)\n",
    "    '''\n",
    "    return A1*np.exp(-t/tau1)+(1-A1)*np.exp(-t/tau2)\n",
    "\n",
    "def exp_fit(func,tdata,ydata,guess,run_time,end = int((15/20*380)),bg = 10,weights = None,method = 'cobyla'):\n",
    "    '''use least-square fit for given exponential function (exp1 or exp2)\n",
    "       Inputs:\n",
    "       func      exp function to be fitted \n",
    "       tdata     time array (non-trimmed)\n",
    "       ydata     photon count (non-trimmed)\n",
    "       guess     guess intial parameters for fitting\n",
    "       end       trim the end point to avoid low count statistics\n",
    "       bg        background count per s\n",
    "       run_time  run_time (s)\n",
    "       weights   weights for the data points of the fit (1/yerr)\n",
    "       method    fit method\n",
    "       Outputs:\n",
    "       result        lmfit result\n",
    "       params_opt    fitted parameters\n",
    "       chi2_red      reduced chi2\n",
    "       fit_report    fit_report from lmfit\n",
    "       '''\n",
    "    model = Model(func)\n",
    "    params = Parameters()\n",
    "    # Get the parameter names and default values from the input function\n",
    "    params_name = inspect.signature(func).parameters\n",
    "    params_name = list(params_name.keys())[1:]  # Exclude 'x' from parameters\n",
    "    for i,name in enumerate(params_name):\n",
    "    # Add initial guess value for the parameter\n",
    "        params.add(name,value=guess[i],min = 0)\n",
    "\n",
    "    #Trim and scale data for fitting\n",
    "    ydata = ydata-np.full(len(ydata),int(bg*run_time/len(tdata)))#subtract background from each bin\n",
    "    max_idx = np.argmax(ydata) #index of data point with maximum photon count N(0)\n",
    "    tdata = tdata[:end-max_idx] #start from t = 0\n",
    "    ydata = ydata[max_idx:end]  #start from max.\n",
    "    ydata = ydata/ydata[0] # scale y data such that the beginning is 1 \n",
    "\n",
    "    \n",
    "    result = model.fit(ydata, params, t=tdata,weights = weights,method = method) #perform least squares fit\n",
    "    params_opt = result.params #optimized params\n",
    "    chi2= result.chisqr #chi squared\n",
    "    chi2_red = result.chisqr/(len(tdata)-len(params))\n",
    "    fit_report = result.fit_report()\n",
    "    return result, params_opt, chi2_red, fit_report\n"
   ]
  },
  {
   "cell_type": "code",
   "execution_count": 0,
   "metadata": {
    "collapsed": false
   },
   "outputs": [
   ],
   "source": [
    "result,params,chi2,report=exp_fit(exp2,t, y,[0.503,3.07,2.43],20*60,method = 'cobyla')\n",
    "print(report)"
   ]
  },
  {
   "cell_type": "code",
   "execution_count": 0,
   "metadata": {
    "collapsed": false
   },
   "outputs": [
   ],
   "source": [
    "result,params,chi2,report=exp_fit(exp2,t, y,[0.503,3.07,2.43],20*60,method = 'leastsq')\n",
    "result\n",
    "\n",
    "params['tau1'].stderr"
   ]
  },
  {
   "cell_type": "code",
   "execution_count": 0,
   "metadata": {
    "collapsed": false
   },
   "outputs": [
   ],
   "source": [
    "# Analyse for increasing run time\n",
    "tau1_array=[]\n",
    "tau2_array=[]\n",
    "\n",
    "for i in run_time_array:\n",
    "    t=[]\n",
    "    y=[]\n",
    "\n",
    "    t,y = TCSPCsim([0.503,0.497],[3.07,2.43], i)\n",
    "    result,params,chi2,report=exp_fit(exp2,t, y,[0.503,3.07,2.43],i,method = 'cobyla')\n",
    "\n",
    "    tau1_array.append(params['tau1'].value)\n",
    "    tau2_array.append(params['tau2'].value)\n",
    "\n",
    "# Plot the fitted lifetimes against run time\n",
    "plt.figure()\n",
    "\n",
    "# Plot fitted values\n",
    "plt.errorbar(run_time_array/60, tau1_array, fmt='.', linestyle='none', label='Fitted $\\\\tau_1$')\n",
    "plt.errorbar(run_time_array/60, tau2_array, fmt='.', linestyle='none', label='Fitted $\\\\tau_2$')\n",
    "\n",
    "# Plot real values\n",
    "plt.axhline(y=3.07, color='grey', linestyle='-', label='Real $\\\\tau_1$')\n",
    "plt.axhline(y=2.43, color='grey', linestyle='-', label='Real $\\\\tau_2$')\n",
    "\n",
    "plt.xlabel('Run Time (minutes)')  # X-axis label\n",
    "plt.ylabel('Lifetime ($\\\\tau$)')  # Y-axis label\n",
    "plt.title('Lifetimes ($\\\\tau_1$ and $\\\\tau_2$) vs. Run Time - COBYLA')  # Chart title\n",
    "plt.legend()\n",
    "\n",
    "plt.show()"
   ]
  },
  {
   "cell_type": "code",
   "execution_count": 0,
   "metadata": {
    "collapsed": false
   },
   "outputs": [
   ],
   "source": [
    "# A quick plot against #photon = time*2490\n",
    "plt.figure()\n",
    "\n",
    "# Plot fitted values\n",
    "plt.errorbar(run_time_array*2490, tau1_array, fmt='.', linestyle='none', label='Fitted $\\\\tau_1$')\n",
    "plt.errorbar(run_time_array*2490, tau2_array, fmt='.', linestyle='none', label='Fitted $\\\\tau_2$')\n",
    "\n",
    "# Plot real values\n",
    "plt.axhline(y=3.07, color='grey', linestyle='-', label='Real $\\\\tau_1$')\n",
    "plt.axhline(y=2.43, color='grey', linestyle='-', label='Real $\\\\tau_2$')\n",
    "\n",
    "plt.xlabel('Number of Photons')  # X-axis label\n",
    "plt.ylabel('Lifetime ($\\\\tau$)')  # Y-axis label\n",
    "plt.title('Lifetimes ($\\\\tau_1$ and $\\\\tau_2$) vs. #Photons - COBYLA')  # Chart title\n",
    "plt.legend()\n",
    "\n",
    "plt.show()"
   ]
  },
  {
   "cell_type": "code",
   "execution_count": 0,
   "metadata": {
    "collapsed": false
   },
   "outputs": [
   ],
   "source": [
    "# Calculate deviations from actual values\n",
    "deviation_tau1 = [tau - 3.07 for tau in tau1_array]\n",
    "deviation_tau2 = [tau - 2.43 for tau in tau2_array]\n",
    "\n",
    "# Plotting deviations for tau1 and tau2 against run time\n",
    "plt.figure()\n",
    "\n",
    "#Plot deviations\n",
    "plt.errorbar(run_time_array*2490, deviation_tau1, fmt='.', linestyle='none', label='Deviation $\\\\tau_1$')\n",
    "plt.errorbar(run_time_array*2490, deviation_tau2, fmt='.', linestyle='none', label='Deviation $\\\\tau_2$')\n",
    "\n",
    "plt.axhline(y=0, color='grey', linestyle='-')\n",
    "\n",
    "plt.xlabel('Number of Photons')\n",
    "plt.ylabel('Deviation ($\\\\Delta \\\\tau$ in ns)')\n",
    "plt.title('Deviation of Estimated Lifetimes from Actual Values')\n",
    "plt.legend()\n",
    "\n",
    "plt.show()"
   ]
  },
  {
   "cell_type": "markdown",
   "metadata": {
    "collapsed": false
   },
   "source": [
    "### Fit with Least Squares\n",
    "\n"
   ]
  },
  {
   "cell_type": "code",
   "execution_count": 0,
   "metadata": {
    "collapsed": false
   },
   "outputs": [
   ],
   "source": [
    "# Analyse for increasing run time\n",
    "tau1_array_lsq=[]\n",
    "tau2_array_lsq=[]\n",
    "dtau1_array_lsq=[]\n",
    "dtau2_array_lsq=[]\n",
    "\n",
    "for i in run_time_array:\n",
    "    t=[]\n",
    "    y=[]\n",
    "\n",
    "    t,y = TCSPCsim([0.503,0.497],[3.07,2.43], i)\n",
    "    result_lsq,params_lsq,chi2_lsq,report_lsq = exp_fit(exp2,t, y,[0.503,3.07,2.43],i,method = 'leastsq')\n",
    "\n",
    "    tau1_array_lsq.append(params_lsq['tau1'].value)\n",
    "    tau2_array_lsq.append(params_lsq['tau2'].value)\n",
    "    dtau1_array_lsq.append(params_lsq['tau1'].stderr)\n",
    "    dtau2_array_lsq.append(params_lsq['tau2'].stderr)\n",
    "\n",
    "# Plot the fitted lifetimes against run time\n",
    "plt.figure()\n",
    "plt.ylim(0, 5) # Lifetimes often goes quite wrong for the least square method, limit y axis for better plot\n",
    "\n",
    "# Plot fitted values\n",
    "plt.errorbar(run_time_array/60, tau1_array_lsq, fmt='.', linestyle='none', label='Fitted $\\\\tau_1$')\n",
    "plt.errorbar(run_time_array/60, tau2_array_lsq, fmt='.', linestyle='none', label='Fitted $\\\\tau_2$')\n",
    "\n",
    "# Plot real values\n",
    "plt.axhline(y=3.07, color='grey', linestyle='-', label='Real $\\\\tau_1$')\n",
    "plt.axhline(y=2.43, color='grey', linestyle='-', label='Real $\\\\tau_2$')\n",
    "\n",
    "plt.xlabel('Run Time (minutes)')  # X-axis label\n",
    "plt.ylabel('Lifetime ($\\\\tau$)')  # Y-axis label\n",
    "plt.title('Lifetimes ($\\\\tau_1$ and $\\\\tau_2$) vs. Run Time - Least Square')  # Chart title\n",
    "plt.legend()\n",
    "\n",
    "plt.show()"
   ]
  },
  {
   "cell_type": "code",
   "execution_count": 0,
   "metadata": {
    "collapsed": false
   },
   "outputs": [
   ],
   "source": [
    "# A quick plot against #photon = time*2490\n",
    "plt.figure()\n",
    "plt.ylim(0, 5) # Lifetimes often goes quite wrong for the least square method, limit y axis for better plot\n",
    "\n",
    "# Plot fitted values\n",
    "plt.errorbar(run_time_array*2490, tau1_array_lsq, fmt='.', linestyle='none', label='Fitted $\\\\tau_1$')\n",
    "plt.errorbar(run_time_array*2490, tau2_array_lsq, fmt='.', linestyle='none', label='Fitted $\\\\tau_2$')\n",
    "\n",
    "# Plot real values\n",
    "plt.axhline(y=3.07, color='grey', linestyle='-', label='Real $\\\\tau_1$')\n",
    "plt.axhline(y=2.43, color='grey', linestyle='-', label='Real $\\\\tau_2$')\n",
    "\n",
    "plt.xlabel('Number of Photons')  # X-axis label\n",
    "plt.ylabel('Lifetime ($\\\\tau$)')  # Y-axis label\n",
    "plt.title('Lifetimes ($\\\\tau_1$ and $\\\\tau_2$) vs. #Photons - Least Square')  # Chart title\n",
    "plt.legend()\n",
    "\n",
    "plt.show()"
   ]
  },
  {
   "cell_type": "code",
   "execution_count": 0,
   "metadata": {
    "collapsed": false
   },
   "outputs": [
   ],
   "source": [
    "# Compare error against number of photons\n",
    "plt.figure()\n",
    "plt.ylim(0, 2) # Lifetimes often goes quite wrong for the least square method, limit y axis for better plot\n",
    "\n",
    "#Plot deviations\n",
    "plt.errorbar(run_time_array*2490, dtau1_array_lsq, fmt='.', linestyle='none', label='Error $\\\\tau_1$')\n",
    "plt.errorbar(run_time_array*2490, dtau2_array_lsq, fmt='.', linestyle='none', label='Error $\\\\tau_2$')\n",
    "\n",
    "plt.axhline(y=0, color='grey', linestyle='-')\n",
    "\n",
    "plt.xlabel('Number of Photons')\n",
    "plt.ylabel('Deviation ($\\\\Delta \\\\tau$ in ns)')\n",
    "plt.title('Size of error against Number of Photons')\n",
    "plt.legend()\n",
    "\n",
    "plt.show()"
   ]
  },
  {
   "cell_type": "code",
   "execution_count": 0,
   "metadata": {
    "collapsed": false
   },
   "outputs": [
   ],
   "source": [
    "# Calculate deviations from actual values\n",
    "deviation_tau1_lsq = [tau - 3.07 for tau in tau1_array_lsq]\n",
    "deviation_tau2_lsq = [tau - 2.43 for tau in tau2_array_lsq]\n",
    "\n",
    "# Plotting deviations for tau1 and tau2 against run time\n",
    "plt.figure()\n",
    "plt.ylim(0, 4) # Lifetimes often goes quite wrong for the least square method, limit y axis for better plot\n",
    "\n",
    "#Plot deviations\n",
    "plt.errorbar(run_time_array*2490, deviation_tau1_lsq, fmt='.', linestyle='none', label='Deviation $\\\\tau_1$')\n",
    "plt.errorbar(run_time_array*2490, deviation_tau2_lsq, fmt='.', linestyle='none', label='Deviation $\\\\tau_2$')\n",
    "\n",
    "plt.axhline(y=0, color='grey', linestyle='-')\n",
    "\n",
    "plt.xlabel('Number of Photons')\n",
    "plt.ylabel('Deviation ($\\\\Delta \\\\tau$ in ns)')\n",
    "plt.title('Deviation of Estimated Lifetimes from Actual Values')\n",
    "plt.legend()\n",
    "\n",
    "plt.show()"
   ]
  },
  {
   "cell_type": "markdown",
   "metadata": {
    "collapsed": false
   },
   "source": [
    "## LWLR\n",
    "\n",
    "Locally Weighted Linear Regression\n",
    "\n"
   ]
  },
  {
   "cell_type": "code",
   "execution_count": 0,
   "metadata": {
    "collapsed": false
   },
   "outputs": [
   ],
   "source": [
    "# lifetime against running time\n",
    "# the parameter 'frac' represents the proportion of data points to fit, which determine the degree of smooth mainly\n",
    "lowess_1 = sm.nonparametric.lowess(tau1_array_lsq, run_time_array/60, frac=0.1)\n",
    "lowess_2 = sm.nonparametric.lowess(tau2_array_lsq, run_time_array/60, frac=0.1)\n",
    "\n",
    "# the returned results of LOWESS is a 2D array, the first element is x values, the second element is y values. \n",
    "lowess_x1 = list(zip(*lowess_1))[0]\n",
    "lowess_y1 = list(zip(*lowess_1))[1]\n",
    "lowess_x2 = list(zip(*lowess_2))[0]\n",
    "lowess_y2 = list(zip(*lowess_2))[1]\n",
    "\n",
    "# plot the graph of lifetime against number of photons\n",
    "# Plot fitted values\n",
    "plt.errorbar(run_time_array/60, tau1_array, fmt='.', linestyle='none', label='Fitted $\\\\tau_1$')\n",
    "plt.errorbar(run_time_array/60, tau2_array, fmt='.', linestyle='none', label='Fitted $\\\\tau_2$')\n",
    "\n",
    "# plot LOWESS\n",
    "plt.plot(lowess_x1, lowess_y1, color='red', fmt='-', label='LOWESS $\\\\tau_1$')\n",
    "plt.plot(lowess_x2, lowess_y2, color='red', fmt='-', label='LOWESS $\\\\tau_2$')\n",
    "\n",
    "# Plot real values\n",
    "plt.axhline(y=3.07, color='grey', linestyle='-', label='Real $\\\\tau_1$')\n",
    "plt.axhline(y=2.43, color='grey', linestyle='-', label='Real $\\\\tau_2$')\n",
    "\n",
    "plt.xlabel('Run Time (minutes)')  # X-axis label\n",
    "plt.ylabel('Lifetime ($\\\\tau$)')  # Y-axis label\n",
    "plt.title('Lifetimes ($\\\\tau_1$ and $\\\\tau_2$) vs. Run Time - COBYLA')  # Chart title\n",
    "plt.legend()\n",
    "plt.show()"
   ]
  },
  {
   "cell_type": "code",
   "execution_count": 5,
   "metadata": {
    "collapsed": false
   },
   "outputs": [
    {
     "ename": "NameError",
     "evalue": "name 'sm' is not defined",
     "output_type": "error",
     "traceback": [
      "\u001b[0;31m---------------------------------------------------------------------------\u001b[0m",
      "\u001b[0;31mNameError\u001b[0m                                 Traceback (most recent call last)",
      "\u001b[0;32m/tmp/ipykernel_445/726936185.py\u001b[0m in \u001b[0;36m<cell line: 3>\u001b[0;34m()\u001b[0m\n\u001b[1;32m      1\u001b[0m \u001b[0;31m# LOWESS, Locally Weighted Scatterplot Smoothing, generate fitting by considering local density of data points\u001b[0m\u001b[0;34m\u001b[0m\u001b[0;34m\u001b[0m\u001b[0m\n\u001b[1;32m      2\u001b[0m \u001b[0;31m# the parameter 'frac' represents the proportion of data points to fit, which determine the degree of smooth mainly\u001b[0m\u001b[0;34m\u001b[0m\u001b[0;34m\u001b[0m\u001b[0m\n\u001b[0;32m----> 3\u001b[0;31m \u001b[0mlowess\u001b[0m \u001b[0;34m=\u001b[0m \u001b[0msm\u001b[0m\u001b[0;34m.\u001b[0m\u001b[0mnonparametric\u001b[0m\u001b[0;34m.\u001b[0m\u001b[0mlowess\u001b[0m\u001b[0;34m(\u001b[0m\u001b[0mtau1_array_lsq\u001b[0m\u001b[0;34m,\u001b[0m \u001b[0mrun_time_array\u001b[0m\u001b[0;34m,\u001b[0m \u001b[0mfrac\u001b[0m\u001b[0;34m=\u001b[0m\u001b[0;36m0.1\u001b[0m\u001b[0;34m)\u001b[0m\u001b[0;34m\u001b[0m\u001b[0;34m\u001b[0m\u001b[0m\n\u001b[0m\u001b[1;32m      4\u001b[0m \u001b[0;34m\u001b[0m\u001b[0m\n\u001b[1;32m      5\u001b[0m \u001b[0;31m# the returned results of LOWESS is a 2D array, the first element is x values, the second element is y values.\u001b[0m\u001b[0;34m\u001b[0m\u001b[0;34m\u001b[0m\u001b[0m\n",
      "\u001b[0;31mNameError\u001b[0m: name 'sm' is not defined"
     ]
    }
   ],
   "source": [
    "# Plot the fitted lifetimes against run time\n",
    "# the parameter 'frac' represents the proportion of data points to fit, which determine the degree of smooth mainly\n",
    "lowess_1 = sm.nonparametric.lowess(tau1_array_lsq, run_time_array*2490, frac=0.1)\n",
    "lowess_2 = sm.nonparametric.lowess(tau2_array_lsq, run_time_array*2490, frac=0.1)\n",
    "\n",
    "# the returned results of LOWESS is a 2D array, the first element is x values, the second element is y values. \n",
    "lowess_x1 = list(zip(*lowess_1))[0]\n",
    "lowess_y1 = list(zip(*lowess_1))[1]\n",
    "lowess_x2 = list(zip(*lowess_2))[0]\n",
    "lowess_y2 = list(zip(*lowess_2))[1]\n",
    "\n",
    "plt.figure()\n",
    "plt.ylim(0, 5) # Lifetimes often goes quite wrong for the least square method, limit y axis for better plot\n",
    "\n",
    "# Plot fitted values\n",
    "plt.errorbar(run_time_array*2490, tau1_array_lsq, fmt='.', linestyle='none', label='Fitted $\\\\tau_1$')\n",
    "plt.errorbar(run_time_array*2490, tau2_array_lsq, fmt='.', linestyle='none', label='Fitted $\\\\tau_2$')\n",
    "\n",
    "# plot LOWESS\n",
    "plt.plot(lowess_x1, lowess_y1, color='red', fmt='-', label='LOWESS $\\\\tau_1$')\n",
    "plt.plot(lowess_x2, lowess_y2, color='red', fmt='-', label='LOWESS $\\\\tau_2$')\n",
    "\n",
    "# Plot real values\n",
    "plt.axhline(y=3.07, color='grey', linestyle='-', label='Real $\\\\tau_1$')\n",
    "plt.axhline(y=2.43, color='grey', linestyle='-', label='Real $\\\\tau_2$')\n",
    "\n",
    "plt.xlabel('Number of Photons')  # X-axis label\n",
    "plt.ylabel('Lifetime ($\\\\tau$)')  # Y-axis label\n",
    "plt.title('Lifetimes ($\\\\tau_1$ and $\\\\tau_2$) vs. #Photons - Least Square')  # Chart title\n",
    "plt.legend()\n",
    "plt.show()"
   ]
  },
  {
   "cell_type": "markdown",
   "metadata": {
    "collapsed": false
   },
   "source": [
    "## LOWESS\n",
    "\n",
    "Locally Weighted Scatterplot Smoothing, generate fitting by considering local density of data points\n",
    "\n"
   ]
  },
  {
   "cell_type": "code",
   "execution_count": 0,
   "metadata": {
    "collapsed": false
   },
   "outputs": [
   ],
   "source": [
    "# Compare error against number of photons\n",
    "# the parameter 'frac' represents the proportion of data points to fit, which determine the degree of smooth mainly\n",
    "lowess_1 = sm.nonparametric.lowess(dtau1_array_lsq, run_time_array*2490, frac=0.1)\n",
    "lowess_2 = sm.nonparametric.lowess(dtau2_array_lsq, run_time_array*2490, frac=0.1)\n",
    "\n",
    "# the returned results of LOWESS is a 2D array, the first element is x values, the second element is y values. \n",
    "lowess_x1 = list(zip(*lowess_1))[0]\n",
    "lowess_y1 = list(zip(*lowess_1))[1]\n",
    "lowess_x2 = list(zip(*lowess_2))[0]\n",
    "lowess_y2 = list(zip(*lowess_2))[1]\n",
    "\n",
    "plt.figure()\n",
    "plt.ylim(0, 2) # Lifetimes often goes quite wrong for the least square method, limit y axis for better plot\n",
    "\n",
    "#Plot deviations\n",
    "plt.errorbar(run_time_array*2490, dtau1_array_lsq, fmt='.', linestyle='none', label='Error $\\\\tau_1$')\n",
    "plt.errorbar(run_time_array*2490, dtau2_array_lsq, fmt='.', linestyle='none', label='Error $\\\\tau_2$')\n",
    "\n",
    "# plot LOWESS\n",
    "plt.plot(lowess_x1, lowess_y1, color='red', fmt='-', label='LOWESS $\\\\tau_1$')\n",
    "plt.plot(lowess_x2, lowess_y2, color='red', fmt='-', label='LOWESS $\\\\tau_2$')\n",
    "\n",
    "plt.axhline(y=0, color='grey', linestyle='-')\n",
    "\n",
    "plt.xlabel('Number of Photons')\n",
    "plt.ylabel('Deviation ($\\\\Delta \\\\tau$ in ns)')\n",
    "plt.title('Size of error against Number of Photons')\n",
    "plt.legend()\n",
    "\n",
    "plt.show()"
   ]
  },
  {
   "cell_type": "code",
   "execution_count": 0,
   "metadata": {
    "collapsed": false
   },
   "outputs": [
   ],
   "source": [
    "# Calculate deviations from actual values\n",
    "deviation_tau1_lsq = [tau - 3.07 for tau in tau1_array_lsq]\n",
    "deviation_tau2_lsq = [tau - 2.43 for tau in tau2_array_lsq]\n",
    "\n",
    "# Plotting deviations for tau1 and tau2 against run time\n",
    "# the parameter 'frac' represents the proportion of data points to fit, which determine the degree of smooth mainly\n",
    "lowess_1 = sm.nonparametric.lowess(deviation_tau1_lsq, run_time_array*2490, frac=0.1)\n",
    "lowess_2 = sm.nonparametric.lowess(deviation_tau2_lsq, run_time_array*2490, frac=0.1)\n",
    "\n",
    "# the returned results of LOWESS is a 2D array, the first element is x values, the second element is y values. \n",
    "lowess_x1 = list(zip(*lowess_1))[0]\n",
    "lowess_y1 = list(zip(*lowess_1))[1]\n",
    "lowess_x2 = list(zip(*lowess_2))[0]\n",
    "lowess_y2 = list(zip(*lowess_2))[1]\n",
    "\n",
    "plt.figure()\n",
    "plt.ylim(0, 4) # Lifetimes often goes quite wrong for the least square method, limit y axis for better plot\n",
    "\n",
    "#Plot deviations\n",
    "plt.errorbar(run_time_array*2490, deviation_tau1_lsq, fmt='.', linestyle='none', label='Deviation $\\\\tau_1$')\n",
    "plt.errorbar(run_time_array*2490, deviation_tau2_lsq, fmt='.', linestyle='none', label='Deviation $\\\\tau_2$')\n",
    "\n",
    "# plot LOWESS\n",
    "plt.plot(lowess_x1, lowess_y1, color='red', fmt='-', label='LOWESS $\\\\tau_1$')\n",
    "plt.plot(lowess_x2, lowess_y2, color='red', fmt='-', label='LOWESS $\\\\tau_2$')\n",
    "\n",
    "plt.axhline(y=0, color='grey', linestyle='-')\n",
    "\n",
    "plt.xlabel('Number of Photons')\n",
    "plt.ylabel('Deviation ($\\\\Delta \\\\tau$ in ns)')\n",
    "plt.title('Deviation of Estimated Lifetimes from Actual Values')\n",
    "plt.legend()\n",
    "\n",
    "plt.show()"
   ]
  },
  {
   "cell_type": "code",
   "execution_count": 0,
   "metadata": {
    "collapsed": false
   },
   "outputs": [
   ],
   "source": [
    "weights_1 = 1 / (deviation_tau1_lsq + 0.1)\n",
    "weights_2 = 1 / (deviation_tau2_lsq + 0.1)\n",
    "\n",
    "x_with_const = sm.add_constant(run_time_array*2490)\n",
    "\n",
    "model_1 = sm.WLS(tau1_array_lsq, x_with_const, weights=weights_1)\n",
    "model_2 = sm.WLS(tau2_array_lsq, x_with_const, weights=weights_2)\n",
    "results_1 = model_1.fit()\n",
    "results_2 = model_2.fit()\n",
    "\n",
    "print(\"inter,scope for tau1:\", results_1.params)\n",
    "print(\"inter,scope for tau2:\", results_2.params)\n",
    "\n",
    "# the fitted y of the linear\n",
    "fitted_y1 = results_1.params[0] + results_1.params[1] * run_time_array*2490\n",
    "fitted_y2 = results_2.params[0] + results_2.params[1] * run_time_array*2490\n",
    "\n",
    "# plot\n",
    "plt.scatter(run_time_array*2490, tau1_array_lsq, color='blue', alpha=0.5, label='Data Points')\n",
    "plt.scatter(run_time_array*2490, tau2_array_lsq, color='black', alpha=0.5, label='Data Points')\n",
    "plt.plot(run_time_array*2490, fitted_y1, color='red', label='Fitted Line')\n",
    "plt.plot(run_time_array*2490, fitted_y2, color='yellow', label='Fitted Line')\n",
    "\n",
    "plt.legend()\n",
    "plt.show()"
   ]
  },
  {
   "cell_type": "code",
   "execution_count": 0,
   "metadata": {
    "collapsed": false
   },
   "outputs": [
   ],
   "source": [
   ]
  },
  {
   "cell_type": "code",
   "execution_count": 0,
   "metadata": {
    "collapsed": false
   },
   "outputs": [
   ],
   "source": [
   ]
  }
 ],
 "metadata": {
  "kernelspec": {
   "argv": [
    "/usr/bin/python3",
    "-m",
    "ipykernel",
    "--HistoryManager.enabled=False",
    "--matplotlib=inline",
    "-c",
    "%config InlineBackend.figure_formats = set(['retina'])\nimport matplotlib; matplotlib.rcParams['figure.figsize'] = (12, 7)",
    "-f",
    "{connection_file}"
   ],
   "display_name": "Python 3 (system-wide)",
   "env": {
   },
   "language": "python",
   "metadata": {
    "cocalc": {
     "description": "Python 3 programming language",
     "priority": 100,
     "url": "https://www.python.org/"
    }
   },
   "name": "python3",
   "resource_dir": "/ext/jupyter/kernels/python3"
  },
  "language_info": {
   "codemirror_mode": {
    "name": "ipython",
    "version": 3
   },
   "file_extension": ".py",
   "mimetype": "text/x-python",
   "name": "python",
   "nbconvert_exporter": "python",
   "pygments_lexer": "ipython3",
   "version": "3.10.12"
  },
  "vscode": {
   "interpreter": {
    "hash": "aee8b7b246df8f9039afb4144a1f6fd8d2ca17a180786b69acc140d282b71a49"
   }
  }
 },
 "nbformat": 4,
 "nbformat_minor": 4
}