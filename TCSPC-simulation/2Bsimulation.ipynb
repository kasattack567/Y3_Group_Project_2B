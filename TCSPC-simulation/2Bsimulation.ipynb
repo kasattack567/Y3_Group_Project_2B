{
 "cells": [
  {
   "cell_type": "code",
   "execution_count": 1,
   "metadata": {},
   "outputs": [
    {
     "name": "stderr",
     "output_type": "stream",
     "text": [
      "/Library/Frameworks/Python.framework/Versions/3.10/lib/python3.10/site-packages/scipy/__init__.py:155: UserWarning: A NumPy version >=1.18.5 and <1.26.0 is required for this version of SciPy (detected version 1.26.3\n",
      "  warnings.warn(f\"A NumPy version >={np_minversion} and <{np_maxversion}\"\n"
     ]
    }
   ],
   "source": [
    "import numpy as np\n",
    "import matplotlib.pyplot as plt\n",
    "import matplotlib as mpl\n",
    "from scipy.signal import convolve"
   ]
  },
  {
   "cell_type": "code",
   "execution_count": 2,
   "metadata": {},
   "outputs": [],
   "source": [
    "def groupproject_IRFsimulate(amplitudes, lifetimes, acquisitiontime, irfwidth):\n",
    "    bg = 10  # number of background counts per second, keep at 10\n",
    "    if irfwidth == 0:\n",
    "        irfwidth = 1e-8\n",
    "\n",
    "    # check that each amplitude has a corresponding lifetime\n",
    "    if len(amplitudes) != len(lifetimes):\n",
    "        return\n",
    "\n",
    "    # create empty vector to store decay data\n",
    "    puredecay = np.zeros(381)\n",
    "\n",
    "    # normalise amplitudes, just in case they didn't initially sum to 1\n",
    "    amplitudes = amplitudes / np.sum(amplitudes)\n",
    "\n",
    "    # generate a multiexponential decay starting at 1 at t=0\n",
    "    # using the supplied amplitudes and lifetimes\n",
    "    for i in range(381):\n",
    "        t = (1/19) * (i - 1)  # each bin is (1/19) ns, starting at t=0\n",
    "        for j in range(len(amplitudes)):\n",
    "            puredecay[i] += amplitudes[j] * np.exp(-t / lifetimes[j])\n",
    "\n",
    "    # generate the IRF, centred at b\n",
    "    b = 10 / 19\n",
    "    w = irfwidth\n",
    "    irfraw = np.zeros(381)\n",
    "    for i in range(381):\n",
    "        t = (i - 20) * (1 / 19)\n",
    "        irfraw[i] = np.exp(-4 * np.log(2) * (t - b)**2 / (w**2))\n",
    "\n",
    "    # convolute the IRF and decay and trim to 381 bins\n",
    "    Iconvol = convolve(puredecay, irfraw, mode='full')[:381]\n",
    "\n",
    "    # we do our measurements at 2500 counts per second\n",
    "    # calculate how many fluorescence counts per second this corresponds to\n",
    "    # i.e. subtract background from total counts\n",
    "    fluorate = 2500 - bg\n",
    "\n",
    "    # calculate total number of fluorescence photons counted in measurement\n",
    "    totalfluorescence = fluorate * acquisitiontime\n",
    "\n",
    "    # now scale the multiexponential decay so it contains this many counts\n",
    "    noiseless = totalfluorescence * Iconvol / np.sum(Iconvol)\n",
    "\n",
    "    # and add on 'bg' counts per second spread evenly across all bins\n",
    "    noiseless = noiseless + (bg * acquisitiontime / 381)\n",
    "\n",
    "    # finally add Poisson noise to each bin\n",
    "    noisydecay = np.random.poisson(noiseless)\n",
    "\n",
    "    # and tidy up output with a time axis\n",
    "    output = np.zeros((381,2))\n",
    "    for i in range(381):\n",
    "        output[i, 0] = (i - 1) * (1 / 19)\n",
    "        output[i, 1] = noisydecay[i]\n",
    "\n",
    "    return output\n"
   ]
  },
  {
   "cell_type": "code",
   "execution_count": 5,
   "metadata": {},
   "outputs": [],
   "source": [
    "from scipy import stats\n",
    "def sim_decay_photon_count_multiple(sim_param, Tau, N, n_decay):\n",
    "    # n_decay is the number of decay to simulate\n",
    "\n",
    "    Display = 0\n",
    "\n",
    "    # IRF parameters\n",
    "    t0 = sim_param[0]    # offset in ns\n",
    "    s = sim_param[1]    # standard deviation of Gaussian function in ns\n",
    "\n",
    "    # Acquisition parameters\n",
    "    n = sim_param[2]       # number of bits coding the TAC n = 8 --> 256 bins\n",
    "    T = sim_param[3]      # Acquisition window 0-T in ns\n",
    "    R = sim_param[4]      # Repetition rate of the laser in MHz\n",
    "    Ap = sim_param[5]      # Afterpulsing in # --> background in TCSPC\n",
    "\n",
    "    # Generating the arrival times\n",
    "    if Tau > 0:\n",
    "        #generate uniform random distribution between 0 and 1\n",
    "        u_f = np.random.rand(N, n_decay)\n",
    "        #arrival time in exponential distribution\n",
    "        #1/(1-u_f) is inverse transform mapping\n",
    "        t_f = Tau * np.log(1. / (1 - u_f))\n",
    "    else:\n",
    "        t_f = np.zeros((N, n_decay))\n",
    "\n",
    "    if t0 <= 0 or s <= 0:\n",
    "        t_irf = np.zeros((N, n_decay))\n",
    "    else:\n",
    "        u_irf = np.random.rand(N, n_decay)\n",
    "        t_irf = t0 - s * np.sqrt(2) * stats.norm.ppf(2 * u_irf - 1)\n",
    "\n",
    "    t_tot = t_f + t_irf\n",
    "\n",
    "    # Incomplete decays\n",
    "    T_rep = 1000 / R\n",
    "    t_tot = np.mod(t_tot, T_rep)\n",
    "\n",
    "    # Afterpulsing background\n",
    "    N_bg = np.ceil(Ap / 100 * N)\n",
    "    t_Ap = T * np.random.rand(int(N_bg), n_decay)\n",
    "    t_tot = np.vstack((t_tot, t_Ap))\n",
    "\n",
    "    # Histogramming\n",
    "    t = np.linspace(0, T, 2 ** n + 1)\n",
    "    t = t[:-1]\n",
    "    phot_number = np.histogram(t_tot, bins=np.concatenate((t, [t[-1] + t[1] - t[0]])))[0]\n",
    "\n",
    "    if Display == 1:\n",
    "        # Displaying\n",
    "        plt.figure()\n",
    "        plt.semilogy(t, phot_number)\n",
    "        plt.xlabel('Time (ns)')\n",
    "        plt.ylabel('Photon counts')\n",
    "        plt.title('N = {} photons, Tau = {} ns'.format(N, Tau))\n",
    "\n",
    "        plt.figure()\n",
    "        plt.plot(t, phot_number)\n",
    "        plt.xlabel('Time (ns)')\n",
    "        plt.ylabel('Photon counts')\n",
    "        plt.title('N = {} photons, Tau = {} ns'.format(N, Tau))\n",
    "\n",
    "    return t, phot_number"
   ]
  },
  {
   "cell_type": "code",
   "execution_count": 9,
   "metadata": {},
   "outputs": [],
   "source": [
    "# Change acquisition parameters --------------------\n",
    "R = 80      #Repetition rate of the laser in MHz units\n",
    "T = 12.5    # Acquisition window 0-T in ns units\n",
    "n = 8       # number of bits coding the TAC n = 8 --> 256 bins\n",
    "Ap = 5      # Afterpulsing in # --> background in TCSPC\n",
    "\n",
    "# Change parameters for IRF-----------------------------\n",
    "t0 = 1.5;    # offset in ns units\n",
    "s = 0.0001;    # standard deviation of Gaussian function in ns units\n",
    "N_irf = 1e8; # MAXIMUM 10^8! (150,000 for 256 bins to get close to 16 bit histograms)\n",
    "N = 5000     # no. of photons\n",
    "n_decay = 1024 #n_decay is the number of decay to simulate\n",
    "Tau = 5      #lifetime /ns\n",
    "sim_param = [t0, s, n, T, R, Ap]\n",
    "t,n_photon = sim_decay_photon_count_multiple(sim_param, Tau, N, n_decay)"
   ]
  },
  {
   "cell_type": "code",
   "execution_count": 11,
   "metadata": {},
   "outputs": [
    {
     "data": {
      "image/png": "[encoded data removed]",
      "text/plain": [
       "<Figure size 640x480 with 1 Axes>"
      ]
     },
     "metadata": {},
     "output_type": "display_data"
    }
   ],
   "source": [
    "plt.plot(t,n_photon)\n",
    "plt.yscale('log')"
   ]
  },
  {
   "cell_type": "code",
   "execution_count": 13,
   "metadata": {},
   "outputs": [
    {
     "data": {
      "text/plain": [
       "array([0.00000000e+00, 5.26315789e-02, 1.05263158e-01, ...,\n",
       "       4.00894737e+02, 4.00947368e+02, 4.01000000e+02])"
      ]
     },
     "execution_count": 13,
     "metadata": {},
     "output_type": "execute_result"
    }
   ],
   "source": [
    "np.arange(0,381*(1+1/19),1/19)"
   ]
  },
  {
   "cell_type": "code",
   "execution_count": 3,
   "metadata": {},
   "outputs": [],
   "source": [
    "data=groupproject_IRFsimulate([0.8,0.2],[0.4,3],600,0)"
   ]
  },
  {
   "cell_type": "code",
   "execution_count": 10,
   "metadata": {},
   "outputs": [
    {
     "data": {
      "text/plain": [
       "[<matplotlib.lines.Line2D at 0x12300dc60>]"
      ]
     },
     "execution_count": 10,
     "metadata": {},
     "output_type": "execute_result"
    },
    {
     "data": {
      "image/png": "[encoded data removed]",
      "text/plain": [
       "<Figure size 640x480 with 1 Axes>"
      ]
     },
     "metadata": {},
     "output_type": "display_data"
    }
   ],
   "source": [
    "#xpoints = np.linspace(0,1,100)\n",
    "\n",
    "plt.figure()\n",
    "plt.title(r'TCSPC data')\n",
    "plt.xlabel(r'Time / ns')\n",
    "plt.ylabel(r'Count')\n",
    "plt.grid()\n",
    "\n",
    "plt.bar(data[:, 0],data[:, 1])\n",
    "#plt.plot(data[:, 0],data[:, 1])\n",
    "#plt.legend(loc=\"best\")"
   ]
  },
  {
   "cell_type": "markdown",
   "metadata": {},
   "source": []
  },
  {
   "cell_type": "code",
   "execution_count": null,
   "metadata": {},
   "outputs": [],
   "source": []
  }
 ],
 "metadata": {
  "kernelspec": {
   "display_name": "Python 3.10.5 64-bit",
   "language": "python",
   "name": "python3"
  },
  "language_info": {
   "codemirror_mode": {
    "name": "ipython",
    "version": 3
   },
   "file_extension": ".py",
   "mimetype": "text/x-python",
   "name": "python",
   "nbconvert_exporter": "python",
   "pygments_lexer": "ipython3",
   "version": "3.10.5"
  },
  "vscode": {
   "interpreter": {
    "hash": "aee8b7b246df8f9039afb4144a1f6fd8d2ca17a180786b69acc140d282b71a49"
   }
  }
 },
 "nbformat": 4,
 "nbformat_minor": 2
}
