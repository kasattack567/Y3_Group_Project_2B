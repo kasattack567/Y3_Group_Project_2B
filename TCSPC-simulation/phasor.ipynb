{
 "cells": [
  {
   "cell_type": "markdown",
   "metadata": {},
   "source": [
    "# Phasor Analysis for Fluroescence Decay"
   ]
  },
  {
   "cell_type": "code",
   "execution_count": 2,
   "metadata": {},
   "outputs": [],
   "source": [
    "import numpy as np\n",
    "import matplotlib.pyplot as plt\n",
    "import matplotlib as mpl\n",
    "from scipy.signal import convolve\n",
    "from scipy import stats\n",
    "from sympy import symbols, solve, Eq, Function, nsolve\n",
    "from sympy.matrices import Matrix\n",
    "import sympy as sp\n",
    "from TCSPC import *\n",
    "from scipy.optimize import curve_fit\n",
    "from lmfit import Model, Parameters\n",
    "import lmfit\n",
    "import inspect\n",
    "import pandas as pd"
   ]
  },
  {
   "cell_type": "markdown",
   "metadata": {},
   "source": [
    "### Create instances of Phasor class objects"
   ]
  },
  {
   "cell_type": "code",
   "execution_count": 3,
   "metadata": {},
   "outputs": [],
   "source": [
    "NADH = Phasor([0.75,0.25],[0.4,4])         #NADH object\n",
    "#EGFP = Phasor([0.503,0.497],[3.07,2.43])   #EGFP object\n",
    "mCherry  = Phasor([0.83,0.17],[1.43,2.38]) #mCherry object\n",
    "sim_list = [NADH,mCherry]\n",
    "sim_name = ['NADH','mCherry']"
   ]
  },
  {
   "cell_type": "markdown",
   "metadata": {},
   "source": [
    "### Example use of methods in Phasor class\n",
    "\n",
    "| Method         | Description                                                                                           | Default Values                            |\n",
    "|----------------|-------------------------------------------------------------------------------------------------------|-------------------------------------------|\n",
    "| `phasor_solve()` | Solve for amplitudes and lifetime with  given w array (angular frequency) and phasor array            | w = self.w, phasor = self.phasor           |\n",
    "| `generate_df()`  | Generate pd.DataFrame() to store phasor decomposition results for given w array and phasor_data array | w = self.w, phasor_data = self.phasor_data |"
   ]
  },
  {
   "cell_type": "code",
   "execution_count": 3,
   "metadata": {},
   "outputs": [
    {
     "data": {
      "text/plain": [
       "array([ 0.32309665,  0.67690335, -2.16219325, -1.25143316])"
      ]
     },
     "execution_count": 3,
     "metadata": {},
     "output_type": "execute_result"
    }
   ],
   "source": [
    "mCherry.phasor_solve()"
   ]
  },
  {
   "cell_type": "markdown",
   "metadata": {},
   "source": [
    "Generated dataframe can be accessed by :"
   ]
  },
  {
   "cell_type": "code",
   "execution_count": 8,
   "metadata": {},
   "outputs": [
    {
     "data": {
      "text/html": [
       "<div>\n",
       "<style scoped>\n",
       "    .dataframe tbody tr th:only-of-type {\n",
       "        vertical-align: middle;\n",
       "    }\n",
       "\n",
       "    .dataframe tbody tr th {\n",
       "        vertical-align: top;\n",
       "    }\n",
       "\n",
       "    .dataframe thead th {\n",
       "        text-align: right;\n",
       "    }\n",
       "</style>\n",
       "<table border=\"1\" class=\"dataframe\">\n",
       "  <thead>\n",
       "    <tr style=\"text-align: right;\">\n",
       "      <th></th>\n",
       "      <th>A1</th>\n",
       "      <th>A2</th>\n",
       "      <th>t1</th>\n",
       "      <th>t2</th>\n",
       "      <th>0.05</th>\n",
       "      <th>0.1</th>\n",
       "      <th>0.15</th>\n",
       "      <th>0.2</th>\n",
       "    </tr>\n",
       "  </thead>\n",
       "  <tbody>\n",
       "    <tr>\n",
       "      <th>0</th>\n",
       "      <td>0.773565</td>\n",
       "      <td>0.226435</td>\n",
       "      <td>0.383344</td>\n",
       "      <td>4.011066</td>\n",
       "      <td>0.533922+0.393668j</td>\n",
       "      <td>0.335185+0.311682j</td>\n",
       "      <td>0.267018+0.260961j</td>\n",
       "      <td>0.229114+0.234194j</td>\n",
       "    </tr>\n",
       "    <tr>\n",
       "      <th>1</th>\n",
       "      <td>0.777003</td>\n",
       "      <td>0.222997</td>\n",
       "      <td>0.373202</td>\n",
       "      <td>4.007152</td>\n",
       "      <td>0.533774+0.393932j</td>\n",
       "      <td>0.335108+0.311228j</td>\n",
       "      <td>0.267496+0.260462j</td>\n",
       "      <td>0.229023+0.234285j</td>\n",
       "    </tr>\n",
       "    <tr>\n",
       "      <th>2</th>\n",
       "      <td>0.778156</td>\n",
       "      <td>0.221844</td>\n",
       "      <td>0.368662</td>\n",
       "      <td>4.002895</td>\n",
       "      <td>0.533735+0.394038j</td>\n",
       "      <td>0.334913+0.311277j</td>\n",
       "      <td>0.267488+0.261125j</td>\n",
       "      <td>0.228707+0.234603j</td>\n",
       "    </tr>\n",
       "    <tr>\n",
       "      <th>3</th>\n",
       "      <td>0.771441</td>\n",
       "      <td>0.228559</td>\n",
       "      <td>0.394710</td>\n",
       "      <td>4.018032</td>\n",
       "      <td>0.534813+0.393424j</td>\n",
       "      <td>0.336426+0.311589j</td>\n",
       "      <td>0.267689+0.261362j</td>\n",
       "      <td>0.229945+0.234405j</td>\n",
       "    </tr>\n",
       "    <tr>\n",
       "      <th>4</th>\n",
       "      <td>0.771709</td>\n",
       "      <td>0.228291</td>\n",
       "      <td>0.390714</td>\n",
       "      <td>4.014340</td>\n",
       "      <td>0.534349+0.393716j</td>\n",
       "      <td>0.335696+0.311543j</td>\n",
       "      <td>0.267133+0.261381j</td>\n",
       "      <td>0.228674+0.234692j</td>\n",
       "    </tr>\n",
       "    <tr>\n",
       "      <th>...</th>\n",
       "      <td>...</td>\n",
       "      <td>...</td>\n",
       "      <td>...</td>\n",
       "      <td>...</td>\n",
       "      <td>...</td>\n",
       "      <td>...</td>\n",
       "      <td>...</td>\n",
       "      <td>...</td>\n",
       "    </tr>\n",
       "    <tr>\n",
       "      <th>95</th>\n",
       "      <td>0.772166</td>\n",
       "      <td>0.227834</td>\n",
       "      <td>0.391965</td>\n",
       "      <td>4.025342</td>\n",
       "      <td>0.533692+0.393483j</td>\n",
       "      <td>0.335588+0.311593j</td>\n",
       "      <td>0.267179+0.260729j</td>\n",
       "      <td>0.228943+0.234455j</td>\n",
       "    </tr>\n",
       "    <tr>\n",
       "      <th>96</th>\n",
       "      <td>0.771442</td>\n",
       "      <td>0.228558</td>\n",
       "      <td>0.392486</td>\n",
       "      <td>4.014181</td>\n",
       "      <td>0.534671+0.393421j</td>\n",
       "      <td>0.336041+0.311786j</td>\n",
       "      <td>0.267363+0.261045j</td>\n",
       "      <td>0.229700+0.234807j</td>\n",
       "    </tr>\n",
       "    <tr>\n",
       "      <th>97</th>\n",
       "      <td>0.774209</td>\n",
       "      <td>0.225791</td>\n",
       "      <td>0.386481</td>\n",
       "      <td>4.021848</td>\n",
       "      <td>0.533927+0.393383j</td>\n",
       "      <td>0.335876+0.311367j</td>\n",
       "      <td>0.267750+0.260935j</td>\n",
       "      <td>0.229456+0.234639j</td>\n",
       "    </tr>\n",
       "    <tr>\n",
       "      <th>98</th>\n",
       "      <td>0.773249</td>\n",
       "      <td>0.226751</td>\n",
       "      <td>0.386177</td>\n",
       "      <td>4.013742</td>\n",
       "      <td>0.534177+0.393443j</td>\n",
       "      <td>0.335612+0.311203j</td>\n",
       "      <td>0.267327+0.261289j</td>\n",
       "      <td>0.229281+0.234662j</td>\n",
       "    </tr>\n",
       "    <tr>\n",
       "      <th>99</th>\n",
       "      <td>0.776690</td>\n",
       "      <td>0.223310</td>\n",
       "      <td>0.372060</td>\n",
       "      <td>3.998219</td>\n",
       "      <td>0.534303+0.393764j</td>\n",
       "      <td>0.335184+0.311419j</td>\n",
       "      <td>0.267448+0.260871j</td>\n",
       "      <td>0.229231+0.234549j</td>\n",
       "    </tr>\n",
       "  </tbody>\n",
       "</table>\n",
       "<p>100 rows × 8 columns</p>\n",
       "</div>"
      ],
      "text/plain": [
       "          A1        A2        t1        t2                0.05  \\\n",
       "0   0.773565  0.226435  0.383344  4.011066  0.533922+0.393668j   \n",
       "1   0.777003  0.222997  0.373202  4.007152  0.533774+0.393932j   \n",
       "2   0.778156  0.221844  0.368662  4.002895  0.533735+0.394038j   \n",
       "3   0.771441  0.228559  0.394710  4.018032  0.534813+0.393424j   \n",
       "4   0.771709  0.228291  0.390714  4.014340  0.534349+0.393716j   \n",
       "..       ...       ...       ...       ...                 ...   \n",
       "95  0.772166  0.227834  0.391965  4.025342  0.533692+0.393483j   \n",
       "96  0.771442  0.228558  0.392486  4.014181  0.534671+0.393421j   \n",
       "97  0.774209  0.225791  0.386481  4.021848  0.533927+0.393383j   \n",
       "98  0.773249  0.226751  0.386177  4.013742  0.534177+0.393443j   \n",
       "99  0.776690  0.223310  0.372060  3.998219  0.534303+0.393764j   \n",
       "\n",
       "                   0.1                0.15                 0.2  \n",
       "0   0.335185+0.311682j  0.267018+0.260961j  0.229114+0.234194j  \n",
       "1   0.335108+0.311228j  0.267496+0.260462j  0.229023+0.234285j  \n",
       "2   0.334913+0.311277j  0.267488+0.261125j  0.228707+0.234603j  \n",
       "3   0.336426+0.311589j  0.267689+0.261362j  0.229945+0.234405j  \n",
       "4   0.335696+0.311543j  0.267133+0.261381j  0.228674+0.234692j  \n",
       "..                 ...                 ...                 ...  \n",
       "95  0.335588+0.311593j  0.267179+0.260729j  0.228943+0.234455j  \n",
       "96  0.336041+0.311786j  0.267363+0.261045j  0.229700+0.234807j  \n",
       "97  0.335876+0.311367j  0.267750+0.260935j  0.229456+0.234639j  \n",
       "98  0.335612+0.311203j  0.267327+0.261289j  0.229281+0.234662j  \n",
       "99  0.335184+0.311419j  0.267448+0.260871j  0.229231+0.234549j  \n",
       "\n",
       "[100 rows x 8 columns]"
      ]
     },
     "execution_count": 8,
     "metadata": {},
     "output_type": "execute_result"
    }
   ],
   "source": [
    "NADH.df"
   ]
  },
  {
   "cell_type": "code",
   "execution_count": 20,
   "metadata": {},
   "outputs": [
    {
     "data": {
      "text/plain": [
       "<matplotlib.legend.Legend at 0x126da3a30>"
      ]
     },
     "execution_count": 20,
     "metadata": {},
     "output_type": "execute_result"
    },
    {
     "data": {
      "image/png": "[encoded data removed]",
      "text/plain": [
       "<Figure size 640x480 with 1 Axes>"
      ]
     },
     "metadata": {},
     "output_type": "display_data"
    }
   ],
   "source": [
    "W,Y = np.meshgrid(NADH.w[:190],NADH.y[15:]) \n",
    "W,T = np.meshgrid(NADH.w[:190],NADH.t[:-15])\n",
    "# #W,K = np.meshgrid(NADH.w[:190],NADH.ker)\n",
    "# y_true= exp2(NADH.t,NADH.amp[0],*NADH.tau)\n",
    "# #W,Y = np.meshgrid(NADH.w[:190],y_true[:]) \n",
    "# phasor = np.fft.fft(y_true)/np.sum(y_true)\n",
    "# phasor.imag*=-1\n",
    "FT = lambda Y: np.sum(np.sin(T*W)*Y,axis = 0)/np.sum(NADH.y[15:]) #numerical integration for trimmed data\n",
    "plt.plot(NADH.w[:25],FT(Y)[:25],'.',label = 'Numerical Integration')\n",
    "plt.plot(NADH.w[:25],NADH.phasor.imag[:25],'x',label = 'FFT of simulation')\n",
    "plt.plot(NADH.w[:25],multi_exp_FT(NADH.w[:25],NADH.amp,NADH.tau).imag,label = 'Analytic')\n",
    "plt.title('Comparison of methods to compute Fourier Transform')\n",
    "plt.xlabel('Angular frequency (rad/ns)')\n",
    "plt.ylabel('Fourier Transform of I(t) (Imag)')\n",
    "plt.legend()"
   ]
  },
  {
   "cell_type": "markdown",
   "metadata": {},
   "source": [
    "### Decomposition of amplitudes with known lifetimes"
   ]
  },
  {
   "cell_type": "code",
   "execution_count": 4,
   "metadata": {},
   "outputs": [],
   "source": [
    "EGFP = Simulation([0.503,0.497],[3.07,2.43])"
   ]
  },
  {
   "cell_type": "code",
   "execution_count": 5,
   "metadata": {},
   "outputs": [
    {
     "data": {
      "text/plain": [
       "array([0.48428915, 0.51571085])"
      ]
     },
     "execution_count": 5,
     "metadata": {},
     "output_type": "execute_result"
    }
   ],
   "source": [
    "sim = EGFP\n",
    "w = sim.w[1:len(EGFP.tau)]\n",
    "W,T = np.meshgrid(sim.tau,w)\n",
    "M = np.array([[1,1],1/((W*T)**2+1)[0]])\n",
    "M_inv = np.linalg.inv(M)\n",
    "y = np.array([1,sim.phasor.real[1]])\n",
    "f = np.dot(M_inv,y)\n",
    "mCherry.A_solve(list(f)+sim.tau)"
   ]
  },
  {
   "cell_type": "code",
   "execution_count": 40,
   "metadata": {},
   "outputs": [
    {
     "data": {
      "text/plain": [
       "array([ 0.32309665,  0.67690335, -2.16219325, -1.25143316])"
      ]
     },
     "execution_count": 40,
     "metadata": {},
     "output_type": "execute_result"
    }
   ],
   "source": [
    "mCherry.phasor_solve()"
   ]
  },
  {
   "cell_type": "markdown",
   "metadata": {},
   "source": [
    "### L-BFGS-B method for more accurate decomposition"
   ]
  },
  {
   "cell_type": "code",
   "execution_count": 6,
   "metadata": {},
   "outputs": [],
   "source": [
    "def exp_fit(func,tdata,ydata,guess,end = int((15/20*380)),bg = 10, run_time = 20*60,weights = None,method = 'leastsq'):\n",
    "    '''use least-square fit for given exponential function (exp1 or exp2)\n",
    "       Inputs:\n",
    "       func      exp function to be fitted \n",
    "       tdata     time array (non-trimmed)\n",
    "       ydata     photon count (non-trimmed)\n",
    "       guess     guess intial parameters for fitting\n",
    "       end       trim the end point to avoid low count statistics\n",
    "       bg        background count per s\n",
    "       run_time  run_time (s)\n",
    "       weights   weights for the data points of the fit (1/yerr)\n",
    "       Outputs:\n",
    "       result        lmfit result\n",
    "       params_opt    fitted parameters\n",
    "       chi2_red      reduced chi2\n",
    "       fit_report    fit_report from lmfit\n",
    "       '''\n",
    "    model = Model(func)\n",
    "    params = Parameters()\n",
    "    # Get the parameter names and default values from the input function\n",
    "    params_name = inspect.signature(func).parameters\n",
    "    params_name = list(params_name.keys())[1:]  # Exclude 'x' from parameters\n",
    "    for i,name in enumerate(params_name):\n",
    "    # Add initial guess value for the parameter\n",
    "        params.add(name,value=guess[i],min = 0)\n",
    "\n",
    "    #Trim and scale data for fitting\n",
    "    ydata = ydata-np.full(len(ydata),int(bg*run_time/len(tdata)))#subtract background from each bin\n",
    "    max_idx = np.argmax(ydata) #index of data point with maximum photon count N(0)\n",
    "    tdata = tdata[:end-max_idx] #start from t = 0\n",
    "    ydata = ydata[max_idx:end]  #start from max.\n",
    "    ydata = ydata/ydata[0] # scale y data such that the beginning is 1 \n",
    "\n",
    "    \n",
    "    result = model.fit(ydata, params, t=tdata,weights = weights,method = method) #perform least squares fit\n",
    "    params_opt = result.params #optimized params\n",
    "    chi2= result.chisqr #chi squared\n",
    "    chi2_red = result.chisqr/(len(tdata)-len(params))\n",
    "    fit_report = result.fit_report()\n",
    "    return result, params_opt, chi2_red, fit_report"
   ]
  },
  {
   "cell_type": "code",
   "execution_count": 11,
   "metadata": {},
   "outputs": [
    {
     "name": "stdout",
     "output_type": "stream",
     "text": [
      "[[Model]]\n",
      "    Model(exp2)\n",
      "[[Fit Statistics]]\n",
      "    # fitting method   = L-BFGS-B\n",
      "    # function evals   = 56\n",
      "    # data points      = 275\n",
      "    # variables        = 3\n",
      "    chi-square         = 32.0034000\n",
      "    reduced chi-square = 0.11765956\n",
      "    Akaike info crit   = -585.505461\n",
      "    Bayesian info crit = -574.655148\n",
      "##  Warning: uncertainties could not be estimated:\n",
      "    this fitting method does not natively calculate uncertainties\n",
      "    and numdifftools is not installed for lmfit to do this. Use\n",
      "    `pip install numdifftools` for lmfit to estimate uncertainties\n",
      "    with this fitting method.\n",
      "[[Variables]]\n",
      "    A1:    0.50268124 (init = 0.503)\n",
      "    tau1:  3.09368137 (init = 3.07)\n",
      "    tau2:  2.39498554 (init = 2.43)\n"
     ]
    }
   ],
   "source": [
    "EGFP.multi_exp_data()\n",
    "sim = EGFP\n",
    "y_noiseless = exp2(sim.t,sim.amp[0],*sim.tau)\n",
    "y_noise = sim.y2\n",
    "weights = np.sqrt(sim.y)[np.argmax(y_noise):int((15/20*380))]\n",
    "result, params_opt, chi2_red, fit_report = exp_fit(exp2,sim.t,y_noise,[sim.amp[0]]+sim.tau\n",
    ",weights = weights,method = 'lbfgsb') #use fitting method 'lbfgsb'\n",
    "print(fit_report)"
   ]
  },
  {
   "cell_type": "code",
   "execution_count": 53,
   "metadata": {},
   "outputs": [
    {
     "name": "stdout",
     "output_type": "stream",
     "text": [
      "[[Model]]\n",
      "    Model(exp2)\n",
      "[[Fit Statistics]]\n",
      "    # fitting method   = L-BFGS-B\n",
      "    # function evals   = 64\n",
      "    # data points      = 275\n",
      "    # variables        = 3\n",
      "    chi-square         = 29.7565766\n",
      "    reduced chi-square = 0.10939918\n",
      "    Akaike info crit   = -605.523255\n",
      "    Bayesian info crit = -594.672942\n",
      "##  Warning: uncertainties could not be estimated:\n",
      "    this fitting method does not natively calculate uncertainties\n",
      "    and numdifftools is not installed for lmfit to do this. Use\n",
      "    `pip install numdifftools` for lmfit to estimate uncertainties\n",
      "    with this fitting method.\n",
      "[[Variables]]\n",
      "    A1:    0.49714165 (init = 0.503)\n",
      "    tau1:  3.01843538 (init = 3.07)\n",
      "    tau2:  2.51099169 (init = 2.43)\n"
     ]
    }
   ],
   "source": []
  },
  {
   "cell_type": "code",
   "execution_count": null,
   "metadata": {},
   "outputs": [],
   "source": []
  }
 ],
 "metadata": {
  "kernelspec": {
   "display_name": "Python 3.10.5 64-bit",
   "language": "python",
   "name": "python3"
  },
  "language_info": {
   "codemirror_mode": {
    "name": "ipython",
    "version": 3
   },
   "file_extension": ".py",
   "mimetype": "text/x-python",
   "name": "python",
   "nbconvert_exporter": "python",
   "pygments_lexer": "ipython3",
   "version": "3.10.5"
  },
  "orig_nbformat": 4,
  "vscode": {
   "interpreter": {
    "hash": "aee8b7b246df8f9039afb4144a1f6fd8d2ca17a180786b69acc140d282b71a49"
   }
  }
 },
 "nbformat": 4,
 "nbformat_minor": 2
}
