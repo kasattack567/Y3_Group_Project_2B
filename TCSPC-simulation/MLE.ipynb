{
 "cells": [
  {
   "cell_type": "code",
   "execution_count": 1,
   "id": "c29d0496",
   "metadata": {},
   "outputs": [],
   "source": [
    "from TCSPC import *"
   ]
  },
  {
   "cell_type": "code",
   "execution_count": 2,
   "id": "55cf412d",
   "metadata": {},
   "outputs": [],
   "source": [
    "EGFP = Simulation([0.497,0.503],[2.43,3.07])"
   ]
  },
  {
   "cell_type": "code",
   "execution_count": null,
   "id": "bca71d0a",
   "metadata": {},
   "outputs": [],
   "source": [
    "# tdata = np.loadtxt('EGFPt.csv')\n",
    "# ydata = np.loadtxt('EGFPy2.csv')"
   ]
  },
  {
   "cell_type": "code",
   "execution_count": 55,
   "id": "c52732a3",
   "metadata": {},
   "outputs": [],
   "source": [
    "def trim_rescale_data(tdata,ydata,end =int(0.6*380),rescale = True):\n",
    "    max_idx = np.argmax(ydata) #index of data point with maximum photon count N(0)\n",
    "    tdata = tdata[:end-max_idx] #start from t = 0\n",
    "    ydata = ydata[max_idx:end]  #start from max.\n",
    "    if rescale == True:\n",
    "        yerr = ydata/ydata[0]*np.sqrt(1/ydata+1/ydata[0]) #error after scaling\n",
    "        ydata = ydata/ydata[0] # scale y data such that the beginning is 1 \n",
    "    else:\n",
    "        yerr = np.sqrt(ydata)\n",
    "    weights = 1/yerr #weighted by 1/yerr, yerr is error after scaling ydata\n",
    "    return tdata,ydata,weights"
   ]
  },
  {
   "cell_type": "code",
   "execution_count": 5,
   "id": "189e121f",
   "metadata": {},
   "outputs": [],
   "source": [
    "def exp(t, A, tau):\n",
    "    return A * np.exp(-t/tau)"
   ]
  },
  {
   "cell_type": "code",
   "execution_count": 33,
   "id": "21609b17",
   "metadata": {},
   "outputs": [],
   "source": [
    "tdata,ydata,weights = trim_rescale_data(EGFP.t,EGFP.y2)"
   ]
  },
  {
   "cell_type": "code",
   "execution_count": 88,
   "id": "752a6f00",
   "metadata": {},
   "outputs": [],
   "source": [
    "def poisson_deviance_residual(observed, expected):\n",
    "    # Ensure no invalid values\n",
    "    # valid = (observed > 0) & (expected > 0)\n",
    "    # residual = np.zeros_like(observed)\n",
    "    # residual[valid] =  2 *  (observed[valid] * np.log(observed[valid] / expected[valid]) - (observed[valid] - expected[valid]))\n",
    "    residual=  np.sqrt(abs(2 *  (observed* np.log(observed/ expected) - (observed- expected)))) #residual array\n",
    "    return residual\n",
    "\n",
    "def residual(p, t, data):\n",
    "    v = p.valuesdict()\n",
    "    generative = v['c'] #constant background\n",
    "    M = 1\n",
    "    while f'A{M}' in v:\n",
    "        generative += exp(t, v[f'A{M}'], v[f'tau{M}'])\n",
    "        M += 1\n",
    "    \n",
    "    return poisson_deviance_residual(data, generative) #lmfit.minimizer minimize the residual array in the sum of squared sense\n"
   ]
  },
  {
   "cell_type": "code",
   "execution_count": 89,
   "id": "1a3d65f2",
   "metadata": {},
   "outputs": [],
   "source": [
    "def initial_params(M,A_guess,tau_guess,rescale = True):\n",
    "    p = lmfit.Parameters()\n",
    "    p.add_many(('c', 0, True, 0, 1)) #constant background\n",
    "    for i in range(1,M+1): #for each component\n",
    "        p.add_many((f'A{i}', A_guess[i-1], True,0), #amplitude\n",
    "                   (f'tau{i}', tau_guess[i-1], True, 0)) #lifetime\n",
    "    if rescale == True:\n",
    "        p[f'A{M}'].set(expr = f'1 {\"\".join([f\"- A{i}\" for i in range(1,M)])}') #fix the amplitude of last component\n",
    "    return p\n",
    "\n"
   ]
  },
  {
   "cell_type": "markdown",
   "id": "e13090df",
   "metadata": {},
   "source": [
    "### bi-exp decay fit to EGFP"
   ]
  },
  {
   "cell_type": "code",
   "execution_count": 99,
   "id": "6e275e5c",
   "metadata": {},
   "outputs": [
    {
     "name": "stdout",
     "output_type": "stream",
     "text": [
      "[[Fit Statistics]]\n",
      "    # fitting method   = Powell\n",
      "    # function evals   = 1105\n",
      "    # data points      = 180\n",
      "    # variables        = 4\n",
      "    chi-square         = 0.72119082\n",
      "    reduced chi-square = 0.00409768\n",
      "    Akaike info crit   = -985.565506\n",
      "    Bayesian info crit = -972.793679\n",
      "[[Variables]]\n",
      "    c:     0.00191120 +/- 0.00456714 (238.97%) (init = 0)\n",
      "    A1:    0.12299559 +/- 0.01372984 (11.16%) (init = 0.497)\n",
      "    tau1:  0.01057423 +/- 0.01658326 (156.83%) (init = 2.43)\n",
      "    A2:    0.87700441 +/- 0.01372984 (1.57%) == '1 - A1'\n",
      "    tau2:  2.74844446 +/- 0.07968688 (2.90%) (init = 3.07)\n",
      "[[Correlations]] (unreported correlations are < 0.100)\n",
      "    C(c, tau2)  = -0.899\n",
      "    C(A1, tau2) = 0.588\n",
      "    C(c, A1)    = -0.301\n"
     ]
    }
   ],
   "source": [
    "EGFP.n_photon = int(1e4)\n",
    "EGFP.multi_exp_data()\n",
    "tdata,ydata,weights = trim_rescale_data(EGFP.t,EGFP.y2,end = int(0.5*380))\n",
    "p1 = initial_params(2,EGFP.amp,EGFP.tau)\n",
    "#p1['c'].set(value = 0, vary = False)\n",
    "mi1 = lmfit.minimize(residual, p1, args=(tdata, ydata), method='powell')\n",
    "\n",
    "print(lmfit.fit_report(mi1))\n"
   ]
  },
  {
   "cell_type": "code",
   "execution_count": 98,
   "id": "0f7cc649",
   "metadata": {},
   "outputs": [],
   "source": [
    "result = mi1\n",
    "del result.params['A2']"
   ]
  },
  {
   "cell_type": "code",
   "execution_count": 22,
   "id": "a84af108",
   "metadata": {},
   "outputs": [],
   "source": [
    "info_df,par_df = fit_df([result])\n"
   ]
  },
  {
   "cell_type": "code",
   "execution_count": 23,
   "id": "8d2167ab",
   "metadata": {},
   "outputs": [
    {
     "data": {
      "text/html": [
       "<div>\n",
       "<style scoped>\n",
       "    .dataframe tbody tr th:only-of-type {\n",
       "        vertical-align: middle;\n",
       "    }\n",
       "\n",
       "    .dataframe tbody tr th {\n",
       "        vertical-align: top;\n",
       "    }\n",
       "\n",
       "    .dataframe thead th {\n",
       "        text-align: right;\n",
       "    }\n",
       "</style>\n",
       "<table border=\"1\" class=\"dataframe\">\n",
       "  <thead>\n",
       "    <tr style=\"text-align: right;\">\n",
       "      <th></th>\n",
       "      <th></th>\n",
       "      <th>c</th>\n",
       "      <th>A0</th>\n",
       "      <th>tau0</th>\n",
       "      <th>tau1</th>\n",
       "    </tr>\n",
       "  </thead>\n",
       "  <tbody>\n",
       "    <tr>\n",
       "      <th rowspan=\"4\" valign=\"top\">0</th>\n",
       "      <th>_val</th>\n",
       "      <td>0.000854</td>\n",
       "      <td>0.50092</td>\n",
       "      <td>2.471439</td>\n",
       "      <td>3.030307</td>\n",
       "    </tr>\n",
       "    <tr>\n",
       "      <th>init_value</th>\n",
       "      <td>0</td>\n",
       "      <td>0.497</td>\n",
       "      <td>2.43</td>\n",
       "      <td>3.07</td>\n",
       "    </tr>\n",
       "    <tr>\n",
       "      <th>stderr</th>\n",
       "      <td>0.000457</td>\n",
       "      <td>0.842672</td>\n",
       "      <td>0.429631</td>\n",
       "      <td>0.526496</td>\n",
       "    </tr>\n",
       "    <tr>\n",
       "      <th>correl</th>\n",
       "      <td>{'A0': '-0.734', 'tau0': '-0.701', 'tau1': '-0...</td>\n",
       "      <td>{'c': '-0.734', 'tau0': '0.998', 'tau1': '0.998'}</td>\n",
       "      <td>{'c': '-0.701', 'A0': '0.998', 'tau1': '0.994'}</td>\n",
       "      <td>{'c': '-0.769', 'A0': '0.998', 'tau0': '0.994'}</td>\n",
       "    </tr>\n",
       "  </tbody>\n",
       "</table>\n",
       "</div>"
      ],
      "text/plain": [
       "                                                              c  \\\n",
       "0 _val                                                 0.000854   \n",
       "  init_value                                                  0   \n",
       "  stderr                                               0.000457   \n",
       "  correl      {'A0': '-0.734', 'tau0': '-0.701', 'tau1': '-0...   \n",
       "\n",
       "                                                             A0  \\\n",
       "0 _val                                                  0.50092   \n",
       "  init_value                                              0.497   \n",
       "  stderr                                               0.842672   \n",
       "  correl      {'c': '-0.734', 'tau0': '0.998', 'tau1': '0.998'}   \n",
       "\n",
       "                                                         tau0  \\\n",
       "0 _val                                               2.471439   \n",
       "  init_value                                             2.43   \n",
       "  stderr                                             0.429631   \n",
       "  correl      {'c': '-0.701', 'A0': '0.998', 'tau1': '0.994'}   \n",
       "\n",
       "                                                         tau1  \n",
       "0 _val                                               3.030307  \n",
       "  init_value                                             3.07  \n",
       "  stderr                                             0.526496  \n",
       "  correl      {'c': '-0.769', 'A0': '0.998', 'tau0': '0.994'}  "
      ]
     },
     "execution_count": 23,
     "metadata": {},
     "output_type": "execute_result"
    }
   ],
   "source": [
    "par_df"
   ]
  },
  {
   "cell_type": "markdown",
   "id": "f451e8ca",
   "metadata": {},
   "source": [
    "No rescale"
   ]
  },
  {
   "cell_type": "code",
   "execution_count": 82,
   "id": "da42cd0c",
   "metadata": {},
   "outputs": [
    {
     "name": "stdout",
     "output_type": "stream",
     "text": [
      "[[Fit Statistics]]\n",
      "    # fitting method   = Powell\n",
      "    # function evals   = 186\n",
      "    # data points      = 90\n",
      "    # variables        = 5\n",
      "    chi-square         = 82.4485887\n",
      "    reduced chi-square = 0.96998340\n",
      "    Akaike info crit   = 2.11287354\n",
      "    Bayesian info crit = 14.6119219\n",
      "##  Warning: uncertainties could not be estimated:\n",
      "    c:     at boundary\n",
      "[[Variables]]\n",
      "    c:     1.1102e-16 +/- 3.0820e-08 (27760419948.92%) (init = 0)\n",
      "    A0:    2.62888624 +/- 9.21073992 (350.37%) (init = 13.92)\n",
      "    tau0:  2.23211847 +/- 1.72816291 (77.42%) (init = 2.43)\n",
      "    A1:    15.2704387 +/- 9.70356586 (63.54%) (init = 15.08)\n",
      "    tau1:  3.00826193 +/-        nan (nan%) (init = 3.07)\n",
      "[[Correlations]] (unreported correlations are < 0.100)\n",
      "    C(A0, tau0) = 2.811\n",
      "    C(tau0, A1) = -2.665\n",
      "    C(A0, A1)   = -0.996\n"
     ]
    },
    {
     "name": "stderr",
     "output_type": "stream",
     "text": [
      "/Library/Frameworks/Python.framework/Versions/3.10/lib/python3.10/site-packages/lmfit/minimizer.py:854: RuntimeWarning: invalid value encountered in sqrt\n",
      "  (par.stderr * np.sqrt(self.result.covar[jvar, jvar])))\n",
      "/Library/Frameworks/Python.framework/Versions/3.10/lib/python3.10/site-packages/lmfit/minimizer.py:847: RuntimeWarning: invalid value encountered in sqrt\n",
      "  par.stderr = np.sqrt(self.result.covar[ivar, ivar])\n"
     ]
    }
   ],
   "source": [
    "EGFP.n_photon = int(1e3)\n",
    "EGFP.multi_exp_data()\n",
    "tdata,ydata,weights = trim_rescale_data(EGFP.t,EGFP.y2,end = 100,rescale = False)\n",
    "p1 = initial_params(2,[np.max(EGFP.y2*0.48),np.max(EGFP.y2)*0.52],EGFP.tau,rescale = False)\n",
    "#p1['c'].set(value = 0, vary = False)\n",
    "mi1 = lmfit.minimize(residual, p1, args=(tdata, ydata),method = 'powell')\n",
    "\n",
    "print(lmfit.fit_report(mi1))\n",
    "\n"
   ]
  },
  {
   "cell_type": "code",
   "execution_count": 67,
   "id": "16a3e1a7",
   "metadata": {},
   "outputs": [
    {
     "data": {
      "text/plain": [
       "array([3.23010367e-01, 1.11780578e+00, 1.08012935e+00, 9.23148275e-01,\n",
       "       7.84991093e-01, 4.46317159e-01, 1.49981781e+00, 1.37362776e+00,\n",
       "       2.31983165e-01, 9.71336235e-01, 1.45908176e+00, 1.31658111e+00,\n",
       "       5.84747640e-02, 1.00239769e+00, 2.12514953e-03, 3.23141413e-01,\n",
       "       5.58006134e-01, 8.65667968e-01, 7.00225782e-02, 2.08446431e-01,\n",
       "       1.01564761e+00, 1.83665333e+00, 1.56390154e-01, 5.53538717e-01,\n",
       "       5.88202171e-02, 5.26671002e-01, 8.31454940e-01, 2.89248550e-01,\n",
       "       1.15748512e+00, 1.18024379e+00, 1.47600953e+00, 8.14355380e-01,\n",
       "       1.69151823e+00, 3.16307852e-01, 6.26593688e-01, 1.40670567e+00,\n",
       "       2.75317275e-01, 8.78227862e-01, 1.20239279e-01, 8.83640773e-02,\n",
       "       3.77779324e-01, 1.21513208e-01, 5.98685204e-01, 6.55437871e-01,\n",
       "       2.44730539e-02, 3.74655865e-01, 6.16500875e-01, 2.13010864e-01,\n",
       "       1.66291299e-01, 5.88354178e-01, 1.06905743e+00, 3.22037914e-01,\n",
       "       7.55118671e-01, 1.00235466e+00, 1.16161143e+00, 4.21507649e-01,\n",
       "       1.06039467e+00, 1.38456007e-01, 1.45200324e+00, 1.81912512e+00,\n",
       "       9.71127872e-01, 2.94915599e+00, 5.40544850e-02, 2.23611942e-01,\n",
       "       1.48053719e+00, 1.04395180e+00, 3.35416388e-01, 8.48880606e-02,\n",
       "       5.03405218e-01, 1.19298830e+00, 6.90796651e-01, 1.32464048e+00,\n",
       "       1.72130352e-02, 5.88965089e-01, 1.58083619e+00, 6.85543877e-01,\n",
       "       5.22806519e-01, 7.97872134e-01, 4.63877964e-01, 5.30184238e-01,\n",
       "       3.92729194e-01, 3.05401644e-02, 3.09002710e-01, 4.03265504e-01,\n",
       "       7.01868683e-01, 1.05444213e+00, 7.67852488e-01, 2.16224676e+00,\n",
       "       1.66841763e+00, 9.95627434e-01, 1.37842549e+00, 6.02468484e-01,\n",
       "       1.31901031e-01, 1.52640303e-01, 1.66813442e+00, 3.85055311e-01,\n",
       "       8.19570805e-01, 5.59896555e-01, 6.76735231e-01, 9.41911922e-01,\n",
       "       1.10277350e+00, 1.01104570e+00, 1.34918962e+00, 9.61980677e-01,\n",
       "       1.05715485e+00, 8.65905330e-01, 1.44734077e+00, 1.54113930e-01,\n",
       "       8.48237431e-01, 3.31324300e-01, 2.87001805e+00, 2.00085532e+00,\n",
       "       1.42468580e+00, 2.54039942e-01, 1.97230498e+00, 2.02951457e-01,\n",
       "       2.84893404e-01, 3.14197038e-01, 2.35518105e-01, 1.39017652e+00,\n",
       "       6.06655726e-01, 2.40921945e-01, 7.64007053e-01, 1.49098161e-01,\n",
       "       7.66028789e-01, 9.56762845e-01, 1.14753096e-01, 9.17811763e-01,\n",
       "       7.57960781e-01, 6.78907680e-01, 6.10785066e-01, 9.75752200e-01,\n",
       "       5.36840607e-02, 1.26069214e+00, 9.04412022e-01, 8.40580197e-01,\n",
       "       8.35713095e-01, 1.00998682e+00, 1.88441986e-01, 2.52775648e-01,\n",
       "       1.60095496e+00, 4.67982541e-01, 4.07576226e-01, 3.47642931e-01,\n",
       "       5.67178345e-01, 2.17631776e+00, 6.89621278e-01, 1.02339361e+00,\n",
       "       8.10213076e-01, 3.04057755e-01, 1.59734924e+00, 4.14079324e-01,\n",
       "       7.62118363e-01, 4.03619139e-01, 8.75783213e-01, 9.31963999e-01,\n",
       "       9.87714709e-01, 1.30549041e-01, 1.94284286e+00, 1.15241820e+00,\n",
       "       1.10280503e+00, 6.54480813e-01, 1.31336361e+00, 1.09450654e-01,\n",
       "       5.41741859e-01, 1.36602673e-01, 4.48678682e-01, 1.86869352e+00,\n",
       "       7.36059727e-01, 5.04729603e-02, 1.05062044e+00, 2.22670915e-01,\n",
       "       1.86811294e-01, 9.25014093e-01, 9.15132627e-02, 1.75066478e+00,\n",
       "       3.93283057e-01, 3.52049507e-01])"
      ]
     },
     "execution_count": 67,
     "metadata": {},
     "output_type": "execute_result"
    }
   ],
   "source": [
    "mi1.residual"
   ]
  },
  {
   "cell_type": "markdown",
   "id": "be5b073c",
   "metadata": {},
   "source": [
    "### mono-exp decay fit to EGFP"
   ]
  },
  {
   "cell_type": "code",
   "execution_count": 109,
   "id": "39a029ad",
   "metadata": {},
   "outputs": [
    {
     "data": {
      "text/html": [
       "<table><tr><th> name </th><th> value </th><th> initial value </th><th> min </th><th> max </th><th> vary </th><th> expression </th></tr><tr><td> c </td><td>  0.00000000 </td><td> 0 </td><td>  0.00000000 </td><td>  1.00000000 </td><td> True </td><td>  </td></tr><tr><td> A0 </td><td>  0.49700000 </td><td> 0.497 </td><td>  0.00000000 </td><td>         inf </td><td> True </td><td>  </td></tr><tr><td> tau0 </td><td>  2.43000000 </td><td> 2.43 </td><td>  0.00000000 </td><td>         inf </td><td> True </td><td>  </td></tr><tr><td> A1 </td><td>  0.50300000 </td><td> 0.503 </td><td>  0.00000000 </td><td>         inf </td><td> False </td><td> 1 - A0 </td></tr><tr><td> tau1 </td><td>  3.07000000 </td><td> 3.07 </td><td>  0.00000000 </td><td>         inf </td><td> True </td><td>  </td></tr></table>"
      ],
      "text/plain": [
       "Parameters([('c', <Parameter 'c', value=0, bounds=[0:1]>), ('A0', <Parameter 'A0', value=0.497, bounds=[0:inf]>), ('tau0', <Parameter 'tau0', value=2.43, bounds=[0:inf]>), ('A1', <Parameter 'A1', value=0.503, bounds=[0:inf], expr='1 - A0'>), ('tau1', <Parameter 'tau1', value=3.07, bounds=[0:inf]>)])"
      ]
     },
     "execution_count": 109,
     "metadata": {},
     "output_type": "execute_result"
    }
   ],
   "source": [
    "p1"
   ]
  },
  {
   "cell_type": "code",
   "execution_count": 110,
   "id": "051b8d9b",
   "metadata": {},
   "outputs": [
    {
     "name": "stdout",
     "output_type": "stream",
     "text": [
      "[[Fit Statistics]]\n",
      "    # fitting method   = Nelder-Mead\n",
      "    # function evals   = 54\n",
      "    # data points      = 1\n",
      "    # variables        = 2\n",
      "    chi-square         = 2.7040e-05\n",
      "    reduced chi-square = 2.7040e-05\n",
      "    Akaike info crit   = -6.51819185\n",
      "    Bayesian info crit = -10.5181918\n",
      "##  Warning: uncertainties could not be estimated:\n",
      "[[Variables]]\n",
      "    c:     0.00254108 (init = 0)\n",
      "    A0:    1.00000000 == '1 '\n",
      "    tau0:  2.72300093 (init = 2.43)\n"
     ]
    }
   ],
   "source": [
    "p1 = initial_params(1,EGFP.amp,EGFP.tau)\n",
    "mi1 = lmfit.minimize(residual, p1, args=(tdata, ydata),method = 'differential evaluation')\n",
    "\n",
    "print(lmfit.fit_report(mi1))\n"
   ]
  },
  {
   "cell_type": "code",
   "execution_count": 118,
   "id": "3264e95b",
   "metadata": {},
   "outputs": [
    {
     "data": {
      "text/plain": [
       "29.50655967458046"
      ]
     },
     "execution_count": 118,
     "metadata": {},
     "output_type": "execute_result"
    }
   ],
   "source": [
    "np.sum(residual(mi1.params,tdata,ydata))"
   ]
  },
  {
   "cell_type": "code",
   "execution_count": null,
   "id": "63cad260",
   "metadata": {},
   "outputs": [],
   "source": []
  }
 ],
 "metadata": {
  "kernelspec": {
   "display_name": "Python 3.10.5 64-bit",
   "language": "python",
   "name": "python3"
  },
  "language_info": {
   "codemirror_mode": {
    "name": "ipython",
    "version": 3
   },
   "file_extension": ".py",
   "mimetype": "text/x-python",
   "name": "python",
   "nbconvert_exporter": "python",
   "pygments_lexer": "ipython3",
   "version": "3.10.5"
  },
  "vscode": {
   "interpreter": {
    "hash": "aee8b7b246df8f9039afb4144a1f6fd8d2ca17a180786b69acc140d282b71a49"
   }
  }
 },
 "nbformat": 4,
 "nbformat_minor": 5
}
