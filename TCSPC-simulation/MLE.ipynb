{
 "cells": [
  {
   "cell_type": "code",
   "execution_count": 1,
   "id": "c29d0496",
   "metadata": {},
   "outputs": [],
   "source": [
    "from TCSPC import *"
   ]
  },
  {
   "cell_type": "code",
   "execution_count": 2,
   "id": "55cf412d",
   "metadata": {},
   "outputs": [],
   "source": [
    "EGFP = Simulation([0.497,0.503],[2.43,3.07])"
   ]
  },
  {
   "cell_type": "code",
   "execution_count": 33,
   "id": "bca71d0a",
   "metadata": {},
   "outputs": [],
   "source": [
    "tdata = np.loadtxt('EGFPt.csv')\n",
    "ydata = np.loadtxt('EGFPy2.csv')"
   ]
  },
  {
   "cell_type": "code",
   "execution_count": 3,
   "id": "c52732a3",
   "metadata": {},
   "outputs": [],
   "source": [
    "def trim_rescale_data(tdata,ydata,end =int(0.6*380)):\n",
    "    max_idx = np.argmax(ydata) #index of data point with maximum photon count N(0)\n",
    "    tdata = tdata[:end-max_idx] #start from t = 0\n",
    "    ydata = ydata[max_idx:end]  #start from max.\n",
    "    yerr = ydata/ydata[0]*np.sqrt(1/ydata+1/ydata[0]) #error after scaling\n",
    "    ydata = ydata/ydata[0] # scale y data such that the beginning is 1 \n",
    "    weights = 1/yerr #weighted by 1/yerr, yerr is error after scaling ydata\n",
    "    return tdata,ydata"
   ]
  },
  {
   "cell_type": "code",
   "execution_count": 4,
   "id": "189e121f",
   "metadata": {},
   "outputs": [],
   "source": [
    "def exp(t, A, tau):\n",
    "    return A * np.exp(-t/tau)"
   ]
  },
  {
   "cell_type": "code",
   "execution_count": 5,
   "id": "21609b17",
   "metadata": {},
   "outputs": [],
   "source": [
    "tdata,ydata = trim_rescale_data(EGFP.t,EGFP.y2)"
   ]
  },
  {
   "cell_type": "code",
   "execution_count": 6,
   "id": "752a6f00",
   "metadata": {},
   "outputs": [],
   "source": [
    "def poisson_deviance_residual(observed, expected):\n",
    "    # Ensure no invalid values\n",
    "    valid = (observed > 0) & (expected > 0)\n",
    "    residual = np.zeros_like(observed)\n",
    "    residual[valid] = np.sign(observed[valid] - expected[valid]) * np.sqrt(\n",
    "        2 * (observed[valid] * np.log(observed[valid] / expected[valid]) - (observed[valid] - expected[valid]))\n",
    "    )\n",
    "    return residual\n",
    "\n",
    "def residual(p, t, data):\n",
    "    v = p.valuesdict()\n",
    "    generative = v['c'] #constant background\n",
    "    M = 0\n",
    "    while f'A{M}' in v:\n",
    "        generative += exp(t, v[f'A{M}'], v[f'tau{M}'])\n",
    "        M += 1\n",
    "    \n",
    "    return poisson_deviance_residual(data, generative)\n"
   ]
  },
  {
   "cell_type": "code",
   "execution_count": 15,
   "id": "1a3d65f2",
   "metadata": {},
   "outputs": [],
   "source": [
    "def initial_peak_params(M,A_guess,tau_guess):\n",
    "    p = lmfit.Parameters()\n",
    "    p.add_many(('c', 0, True, 0, 1)) #constant background\n",
    "    for i in range(M): #for each component\n",
    "        p.add_many((f'A{i}', A_guess[i], True,0), #amplitude\n",
    "                   (f'tau{i}', tau_guess[i], True, 0)) #lifetime\n",
    "    p[f'A{M-1}'].set(expr = f'1-sum([A{i} for i in range({M}-1)])') #fix the amplitude of last component\n",
    "    return p\n"
   ]
  },
  {
   "cell_type": "code",
   "execution_count": 16,
   "id": "6e275e5c",
   "metadata": {},
   "outputs": [
    {
     "ename": "RecursionError",
     "evalue": "maximum recursion depth exceeded while calling a Python object",
     "output_type": "error",
     "traceback": [
      "\u001b[0;31m---------------------------------------------------------------------------\u001b[0m",
      "\u001b[0;31mRecursionError\u001b[0m                            Traceback (most recent call last)",
      "\u001b[1;32m/Users/chilaitang/Library/Mobile Documents/com~apple~CloudDocs/UCL PHY/Y3_Group_Project_2B/TCSPC-simulation/MLE.ipynb Cell 9\u001b[0m in \u001b[0;36m<cell line: 2>\u001b[0;34m()\u001b[0m\n\u001b[1;32m      <a href='vscode-notebook-cell:/Users/chilaitang/Library/Mobile%20Documents/com~apple~CloudDocs/UCL%20PHY/Y3_Group_Project_2B/TCSPC-simulation/MLE.ipynb#ch0000006?line=0'>1</a>\u001b[0m p1 \u001b[39m=\u001b[39m initial_peak_params(\u001b[39m2\u001b[39m,EGFP\u001b[39m.\u001b[39mamp,EGFP\u001b[39m.\u001b[39mtau)\n\u001b[0;32m----> <a href='vscode-notebook-cell:/Users/chilaitang/Library/Mobile%20Documents/com~apple~CloudDocs/UCL%20PHY/Y3_Group_Project_2B/TCSPC-simulation/MLE.ipynb#ch0000006?line=1'>2</a>\u001b[0m mi1 \u001b[39m=\u001b[39m lmfit\u001b[39m.\u001b[39;49mminimize(residual, p1, args\u001b[39m=\u001b[39;49m(tdata, ydata), method\u001b[39m=\u001b[39;49m\u001b[39m'\u001b[39;49m\u001b[39mpowell\u001b[39;49m\u001b[39m'\u001b[39;49m)\n\u001b[1;32m      <a href='vscode-notebook-cell:/Users/chilaitang/Library/Mobile%20Documents/com~apple~CloudDocs/UCL%20PHY/Y3_Group_Project_2B/TCSPC-simulation/MLE.ipynb#ch0000006?line=3'>4</a>\u001b[0m \u001b[39mprint\u001b[39m(lmfit\u001b[39m.\u001b[39mfit_report(mi1))\n",
      "File \u001b[0;32m/Library/Frameworks/Python.framework/Versions/3.10/lib/python3.10/site-packages/lmfit/minimizer.py:2583\u001b[0m, in \u001b[0;36mminimize\u001b[0;34m(fcn, params, method, args, kws, iter_cb, scale_covar, nan_policy, reduce_fcn, calc_covar, max_nfev, **fit_kws)\u001b[0m\n\u001b[1;32m   2443\u001b[0m \u001b[39m\"\"\"Perform the minimization of the objective function.\u001b[39;00m\n\u001b[1;32m   2444\u001b[0m \n\u001b[1;32m   2445\u001b[0m \u001b[39mThe minimize function takes an objective function to be minimized,\u001b[39;00m\n\u001b[0;32m   (...)\u001b[0m\n\u001b[1;32m   2577\u001b[0m \n\u001b[1;32m   2578\u001b[0m \u001b[39m\"\"\"\u001b[39;00m\n\u001b[1;32m   2579\u001b[0m fitter \u001b[39m=\u001b[39m Minimizer(fcn, params, fcn_args\u001b[39m=\u001b[39margs, fcn_kws\u001b[39m=\u001b[39mkws,\n\u001b[1;32m   2580\u001b[0m                    iter_cb\u001b[39m=\u001b[39miter_cb, scale_covar\u001b[39m=\u001b[39mscale_covar,\n\u001b[1;32m   2581\u001b[0m                    nan_policy\u001b[39m=\u001b[39mnan_policy, reduce_fcn\u001b[39m=\u001b[39mreduce_fcn,\n\u001b[1;32m   2582\u001b[0m                    calc_covar\u001b[39m=\u001b[39mcalc_covar, max_nfev\u001b[39m=\u001b[39mmax_nfev, \u001b[39m*\u001b[39m\u001b[39m*\u001b[39mfit_kws)\n\u001b[0;32m-> 2583\u001b[0m \u001b[39mreturn\u001b[39;00m fitter\u001b[39m.\u001b[39;49mminimize(method\u001b[39m=\u001b[39;49mmethod)\n",
      "File \u001b[0;32m/Library/Frameworks/Python.framework/Versions/3.10/lib/python3.10/site-packages/lmfit/minimizer.py:2352\u001b[0m, in \u001b[0;36mMinimizer.minimize\u001b[0;34m(self, method, params, **kws)\u001b[0m\n\u001b[1;32m   2349\u001b[0m         \u001b[39mif\u001b[39;00m (key\u001b[39m.\u001b[39mlower()\u001b[39m.\u001b[39mstartswith(user_method) \u001b[39mor\u001b[39;00m\n\u001b[1;32m   2350\u001b[0m                 val\u001b[39m.\u001b[39mlower()\u001b[39m.\u001b[39mstartswith(user_method)):\n\u001b[1;32m   2351\u001b[0m             kwargs[\u001b[39m'\u001b[39m\u001b[39mmethod\u001b[39m\u001b[39m'\u001b[39m] \u001b[39m=\u001b[39m val\n\u001b[0;32m-> 2352\u001b[0m \u001b[39mreturn\u001b[39;00m function(\u001b[39m*\u001b[39;49m\u001b[39m*\u001b[39;49mkwargs)\n",
      "File \u001b[0;32m/Library/Frameworks/Python.framework/Versions/3.10/lib/python3.10/site-packages/lmfit/minimizer.py:949\u001b[0m, in \u001b[0;36mMinimizer.scalar_minimize\u001b[0;34m(self, method, params, max_nfev, **kws)\u001b[0m\n\u001b[1;32m    874\u001b[0m \u001b[39mdef\u001b[39;00m \u001b[39mscalar_minimize\u001b[39m(\u001b[39mself\u001b[39m, method\u001b[39m=\u001b[39m\u001b[39m'\u001b[39m\u001b[39mNelder-Mead\u001b[39m\u001b[39m'\u001b[39m, params\u001b[39m=\u001b[39m\u001b[39mNone\u001b[39;00m, max_nfev\u001b[39m=\u001b[39m\u001b[39mNone\u001b[39;00m,\n\u001b[1;32m    875\u001b[0m                     \u001b[39m*\u001b[39m\u001b[39m*\u001b[39mkws):\n\u001b[1;32m    876\u001b[0m     \u001b[39m\"\"\"Scalar minimization using :scipydoc:`optimize.minimize`.\u001b[39;00m\n\u001b[1;32m    877\u001b[0m \n\u001b[1;32m    878\u001b[0m \u001b[39m    Perform fit with any of the scalar minimization algorithms\u001b[39;00m\n\u001b[0;32m   (...)\u001b[0m\n\u001b[1;32m    947\u001b[0m \n\u001b[1;32m    948\u001b[0m \u001b[39m    \"\"\"\u001b[39;00m\n\u001b[0;32m--> 949\u001b[0m     result \u001b[39m=\u001b[39m \u001b[39mself\u001b[39;49m\u001b[39m.\u001b[39;49mprepare_fit(params\u001b[39m=\u001b[39;49mparams)\n\u001b[1;32m    950\u001b[0m     result\u001b[39m.\u001b[39mmethod \u001b[39m=\u001b[39m method\n\u001b[1;32m    951\u001b[0m     variables \u001b[39m=\u001b[39m result\u001b[39m.\u001b[39minit_vals\n",
      "File \u001b[0;32m/Library/Frameworks/Python.framework/Versions/3.10/lib/python3.10/site-packages/lmfit/minimizer.py:715\u001b[0m, in \u001b[0;36mMinimizer.prepare_fit\u001b[0;34m(self, params)\u001b[0m\n\u001b[1;32m    713\u001b[0m result\u001b[39m.\u001b[39mvar_names \u001b[39m=\u001b[39m []  \u001b[39m# note that this *does* belong to self...\u001b[39;00m\n\u001b[1;32m    714\u001b[0m result\u001b[39m.\u001b[39minit_vals \u001b[39m=\u001b[39m []\n\u001b[0;32m--> 715\u001b[0m result\u001b[39m.\u001b[39;49mparams\u001b[39m.\u001b[39;49mupdate_constraints()\n\u001b[1;32m    716\u001b[0m result\u001b[39m.\u001b[39mnfev \u001b[39m=\u001b[39m \u001b[39m0\u001b[39m\n\u001b[1;32m    717\u001b[0m result\u001b[39m.\u001b[39mcall_kws \u001b[39m=\u001b[39m {}\n",
      "File \u001b[0;32m/Library/Frameworks/Python.framework/Versions/3.10/lib/python3.10/site-packages/lmfit/parameter.py:243\u001b[0m, in \u001b[0;36mParameters.update_constraints\u001b[0;34m(self)\u001b[0m\n\u001b[1;32m    240\u001b[0m     updated_tracker\u001b[39m.\u001b[39mdiscard(name)\n\u001b[1;32m    242\u001b[0m \u001b[39mfor\u001b[39;00m name \u001b[39min\u001b[39;00m requires_update:\n\u001b[0;32m--> 243\u001b[0m     _update_param(name)\n",
      "File \u001b[0;32m/Library/Frameworks/Python.framework/Versions/3.10/lib/python3.10/site-packages/lmfit/parameter.py:238\u001b[0m, in \u001b[0;36mParameters.update_constraints.<locals>._update_param\u001b[0;34m(name)\u001b[0m\n\u001b[1;32m    236\u001b[0m \u001b[39mfor\u001b[39;00m dep \u001b[39min\u001b[39;00m par\u001b[39m.\u001b[39m_expr_deps:\n\u001b[1;32m    237\u001b[0m     \u001b[39mif\u001b[39;00m dep \u001b[39min\u001b[39;00m updated_tracker:\n\u001b[0;32m--> 238\u001b[0m         _update_param(dep)\n\u001b[1;32m    239\u001b[0m \u001b[39mself\u001b[39m\u001b[39m.\u001b[39m_asteval\u001b[39m.\u001b[39msymtable[name] \u001b[39m=\u001b[39m par\u001b[39m.\u001b[39mvalue\n\u001b[1;32m    240\u001b[0m updated_tracker\u001b[39m.\u001b[39mdiscard(name)\n",
      "File \u001b[0;32m/Library/Frameworks/Python.framework/Versions/3.10/lib/python3.10/site-packages/lmfit/parameter.py:238\u001b[0m, in \u001b[0;36mParameters.update_constraints.<locals>._update_param\u001b[0;34m(name)\u001b[0m\n\u001b[1;32m    236\u001b[0m \u001b[39mfor\u001b[39;00m dep \u001b[39min\u001b[39;00m par\u001b[39m.\u001b[39m_expr_deps:\n\u001b[1;32m    237\u001b[0m     \u001b[39mif\u001b[39;00m dep \u001b[39min\u001b[39;00m updated_tracker:\n\u001b[0;32m--> 238\u001b[0m         _update_param(dep)\n\u001b[1;32m    239\u001b[0m \u001b[39mself\u001b[39m\u001b[39m.\u001b[39m_asteval\u001b[39m.\u001b[39msymtable[name] \u001b[39m=\u001b[39m par\u001b[39m.\u001b[39mvalue\n\u001b[1;32m    240\u001b[0m updated_tracker\u001b[39m.\u001b[39mdiscard(name)\n",
      "    \u001b[0;31m[... skipping similar frames: Parameters.update_constraints.<locals>._update_param at line 238 (2964 times)]\u001b[0m\n",
      "File \u001b[0;32m/Library/Frameworks/Python.framework/Versions/3.10/lib/python3.10/site-packages/lmfit/parameter.py:238\u001b[0m, in \u001b[0;36mParameters.update_constraints.<locals>._update_param\u001b[0;34m(name)\u001b[0m\n\u001b[1;32m    236\u001b[0m \u001b[39mfor\u001b[39;00m dep \u001b[39min\u001b[39;00m par\u001b[39m.\u001b[39m_expr_deps:\n\u001b[1;32m    237\u001b[0m     \u001b[39mif\u001b[39;00m dep \u001b[39min\u001b[39;00m updated_tracker:\n\u001b[0;32m--> 238\u001b[0m         _update_param(dep)\n\u001b[1;32m    239\u001b[0m \u001b[39mself\u001b[39m\u001b[39m.\u001b[39m_asteval\u001b[39m.\u001b[39msymtable[name] \u001b[39m=\u001b[39m par\u001b[39m.\u001b[39mvalue\n\u001b[1;32m    240\u001b[0m updated_tracker\u001b[39m.\u001b[39mdiscard(name)\n",
      "File \u001b[0;32m/Library/Frameworks/Python.framework/Versions/3.10/lib/python3.10/site-packages/lmfit/parameter.py:233\u001b[0m, in \u001b[0;36mParameters.update_constraints.<locals>._update_param\u001b[0;34m(name)\u001b[0m\n\u001b[1;32m    225\u001b[0m \u001b[39mdef\u001b[39;00m \u001b[39m_update_param\u001b[39m(name):\n\u001b[1;32m    226\u001b[0m     \u001b[39m\"\"\"Update a parameter value, including setting bounds.\u001b[39;00m\n\u001b[1;32m    227\u001b[0m \n\u001b[1;32m    228\u001b[0m \u001b[39m    For a constrained parameter (one with an `expr` defined), this\u001b[39;00m\n\u001b[0;32m   (...)\u001b[0m\n\u001b[1;32m    231\u001b[0m \n\u001b[1;32m    232\u001b[0m \u001b[39m    \"\"\"\u001b[39;00m\n\u001b[0;32m--> 233\u001b[0m     par \u001b[39m=\u001b[39m \u001b[39mself\u001b[39;49m\u001b[39m.\u001b[39;49m\u001b[39m__getitem__\u001b[39;49m(name)\n\u001b[1;32m    234\u001b[0m     \u001b[39mif\u001b[39;00m par\u001b[39m.\u001b[39m_expr_eval \u001b[39mis\u001b[39;00m \u001b[39mNone\u001b[39;00m:\n\u001b[1;32m    235\u001b[0m         par\u001b[39m.\u001b[39m_expr_eval \u001b[39m=\u001b[39m \u001b[39mself\u001b[39m\u001b[39m.\u001b[39m_asteval\n",
      "\u001b[0;31mRecursionError\u001b[0m: maximum recursion depth exceeded while calling a Python object"
     ]
    }
   ],
   "source": [
    "p1 = initial_peak_params(2,EGFP.amp,EGFP.tau)\n",
    "mi1 = lmfit.minimize(residual, p1, args=(tdata, ydata), method='powell')\n",
    "\n",
    "print(lmfit.fit_report(mi1))\n"
   ]
  },
  {
   "cell_type": "code",
   "execution_count": null,
   "id": "051b8d9b",
   "metadata": {},
   "outputs": [],
   "source": []
  },
  {
   "cell_type": "code",
   "execution_count": null,
   "id": "3264e95b",
   "metadata": {},
   "outputs": [],
   "source": []
  },
  {
   "cell_type": "code",
   "execution_count": null,
   "id": "cd8596dc",
   "metadata": {},
   "outputs": [],
   "source": []
  },
  {
   "cell_type": "code",
   "execution_count": null,
   "id": "63cad260",
   "metadata": {},
   "outputs": [],
   "source": []
  }
 ],
 "metadata": {
  "kernelspec": {
   "display_name": "Python 3.10.5 64-bit",
   "language": "python",
   "name": "python3"
  },
  "language_info": {
   "codemirror_mode": {
    "name": "ipython",
    "version": 3
   },
   "file_extension": ".py",
   "mimetype": "text/x-python",
   "name": "python",
   "nbconvert_exporter": "python",
   "pygments_lexer": "ipython3",
   "version": "3.10.5"
  },
  "vscode": {
   "interpreter": {
    "hash": "aee8b7b246df8f9039afb4144a1f6fd8d2ca17a180786b69acc140d282b71a49"
   }
  }
 },
 "nbformat": 4,
 "nbformat_minor": 5
}
