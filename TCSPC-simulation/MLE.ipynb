{
 "cells": [
  {
   "cell_type": "code",
   "execution_count": 1,
   "id": "c29d0496",
   "metadata": {},
   "outputs": [],
   "source": [
    "from TCSPC import *"
   ]
  },
  {
   "cell_type": "code",
   "execution_count": 2,
   "id": "55cf412d",
   "metadata": {},
   "outputs": [],
   "source": [
    "EGFP = Simulation([0.497,0.503],[2.43,3.07])"
   ]
  },
  {
   "cell_type": "code",
   "execution_count": 33,
   "id": "bca71d0a",
   "metadata": {},
   "outputs": [],
   "source": [
    "tdata = np.loadtxt('EGFPt.csv')\n",
    "ydata = np.loadtxt('EGFPy2.csv')"
   ]
  },
  {
   "cell_type": "code",
   "execution_count": 3,
   "id": "c52732a3",
   "metadata": {},
   "outputs": [],
   "source": [
    "def trim_rescale_data(tdata,ydata,end =int(0.6*380)):\n",
    "    max_idx = np.argmax(ydata) #index of data point with maximum photon count N(0)\n",
    "    tdata = tdata[:end-max_idx] #start from t = 0\n",
    "    ydata = ydata[max_idx:end]  #start from max.\n",
    "    yerr = ydata/ydata[0]*np.sqrt(1/ydata+1/ydata[0]) #error after scaling\n",
    "    ydata = ydata/ydata[0] # scale y data such that the beginning is 1 \n",
    "    weights = 1/yerr #weighted by 1/yerr, yerr is error after scaling ydata\n",
    "    return tdata,ydata"
   ]
  },
  {
   "cell_type": "code",
   "execution_count": 4,
   "id": "189e121f",
   "metadata": {},
   "outputs": [],
   "source": [
    "def exp(t, A, tau):\n",
    "    return A * np.exp(-t/tau)"
   ]
  },
  {
   "cell_type": "code",
   "execution_count": 5,
   "id": "21609b17",
   "metadata": {},
   "outputs": [],
   "source": [
    "tdata,ydata = trim_rescale_data(EGFP.t,EGFP.y2)"
   ]
  },
  {
   "cell_type": "code",
   "execution_count": 86,
   "id": "752a6f00",
   "metadata": {},
   "outputs": [],
   "source": [
    "def poisson_deviance_residual(observed, expected):\n",
    "    # Ensure no invalid values\n",
    "    valid = (observed > 0) & (expected > 0)\n",
    "    residual = np.zeros_like(observed)\n",
    "    residual[valid] = abs( 2 * (observed[valid] * np.log(observed[valid] / expected[valid]) - (observed[valid] - expected[valid])))\n",
    "    return np.sum(residual)\n",
    "\n",
    "def residual(p, t, data):\n",
    "    v = p.valuesdict()\n",
    "    generative = v['c'] #constant background\n",
    "    M = 0\n",
    "    while f'A{M}' in v:\n",
    "        generative += exp(t, v[f'A{M}'], v[f'tau{M}'])\n",
    "        M += 1\n",
    "    \n",
    "    return poisson_deviance_residual(data, generative)\n"
   ]
  },
  {
   "cell_type": "code",
   "execution_count": 87,
   "id": "1a3d65f2",
   "metadata": {},
   "outputs": [],
   "source": [
    "def initial_peak_params(M,A_guess,tau_guess):\n",
    "    p = lmfit.Parameters()\n",
    "    p.add_many(('c', 0, True, 0, 1)) #constant background\n",
    "    for i in range(M): #for each component\n",
    "        p.add_many((f'A{i}', A_guess[i], True,0), #amplitude\n",
    "                   (f'tau{i}', tau_guess[i], True, 0)) #lifetime\n",
    "    p[f'A{M-1}'].set(expr = f'1 {\"\".join([f\"- A{i}\" for i in range(M-1)])}') #fix the amplitude of last component\n",
    "    return p\n",
    "\n"
   ]
  },
  {
   "cell_type": "markdown",
   "id": "e13090df",
   "metadata": {},
   "source": [
    "### bi-exp decay fit to EGFP"
   ]
  },
  {
   "cell_type": "code",
   "execution_count": 88,
   "id": "6e275e5c",
   "metadata": {},
   "outputs": [
    {
     "name": "stdout",
     "output_type": "stream",
     "text": [
      "[[Fit Statistics]]\n",
      "    # fitting method   = Powell\n",
      "    # function evals   = 463\n",
      "    # data points      = 1\n",
      "    # variables        = 4\n",
      "    chi-square         = 1.3288e-05\n",
      "    reduced chi-square = 1.3288e-05\n",
      "    Akaike info crit   = -3.22863221\n",
      "    Bayesian info crit = -11.2286322\n",
      "##  Warning: uncertainties could not be estimated:\n",
      "[[Variables]]\n",
      "    c:     8.1749e-06 (init = 0)\n",
      "    A0:    0.49539764 (init = 0.497)\n",
      "    tau0:  2.37295246 (init = 2.43)\n",
      "    A1:    0.50460236 == '1 - A0'\n",
      "    tau1:  3.12831460 (init = 3.07)\n"
     ]
    }
   ],
   "source": [
    "p1 = initial_peak_params(2,EGFP.amp,EGFP.tau)\n",
    "mi1 = lmfit.minimize(residual, p1, args=(tdata, ydata), method='powell')\n",
    "\n",
    "print(lmfit.fit_report(mi1))\n"
   ]
  },
  {
   "cell_type": "code",
   "execution_count": 71,
   "id": "216fbfc1",
   "metadata": {},
   "outputs": [
    {
     "data": {
      "text/html": [
       "<h2>Fit Statistics</h2><table><tr><td>fitting method</td><td>Powell</td><td></td></tr><tr><td># function evals</td><td>200</td><td></td></tr><tr><td># data points</td><td>218</td><td></td></tr><tr><td># variables</td><td>2</td><td></td></tr><tr><td>chi-square</td><td> 3.4566e-07</td><td></td></tr><tr><td>reduced chi-square</td><td> 1.6003e-09</td><td></td></tr><tr><td>Akaike info crit.</td><td>-4413.17981</td><td></td></tr><tr><td>Bayesian info crit.</td><td>-4406.41082</td><td></td></tr></table><h2>Variables</h2><table><tr><th> name </th><th> value </th><th> standard error </th><th> relative error </th><th> initial value </th><th> min </th><th> max </th><th> vary </th><th> expression </th></tr><tr><td> c </td><td>  0.00259614 </td><td>  1.2162e-04 </td><td> (4.68%) </td><td> 0 </td><td>  0.00000000 </td><td>  1.00000000 </td><td> True </td><td>  </td></tr><tr><td> A0 </td><td>  1.00000000 </td><td>  0.00000000 </td><td> (0.00%) </td><td> 1 </td><td>  0.00000000 </td><td>         inf </td><td> False </td><td> 1  </td></tr><tr><td> tau0 </td><td>  2.72135766 </td><td>  0.00214234 </td><td> (0.08%) </td><td> 2.43 </td><td>  0.00000000 </td><td>         inf </td><td> True </td><td>  </td></tr></table><h2>Correlations (unreported correlations are < 0.100)</h2><table><tr><td>c</td><td>tau0</td><td>-0.8610</td></tr></table>"
      ],
      "text/plain": [
       "<lmfit.minimizer.MinimizerResult at 0x121cc7520>"
      ]
     },
     "execution_count": 71,
     "metadata": {},
     "output_type": "execute_result"
    }
   ],
   "source": [
    "mi1"
   ]
  },
  {
   "cell_type": "code",
   "execution_count": 81,
   "id": "0f7cc649",
   "metadata": {},
   "outputs": [],
   "source": [
    "result = mi1\n",
    "del result.params['A1']"
   ]
  },
  {
   "cell_type": "code",
   "execution_count": 83,
   "id": "a84af108",
   "metadata": {},
   "outputs": [],
   "source": [
    "info_df,par_df = fit_df([result])\n"
   ]
  },
  {
   "cell_type": "code",
   "execution_count": 84,
   "id": "8d2167ab",
   "metadata": {},
   "outputs": [
    {
     "data": {
      "text/html": [
       "<div>\n",
       "<style scoped>\n",
       "    .dataframe tbody tr th:only-of-type {\n",
       "        vertical-align: middle;\n",
       "    }\n",
       "\n",
       "    .dataframe tbody tr th {\n",
       "        vertical-align: top;\n",
       "    }\n",
       "\n",
       "    .dataframe thead th {\n",
       "        text-align: right;\n",
       "    }\n",
       "</style>\n",
       "<table border=\"1\" class=\"dataframe\">\n",
       "  <thead>\n",
       "    <tr style=\"text-align: right;\">\n",
       "      <th></th>\n",
       "      <th></th>\n",
       "      <th>c</th>\n",
       "      <th>A0</th>\n",
       "      <th>tau0</th>\n",
       "      <th>tau1</th>\n",
       "    </tr>\n",
       "  </thead>\n",
       "  <tbody>\n",
       "    <tr>\n",
       "      <th rowspan=\"4\" valign=\"top\">0</th>\n",
       "      <th>_val</th>\n",
       "      <td>0.000003</td>\n",
       "      <td>0.492887</td>\n",
       "      <td>2.370347</td>\n",
       "      <td>3.128195</td>\n",
       "    </tr>\n",
       "    <tr>\n",
       "      <th>init_value</th>\n",
       "      <td>0</td>\n",
       "      <td>0.497</td>\n",
       "      <td>2.43</td>\n",
       "      <td>3.07</td>\n",
       "    </tr>\n",
       "    <tr>\n",
       "      <th>stderr</th>\n",
       "      <td>0.000066</td>\n",
       "      <td>0.296631</td>\n",
       "      <td>0.212296</td>\n",
       "      <td>0.24093</td>\n",
       "    </tr>\n",
       "    <tr>\n",
       "      <th>correl</th>\n",
       "      <td>{'A0': '-0.466', 'tau0': '-0.455', 'tau1': '-0...</td>\n",
       "      <td>{'c': '-0.466', 'tau0': '0.999', 'tau1': '1'}</td>\n",
       "      <td>{'c': '-0.455', 'A0': '0.999', 'tau1': '0.998'}</td>\n",
       "      <td>{'c': '-0.481', 'A0': '1', 'tau0': '0.998'}</td>\n",
       "    </tr>\n",
       "  </tbody>\n",
       "</table>\n",
       "</div>"
      ],
      "text/plain": [
       "                                                              c  \\\n",
       "0 _val                                                 0.000003   \n",
       "  init_value                                                  0   \n",
       "  stderr                                               0.000066   \n",
       "  correl      {'A0': '-0.466', 'tau0': '-0.455', 'tau1': '-0...   \n",
       "\n",
       "                                                         A0  \\\n",
       "0 _val                                             0.492887   \n",
       "  init_value                                          0.497   \n",
       "  stderr                                           0.296631   \n",
       "  correl      {'c': '-0.466', 'tau0': '0.999', 'tau1': '1'}   \n",
       "\n",
       "                                                         tau0  \\\n",
       "0 _val                                               2.370347   \n",
       "  init_value                                             2.43   \n",
       "  stderr                                             0.212296   \n",
       "  correl      {'c': '-0.455', 'A0': '0.999', 'tau1': '0.998'}   \n",
       "\n",
       "                                                     tau1  \n",
       "0 _val                                           3.128195  \n",
       "  init_value                                         3.07  \n",
       "  stderr                                          0.24093  \n",
       "  correl      {'c': '-0.481', 'A0': '1', 'tau0': '0.998'}  "
      ]
     },
     "execution_count": 84,
     "metadata": {},
     "output_type": "execute_result"
    }
   ],
   "source": [
    "par_df"
   ]
  },
  {
   "cell_type": "markdown",
   "id": "be5b073c",
   "metadata": {},
   "source": [
    "### mono-exp decay fit to EGFP"
   ]
  },
  {
   "cell_type": "code",
   "execution_count": 89,
   "id": "051b8d9b",
   "metadata": {},
   "outputs": [
    {
     "name": "stdout",
     "output_type": "stream",
     "text": [
      "[[Fit Statistics]]\n",
      "    # fitting method   = Powell\n",
      "    # function evals   = 148\n",
      "    # data points      = 1\n",
      "    # variables        = 2\n",
      "    chi-square         = 2.7040e-05\n",
      "    reduced chi-square = 2.7040e-05\n",
      "    Akaike info crit   = -6.51819207\n",
      "    Bayesian info crit = -10.5181921\n",
      "##  Warning: uncertainties could not be estimated:\n",
      "[[Variables]]\n",
      "    c:     0.00254199 (init = 0)\n",
      "    A0:    1.00000000 == '1 '\n",
      "    tau0:  2.72299181 (init = 2.43)\n"
     ]
    }
   ],
   "source": [
    "p1 = initial_peak_params(1,EGFP.amp,EGFP.tau)\n",
    "mi1 = lmfit.minimize(residual, p1, args=(tdata, ydata), method='powell')\n",
    "\n",
    "print(lmfit.fit_report(mi1))\n"
   ]
  },
  {
   "cell_type": "code",
   "execution_count": 90,
   "id": "3264e95b",
   "metadata": {},
   "outputs": [
    {
     "data": {
      "text/plain": [
       "0.005200003204135892"
      ]
     },
     "execution_count": 90,
     "metadata": {},
     "output_type": "execute_result"
    }
   ],
   "source": [
    "residual(mi1.params,tdata,ydata)"
   ]
  },
  {
   "cell_type": "code",
   "execution_count": null,
   "id": "cd8596dc",
   "metadata": {},
   "outputs": [],
   "source": []
  },
  {
   "cell_type": "code",
   "execution_count": null,
   "id": "63cad260",
   "metadata": {},
   "outputs": [],
   "source": []
  }
 ],
 "metadata": {
  "kernelspec": {
   "display_name": "Python 3.10.5 64-bit",
   "language": "python",
   "name": "python3"
  },
  "language_info": {
   "codemirror_mode": {
    "name": "ipython",
    "version": 3
   },
   "file_extension": ".py",
   "mimetype": "text/x-python",
   "name": "python",
   "nbconvert_exporter": "python",
   "pygments_lexer": "ipython3",
   "version": "3.10.5"
  },
  "vscode": {
   "interpreter": {
    "hash": "aee8b7b246df8f9039afb4144a1f6fd8d2ca17a180786b69acc140d282b71a49"
   }
  }
 },
 "nbformat": 4,
 "nbformat_minor": 5
}
