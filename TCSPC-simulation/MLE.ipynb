{
 "cells": [
  {
   "cell_type": "code",
   "execution_count": 1,
   "id": "c29d0496",
   "metadata": {},
   "outputs": [],
   "source": [
    "from TCSPC import *"
   ]
  },
  {
   "cell_type": "code",
   "execution_count": 2,
   "id": "55cf412d",
   "metadata": {},
   "outputs": [],
   "source": [
    "EGFP = Simulation([0.497,0.503],[2.43,3.07])"
   ]
  },
  {
   "cell_type": "code",
   "execution_count": 33,
   "id": "bca71d0a",
   "metadata": {},
   "outputs": [],
   "source": [
    "tdata = np.loadtxt('EGFPt.csv')\n",
    "ydata = np.loadtxt('EGFPy2.csv')"
   ]
  },
  {
   "cell_type": "code",
   "execution_count": 3,
   "id": "c52732a3",
   "metadata": {},
   "outputs": [],
   "source": [
    "def trim_rescale_data(tdata,ydata,end =int(0.6*380)):\n",
    "    max_idx = np.argmax(ydata) #index of data point with maximum photon count N(0)\n",
    "    tdata = tdata[:end-max_idx] #start from t = 0\n",
    "    ydata = ydata[max_idx:end]  #start from max.\n",
    "    yerr = ydata/ydata[0]*np.sqrt(1/ydata+1/ydata[0]) #error after scaling\n",
    "    ydata = ydata/ydata[0] # scale y data such that the beginning is 1 \n",
    "    weights = 1/yerr #weighted by 1/yerr, yerr is error after scaling ydata\n",
    "    return tdata,ydata"
   ]
  },
  {
   "cell_type": "code",
   "execution_count": 4,
   "id": "189e121f",
   "metadata": {},
   "outputs": [],
   "source": [
    "def exp(t, A, tau):\n",
    "    return A * np.exp(-t/tau)"
   ]
  },
  {
   "cell_type": "code",
   "execution_count": 5,
   "id": "21609b17",
   "metadata": {},
   "outputs": [],
   "source": [
    "tdata,ydata = trim_rescale_data(EGFP.t,EGFP.y2)"
   ]
  },
  {
   "cell_type": "code",
   "execution_count": 18,
   "id": "752a6f00",
   "metadata": {},
   "outputs": [],
   "source": [
    "def poisson_deviance_residual(observed, expected):\n",
    "    # Ensure no invalid values\n",
    "    valid = (observed > 0) & (expected > 0)\n",
    "    residual = np.zeros_like(observed)\n",
    "    residual[valid] = abs( 2 * (observed[valid] * np.log(observed[valid] / expected[valid]) - (observed[valid] - expected[valid])))\n",
    "    return residual\n",
    "\n",
    "def residual(p, t, data):\n",
    "    v = p.valuesdict()\n",
    "    generative = v['c'] #constant background\n",
    "    M = 0\n",
    "    while f'A{M}' in v:\n",
    "        generative += exp(t, v[f'A{M}'], v[f'tau{M}'])\n",
    "        M += 1\n",
    "    \n",
    "    return poisson_deviance_residual(data, generative)\n"
   ]
  },
  {
   "cell_type": "code",
   "execution_count": 41,
   "id": "1a3d65f2",
   "metadata": {},
   "outputs": [],
   "source": [
    "def initial_peak_params(M,A_guess,tau_guess):\n",
    "    p = lmfit.Parameters()\n",
    "    p.add_many(('c', 0, True, 0, 1)) #constant background\n",
    "    for i in range(M): #for each component\n",
    "        p.add_many((f'A{i}', A_guess[i], True,0), #amplitude\n",
    "                   (f'tau{i}', tau_guess[i], True, 0)) #lifetime\n",
    "    p[f'A{M-1}'].set(expr = f'1-A0') #fix the amplitude of last component\n",
    "    return p\n"
   ]
  },
  {
   "cell_type": "code",
   "execution_count": 38,
   "id": "4b180477",
   "metadata": {},
   "outputs": [
    {
     "data": {
      "text/plain": [
       "'[0, 1, 2]'"
      ]
     },
     "execution_count": 38,
     "metadata": {},
     "output_type": "execute_result"
    }
   ],
   "source": [
    "f'{[i for i in range(3)]}'"
   ]
  },
  {
   "cell_type": "code",
   "execution_count": 42,
   "id": "6e275e5c",
   "metadata": {},
   "outputs": [
    {
     "name": "stdout",
     "output_type": "stream",
     "text": [
      "[[Fit Statistics]]\n",
      "    # fitting method   = Powell\n",
      "    # function evals   = 573\n",
      "    # data points      = 218\n",
      "    # variables        = 4\n",
      "    chi-square         = 1.6300e-07\n",
      "    reduced chi-square = 7.6170e-10\n",
      "    Akaike info crit   = -4573.04824\n",
      "    Bayesian info crit = -4559.51025\n",
      "[[Variables]]\n",
      "    c:     2.9011e-06 +/- 6.6365e-05 (2287.62%) (init = 0)\n",
      "    A0:    0.49288721 +/- 0.29663145 (60.18%) (init = 0.497)\n",
      "    tau0:  2.37034651 +/- 0.21229639 (8.96%) (init = 2.43)\n",
      "    A1:    0.50711279 +/- 0.29663145 (58.49%) == '1-A0'\n",
      "    tau1:  3.12819509 +/- 0.24093008 (7.70%) (init = 3.07)\n",
      "[[Correlations]] (unreported correlations are < 0.100)\n",
      "    C(A0, tau1)   = 1.000\n",
      "    C(A0, tau0)   = 0.999\n",
      "    C(tau0, tau1) = 0.998\n",
      "    C(c, tau1)    = -0.481\n",
      "    C(c, A0)      = -0.466\n",
      "    C(c, tau0)    = -0.455\n"
     ]
    }
   ],
   "source": [
    "p1 = initial_peak_params(2,EGFP.amp,EGFP.tau)\n",
    "mi1 = lmfit.minimize(residual, p1, args=(tdata, ydata), method='powell')\n",
    "\n",
    "print(lmfit.fit_report(mi1))\n"
   ]
  },
  {
   "cell_type": "code",
   "execution_count": null,
   "id": "051b8d9b",
   "metadata": {},
   "outputs": [],
   "source": []
  },
  {
   "cell_type": "code",
   "execution_count": null,
   "id": "3264e95b",
   "metadata": {},
   "outputs": [],
   "source": []
  },
  {
   "cell_type": "code",
   "execution_count": null,
   "id": "cd8596dc",
   "metadata": {},
   "outputs": [],
   "source": []
  },
  {
   "cell_type": "code",
   "execution_count": null,
   "id": "63cad260",
   "metadata": {},
   "outputs": [],
   "source": []
  }
 ],
 "metadata": {
  "kernelspec": {
   "display_name": "Python 3.10.5 64-bit",
   "language": "python",
   "name": "python3"
  },
  "language_info": {
   "codemirror_mode": {
    "name": "ipython",
    "version": 3
   },
   "file_extension": ".py",
   "mimetype": "text/x-python",
   "name": "python",
   "nbconvert_exporter": "python",
   "pygments_lexer": "ipython3",
   "version": "3.10.5"
  },
  "vscode": {
   "interpreter": {
    "hash": "aee8b7b246df8f9039afb4144a1f6fd8d2ca17a180786b69acc140d282b71a49"
   }
  }
 },
 "nbformat": 4,
 "nbformat_minor": 5
}
