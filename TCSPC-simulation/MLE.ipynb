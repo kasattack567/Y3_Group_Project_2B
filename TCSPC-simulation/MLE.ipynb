{
 "cells": [
  {
   "cell_type": "code",
   "execution_count": 2,
   "id": "c29d0496",
   "metadata": {},
   "outputs": [],
   "source": [
    "from TCSPC import *"
   ]
  },
  {
   "cell_type": "code",
   "execution_count": 3,
   "id": "55cf412d",
   "metadata": {},
   "outputs": [],
   "source": [
    "EGFP = Simulation([0.497,0.503],[2.43,3.07])"
   ]
  },
  {
   "cell_type": "code",
   "execution_count": null,
   "id": "bca71d0a",
   "metadata": {},
   "outputs": [],
   "source": [
    "# tdata = np.loadtxt('EGFPt.csv')\n",
    "# ydata = np.loadtxt('EGFPy2.csv')"
   ]
  },
  {
   "cell_type": "code",
   "execution_count": 4,
   "id": "c52732a3",
   "metadata": {},
   "outputs": [],
   "source": [
    "def trim_rescale_data(tdata,ydata,end =int(0.6*380),rescale = True):\n",
    "    max_idx = np.argmax(ydata) #index of data point with maximum photon count N(0)\n",
    "    tdata = tdata[:end-max_idx] #start from t = 0\n",
    "    ydata = ydata[max_idx:end]  #start from max.\n",
    "    if rescale == True:\n",
    "        yerr = ydata/ydata[0]*np.sqrt(1/ydata+1/ydata[0]) #error after scaling\n",
    "        ydata = ydata/ydata[0] # scale y data such that the beginning is 1 \n",
    "    else:\n",
    "        yerr = np.sqrt(ydata)\n",
    "    weights = 1/yerr #weighted by 1/yerr, yerr is error after scaling ydata\n",
    "    return tdata,ydata,weights"
   ]
  },
  {
   "cell_type": "code",
   "execution_count": 5,
   "id": "189e121f",
   "metadata": {},
   "outputs": [],
   "source": [
    "def exp(t, A, tau):\n",
    "    return A * np.exp(-t/tau)"
   ]
  },
  {
   "cell_type": "code",
   "execution_count": 6,
   "id": "21609b17",
   "metadata": {},
   "outputs": [],
   "source": [
    "tdata,ydata,weights = trim_rescale_data(EGFP.t,EGFP.y2)"
   ]
  },
  {
   "cell_type": "code",
   "execution_count": 7,
   "id": "752a6f00",
   "metadata": {},
   "outputs": [],
   "source": [
    "def poisson_deviance_residual(observed, expected):\n",
    "    # Ensure no invalid values\n",
    "    # valid = (observed > 0) & (expected > 0)\n",
    "    # residual = np.zeros_like(observed)\n",
    "    # residual[valid] =  2 *  (observed[valid] * np.log(observed[valid] / expected[valid]) - (observed[valid] - expected[valid]))\n",
    "    residual=  np.sqrt(abs(2 *  (observed* np.log(observed/ expected) - (observed- expected)))) #residual array\n",
    "    return residual\n",
    "\n",
    "def residual(p, t, data):\n",
    "    v = p.valuesdict()\n",
    "    generative = v['c'] #constant background\n",
    "    M = 1\n",
    "    while f'A{M}' in v:\n",
    "        generative += exp(t, v[f'A{M}'], v[f'tau{M}'])\n",
    "        M += 1\n",
    "    \n",
    "    return poisson_deviance_residual(data, generative) #lmfit.minimizer minimize the residual array in the sum of squared sense\n"
   ]
  },
  {
   "cell_type": "code",
   "execution_count": 8,
   "id": "1a3d65f2",
   "metadata": {},
   "outputs": [],
   "source": [
    "def initial_params(M,A_guess,tau_guess,rescale = True):\n",
    "    p = lmfit.Parameters()\n",
    "    p.add_many(('c', 0, True, 0, 1)) #constant background\n",
    "    for i in range(1,M+1): #for each component\n",
    "        p.add_many((f'A{i}', A_guess[i-1], True,0), #amplitude\n",
    "                   (f'tau{i}', tau_guess[i-1], True, 0)) #lifetime\n",
    "    if rescale == True:\n",
    "        p[f'A{M}'].set(expr = f'1 {\"\".join([f\"- A{i}\" for i in range(1,M)])}') #fix the amplitude of last component\n",
    "    return p\n",
    "\n"
   ]
  },
  {
   "cell_type": "markdown",
   "id": "e13090df",
   "metadata": {},
   "source": [
    "### bi-exp decay fit to EGFP"
   ]
  },
  {
   "cell_type": "code",
   "execution_count": 10,
   "id": "6e275e5c",
   "metadata": {},
   "outputs": [
    {
     "name": "stdout",
     "output_type": "stream",
     "text": [
      "[[Fit Statistics]]\n",
      "    # fitting method   = Powell\n",
      "    # function evals   = 501\n",
      "    # data points      = 180\n",
      "    # variables        = 4\n",
      "    chi-square         = 0.00952772\n",
      "    reduced chi-square = 5.4135e-05\n",
      "    Akaike info crit   = -1764.37112\n",
      "    Bayesian info crit = -1751.59930\n",
      "##  Warning: uncertainties could not be estimated:\n",
      "[[Variables]]\n",
      "    c:     6.8038e-08 +/- 6.7228e-06 (9881.03%) (init = 0)\n",
      "    A1:    0.48140257 +/-        nan (nan%) (init = 0.497)\n",
      "    tau1:  2.30313644 +/-        nan (nan%) (init = 2.43)\n",
      "    A2:    0.51859743 +/- 0.00000000 (0.00%) == '1 - A1'\n",
      "    tau2:  3.14816497 +/-        nan (nan%) (init = 3.07)\n"
     ]
    },
    {
     "name": "stderr",
     "output_type": "stream",
     "text": [
      "/Library/Frameworks/Python.framework/Versions/3.10/lib/python3.10/site-packages/lmfit/minimizer.py:854: RuntimeWarning: invalid value encountered in sqrt\n",
      "  (par.stderr * np.sqrt(self.result.covar[jvar, jvar])))\n",
      "/Library/Frameworks/Python.framework/Versions/3.10/lib/python3.10/site-packages/lmfit/minimizer.py:847: RuntimeWarning: invalid value encountered in sqrt\n",
      "  par.stderr = np.sqrt(self.result.covar[ivar, ivar])\n",
      "/Library/Frameworks/Python.framework/Versions/3.10/lib/python3.10/site-packages/uncertainties/core.py:173: RuntimeWarning: invalid value encountered in sqrt\n",
      "  std_devs = numpy.sqrt(numpy.diag(covariance_mat))\n"
     ]
    }
   ],
   "source": [
    "EGFP.n_photon = int(1e6)\n",
    "EGFP.multi_exp_data()\n",
    "tdata,ydata,weights = trim_rescale_data(EGFP.t,EGFP.y2,end = int(0.5*380))\n",
    "p1 = initial_params(2,EGFP.amp,EGFP.tau)\n",
    "#p1['c'].set(value = 0, vary = False)\n",
    "mi1 = lmfit.minimize(residual, p1, args=(tdata, ydata), method='powell')\n",
    "\n",
    "print(lmfit.fit_report(mi1))\n"
   ]
  },
  {
   "cell_type": "code",
   "execution_count": 98,
   "id": "0f7cc649",
   "metadata": {},
   "outputs": [],
   "source": [
    "result = mi1\n",
    "del result.params['A2']"
   ]
  },
  {
   "cell_type": "code",
   "execution_count": 22,
   "id": "a84af108",
   "metadata": {},
   "outputs": [],
   "source": [
    "info_df,par_df = fit_df([result])\n"
   ]
  },
  {
   "cell_type": "code",
   "execution_count": 23,
   "id": "8d2167ab",
   "metadata": {},
   "outputs": [
    {
     "data": {
      "text/html": [
       "<div>\n",
       "<style scoped>\n",
       "    .dataframe tbody tr th:only-of-type {\n",
       "        vertical-align: middle;\n",
       "    }\n",
       "\n",
       "    .dataframe tbody tr th {\n",
       "        vertical-align: top;\n",
       "    }\n",
       "\n",
       "    .dataframe thead th {\n",
       "        text-align: right;\n",
       "    }\n",
       "</style>\n",
       "<table border=\"1\" class=\"dataframe\">\n",
       "  <thead>\n",
       "    <tr style=\"text-align: right;\">\n",
       "      <th></th>\n",
       "      <th></th>\n",
       "      <th>c</th>\n",
       "      <th>A0</th>\n",
       "      <th>tau0</th>\n",
       "      <th>tau1</th>\n",
       "    </tr>\n",
       "  </thead>\n",
       "  <tbody>\n",
       "    <tr>\n",
       "      <th rowspan=\"4\" valign=\"top\">0</th>\n",
       "      <th>_val</th>\n",
       "      <td>0.000854</td>\n",
       "      <td>0.50092</td>\n",
       "      <td>2.471439</td>\n",
       "      <td>3.030307</td>\n",
       "    </tr>\n",
       "    <tr>\n",
       "      <th>init_value</th>\n",
       "      <td>0</td>\n",
       "      <td>0.497</td>\n",
       "      <td>2.43</td>\n",
       "      <td>3.07</td>\n",
       "    </tr>\n",
       "    <tr>\n",
       "      <th>stderr</th>\n",
       "      <td>0.000457</td>\n",
       "      <td>0.842672</td>\n",
       "      <td>0.429631</td>\n",
       "      <td>0.526496</td>\n",
       "    </tr>\n",
       "    <tr>\n",
       "      <th>correl</th>\n",
       "      <td>{'A0': '-0.734', 'tau0': '-0.701', 'tau1': '-0...</td>\n",
       "      <td>{'c': '-0.734', 'tau0': '0.998', 'tau1': '0.998'}</td>\n",
       "      <td>{'c': '-0.701', 'A0': '0.998', 'tau1': '0.994'}</td>\n",
       "      <td>{'c': '-0.769', 'A0': '0.998', 'tau0': '0.994'}</td>\n",
       "    </tr>\n",
       "  </tbody>\n",
       "</table>\n",
       "</div>"
      ],
      "text/plain": [
       "                                                              c  \\\n",
       "0 _val                                                 0.000854   \n",
       "  init_value                                                  0   \n",
       "  stderr                                               0.000457   \n",
       "  correl      {'A0': '-0.734', 'tau0': '-0.701', 'tau1': '-0...   \n",
       "\n",
       "                                                             A0  \\\n",
       "0 _val                                                  0.50092   \n",
       "  init_value                                              0.497   \n",
       "  stderr                                               0.842672   \n",
       "  correl      {'c': '-0.734', 'tau0': '0.998', 'tau1': '0.998'}   \n",
       "\n",
       "                                                         tau0  \\\n",
       "0 _val                                               2.471439   \n",
       "  init_value                                             2.43   \n",
       "  stderr                                             0.429631   \n",
       "  correl      {'c': '-0.701', 'A0': '0.998', 'tau1': '0.994'}   \n",
       "\n",
       "                                                         tau1  \n",
       "0 _val                                               3.030307  \n",
       "  init_value                                             3.07  \n",
       "  stderr                                             0.526496  \n",
       "  correl      {'c': '-0.769', 'A0': '0.998', 'tau0': '0.994'}  "
      ]
     },
     "execution_count": 23,
     "metadata": {},
     "output_type": "execute_result"
    }
   ],
   "source": [
    "par_df"
   ]
  },
  {
   "cell_type": "markdown",
   "id": "f451e8ca",
   "metadata": {},
   "source": [
    "### No rescale"
   ]
  },
  {
   "cell_type": "code",
   "execution_count": 27,
   "id": "da42cd0c",
   "metadata": {},
   "outputs": [
    {
     "name": "stdout",
     "output_type": "stream",
     "text": [
      "[[Fit Statistics]]\n",
      "    # fitting method   = Powell\n",
      "    # function evals   = 245\n",
      "    # data points      = 90\n",
      "    # variables        = 5\n",
      "    chi-square         = 61.2983704\n",
      "    reduced chi-square = 0.72115730\n",
      "    Akaike info crit   = -24.5650770\n",
      "    Bayesian info crit = -12.0660287\n",
      "##  Warning: uncertainties could not be estimated:\n",
      "[[Variables]]\n",
      "    c:     0.66947668 +/- 3.62518789 (541.50%) (init = 0)\n",
      "    A1:    85.6414318 +/- 173.949774 (203.11%) (init = 91.68)\n",
      "    tau1:  2.64139601 +/-        nan (nan%) (init = 2.43)\n",
      "    A2:    95.8190982 +/- 170.904426 (178.36%) (init = 99.32)\n",
      "    tau2:  3.21832137 +/- 1.08858224 (33.82%) (init = 3.07)\n",
      "[[Correlations]] (unreported correlations are < 0.100)\n",
      "    C(A2, tau2) = -1.650\n",
      "    C(A1, tau2) = 1.624\n",
      "    C(A1, A2)   = -1.000\n",
      "    C(c, A1)    = -0.340\n",
      "    C(c, A2)    = 0.333\n",
      "    C(c, tau2)  = -0.165\n"
     ]
    },
    {
     "name": "stderr",
     "output_type": "stream",
     "text": [
      "/Library/Frameworks/Python.framework/Versions/3.10/lib/python3.10/site-packages/lmfit/minimizer.py:854: RuntimeWarning: invalid value encountered in sqrt\n",
      "  (par.stderr * np.sqrt(self.result.covar[jvar, jvar])))\n",
      "/Library/Frameworks/Python.framework/Versions/3.10/lib/python3.10/site-packages/lmfit/minimizer.py:847: RuntimeWarning: invalid value encountered in sqrt\n",
      "  par.stderr = np.sqrt(self.result.covar[ivar, ivar])\n"
     ]
    }
   ],
   "source": [
    "EGFP.n_photon = int(1e4)\n",
    "EGFP.multi_exp_data()\n",
    "tdata,ydata,weights = trim_rescale_data(EGFP.t,EGFP.y2,end = 100,rescale = False)\n",
    "p1 = initial_params(2,[np.max(EGFP.y2*0.48),np.max(EGFP.y2)*0.52],EGFP.tau,rescale = False)\n",
    "#p1['c'].set(value = 0, vary = False)\n",
    "mi1 = lmfit.minimize(residual, p1, args=(tdata, ydata),method = 'powell')\n",
    "\n",
    "print(lmfit.fit_report(mi1))\n",
    "\n"
   ]
  },
  {
   "cell_type": "code",
   "execution_count": 28,
   "id": "16a3e1a7",
   "metadata": {},
   "outputs": [
    {
     "data": {
      "text/plain": [
       "array([0.47195625, 0.52804375])"
      ]
     },
     "execution_count": 28,
     "metadata": {},
     "output_type": "execute_result"
    }
   ],
   "source": [
    "A = [mi1.params[f'A{i}'].value for i in range(1,3)]\n",
    "A/np.sum(A)"
   ]
  },
  {
   "cell_type": "markdown",
   "id": "be5b073c",
   "metadata": {},
   "source": [
    "### mono-exp decay fit to EGFP"
   ]
  },
  {
   "cell_type": "code",
   "execution_count": 109,
   "id": "39a029ad",
   "metadata": {},
   "outputs": [
    {
     "data": {
      "text/html": [
       "<table><tr><th> name </th><th> value </th><th> initial value </th><th> min </th><th> max </th><th> vary </th><th> expression </th></tr><tr><td> c </td><td>  0.00000000 </td><td> 0 </td><td>  0.00000000 </td><td>  1.00000000 </td><td> True </td><td>  </td></tr><tr><td> A0 </td><td>  0.49700000 </td><td> 0.497 </td><td>  0.00000000 </td><td>         inf </td><td> True </td><td>  </td></tr><tr><td> tau0 </td><td>  2.43000000 </td><td> 2.43 </td><td>  0.00000000 </td><td>         inf </td><td> True </td><td>  </td></tr><tr><td> A1 </td><td>  0.50300000 </td><td> 0.503 </td><td>  0.00000000 </td><td>         inf </td><td> False </td><td> 1 - A0 </td></tr><tr><td> tau1 </td><td>  3.07000000 </td><td> 3.07 </td><td>  0.00000000 </td><td>         inf </td><td> True </td><td>  </td></tr></table>"
      ],
      "text/plain": [
       "Parameters([('c', <Parameter 'c', value=0, bounds=[0:1]>), ('A0', <Parameter 'A0', value=0.497, bounds=[0:inf]>), ('tau0', <Parameter 'tau0', value=2.43, bounds=[0:inf]>), ('A1', <Parameter 'A1', value=0.503, bounds=[0:inf], expr='1 - A0'>), ('tau1', <Parameter 'tau1', value=3.07, bounds=[0:inf]>)])"
      ]
     },
     "execution_count": 109,
     "metadata": {},
     "output_type": "execute_result"
    }
   ],
   "source": [
    "p1"
   ]
  },
  {
   "cell_type": "code",
   "execution_count": 33,
   "id": "051b8d9b",
   "metadata": {},
   "outputs": [
    {
     "name": "stdout",
     "output_type": "stream",
     "text": [
      "[[Fit Statistics]]\n",
      "    # fitting method   = Powell\n",
      "    # function evals   = 234\n",
      "    # data points      = 89\n",
      "    # variables        = 7\n",
      "    chi-square         = 70.0320654\n",
      "    reduced chi-square = 0.85404958\n",
      "    Akaike info crit   = -7.33180083\n",
      "    Bayesian info crit = 10.0886538\n",
      "##  Warning: uncertainties could not be estimated:\n",
      "    c:     at boundary\n",
      "[[Variables]]\n",
      "    c:     2.1705e-14 +/- 8.4829e-07 (3908303340.74%) (init = 0)\n",
      "    A1:    80.5031335 +/-        nan (nan%) (init = 95.52)\n",
      "    tau1:  2.43395215 +/-        nan (nan%) (init = 2.43)\n",
      "    A2:    103.350749 +/-        nan (nan%) (init = 103.48)\n",
      "    tau2:  3.06611503 +/-        nan (nan%) (init = 3.07)\n",
      "    A3:    0.38020313 +/- 74.5156834 (19598.91%) (init = 1)\n",
      "    tau3:  2.66338794 +/- 16.8327766 (632.01%) (init = 1)\n"
     ]
    },
    {
     "name": "stderr",
     "output_type": "stream",
     "text": [
      "/Library/Frameworks/Python.framework/Versions/3.10/lib/python3.10/site-packages/lmfit/minimizer.py:854: RuntimeWarning: invalid value encountered in sqrt\n",
      "  (par.stderr * np.sqrt(self.result.covar[jvar, jvar])))\n",
      "/Library/Frameworks/Python.framework/Versions/3.10/lib/python3.10/site-packages/lmfit/minimizer.py:847: RuntimeWarning: invalid value encountered in sqrt\n",
      "  par.stderr = np.sqrt(self.result.covar[ivar, ivar])\n"
     ]
    }
   ],
   "source": [
    "EGFP.n_photon = int(1e4)\n",
    "EGFP.multi_exp_data()\n",
    "tdata,ydata,weights = trim_rescale_data(EGFP.t,EGFP.y2,end = 100,rescale = False)\n",
    "p1 = initial_params(3,[np.max(EGFP.y2*0.48),np.max(EGFP.y2)*0.52,1],EGFP.tau+[1],rescale = False)\n",
    "#p1['c'].set(value = 0, vary = False)\n",
    "mi1 = lmfit.minimize(residual, p1, args=(tdata, ydata),method = 'powell')\n",
    "\n",
    "print(lmfit.fit_report(mi1))"
   ]
  },
  {
   "cell_type": "code",
   "execution_count": 118,
   "id": "3264e95b",
   "metadata": {},
   "outputs": [
    {
     "data": {
      "text/plain": [
       "29.50655967458046"
      ]
     },
     "execution_count": 118,
     "metadata": {},
     "output_type": "execute_result"
    }
   ],
   "source": [
    "np.sum(residual(mi1.params,tdata,ydata))"
   ]
  },
  {
   "cell_type": "code",
   "execution_count": null,
   "id": "63cad260",
   "metadata": {},
   "outputs": [],
   "source": []
  }
 ],
 "metadata": {
  "kernelspec": {
   "display_name": "Python 3.10.5 64-bit",
   "language": "python",
   "name": "python3"
  },
  "language_info": {
   "codemirror_mode": {
    "name": "ipython",
    "version": 3
   },
   "file_extension": ".py",
   "mimetype": "text/x-python",
   "name": "python",
   "nbconvert_exporter": "python",
   "pygments_lexer": "ipython3",
   "version": "3.10.5"
  },
  "vscode": {
   "interpreter": {
    "hash": "aee8b7b246df8f9039afb4144a1f6fd8d2ca17a180786b69acc140d282b71a49"
   }
  }
 },
 "nbformat": 4,
 "nbformat_minor": 5
}
