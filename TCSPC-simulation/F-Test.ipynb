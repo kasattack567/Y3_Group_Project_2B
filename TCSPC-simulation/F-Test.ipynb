{
 "cells": [
  {
   "cell_type": "code",
   "execution_count": 1,
   "id": "5ec2a1cd",
   "metadata": {},
   "outputs": [],
   "source": [
    "import numpy as np\n",
    "import pandas as pd"
   ]
  },
  {
   "cell_type": "code",
   "execution_count": 2,
   "id": "c5943532",
   "metadata": {},
   "outputs": [],
   "source": [
    "n_val_df    = pd.read_csv('df/n_val_df.csv',index_col = [0,1]) \n",
    "n_phasor_df = pd.read_csv('df/n_phasor_df.csv',index_col = [0,1])\n",
    "n_info_df   = pd.read_csv('df/n_info_df.csv',index_col = [0,1])\n",
    "n_par_df    = pd.read_csv('df/n_par_df.csv',index_col = [0,1,2])"
   ]
  },
  {
   "cell_type": "code",
   "execution_count": 24,
   "id": "b1d5a3ef",
   "metadata": {},
   "outputs": [],
   "source": [
    "def getFvalue(the_df): #### Reads the dataframe and gives F-value as a numpy array\n",
    "    std_val_df = the_df.groupby(level=0).std()\n",
    "    mean_val_df = the_df.groupby(level=0).mean()\n",
    "    std_val_df = std_val_df.drop('A1', axis=1)\n",
    "    mean_val_df = mean_val_df.drop('A1', axis=1)\n",
    "    std_over_tau_df = (std_val_df/mean_val_df)#/(10**9)\n",
    "    std_over_tau_arr = np.array(std_over_tau_df)\n",
    "    std_over_tau1,std_over_tau2=np.split(std_over_tau_arr,2,axis=1)\n",
    "    n_photon_arr = np.logspace(4,9,20).astype(int) #### Assuming phasor using same number of photons\n",
    "    F_tau1 = []\n",
    "    F_tau2 = []\n",
    "    for i in range(0,20):\n",
    "        F_tau1.append(std_over_tau1[i] * np.sqrt(n_photon_arr[i]))\n",
    "        F_tau2.append(std_over_tau2[i] * np.sqrt(n_photon_arr[i]))\n",
    "    return F_tau1 , F_tau2"
   ]
  },
  {
   "cell_type": "code",
   "execution_count": 43,
   "id": "0f0ec8f5",
   "metadata": {},
   "outputs": [],
   "source": [
    "F_tau1_not_phasor , F_tau2_not_phasor = getFvalue(n_val_df)\n",
    "F_tau1_phasor , F_tau2_phasor = getFvalue(n_phasor_df)"
   ]
  },
  {
   "cell_type": "code",
   "execution_count": 49,
   "id": "8a8d0f22",
   "metadata": {},
   "outputs": [
    {
     "data": {
      "text/plain": [
       "[array([6.41480749]),\n",
       " array([7.02430702]),\n",
       " array([9.18557472]),\n",
       " array([10.13590275]),\n",
       " array([8.95559142]),\n",
       " array([10.27515689]),\n",
       " array([7.98939899]),\n",
       " array([7.84927109]),\n",
       " array([7.53179918]),\n",
       " array([8.31403039]),\n",
       " array([8.66292247]),\n",
       " array([8.95595746]),\n",
       " array([7.82119185]),\n",
       " array([7.4205654]),\n",
       " array([8.30298445]),\n",
       " array([8.84876166]),\n",
       " array([9.23344351]),\n",
       " array([8.19617349]),\n",
       " array([8.55866388]),\n",
       " array([7.43414127])]"
      ]
     },
     "execution_count": 49,
     "metadata": {},
     "output_type": "execute_result"
    }
   ],
   "source": [
    "F_tau2_phasor ## Just type whatever F_value you want"
   ]
  },
  {
   "cell_type": "code",
   "execution_count": null,
   "id": "1e019c70",
   "metadata": {},
   "outputs": [],
   "source": []
  }
 ],
 "metadata": {
  "kernelspec": {
   "display_name": "Python 3",
   "language": "python",
   "name": "python3"
  },
  "language_info": {
   "codemirror_mode": {
    "name": "ipython",
    "version": 3
   },
   "file_extension": ".py",
   "mimetype": "text/x-python",
   "name": "python",
   "nbconvert_exporter": "python",
   "pygments_lexer": "ipython3",
   "version": "3.8.8"
  }
 },
 "nbformat": 4,
 "nbformat_minor": 5
}
