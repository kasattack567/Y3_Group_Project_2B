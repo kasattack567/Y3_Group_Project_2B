{
 "cells": [
  {
   "cell_type": "code",
   "execution_count": 3,
   "metadata": {},
   "outputs": [],
   "source": [
    "from sympy import *\n",
    "from sympy.geometry import *\n",
    "import sympy as sp"
   ]
  },
  {
   "cell_type": "code",
   "execution_count": 5,
   "metadata": {},
   "outputs": [],
   "source": [
    "import numpy as np"
   ]
  },
  {
   "cell_type": "code",
   "execution_count": 4,
   "metadata": {},
   "outputs": [
    {
     "data": {
      "text/latex": [
       "$\\displaystyle \\pi$"
      ],
      "text/plain": [
       "pi"
      ]
     },
     "execution_count": 4,
     "metadata": {},
     "output_type": "execute_result"
    }
   ],
   "source": [
    "sp.pi"
   ]
  },
  {
   "cell_type": "code",
   "execution_count": 93,
   "metadata": {},
   "outputs": [],
   "source": [
    "N = 10 #number of bins\n",
    "def harmonic_circ(n):\n",
    "    '''Returns circle of nth harmonics where different lifetimes lie on\n",
    "    Input: n -harmonic'''\n",
    "    a = n*np.pi/N\n",
    "    return Circle((0.5,-0.5*tan(a)),0.5/cos(a))\n",
    "\n",
    "def phasor_ray(z,p):\n",
    "    '''Ray drawn from guess phasor z to given bi-exxp phasor p'''\n",
    "    return Ray((z.real,z.imag),(p.real,p.imag))"
   ]
  },
  {
   "cell_type": "code",
   "execution_count": 99,
   "metadata": {},
   "outputs": [],
   "source": [
    "tau = 2.5 #lifetime,ns\n",
    "a = np.exp(1/19/tau)\n",
    "def z(n):\n",
    "    return (1+a)/(1+a*np.exp(1j*n*np.pi/N))\n",
    "p1 = 0.35+0.16j\n",
    "p2 = 0.25+0.008j\n",
    "p = [p1,p2]\n",
    "def z2(n):\n",
    "    '''Return z2 for given harmonic'''\n",
    "    z2 = intersection(harmonic_circ(n),phasor_ray(z(n),p[n-1]))[0].coordinates\n",
    "    return np.complex64(Float(z2[0].evalf())+1j*Float(z2[1].evalf()))\n",
    "    "
   ]
  },
  {
   "cell_type": "code",
   "execution_count": 108,
   "metadata": {},
   "outputs": [
    {
     "data": {
      "text/plain": [
       "array([0.9996656-0.16046763j])"
      ]
     },
     "execution_count": 108,
     "metadata": {},
     "output_type": "execute_result"
    }
   ],
   "source": [
    "z(1)"
   ]
  },
  {
   "cell_type": "code",
   "execution_count": 101,
   "metadata": {},
   "outputs": [],
   "source": [
    "z2_inv = lambda n : np.conjugate(1/(z2(n)-1))"
   ]
  },
  {
   "cell_type": "code",
   "execution_count": 115,
   "metadata": {},
   "outputs": [],
   "source": [
    "def z2_diff(tau):\n",
    "    '''Return z2_inv(1).real-z2_inv(2).real -> check z2_inv(1) = z2_inv(2)'''\n",
    "    a = np.exp(1/19/tau)\n",
    "    z_1 = (1+a)/1+a*np.exp(1j*1*np.pi/N)\n",
    "    z_2 = (1+a)/1+a*np.exp(1j*2*np.pi/N)\n",
    "    def z2(n):\n",
    "        '''Return z2 for given harmonic'''\n",
    "        z2 = intersection(harmonic_circ(n),phasor_ray([z_1,z_2][n-1],p[n-1]))[0].coordinates\n",
    "        return np.complex64(Float(z2[0].evalf())+1j*Float(z2[1].evalf()))\n",
    "    z2_inv = lambda n : np.conjugate(1/(z2(n)-1))\n",
    "    return [np.real(z2_inv(1)-z2_inv(2))]\n"
   ]
  },
  {
   "cell_type": "code",
   "execution_count": 71,
   "metadata": {},
   "outputs": [],
   "source": [
    "from scipy.optimize import root"
   ]
  },
  {
   "cell_type": "code",
   "execution_count": 117,
   "metadata": {},
   "outputs": [
    {
     "data": {
      "text/plain": [
       "array([0.9996656-0.16046763j])"
      ]
     },
     "execution_count": 117,
     "metadata": {},
     "output_type": "execute_result"
    }
   ],
   "source": [
    "z(1)"
   ]
  },
  {
   "cell_type": "code",
   "execution_count": 104,
   "metadata": {},
   "outputs": [
    {
     "data": {
      "text/plain": [
       "[-0.03489236438883614]"
      ]
     },
     "execution_count": 104,
     "metadata": {},
     "output_type": "execute_result"
    }
   ],
   "source": [
    "z2_diff(2)"
   ]
  },
  {
   "cell_type": "code",
   "execution_count": 116,
   "metadata": {},
   "outputs": [
    {
     "ename": "TypeError",
     "evalue": "Coordinates must be valid SymPy expressions.",
     "output_type": "error",
     "traceback": [
      "\u001b[0;31m---------------------------------------------------------------------------\u001b[0m",
      "\u001b[0;31mTypeError\u001b[0m                                 Traceback (most recent call last)",
      "\u001b[1;32m/Users/chilaitang/Library/Mobile Documents/com~apple~CloudDocs/UCL PHY/Y3_Group_Project_2B/TCSPC-simulation/phasor_geometry.ipynb Cell 12\u001b[0m in \u001b[0;36m<cell line: 1>\u001b[0;34m()\u001b[0m\n\u001b[0;32m----> <a href='vscode-notebook-cell:/Users/chilaitang/Library/Mobile%20Documents/com~apple~CloudDocs/UCL%20PHY/Y3_Group_Project_2B/TCSPC-simulation/phasor_geometry.ipynb#ch0000008?line=0'>1</a>\u001b[0m root(z2_diff,x0 \u001b[39m=\u001b[39;49m \u001b[39m2\u001b[39;49m)\n",
      "File \u001b[0;32m/Library/Frameworks/Python.framework/Versions/3.10/lib/python3.10/site-packages/scipy/optimize/_root.py:236\u001b[0m, in \u001b[0;36mroot\u001b[0;34m(fun, x0, args, method, jac, tol, callback, options)\u001b[0m\n\u001b[1;32m    233\u001b[0m         options\u001b[39m.\u001b[39msetdefault(\u001b[39m'\u001b[39m\u001b[39mfatol\u001b[39m\u001b[39m'\u001b[39m, np\u001b[39m.\u001b[39minf)\n\u001b[1;32m    235\u001b[0m \u001b[39mif\u001b[39;00m meth \u001b[39m==\u001b[39m \u001b[39m'\u001b[39m\u001b[39mhybr\u001b[39m\u001b[39m'\u001b[39m:\n\u001b[0;32m--> 236\u001b[0m     sol \u001b[39m=\u001b[39m _root_hybr(fun, x0, args\u001b[39m=\u001b[39;49margs, jac\u001b[39m=\u001b[39;49mjac, \u001b[39m*\u001b[39;49m\u001b[39m*\u001b[39;49moptions)\n\u001b[1;32m    237\u001b[0m \u001b[39melif\u001b[39;00m meth \u001b[39m==\u001b[39m \u001b[39m'\u001b[39m\u001b[39mlm\u001b[39m\u001b[39m'\u001b[39m:\n\u001b[1;32m    238\u001b[0m     sol \u001b[39m=\u001b[39m _root_leastsq(fun, x0, args\u001b[39m=\u001b[39margs, jac\u001b[39m=\u001b[39mjac, \u001b[39m*\u001b[39m\u001b[39m*\u001b[39moptions)\n",
      "File \u001b[0;32m/Library/Frameworks/Python.framework/Versions/3.10/lib/python3.10/site-packages/scipy/optimize/_minpack_py.py:232\u001b[0m, in \u001b[0;36m_root_hybr\u001b[0;34m(func, x0, args, jac, col_deriv, xtol, maxfev, band, eps, factor, diag, **unknown_options)\u001b[0m\n\u001b[1;32m    230\u001b[0m \u001b[39mif\u001b[39;00m \u001b[39mnot\u001b[39;00m \u001b[39misinstance\u001b[39m(args, \u001b[39mtuple\u001b[39m):\n\u001b[1;32m    231\u001b[0m     args \u001b[39m=\u001b[39m (args,)\n\u001b[0;32m--> 232\u001b[0m shape, dtype \u001b[39m=\u001b[39m _check_func(\u001b[39m'\u001b[39;49m\u001b[39mfsolve\u001b[39;49m\u001b[39m'\u001b[39;49m, \u001b[39m'\u001b[39;49m\u001b[39mfunc\u001b[39;49m\u001b[39m'\u001b[39;49m, func, x0, args, n, (n,))\n\u001b[1;32m    233\u001b[0m \u001b[39mif\u001b[39;00m epsfcn \u001b[39mis\u001b[39;00m \u001b[39mNone\u001b[39;00m:\n\u001b[1;32m    234\u001b[0m     epsfcn \u001b[39m=\u001b[39m finfo(dtype)\u001b[39m.\u001b[39meps\n",
      "File \u001b[0;32m/Library/Frameworks/Python.framework/Versions/3.10/lib/python3.10/site-packages/scipy/optimize/_minpack_py.py:29\u001b[0m, in \u001b[0;36m_check_func\u001b[0;34m(checker, argname, thefunc, x0, args, numinputs, output_shape)\u001b[0m\n\u001b[1;32m     27\u001b[0m \u001b[39mdef\u001b[39;00m \u001b[39m_check_func\u001b[39m(checker, argname, thefunc, x0, args, numinputs,\n\u001b[1;32m     28\u001b[0m                 output_shape\u001b[39m=\u001b[39m\u001b[39mNone\u001b[39;00m):\n\u001b[0;32m---> 29\u001b[0m     res \u001b[39m=\u001b[39m atleast_1d(thefunc(\u001b[39m*\u001b[39;49m((x0[:numinputs],) \u001b[39m+\u001b[39;49m args)))\n\u001b[1;32m     30\u001b[0m     \u001b[39mif\u001b[39;00m (output_shape \u001b[39mis\u001b[39;00m \u001b[39mnot\u001b[39;00m \u001b[39mNone\u001b[39;00m) \u001b[39mand\u001b[39;00m (shape(res) \u001b[39m!=\u001b[39m output_shape):\n\u001b[1;32m     31\u001b[0m         \u001b[39mif\u001b[39;00m (output_shape[\u001b[39m0\u001b[39m] \u001b[39m!=\u001b[39m \u001b[39m1\u001b[39m):\n",
      "\u001b[1;32m/Users/chilaitang/Library/Mobile Documents/com~apple~CloudDocs/UCL PHY/Y3_Group_Project_2B/TCSPC-simulation/phasor_geometry.ipynb Cell 12\u001b[0m in \u001b[0;36mz2_diff\u001b[0;34m(tau)\u001b[0m\n\u001b[1;32m      <a href='vscode-notebook-cell:/Users/chilaitang/Library/Mobile%20Documents/com~apple~CloudDocs/UCL%20PHY/Y3_Group_Project_2B/TCSPC-simulation/phasor_geometry.ipynb#ch0000008?line=8'>9</a>\u001b[0m     \u001b[39mreturn\u001b[39;00m np\u001b[39m.\u001b[39mcomplex64(Float(z2[\u001b[39m0\u001b[39m]\u001b[39m.\u001b[39mevalf())\u001b[39m+\u001b[39m\u001b[39m1\u001b[39mj\u001b[39m*\u001b[39mFloat(z2[\u001b[39m1\u001b[39m]\u001b[39m.\u001b[39mevalf()))\n\u001b[1;32m     <a href='vscode-notebook-cell:/Users/chilaitang/Library/Mobile%20Documents/com~apple~CloudDocs/UCL%20PHY/Y3_Group_Project_2B/TCSPC-simulation/phasor_geometry.ipynb#ch0000008?line=9'>10</a>\u001b[0m z2_inv \u001b[39m=\u001b[39m \u001b[39mlambda\u001b[39;00m n : np\u001b[39m.\u001b[39mconjugate(\u001b[39m1\u001b[39m\u001b[39m/\u001b[39m(z2(n)\u001b[39m-\u001b[39m\u001b[39m1\u001b[39m))\n\u001b[0;32m---> <a href='vscode-notebook-cell:/Users/chilaitang/Library/Mobile%20Documents/com~apple~CloudDocs/UCL%20PHY/Y3_Group_Project_2B/TCSPC-simulation/phasor_geometry.ipynb#ch0000008?line=10'>11</a>\u001b[0m \u001b[39mreturn\u001b[39;00m [np\u001b[39m.\u001b[39mreal(z2_inv(\u001b[39m1\u001b[39;49m)\u001b[39m-\u001b[39mz2_inv(\u001b[39m2\u001b[39m))]\n",
      "\u001b[1;32m/Users/chilaitang/Library/Mobile Documents/com~apple~CloudDocs/UCL PHY/Y3_Group_Project_2B/TCSPC-simulation/phasor_geometry.ipynb Cell 12\u001b[0m in \u001b[0;36mz2_diff.<locals>.<lambda>\u001b[0;34m(n)\u001b[0m\n\u001b[1;32m      <a href='vscode-notebook-cell:/Users/chilaitang/Library/Mobile%20Documents/com~apple~CloudDocs/UCL%20PHY/Y3_Group_Project_2B/TCSPC-simulation/phasor_geometry.ipynb#ch0000008?line=7'>8</a>\u001b[0m     z2 \u001b[39m=\u001b[39m intersection(harmonic_circ(n),phasor_ray([z_1,z_2][n\u001b[39m-\u001b[39m\u001b[39m1\u001b[39m],p[n\u001b[39m-\u001b[39m\u001b[39m1\u001b[39m]))[\u001b[39m0\u001b[39m]\u001b[39m.\u001b[39mcoordinates\n\u001b[1;32m      <a href='vscode-notebook-cell:/Users/chilaitang/Library/Mobile%20Documents/com~apple~CloudDocs/UCL%20PHY/Y3_Group_Project_2B/TCSPC-simulation/phasor_geometry.ipynb#ch0000008?line=8'>9</a>\u001b[0m     \u001b[39mreturn\u001b[39;00m np\u001b[39m.\u001b[39mcomplex64(Float(z2[\u001b[39m0\u001b[39m]\u001b[39m.\u001b[39mevalf())\u001b[39m+\u001b[39m\u001b[39m1\u001b[39mj\u001b[39m*\u001b[39mFloat(z2[\u001b[39m1\u001b[39m]\u001b[39m.\u001b[39mevalf()))\n\u001b[0;32m---> <a href='vscode-notebook-cell:/Users/chilaitang/Library/Mobile%20Documents/com~apple~CloudDocs/UCL%20PHY/Y3_Group_Project_2B/TCSPC-simulation/phasor_geometry.ipynb#ch0000008?line=9'>10</a>\u001b[0m z2_inv \u001b[39m=\u001b[39m \u001b[39mlambda\u001b[39;00m n : np\u001b[39m.\u001b[39mconjugate(\u001b[39m1\u001b[39m\u001b[39m/\u001b[39m(z2(n)\u001b[39m-\u001b[39m\u001b[39m1\u001b[39m))\n\u001b[1;32m     <a href='vscode-notebook-cell:/Users/chilaitang/Library/Mobile%20Documents/com~apple~CloudDocs/UCL%20PHY/Y3_Group_Project_2B/TCSPC-simulation/phasor_geometry.ipynb#ch0000008?line=10'>11</a>\u001b[0m \u001b[39mreturn\u001b[39;00m [np\u001b[39m.\u001b[39mreal(z2_inv(\u001b[39m1\u001b[39m)\u001b[39m-\u001b[39mz2_inv(\u001b[39m2\u001b[39m))]\n",
      "\u001b[1;32m/Users/chilaitang/Library/Mobile Documents/com~apple~CloudDocs/UCL PHY/Y3_Group_Project_2B/TCSPC-simulation/phasor_geometry.ipynb Cell 12\u001b[0m in \u001b[0;36mz2_diff.<locals>.z2\u001b[0;34m(n)\u001b[0m\n\u001b[1;32m      <a href='vscode-notebook-cell:/Users/chilaitang/Library/Mobile%20Documents/com~apple~CloudDocs/UCL%20PHY/Y3_Group_Project_2B/TCSPC-simulation/phasor_geometry.ipynb#ch0000008?line=5'>6</a>\u001b[0m \u001b[39mdef\u001b[39;00m \u001b[39mz2\u001b[39m(n):\n\u001b[1;32m      <a href='vscode-notebook-cell:/Users/chilaitang/Library/Mobile%20Documents/com~apple~CloudDocs/UCL%20PHY/Y3_Group_Project_2B/TCSPC-simulation/phasor_geometry.ipynb#ch0000008?line=6'>7</a>\u001b[0m     \u001b[39m'''Return z2 for given harmonic'''\u001b[39;00m\n\u001b[0;32m----> <a href='vscode-notebook-cell:/Users/chilaitang/Library/Mobile%20Documents/com~apple~CloudDocs/UCL%20PHY/Y3_Group_Project_2B/TCSPC-simulation/phasor_geometry.ipynb#ch0000008?line=7'>8</a>\u001b[0m     z2 \u001b[39m=\u001b[39m intersection(harmonic_circ(n),phasor_ray([z_1,z_2][n\u001b[39m-\u001b[39;49m\u001b[39m1\u001b[39;49m],p[n\u001b[39m-\u001b[39;49m\u001b[39m1\u001b[39;49m]))[\u001b[39m0\u001b[39m]\u001b[39m.\u001b[39mcoordinates\n\u001b[1;32m      <a href='vscode-notebook-cell:/Users/chilaitang/Library/Mobile%20Documents/com~apple~CloudDocs/UCL%20PHY/Y3_Group_Project_2B/TCSPC-simulation/phasor_geometry.ipynb#ch0000008?line=8'>9</a>\u001b[0m     \u001b[39mreturn\u001b[39;00m np\u001b[39m.\u001b[39mcomplex64(Float(z2[\u001b[39m0\u001b[39m]\u001b[39m.\u001b[39mevalf())\u001b[39m+\u001b[39m\u001b[39m1\u001b[39mj\u001b[39m*\u001b[39mFloat(z2[\u001b[39m1\u001b[39m]\u001b[39m.\u001b[39mevalf()))\n",
      "\u001b[1;32m/Users/chilaitang/Library/Mobile Documents/com~apple~CloudDocs/UCL PHY/Y3_Group_Project_2B/TCSPC-simulation/phasor_geometry.ipynb Cell 12\u001b[0m in \u001b[0;36mphasor_ray\u001b[0;34m(z, p)\u001b[0m\n\u001b[1;32m      <a href='vscode-notebook-cell:/Users/chilaitang/Library/Mobile%20Documents/com~apple~CloudDocs/UCL%20PHY/Y3_Group_Project_2B/TCSPC-simulation/phasor_geometry.ipynb#ch0000008?line=7'>8</a>\u001b[0m \u001b[39mdef\u001b[39;00m \u001b[39mphasor_ray\u001b[39m(z,p):\n\u001b[1;32m      <a href='vscode-notebook-cell:/Users/chilaitang/Library/Mobile%20Documents/com~apple~CloudDocs/UCL%20PHY/Y3_Group_Project_2B/TCSPC-simulation/phasor_geometry.ipynb#ch0000008?line=8'>9</a>\u001b[0m     \u001b[39m'''Ray drawn from guess phasor z to given bi-exxp phasor p'''\u001b[39;00m\n\u001b[0;32m---> <a href='vscode-notebook-cell:/Users/chilaitang/Library/Mobile%20Documents/com~apple~CloudDocs/UCL%20PHY/Y3_Group_Project_2B/TCSPC-simulation/phasor_geometry.ipynb#ch0000008?line=9'>10</a>\u001b[0m     \u001b[39mreturn\u001b[39;00m Ray((z\u001b[39m.\u001b[39;49mreal,z\u001b[39m.\u001b[39;49mimag),(p\u001b[39m.\u001b[39;49mreal,p\u001b[39m.\u001b[39;49mimag))\n",
      "File \u001b[0;32m/Library/Frameworks/Python.framework/Versions/3.10/lib/python3.10/site-packages/sympy/geometry/line.py:1400\u001b[0m, in \u001b[0;36mRay.__new__\u001b[0;34m(cls, p1, p2, **kwargs)\u001b[0m\n\u001b[1;32m   1399\u001b[0m \u001b[39mdef\u001b[39;00m \u001b[39m__new__\u001b[39m(\u001b[39mcls\u001b[39m, p1, p2\u001b[39m=\u001b[39m\u001b[39mNone\u001b[39;00m, \u001b[39m*\u001b[39m\u001b[39m*\u001b[39mkwargs):\n\u001b[0;32m-> 1400\u001b[0m     p1 \u001b[39m=\u001b[39m Point(p1)\n\u001b[1;32m   1401\u001b[0m     \u001b[39mif\u001b[39;00m p2 \u001b[39mis\u001b[39;00m \u001b[39mnot\u001b[39;00m \u001b[39mNone\u001b[39;00m:\n\u001b[1;32m   1402\u001b[0m         p1, p2 \u001b[39m=\u001b[39m Point\u001b[39m.\u001b[39m_normalize_dimension(p1, Point(p2))\n",
      "File \u001b[0;32m/Library/Frameworks/Python.framework/Versions/3.10/lib/python3.10/site-packages/sympy/geometry/point.py:158\u001b[0m, in \u001b[0;36mPoint.__new__\u001b[0;34m(cls, *args, **kwargs)\u001b[0m\n\u001b[1;32m    156\u001b[0m     \u001b[39mraise\u001b[39;00m \u001b[39mValueError\u001b[39;00m(\u001b[39m'\u001b[39m\u001b[39mImaginary coordinates are not permitted.\u001b[39m\u001b[39m'\u001b[39m)\n\u001b[1;32m    157\u001b[0m \u001b[39mif\u001b[39;00m \u001b[39mnot\u001b[39;00m \u001b[39mall\u001b[39m(\u001b[39misinstance\u001b[39m(a, Expr) \u001b[39mfor\u001b[39;00m a \u001b[39min\u001b[39;00m coords):\n\u001b[0;32m--> 158\u001b[0m     \u001b[39mraise\u001b[39;00m \u001b[39mTypeError\u001b[39;00m(\u001b[39m'\u001b[39m\u001b[39mCoordinates must be valid SymPy expressions.\u001b[39m\u001b[39m'\u001b[39m)\n\u001b[1;32m    160\u001b[0m \u001b[39m# pad with zeros appropriately\u001b[39;00m\n\u001b[1;32m    161\u001b[0m coords \u001b[39m=\u001b[39m coords[:dim] \u001b[39m+\u001b[39m (S\u001b[39m.\u001b[39mZero,)\u001b[39m*\u001b[39m(dim \u001b[39m-\u001b[39m \u001b[39mlen\u001b[39m(coords))\n",
      "\u001b[0;31mTypeError\u001b[0m: Coordinates must be valid SymPy expressions."
     ]
    }
   ],
   "source": [
    "root(z2_diff,x0 = 2)"
   ]
  },
  {
   "cell_type": "code",
   "execution_count": null,
   "metadata": {},
   "outputs": [],
   "source": []
  }
 ],
 "metadata": {
  "kernelspec": {
   "display_name": "Python 3.10.5 64-bit",
   "language": "python",
   "name": "python3"
  },
  "language_info": {
   "codemirror_mode": {
    "name": "ipython",
    "version": 3
   },
   "file_extension": ".py",
   "mimetype": "text/x-python",
   "name": "python",
   "nbconvert_exporter": "python",
   "pygments_lexer": "ipython3",
   "version": "3.10.5"
  },
  "orig_nbformat": 4,
  "vscode": {
   "interpreter": {
    "hash": "aee8b7b246df8f9039afb4144a1f6fd8d2ca17a180786b69acc140d282b71a49"
   }
  }
 },
 "nbformat": 4,
 "nbformat_minor": 2
}
