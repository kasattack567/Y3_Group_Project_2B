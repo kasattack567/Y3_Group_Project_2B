{
 "cells": [
  {
   "cell_type": "code",
   "execution_count": 216,
   "metadata": {},
   "outputs": [],
   "source": [
    "# from sympy import *\n",
    "# from sympy.geometry import *\n",
    "# import sympy as sp\n",
    "import numpy as np\n",
    "from scipy.optimize import fsolve,root,brentq,minimize\n",
    "from TCSPC import *"
   ]
  },
  {
   "cell_type": "markdown",
   "metadata": {},
   "source": [
    "mono exp phasor = \n",
    "$$z(a,n) = \\frac{1+i(na)}{1+(na)^2}$$\n",
    "where $a = \\omega \\tau$, fundamental angular frequency $\\omega = 2\\pi T/ N$, $N$ is number of bins , $T$ is period (in ns) $n$ denotes $n^{\\text{th}}$ harmonic ($\\omega_n = n\\omega$).\n",
    "\n",
    "Under inversion $$T(z) := \\left(\\frac{1}{z-1}+1\\right)^*$$\n",
    "mono exp phasors become:\n",
    "$$T(z(a)) = \\frac{i}{a}$$\n",
    "\n",
    "For given bi-exp phasors:\n",
    "$$z (a_1,a_2) = f \\cdot z(a_1) + (1-f)\\cdot z(a_2) $$"
   ]
  },
  {
   "cell_type": "code",
   "execution_count": 303,
   "metadata": {},
   "outputs": [],
   "source": [
    "EGFP = Phasor([0.497,0.503],[2.43,3.07])"
   ]
  },
  {
   "cell_type": "code",
   "execution_count": 440,
   "metadata": {},
   "outputs": [
    {
     "data": {
      "text/plain": [
       "(0.5679816065500891+0.4920326600625657j)"
      ]
     },
     "execution_count": 440,
     "metadata": {},
     "output_type": "execute_result"
    }
   ],
   "source": [
    "p(1)"
   ]
  },
  {
   "cell_type": "markdown",
   "metadata": {},
   "source": [
    "### Numerical results"
   ]
  },
  {
   "cell_type": "code",
   "execution_count": 605,
   "metadata": {},
   "outputs": [],
   "source": [
    "N = 19\n",
    "tau =np.array([2.43,3.07] ) #lifetimes,ns\n",
    "A = np.array([0.497,0.503]) #amplitudes\n",
    "a1_true = EGFP.w[1]*tau[0] #mono exp phasor a\n",
    "a2_true = EGFP.w[1]*tau[1]\n",
    "f = A*tau/np.sum(A*tau)         #fractional intensity\n",
    "mono = lambda n,a : (1+n*a*1j)/(1+(n*a)**2)\n",
    "p_noise = 0.0001*np.random.randn(1, 2).view(np.complex128)[0][0]\n",
    "p = lambda n : f[0] * mono(n,a1_true) + f[1]*mono(n,a2_true) + p_noise  #add gaussian noise\n",
    "#p = lambda n : EGFP.phasor[n]\n",
    "\n",
    "def inv(z):\n",
    "    '''Perform inversion on a complex number z using circle of inversion at 1 with radius 1'''\n",
    "    return np.conjugate(1/(z-1)+1)\n",
    "\n",
    "# def y(x,n):\n",
    "#     '''Calculates the inverted intercept y of harmonics n for given guess inverted phasor x and bi-exp phasor p\n",
    "#        Using \"angles of the same sgement\", angle theta between x,p,1 (centre of inversion circle) and x,y,1 are the same\n",
    "#        y = tan(theta-pi/2)'''\n",
    "#     theta = np.angle((x/n*1j-inv(p(n)))/(1-inv(p(n)))) #angle between x,p,1\n",
    "#     return np.tan(theta-np.pi/2)\n",
    "\n",
    "def y_intercept(z1,z3,z2= 1):\n",
    "    '''y-intercept of circle defined by z1,z2,z3,\n",
    "       z1 lies on y axis (inverted mono exp component)\n",
    "       z2 = 1\n",
    "       z3 is the inverted bi exp phasor\n",
    "       if z1.imag >z3.imag, y-intercept is below z1, hence the np.sign is used\n",
    "       circle of the form z = (a+bt)/(c+dt) where t is a parameter'''\n",
    "    a = z2*(z1-z3)\n",
    "    b = z1*(z2-z3)\n",
    "    c = z1-z3\n",
    "    d = z2-z3\n",
    "    centre = (a*np.conjugate(d)-b*np.conjugate(c))/(c*np.conjugate(d)-d*np.conjugate(c))\n",
    "    y_sol = z1.imag-2*(z1.imag-centre.imag)\n",
    "    return y_sol\n",
    "\n",
    "def y_intercept_slope(z1,z3,alpha):\n",
    "    '''intercepts of circle with line of slope -cot(alpha), given circle defined by z1,z3,and z2 =1 '''\n",
    "    #rotate the set up by alpha so the line becomes y intercept\n",
    "    z2 = np.exp(-alpha*1j)\n",
    "    z1 *=np.exp(-alpha*1j)\n",
    "    z3 *=np.exp(-alpha*1j)\n",
    "    y_sol = y_intercept(z1,z3,z2) #real value only (z4 = y_sol*1j)\n",
    "    return  np.exp(alpha*1j)*y_sol*1j #rotate back\n",
    "\n",
    "\n",
    "def y(x,n):\n",
    "    '''Return y intercept for given x (guess inverted phasor) and harmonic n'''\n",
    "    z1 = x*1j/n #inverted mono\n",
    "    z3 = inv(p(n)) #bi-exp\n",
    "    return y_intercept(z1,z3)\n",
    "\n",
    "def x_eq(x):\n",
    "    '''In general, intercepts of a line from guess phasor to given bi-exp phasor of \n",
    "       different harmonics and the universal circle may not be related by harmonics. \n",
    "       The goal is to find x (inverted mono exp phasor) such that the inverted intercept y are related by harmonics\n",
    "       inverted phasors are related by nth harmonics: x_n = x/n. The absolute value is taken for minimization purpose\n",
    "       '''\n",
    "    return abs(y(x,1)/2-y(x,2))\n",
    "\n",
    "\n",
    "z3 = inv(p(1))\n",
    "z1 = 1.7j\n",
    "z2 = 1\n"
   ]
  },
  {
   "cell_type": "code",
   "execution_count": 556,
   "metadata": {},
   "outputs": [
    {
     "data": {
      "text/plain": [
       "0.0027081734631786425"
      ]
     },
     "execution_count": 556,
     "metadata": {},
     "output_type": "execute_result"
    }
   ],
   "source": [
    "x_eq(1.05)"
   ]
  },
  {
   "cell_type": "code",
   "execution_count": 557,
   "metadata": {},
   "outputs": [
    {
     "name": "stdout",
     "output_type": "stream",
     "text": [
      "a1 inverted:  1.3099172270937887\n",
      "a2 inverted:  1.0368400201426407\n"
     ]
    }
   ],
   "source": [
    "print('a1 inverted: ',1/a1_true)\n",
    "print('a2 inverted: ', 1/a2_true)"
   ]
  },
  {
   "cell_type": "code",
   "execution_count": 579,
   "metadata": {},
   "outputs": [
    {
     "data": {
      "text/plain": [
       "  message: CONVERGENCE: REL_REDUCTION_OF_F_<=_FACTR*EPSMCH\n",
       "  success: True\n",
       "   status: 0\n",
       "      fun: 1.2256862191861728e-12\n",
       "        x: [ 1.307e+00]\n",
       "      nit: 6\n",
       "      jac: [ 5.040e-02]\n",
       "     nfev: 106\n",
       "     njev: 53\n",
       " hess_inv: <1x1 LbfgsInvHessProduct with dtype=float64>"
      ]
     },
     "execution_count": 579,
     "metadata": {},
     "output_type": "execute_result"
    }
   ],
   "source": [
    "result = minimize(x_eq,x0 = [1/a1_true+1], bounds = [(0,1000)]) #solve the equations with bounds\n",
    "result"
   ]
  },
  {
   "cell_type": "code",
   "execution_count": 580,
   "metadata": {},
   "outputs": [
    {
     "name": "stdout",
     "output_type": "stream",
     "text": [
      "[2.43516122]\n",
      "[3.08673992]\n"
     ]
    }
   ],
   "source": [
    "a1_result = 1/result.x # convert back to real space\n",
    "a2_result = 1/y(result.x,1) # convert back to real space\n",
    "tau1_result = a1_result/EGFP.w[1]\n",
    "tau2_result = a2_result/EGFP.w[1]\n",
    "print(tau1_result)\n",
    "print(tau2_result)"
   ]
  },
  {
   "cell_type": "code",
   "execution_count": 760,
   "metadata": {},
   "outputs": [],
   "source": [
    "EGFP.n_photon = int(1e9)\n",
    "EGFP.repeat_sim(100)"
   ]
  },
  {
   "cell_type": "code",
   "execution_count": 762,
   "metadata": {},
   "outputs": [
    {
     "name": "stdout",
     "output_type": "stream",
     "text": [
      "(-0.008671265396496949+1.048832914307877j)\n",
      "(-0.00870997617732805+0.5267215833930098j)\n"
     ]
    },
    {
     "data": {
      "text/plain": [
       "3.871078083110026e-05"
      ]
     },
     "execution_count": 762,
     "metadata": {},
     "output_type": "execute_result"
    }
   ],
   "source": [
    "N = 380 #N histogram bins\n",
    "alpha = 2*np.pi/N\n",
    "mono_d = lambda x,n :(1-x)/(1-x*np.exp(1j*n*alpha)) #d for discrete\n",
    "\n",
    "z1 = lambda x, n : inv(mono_d(x,n)) #0.5 * (1-1/x)*(1-1j/np.tan(alpha*n/2))\n",
    "z3 = lambda n :inv(EGFP.phasor_data[16][n])\n",
    "x = lambda tau: np.exp(-1/19/tau)\n",
    "p_d = lambda n : np.sum(A*np.array([mono_d(x(tau[0]),n),mono_d(x(tau[1]),n)])) #pure bi-exp discrete phasor\n",
    "#z3 = lambda n : inv(p_d(n))\n",
    "print(y_intercept_slope(z1(x(tau[0]),1),z3(1),alpha/2))\n",
    "print(y_intercept_slope(z1(x(tau[0]),2),z3(2),alpha))\n",
    "def discrete_eq(tau):\n",
    "    return abs(y_intercept_slope(z1(x(tau),1),z3(1),alpha/2).real-y_intercept_slope(z1(x(tau),2),z3(2),alpha).real)\n",
    "discrete_eq(tau[0])"
   ]
  },
  {
   "cell_type": "code",
   "execution_count": 763,
   "metadata": {},
   "outputs": [
    {
     "data": {
      "text/plain": [
       "  message: CONVERGENCE: REL_REDUCTION_OF_F_<=_FACTR*EPSMCH\n",
       "  success: True\n",
       "   status: 0\n",
       "      fun: 1.7571777366498509e-12\n",
       "        x: [ 3.160e+00]\n",
       "      nit: 5\n",
       "      jac: [ 3.584e-04]\n",
       "     nfev: 58\n",
       "     njev: 29\n",
       " hess_inv: <1x1 LbfgsInvHessProduct with dtype=float64>"
      ]
     },
     "execution_count": 763,
     "metadata": {},
     "output_type": "execute_result"
    }
   ],
   "source": [
    "result_discrete = minimize(discrete_eq,x0 = [3.07+0.001], bounds = [(0,10)])\n",
    "result_discrete"
   ]
  },
  {
   "cell_type": "code",
   "execution_count": 764,
   "metadata": {},
   "outputs": [
    {
     "data": {
      "text/plain": [
       "array([2.50755364])"
      ]
     },
     "execution_count": 764,
     "metadata": {},
     "output_type": "execute_result"
    }
   ],
   "source": [
    "-1/np.log(1/(1-y_intercept_slope(z1(x(result_discrete.x),1),z3(1),alpha/2).real*2))/19"
   ]
  },
  {
   "cell_type": "code",
   "execution_count": 765,
   "metadata": {},
   "outputs": [
    {
     "data": {
      "text/plain": [
       "0.9785737877089958"
      ]
     },
     "execution_count": 765,
     "metadata": {},
     "output_type": "execute_result"
    }
   ],
   "source": [
    "np.exp(-1/19/tau[0])"
   ]
  },
  {
   "cell_type": "code",
   "execution_count": 766,
   "metadata": {},
   "outputs": [
    {
     "data": {
      "text/plain": [
       "0.005062288575523932"
      ]
     },
     "execution_count": 766,
     "metadata": {},
     "output_type": "execute_result"
    }
   ],
   "source": [
    "x_eq(0.5)"
   ]
  },
  {
   "cell_type": "code",
   "execution_count": 130,
   "metadata": {},
   "outputs": [
    {
     "data": {
      "text/plain": [
       "1.9999999999999933"
      ]
     },
     "execution_count": 130,
     "metadata": {},
     "output_type": "execute_result"
    }
   ],
   "source": [
    "result"
   ]
  },
  {
   "cell_type": "code",
   "execution_count": 136,
   "metadata": {},
   "outputs": [],
   "source": [
    "alpha, u,v,w = \n",
    "def harmonic_circ(n):\n",
    "    '''Returns circle of nth harmonics where different lifetimes lie on\n",
    "    Input: n -harmonic'''\n",
    "    return Circle((0.5,-0.5*tan(a)),0.5/cos(a))\n",
    "\n",
    "def phasor_ray(z,p):\n",
    "    '''Ray drawn from guess phasor z to given bi-exp phasor p'''\n",
    "    return Ray((z.real,z.imag),(p.real,p.imag))"
   ]
  },
  {
   "cell_type": "code",
   "execution_count": 137,
   "metadata": {},
   "outputs": [],
   "source": [
    "a = np.exp(-dt/tau)\n",
    "def z(n):\n",
    "    return (1+a)/(1+a*np.exp(1j*n*np.pi/N))\n",
    "p1 = 0.35+0.16j\n",
    "p2 = 0.25+0.008j\n",
    "p = [p1,p2]\n",
    "def z2(n):\n",
    "    '''Return z2 for given harmonic'''\n",
    "    z2 = intersection(harmonic_circ(n),phasor_ray(z(n),p[n-1]))[0].coordinates\n",
    "    return z2[0]+1j*z2[1]\n",
    "    "
   ]
  },
  {
   "cell_type": "code",
   "execution_count": 138,
   "metadata": {},
   "outputs": [
    {
     "data": {
      "text/plain": [
       "(12668928146697458581149947214673993512056737/10990916146227808512338131395890000000000000 - 226649235638391*sqrt(23272858502612877813499040969360811714832961960459414278353763641989317233791489)/1152948455874774170327956596802799716575470000000000000,\n",
       " -94571119618349517916946188231557916551821707/109909161462278085123381313958900000000000000 + 20787*sqrt(23272858502612877813499040969360811714832961960459414278353763641989317233791489)/109909161462278085123381313958900000000000000)"
      ]
     },
     "execution_count": 138,
     "metadata": {},
     "output_type": "execute_result"
    }
   ],
   "source": [
    "intersection(harmonic_circ(2),phasor_ray(z(2),p[2-1]))[0].coordinates"
   ]
  },
  {
   "cell_type": "code",
   "execution_count": 139,
   "metadata": {},
   "outputs": [],
   "source": [
    "z2_inv = lambda n : conjugate(1/(z2(n)-1)+1)"
   ]
  },
  {
   "cell_type": "code",
   "execution_count": 140,
   "metadata": {},
   "outputs": [],
   "source": [
    "def z2_diff(tau):\n",
    "    '''Return z2_inv(1).real-z2_inv(2).real -> check z2_inv(1) = z2_inv(2)'''\n",
    "    global a\n",
    "    a = np.exp(-dt/tau)\n",
    "    return float(re(z2_inv(1)-z2_inv(2)))"
   ]
  },
  {
   "cell_type": "code",
   "execution_count": 148,
   "metadata": {},
   "outputs": [
    {
     "data": {
      "text/plain": [
       "-0.022806951667178155"
      ]
     },
     "execution_count": 148,
     "metadata": {},
     "output_type": "execute_result"
    }
   ],
   "source": [
    "z2_diff(1)"
   ]
  },
  {
   "cell_type": "code",
   "execution_count": 133,
   "metadata": {},
   "outputs": [
    {
     "data": {
      "text/plain": [
       "-0.0018342873698134643"
      ]
     },
     "execution_count": 133,
     "metadata": {},
     "output_type": "execute_result"
    }
   ],
   "source": [
    "-0.021410393939246854"
   ]
  },
  {
   "cell_type": "code",
   "execution_count": 97,
   "metadata": {},
   "outputs": [],
   "source": [
    "x = symbols('x')\n",
    "z_2 = (1+x)/(1+x*exp(1j*2*pi*dt))"
   ]
  },
  {
   "cell_type": "code",
   "execution_count": 98,
   "metadata": {},
   "outputs": [],
   "source": [
    "from scipy.optimize import root"
   ]
  },
  {
   "cell_type": "code",
   "execution_count": 101,
   "metadata": {},
   "outputs": [
    {
     "ename": "AttributeError",
     "evalue": "'function' object has no attribute 'free_symbols'",
     "output_type": "error",
     "traceback": [
      "\u001b[0;31m---------------------------------------------------------------------------\u001b[0m",
      "\u001b[0;31mAttributeError\u001b[0m                            Traceback (most recent call last)",
      "\u001b[1;32m/Users/chilaitang/Library/Mobile Documents/com~apple~CloudDocs/UCL PHY/Y3_Group_Project_2B/TCSPC-simulation/phasor_geometry.ipynb Cell 10\u001b[0m in \u001b[0;36m<cell line: 1>\u001b[0;34m()\u001b[0m\n\u001b[0;32m----> <a href='vscode-notebook-cell:/Users/chilaitang/Library/Mobile%20Documents/com~apple~CloudDocs/UCL%20PHY/Y3_Group_Project_2B/TCSPC-simulation/phasor_geometry.ipynb#ch0000022?line=0'>1</a>\u001b[0m nsolve(z2_diff,\u001b[39m1\u001b[39;49m)\n",
      "File \u001b[0;32m/Library/Frameworks/Python.framework/Versions/3.10/lib/python3.10/site-packages/sympy/utilities/decorator.py:88\u001b[0m, in \u001b[0;36mconserve_mpmath_dps.<locals>.func_wrapper\u001b[0;34m(*args, **kwargs)\u001b[0m\n\u001b[1;32m     86\u001b[0m dps \u001b[39m=\u001b[39m mpmath\u001b[39m.\u001b[39mmp\u001b[39m.\u001b[39mdps\n\u001b[1;32m     87\u001b[0m \u001b[39mtry\u001b[39;00m:\n\u001b[0;32m---> 88\u001b[0m     \u001b[39mreturn\u001b[39;00m func(\u001b[39m*\u001b[39;49margs, \u001b[39m*\u001b[39;49m\u001b[39m*\u001b[39;49mkwargs)\n\u001b[1;32m     89\u001b[0m \u001b[39mfinally\u001b[39;00m:\n\u001b[1;32m     90\u001b[0m     mpmath\u001b[39m.\u001b[39mmp\u001b[39m.\u001b[39mdps \u001b[39m=\u001b[39m dps\n",
      "File \u001b[0;32m/Library/Frameworks/Python.framework/Versions/3.10/lib/python3.10/site-packages/sympy/solvers/solvers.py:2966\u001b[0m, in \u001b[0;36mnsolve\u001b[0;34m(dict, *args, **kwargs)\u001b[0m\n\u001b[1;32m   2964\u001b[0m \u001b[39mif\u001b[39;00m \u001b[39misinstance\u001b[39m(f, Eq):\n\u001b[1;32m   2965\u001b[0m     f \u001b[39m=\u001b[39m f\u001b[39m.\u001b[39mlhs \u001b[39m-\u001b[39m f\u001b[39m.\u001b[39mrhs\n\u001b[0;32m-> 2966\u001b[0m syms \u001b[39m=\u001b[39m f\u001b[39m.\u001b[39;49mfree_symbols\n\u001b[1;32m   2967\u001b[0m \u001b[39mif\u001b[39;00m fargs \u001b[39mis\u001b[39;00m \u001b[39mNone\u001b[39;00m:\n\u001b[1;32m   2968\u001b[0m     fargs \u001b[39m=\u001b[39m syms\u001b[39m.\u001b[39mcopy()\u001b[39m.\u001b[39mpop()\n",
      "\u001b[0;31mAttributeError\u001b[0m: 'function' object has no attribute 'free_symbols'"
     ]
    }
   ],
   "source": [
    "nsolve(z2_diff,1)"
   ]
  },
  {
   "cell_type": "code",
   "execution_count": 100,
   "metadata": {},
   "outputs": [
    {
     "data": {
      "text/plain": [
       "array([1.00000175-0.00805002j])"
      ]
     },
     "execution_count": 100,
     "metadata": {},
     "output_type": "execute_result"
    }
   ],
   "source": [
    "z(2)"
   ]
  },
  {
   "cell_type": "code",
   "execution_count": null,
   "metadata": {},
   "outputs": [],
   "source": []
  }
 ],
 "metadata": {
  "kernelspec": {
   "display_name": "Python 3.10.5 64-bit",
   "language": "python",
   "name": "python3"
  },
  "language_info": {
   "codemirror_mode": {
    "name": "ipython",
    "version": 3
   },
   "file_extension": ".py",
   "mimetype": "text/x-python",
   "name": "python",
   "nbconvert_exporter": "python",
   "pygments_lexer": "ipython3",
   "version": "3.10.5"
  },
  "orig_nbformat": 4,
  "vscode": {
   "interpreter": {
    "hash": "aee8b7b246df8f9039afb4144a1f6fd8d2ca17a180786b69acc140d282b71a49"
   }
  }
 },
 "nbformat": 4,
 "nbformat_minor": 2
}
